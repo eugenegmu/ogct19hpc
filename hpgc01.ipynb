{
 "cells": [
  {
   "cell_type": "markdown",
   "id": "48abe365-5166-4dff-9e2c-be3c97b40db0",
   "metadata": {},
   "source": [
    "# HPGC API Notebook 1: Demystifying HPC for Scientists - Unlocking Asynchronous Power with Python and “echo”"
   ]
  },
  {
   "cell_type": "markdown",
   "id": "6df36eec-e764-4f0b-873a-ccd31190f5dd",
   "metadata": {},
   "source": [
    "## Table of Contents"
   ]
  },
  {
   "cell_type": "markdown",
   "id": "12629815-8aac-4788-886e-24aacb102f73",
   "metadata": {},
   "source": [
    "- [Setup](#Setup)\n",
    "- [Capabilities](#Capabilities)\n",
    "    - [Get Landing page](#Get-landing-page)\n",
    "    - [Get Conformance](#Get-Conformance)\n",
    "    - [Get Processes](#Get-Processes)\n",
    "    - [Describe a Process](#Describe-a-process)\n",
    "- [Execute Echo process](#Execute-process-Echo)\n",
    "- [Monitoring Process](#Monitoring-Process-Execution)\n",
    "    - [Active Monitoring with Job Objects](#Active-Monitoring-with-Job-Objects)\n",
    "    - [Passive Monitoring with Callback Services](#Passive-Monitoring-with-Callback-Services)\n",
    "- [Summary](#Summary)"
   ]
  },
  {
   "cell_type": "markdown",
   "id": "a974c854-e981-408b-9e1a-6c98812f460e",
   "metadata": {},
   "source": [
    "Are you struggling to harness the mighty HPC beast for your complex scientific computations? Fear not, weary researcher! This notebook throws open the gates to asynchronous execution with HPGC, making HPC more accessible than ever."
   ]
  },
  {
   "cell_type": "markdown",
   "id": "eaf7e4c6-e543-427e-b96d-448b91814aa2",
   "metadata": {},
   "source": [
    "No need to be an HPC guru. Armed with a basic understanding of Python, you'll embark on a guided journey with the playful \"echo\" process as your sidekick. We'll break down the entire workflow, from setup to result retrieval, empowering you to confidently submit simple jobs and pave the path for conquering more intricate tasks."
   ]
  },
  {
   "cell_type": "markdown",
   "id": "34bfeca8-68e7-4f56-b832-835e94665f6c",
   "metadata": {},
   "source": [
    "Here's your scientific toolkit:\n",
    "- **Import the essentials**: We'll equip ourselves with a HPGC Python client library specifically developed for interacting with HPC through the middleware HPGC API.\n",
    "- **Navigate the HPC landscape**: Meet your friendly HPGC guides, like LandingPage, Processes, and Jobs, who will steer you through the service.\n",
    "- **Echoing your way to success**: Witness the \"echo\" process in action, as we craft and submit an execution request. You'll learn to define inputs, outputs, and even set up callbacks for progress updates.\n",
    "- **Keeping tabs on your job**: We'll explore two ways to monitor your submitted job, ensuring your precious computations are never out of sight.\n",
    "- **Reaping the scientific rewards**: Finally, it's time to retrieve and print the results, savoring the sweet fruits of your asynchronous execution."
   ]
  },
  {
   "cell_type": "markdown",
   "id": "ee714a72-9766-44ac-8086-59b847d6cd18",
   "metadata": {},
   "source": [
    "This notebook is your scientific playground. Experiment, learn, and unlock the true potential of HPC for your research. Adapt this framework to tackle even the most complex scientific calculations and watch your Python scripts soar on the wings of asynchronous power!\n",
    "\n",
    "Remember, conquering HPC doesn't require superpowers, just a bit of Python and a willingness to explore. Dive in, scientist, and unleash the computational beast within your HPC projects!"
   ]
  },
  {
   "cell_type": "markdown",
   "id": "f70fecf1-3687-4724-b2f8-b276510577d3",
   "metadata": {},
   "source": [
    "## Setup"
   ]
  },
  {
   "cell_type": "markdown",
   "id": "1cc525ca-ad3d-49f7-8c6f-f6ccb5de4610",
   "metadata": {},
   "source": [
    "This section cvoers the basic setup to use Python to interact with the HPGC API instance via the HPGC API Python Client library."
   ]
  },
  {
   "cell_type": "markdown",
   "id": "400dff52-2ce9-443a-9b4c-0e8e51c3c30e",
   "metadata": {},
   "source": [
    "### Initial setup (run once)"
   ]
  },
  {
   "cell_type": "markdown",
   "id": "14183f61-931f-4781-9ed2-69f0f5941d5d",
   "metadata": {},
   "source": [
    "Install the HPGC Python Client Library: Run the following cell to inspect if there is gmu-hpgc-api library installed"
   ]
  },
  {
   "cell_type": "code",
   "execution_count": null,
   "id": "96b524d7-57fa-4fab-a04a-ea669245ba41",
   "metadata": {},
   "outputs": [],
   "source": [
    "!python -m pip list"
   ]
  },
  {
   "cell_type": "markdown",
   "id": "baa59e9d-45db-4af8-a30d-680774f6c8bc",
   "metadata": {},
   "source": [
    "If there is no gmu-hpgc-api library in the list returned, run the following to install it in the computing environment. Otherwise, skip the cell."
   ]
  },
  {
   "cell_type": "code",
   "execution_count": null,
   "id": "4f222950-01dc-410b-b8ee-726d7851c96d",
   "metadata": {},
   "outputs": [],
   "source": [
    "!python -m pip install gmu-hpgc-api"
   ]
  },
  {
   "cell_type": "markdown",
   "id": "ee6372dd-e1bb-421f-9d6e-6dcb13045b72",
   "metadata": {},
   "source": [
    "### Basic imports"
   ]
  },
  {
   "cell_type": "code",
   "execution_count": 69,
   "id": "a7c92228-2b3f-498d-a2ce-81794689d9eb",
   "metadata": {},
   "outputs": [],
   "source": [
    "import openapi_client"
   ]
  },
  {
   "cell_type": "markdown",
   "id": "85c1efd5-b20a-4ee0-9674-243a5f1d6a7f",
   "metadata": {},
   "source": [
    "This step ensures you have the library ready for interacting with HPC services."
   ]
  },
  {
   "cell_type": "markdown",
   "id": "ac3d3c75-c804-46dd-b705-9eb6cbb0a4d6",
   "metadata": {},
   "source": [
    "## Capabilities"
   ]
  },
  {
   "cell_type": "markdown",
   "id": "e81abad3-c527-4529-990b-0469ed413395",
   "metadata": {},
   "source": [
    "This section explores capabilities of the HPGC API Instance."
   ]
  },
  {
   "cell_type": "markdown",
   "id": "195cfbfe-a384-409e-b315-54467e62b704",
   "metadata": {},
   "source": [
    "### Get landing page"
   ]
  },
  {
   "cell_type": "markdown",
   "id": "4d9e684c-ecbd-47db-95f3-c151f0d32dd5",
   "metadata": {},
   "source": [
    "Accessing the Landing Page: Before we dive into executing processes, let's take a moment to greet the HPC service and get acquainted with its offerings. Here's how we'll do it:"
   ]
  },
  {
   "cell_type": "markdown",
   "id": "3138651d-227a-4cbd-88f3-fe374b197101",
   "metadata": {},
   "source": [
    "1. Create a landing page API and retrieve the landing page object"
   ]
  },
  {
   "cell_type": "code",
   "execution_count": 70,
   "id": "b1a240bf-3ee1-4c6e-817f-e867cfb9123c",
   "metadata": {},
   "outputs": [
    {
     "name": "stdout",
     "output_type": "stream",
     "text": [
      "HEADERS= {'accept': 'application/json', 'Accept': 'application/json', 'User-Agent': 'OpenAPI-Generator/1.0.0/python'}\n",
      "method= GET\n"
     ]
    }
   ],
   "source": [
    "\"\"\"\n",
    "# alternative \n",
    "\n",
    "import openapi_client.api.home_api\n",
    "landingpage_api = openapi_client.api.home_api.HomeApi()\n",
    "# set the endpoint\n",
    "landingpage_api.api_client.configuration.host=\"http://testbed19.geolabs.fr:8701/ogc-api\"\n",
    "\n",
    "homepage = landingpage_api.home_with_http_info(\n",
    "            _headers={\"accept\":\"application/json\"},\n",
    "            _preload_content=True,\n",
    "            _return_http_data_only=False)\n",
    "\"\"\"\n",
    "landingpage_api = openapi_client.api.landing_page_api.LandingPageApi()\n",
    "\n",
    "# set the endpoint\n",
    "landingpage_api.api_client.configuration.host=\"http://testbed19.geolabs.fr:8701/ogc-api\"\n",
    "\n",
    "homepage = landingpage_api.get_landing_page_with_http_info(\n",
    "            _headers={\"accept\":\"application/json\"},\n",
    "            _preload_content=True,\n",
    "            _return_http_data_only=False)\n"
   ]
  },
  {
   "cell_type": "markdown",
   "id": "a6a929d5-cd2e-4a38-9554-6c00b7f124bb",
   "metadata": {},
   "source": [
    "2. Show the landing page object."
   ]
  },
  {
   "cell_type": "code",
   "execution_count": 71,
   "id": "891d0dfd-1a09-4fee-b03d-3ba53cfec627",
   "metadata": {},
   "outputs": [
    {
     "data": {
      "text/plain": [
       "<openapi_client.api_response.ApiResponse at 0x7fdf942668f0>"
      ]
     },
     "execution_count": 71,
     "metadata": {},
     "output_type": "execute_result"
    }
   ],
   "source": [
    "homepage"
   ]
  },
  {
   "cell_type": "markdown",
   "id": "84b84bab-5cc9-412c-8b8b-cf6ee1c92ac3",
   "metadata": {},
   "source": [
    "3. Show what attributes and functions the landing page object offers."
   ]
  },
  {
   "cell_type": "code",
   "execution_count": 72,
   "id": "5537709c-1906-43e3-b755-b1c7a2513b99",
   "metadata": {},
   "outputs": [
    {
     "data": {
      "text/plain": [
       "['__annotations__',\n",
       " '__class__',\n",
       " '__delattr__',\n",
       " '__dict__',\n",
       " '__dir__',\n",
       " '__doc__',\n",
       " '__eq__',\n",
       " '__format__',\n",
       " '__ge__',\n",
       " '__getattribute__',\n",
       " '__gt__',\n",
       " '__hash__',\n",
       " '__init__',\n",
       " '__init_subclass__',\n",
       " '__le__',\n",
       " '__lt__',\n",
       " '__module__',\n",
       " '__ne__',\n",
       " '__new__',\n",
       " '__reduce__',\n",
       " '__reduce_ex__',\n",
       " '__repr__',\n",
       " '__setattr__',\n",
       " '__sizeof__',\n",
       " '__str__',\n",
       " '__subclasshook__',\n",
       " '__weakref__',\n",
       " 'data',\n",
       " 'headers',\n",
       " 'raw_data',\n",
       " 'status_code']"
      ]
     },
     "execution_count": 72,
     "metadata": {},
     "output_type": "execute_result"
    }
   ],
   "source": [
    "dir(homepage)"
   ]
  },
  {
   "cell_type": "markdown",
   "id": "ecef8428-9ab0-40f0-803e-7014ecc1030a",
   "metadata": {},
   "source": [
    "4. Show the data object preloaded with the landing page object."
   ]
  },
  {
   "cell_type": "code",
   "execution_count": 73,
   "id": "dc212cf3-6dcd-4a27-8328-09164cea4b1e",
   "metadata": {},
   "outputs": [
    {
     "data": {
      "text/plain": [
       "LandingPage(title='The ZOO-Project OGC WPS Developement Server', description='Developement version of ZOO-Project OGC WPS. See http://www.zoo-project.org', attribution=None, links=[Link(href='http://testbed19.geolabs.fr:8701/ogc-api/', rel='self', type='application/json', hreflang=None, title='this document'), Link(href='http://testbed19.geolabs.fr:8701/ogc-api/index.html', rel='alternate', type='text/html', hreflang=None, title='this document'), Link(href='http://testbed19.geolabs.fr:8701/ogc-api/api', rel='service-desc', type='application/vnd.oai.openapi+json;version=3.0', hreflang=None, title='the API definition'), Link(href='http://testbed19.geolabs.fr:8701/ogc-api/api.html', rel='service-doc', type='text/html', hreflang=None, title='the API definition'), Link(href='http://testbed19.geolabs.fr:8701/ogc-api/conformance', rel='http://www.opengis.net/def/rel/ogc/1.0/conformance', type='application/json', hreflang=None, title='OGC API - Processes conformance classes implemented by this server'), Link(href='http://testbed19.geolabs.fr:8701/ogc-api/conformance.html', rel='alternate', type='text/html', hreflang=None, title='OGC API - Processes conformance classes implemented by this server'), Link(href='http://testbed19.geolabs.fr:8701/ogc-api/processes', rel='http://www.opengis.net/def/rel/ogc/1.0/processes', type='application/json', hreflang=None, title='The processes offered by this server'), Link(href='http://testbed19.geolabs.fr:8701/ogc-api/processes.html', rel='alternate', type='text/html', hreflang=None, title='The processes offered by this server'), Link(href='http://testbed19.geolabs.fr:8701/ogc-api/jobs', rel='http://www.opengis.net/def/rel/ogc/1.0/job-list', type='application/json', hreflang=None, title='Job Management'), Link(href='http://testbed19.geolabs.fr:8701/ogc-api/jobs.html', rel='alternate', type='text/html', hreflang=None, title='Job Management')])"
      ]
     },
     "execution_count": 73,
     "metadata": {},
     "output_type": "execute_result"
    }
   ],
   "source": [
    "homepage.data"
   ]
  },
  {
   "cell_type": "markdown",
   "id": "ee1b64f0-a19a-461e-a10a-506f90443e74",
   "metadata": {},
   "source": [
    "5. Show the headers information of the landing page object interaction with the HPGC API middleware."
   ]
  },
  {
   "cell_type": "code",
   "execution_count": 74,
   "id": "676c310a-ae83-494e-8b4e-1c7f2cb1ebee",
   "metadata": {},
   "outputs": [
    {
     "data": {
      "text/plain": [
       "HTTPHeaderDict({'Date': 'Mon, 15 Jan 2024 09:25:12 GMT', 'Server': 'Apache/2.4.52 (Ubuntu)', 'Transfer-Encoding': 'chunked', 'Content-Type': 'application/json;charset=UTF-8'})"
      ]
     },
     "execution_count": 74,
     "metadata": {},
     "output_type": "execute_result"
    }
   ],
   "source": [
    "homepage.headers"
   ]
  },
  {
   "cell_type": "markdown",
   "id": "722e69df-91c9-4acd-9977-a20294ce749d",
   "metadata": {},
   "source": [
    "6. Show the status code of the response of getting landing page."
   ]
  },
  {
   "cell_type": "code",
   "execution_count": 75,
   "id": "fda90dc6-9726-4aac-afc5-0554a142ea8e",
   "metadata": {},
   "outputs": [
    {
     "data": {
      "text/plain": [
       "200"
      ]
     },
     "execution_count": 75,
     "metadata": {},
     "output_type": "execute_result"
    }
   ],
   "source": [
    "homepage.status_code"
   ]
  },
  {
   "cell_type": "markdown",
   "id": "e7f95f39-d3fc-4a4c-a916-d9663162485f",
   "metadata": {},
   "source": [
    "7. Show the raw data (binary) of the response of getting landing page."
   ]
  },
  {
   "cell_type": "code",
   "execution_count": 76,
   "id": "2ae5938d-c8c3-47a4-af10-ed0d64d0232c",
   "metadata": {},
   "outputs": [
    {
     "data": {
      "text/plain": [
       "'{\"title\":\"The ZOO-Project OGC WPS Developement Server\",\"description\":\"Developement version of ZOO-Project OGC WPS. See http://www.zoo-project.org\",\"links\":[{\"rel\":\"self\",\"type\":\"application/json\",\"title\":\"this document\",\"href\":\"http://testbed19.geolabs.fr:8701/ogc-api/\"},{\"rel\":\"alternate\",\"type\":\"text/html\",\"title\":\"this document\",\"href\":\"http://testbed19.geolabs.fr:8701/ogc-api/index.html\"},{\"rel\":\"service-desc\",\"type\":\"application/vnd.oai.openapi+json;version=3.0\",\"title\":\"the API definition\",\"href\":\"http://testbed19.geolabs.fr:8701/ogc-api/api\"},{\"rel\":\"service-doc\",\"type\":\"text/html\",\"title\":\"the API definition\",\"href\":\"http://testbed19.geolabs.fr:8701/ogc-api/api.html\"},{\"rel\":\"http://www.opengis.net/def/rel/ogc/1.0/conformance\",\"type\":\"application/json\",\"title\":\"OGC API - Processes conformance classes implemented by this server\",\"href\":\"http://testbed19.geolabs.fr:8701/ogc-api/conformance\"},{\"rel\":\"alternate\",\"type\":\"text/html\",\"title\":\"OGC API - Processes conformance classes implemented by this server\",\"href\":\"http://testbed19.geolabs.fr:8701/ogc-api/conformance.html\"},{\"rel\":\"http://www.opengis.net/def/rel/ogc/1.0/processes\",\"type\":\"application/json\",\"title\":\"The processes offered by this server\",\"href\":\"http://testbed19.geolabs.fr:8701/ogc-api/processes\"},{\"rel\":\"alternate\",\"type\":\"text/html\",\"title\":\"The processes offered by this server\",\"href\":\"http://testbed19.geolabs.fr:8701/ogc-api/processes.html\"},{\"rel\":\"http://www.opengis.net/def/rel/ogc/1.0/job-list\",\"type\":\"application/json\",\"title\":\"Job Management\",\"href\":\"http://testbed19.geolabs.fr:8701/ogc-api/jobs\"},{\"rel\":\"alternate\",\"type\":\"text/html\",\"title\":\"Job Management\",\"href\":\"http://testbed19.geolabs.fr:8701/ogc-api/jobs.html\"}]}\\n'"
      ]
     },
     "execution_count": 76,
     "metadata": {},
     "output_type": "execute_result"
    }
   ],
   "source": [
    "homepage.raw_data"
   ]
  },
  {
   "cell_type": "markdown",
   "id": "9fceb256-ecdf-49f9-a445-a4236410c798",
   "metadata": {},
   "source": [
    "8. Take a moment to further examine the contents of the hompage.data object. It holds valuable insights into the service's capabilities and potential for your computing needs. Shows the service’s title."
   ]
  },
  {
   "cell_type": "code",
   "execution_count": 77,
   "id": "0c693703-8356-400c-aa8d-6d53ba483b7b",
   "metadata": {},
   "outputs": [
    {
     "data": {
      "text/plain": [
       "'The ZOO-Project OGC WPS Developement Server'"
      ]
     },
     "execution_count": 77,
     "metadata": {},
     "output_type": "execute_result"
    }
   ],
   "source": [
    "homepage_obj = homepage.data\n",
    "homepage_obj.title"
   ]
  },
  {
   "cell_type": "markdown",
   "id": "97824842-7df5-4660-94cd-99580f866d54",
   "metadata": {},
   "source": [
    "9. Shows the description of the HPGC service."
   ]
  },
  {
   "cell_type": "code",
   "execution_count": 78,
   "id": "2a6608c8-5fad-4989-9a0f-db97575b1370",
   "metadata": {},
   "outputs": [
    {
     "data": {
      "text/plain": [
       "'Developement version of ZOO-Project OGC WPS. See http://www.zoo-project.org'"
      ]
     },
     "execution_count": 78,
     "metadata": {},
     "output_type": "execute_result"
    }
   ],
   "source": [
    "homepage_obj.description"
   ]
  },
  {
   "cell_type": "markdown",
   "id": "3beddce9-1687-451e-b5ac-53ac9bd94e43",
   "metadata": {},
   "source": [
    "10. Count the total number of links."
   ]
  },
  {
   "cell_type": "code",
   "execution_count": 79,
   "id": "161851ce-8f39-4110-b801-42dff5340260",
   "metadata": {},
   "outputs": [
    {
     "data": {
      "text/plain": [
       "10"
      ]
     },
     "execution_count": 79,
     "metadata": {},
     "output_type": "execute_result"
    }
   ],
   "source": [
    "len(homepage_obj.links)"
   ]
  },
  {
   "cell_type": "markdown",
   "id": "b016896a-fcd8-48a7-a254-20a544a56dff",
   "metadata": {},
   "source": [
    "11. Let’s create a function to retrieve specific link based on its “rel” and “type” attributes."
   ]
  },
  {
   "cell_type": "code",
   "execution_count": 80,
   "id": "3a67210a-dfa6-4673-85eb-ff6b5c6bd4c4",
   "metadata": {},
   "outputs": [],
   "source": [
    "def get_link_by_rel_and_mediatype(relation:str, mediatype:str, the_links:list()):\n",
    "    for the_link in the_links:\n",
    "        if (the_link.rel == relation and\n",
    "            the_link.type == mediatype):\n",
    "            return the_link\n",
    "    return None"
   ]
  },
  {
   "cell_type": "markdown",
   "id": "5cb0fda5-2bf0-4649-97a9-a68a74831648",
   "metadata": {},
   "source": [
    "12. Retrieve and show the link to API specification in openapi 3.0."
   ]
  },
  {
   "cell_type": "code",
   "execution_count": 81,
   "id": "c8e9595f-44c9-4349-bae6-ec09e6881c1b",
   "metadata": {},
   "outputs": [],
   "source": [
    "the_api_spec_link = get_link_by_rel_and_mediatype(relation=\"service-desc\",\n",
    "                                     mediatype=\"application/vnd.oai.openapi+json;version=3.0\",\n",
    "                                     the_links=homepage_obj.links)"
   ]
  },
  {
   "cell_type": "code",
   "execution_count": 82,
   "id": "cc7f759c-a321-4e54-aa67-82cefebc551e",
   "metadata": {},
   "outputs": [
    {
     "data": {
      "text/plain": [
       "Link(href='http://testbed19.geolabs.fr:8701/ogc-api/api', rel='service-desc', type='application/vnd.oai.openapi+json;version=3.0', hreflang=None, title='the API definition')"
      ]
     },
     "execution_count": 82,
     "metadata": {},
     "output_type": "execute_result"
    }
   ],
   "source": [
    "the_api_spec_link"
   ]
  },
  {
   "cell_type": "markdown",
   "id": "11f608ae-57fb-44db-b908-570b71710767",
   "metadata": {},
   "source": [
    "13. Retrieve and show the link to API specification in html. This link provides an API testing page or a sandbox for experimenting with API calls."
   ]
  },
  {
   "cell_type": "code",
   "execution_count": 83,
   "id": "e3514c3d-a9ce-42a5-beb6-99c677e00aba",
   "metadata": {},
   "outputs": [],
   "source": [
    "the_api_spec_link = get_link_by_rel_and_mediatype(relation=\"service-doc\",\n",
    "                                     mediatype=\"text/html\",\n",
    "                                     the_links=homepage_obj.links)"
   ]
  },
  {
   "cell_type": "code",
   "execution_count": 84,
   "id": "16468e2b-ba27-489e-b757-59144a747f26",
   "metadata": {},
   "outputs": [
    {
     "data": {
      "text/plain": [
       "Link(href='http://testbed19.geolabs.fr:8701/ogc-api/api.html', rel='service-doc', type='text/html', hreflang=None, title='the API definition')"
      ]
     },
     "execution_count": 84,
     "metadata": {},
     "output_type": "execute_result"
    }
   ],
   "source": [
    "the_api_spec_link"
   ]
  },
  {
   "cell_type": "markdown",
   "id": "0e7ca878-5578-4569-9692-b765d412a8e4",
   "metadata": {},
   "source": [
    "14. Retrieve and show the link to the Conformance link. The link provides Conformance information that declares compliance with HPGC API standards."
   ]
  },
  {
   "cell_type": "code",
   "execution_count": 85,
   "id": "3ea938e9-ee23-4848-8f3b-76e673dfd761",
   "metadata": {},
   "outputs": [],
   "source": [
    "the_api_conformance_link = get_link_by_rel_and_mediatype(relation=\"http://www.opengis.net/def/rel/ogc/1.0/conformance\",\n",
    "                                     mediatype=\"application/json\",\n",
    "                                     the_links=homepage_obj.links)"
   ]
  },
  {
   "cell_type": "code",
   "execution_count": 86,
   "id": "207357ea-aeac-45d1-b5f6-0adf8ec6498f",
   "metadata": {},
   "outputs": [
    {
     "data": {
      "text/plain": [
       "Link(href='http://testbed19.geolabs.fr:8701/ogc-api/conformance', rel='http://www.opengis.net/def/rel/ogc/1.0/conformance', type='application/json', hreflang=None, title='OGC API - Processes conformance classes implemented by this server')"
      ]
     },
     "execution_count": 86,
     "metadata": {},
     "output_type": "execute_result"
    }
   ],
   "source": [
    "the_api_conformance_link"
   ]
  },
  {
   "cell_type": "markdown",
   "id": "3ad0e5ed-225f-4776-901e-3aaa66a8f3ee",
   "metadata": {},
   "source": [
    "15. Retrieve and show the link to get all processes offered and managed by the HPGC API middleware. Please pay close attention to this link to list all the processes, as this will guide you in selecting the appropriate tasks to execute in the following steps."
   ]
  },
  {
   "cell_type": "code",
   "execution_count": 87,
   "id": "9844d1a2-e361-4981-bea9-ff963cd78818",
   "metadata": {},
   "outputs": [],
   "source": [
    "the_api_processes_link = get_link_by_rel_and_mediatype(relation=\"http://www.opengis.net/def/rel/ogc/1.0/processes\",\n",
    "                                     mediatype=\"application/json\",\n",
    "                                     the_links=homepage_obj.links)"
   ]
  },
  {
   "cell_type": "code",
   "execution_count": 88,
   "id": "413f7b33-2051-4015-8213-5538969c9d0f",
   "metadata": {},
   "outputs": [
    {
     "data": {
      "text/plain": [
       "Link(href='http://testbed19.geolabs.fr:8701/ogc-api/processes', rel='http://www.opengis.net/def/rel/ogc/1.0/processes', type='application/json', hreflang=None, title='The processes offered by this server')"
      ]
     },
     "execution_count": 88,
     "metadata": {},
     "output_type": "execute_result"
    }
   ],
   "source": [
    "the_api_processes_link"
   ]
  },
  {
   "cell_type": "markdown",
   "id": "032543fd-4dcc-4292-ac3f-d7bdadc8dc8e",
   "metadata": {},
   "source": [
    "16. Retrieve and show the link to get all jobs running or being completed by the HPGC API middleware instance."
   ]
  },
  {
   "cell_type": "code",
   "execution_count": 89,
   "id": "c1613049-fc25-4ecc-8bdc-bb9d0c36bdd5",
   "metadata": {},
   "outputs": [],
   "source": [
    "the_api_jobs_link = get_link_by_rel_and_mediatype(relation=\"http://www.opengis.net/def/rel/ogc/1.0/job-list\",\n",
    "                                     mediatype=\"application/json\",\n",
    "                                     the_links=homepage_obj.links)"
   ]
  },
  {
   "cell_type": "code",
   "execution_count": 90,
   "id": "5d7ea07e-d574-4da3-9c8e-628d1f14b266",
   "metadata": {},
   "outputs": [
    {
     "data": {
      "text/plain": [
       "Link(href='http://testbed19.geolabs.fr:8701/ogc-api/jobs', rel='http://www.opengis.net/def/rel/ogc/1.0/job-list', type='application/json', hreflang=None, title='Job Management')"
      ]
     },
     "execution_count": 90,
     "metadata": {},
     "output_type": "execute_result"
    }
   ],
   "source": [
    "the_api_jobs_link"
   ]
  },
  {
   "cell_type": "markdown",
   "id": "15102842-9aae-4c98-96a3-d9be438b94a8",
   "metadata": {},
   "source": [
    "**Recap**: The landing page is your starting point for understanding the HPC service's offerings and shaping your interactions with it."
   ]
  },
  {
   "cell_type": "markdown",
   "id": "bb7f73e6-0ef9-42c4-9fa6-ca215a36adc8",
   "metadata": {},
   "source": [
    "### Get Conformance"
   ]
  },
  {
   "cell_type": "markdown",
   "id": "dbdd4b63-8640-4315-9f50-a859074295b9",
   "metadata": {},
   "source": [
    "Checking for Conformance: To ensure we're working with a service that adheres to HPGC standards, let's verify its conformance with the HPGC API specification. Here's how:"
   ]
  },
  {
   "cell_type": "markdown",
   "id": "5769e1c8-03d7-4f44-ab80-63bfd8119590",
   "metadata": {},
   "source": [
    "1. Create a ConformanceApi object:"
   ]
  },
  {
   "cell_type": "code",
   "execution_count": 91,
   "id": "f0261731-e845-459a-8e6d-bbc1da31293b",
   "metadata": {},
   "outputs": [],
   "source": [
    "conformance_api = openapi_client.api.conformance_api.ConformanceApi()"
   ]
  },
  {
   "cell_type": "markdown",
   "id": "e0d5c09b-9cf5-4e94-9f64-952e58f1b541",
   "metadata": {},
   "source": [
    "This object provides an API access to communicate with the service tor its conformance information."
   ]
  },
  {
   "cell_type": "markdown",
   "id": "01c9b9ba-e421-49a3-8305-2bf6c4c70f1a",
   "metadata": {},
   "source": [
    "2. Set the URL of the ConformanceApi to the address of the HPGC API instance:"
   ]
  },
  {
   "cell_type": "code",
   "execution_count": 92,
   "id": "588d638d-c143-4b99-96ef-4f7d9925a394",
   "metadata": {},
   "outputs": [],
   "source": [
    "conformance_api.api_client.configuration.host=\"http://testbed19.geolabs.fr:8701/ogc-api\""
   ]
  },
  {
   "cell_type": "markdown",
   "id": "bc408a67-9f57-4891-86e6-0e4843629ec2",
   "metadata": {},
   "source": [
    "3. Retrieve the Conformance object:"
   ]
  },
  {
   "cell_type": "code",
   "execution_count": 93,
   "id": "cb4e02b8-2dfe-45e0-8990-fbd6ce4da35d",
   "metadata": {},
   "outputs": [
    {
     "name": "stdout",
     "output_type": "stream",
     "text": [
      "HEADERS= {'accept': 'application/json', 'Accept': 'application/json', 'User-Agent': 'OpenAPI-Generator/1.0.0/python'}\n",
      "method= GET\n"
     ]
    }
   ],
   "source": [
    "conformance = conformance_api.get_conformance_with_http_info(\n",
    "            _headers={\"accept\":\"application/json\"},\n",
    "            _preload_content=True,\n",
    "            _return_http_data_only=False)"
   ]
  },
  {
   "cell_type": "markdown",
   "id": "b7aac8e3-eaac-4f14-a8b2-2c912be57021",
   "metadata": {},
   "source": [
    "This method fetches the conformance details, including the specific API standards the service complies with."
   ]
  },
  {
   "cell_type": "markdown",
   "id": "dcde13a7-ed47-479f-8f0b-f7552c8121f3",
   "metadata": {},
   "source": [
    "4. Exploring the Conformance Object:"
   ]
  },
  {
   "cell_type": "code",
   "execution_count": 94,
   "id": "f68b5e93-76e2-4738-a4c9-4e8a5f7424ae",
   "metadata": {},
   "outputs": [
    {
     "data": {
      "text/plain": [
       "<openapi_client.api_response.ApiResponse at 0x7fdf941e05e0>"
      ]
     },
     "execution_count": 94,
     "metadata": {},
     "output_type": "execute_result"
    }
   ],
   "source": [
    "conformance"
   ]
  },
  {
   "cell_type": "markdown",
   "id": "cfcdb93e-af77-4769-be2d-8a5130546789",
   "metadata": {},
   "source": [
    "- Attributes and functions: Examine the available attributes and functions within the *conformance* object to discover what information you can access and manipulate."
   ]
  },
  {
   "cell_type": "code",
   "execution_count": null,
   "id": "5400b685-7d9d-49a5-ad2b-078c07814513",
   "metadata": {},
   "outputs": [],
   "source": [
    "dir(conformance)"
   ]
  },
  {
   "cell_type": "markdown",
   "id": "cf748e01-78ed-4823-a297-6ea141c05b59",
   "metadata": {},
   "source": [
    "- Data object: Access the preloaded data using *conformance.data*. This object holds the conformance information in a structured format."
   ]
  },
  {
   "cell_type": "code",
   "execution_count": 95,
   "id": "9671af3d-986a-4d45-bac1-b7ea3311dfd2",
   "metadata": {},
   "outputs": [
    {
     "data": {
      "text/plain": [
       "GetConformance200Response(conforms_to=['http://www.opengis.net/spec/ogcapi-processes/1.0/req/core', 'http://www.opengis.net/spec/ogcapi-processes/1.0/req/oas30', 'http://www.opengis.net/spec/ogcapi-processes/1.0/req/json', 'http://www.opengis.net/spec/ogcapi-processes/1.0/req/job-list', 'http://www.opengis.net/spec/ogcapi-processes/1.0/req/dismiss', 'http://www.opengis.net/spec/ogcapi-processes/1.0/req/callback', 'http://www.opengis.net/spec/ogcapi-processes/1.0/req/ogc-process-description', 'http://www.opengis.net/spec/ogcapi-processes-2/1.0/req/deploy-replace-undeploy', 'http://www.opengis.net/spec/ogcapi-processes-2/1.0/req/ogcapppkg', 'http://www.opengis.net/spec/ogcapi-processes-2/1.0/req/cwl'])"
      ]
     },
     "execution_count": 95,
     "metadata": {},
     "output_type": "execute_result"
    }
   ],
   "source": [
    "conformance.data"
   ]
  },
  {
   "cell_type": "markdown",
   "id": "5e9a52a6-640e-4d97-8ace-02f9bca4597e",
   "metadata": {},
   "source": [
    "- Headers: Inspect the headers returned from the service using *conformance.headers*. These headers provide additional context about the interaction."
   ]
  },
  {
   "cell_type": "code",
   "execution_count": null,
   "id": "87e413cc-0f41-4990-9349-39be0521f182",
   "metadata": {},
   "outputs": [],
   "source": [
    "conformance.headers"
   ]
  },
  {
   "cell_type": "markdown",
   "id": "6332af5c-7c8c-4a40-8cdb-c474d53b7154",
   "metadata": {},
   "source": [
    "- Raw data: if you require the raw, binary response data, access it using *conformance.raw_data*."
   ]
  },
  {
   "cell_type": "code",
   "execution_count": null,
   "id": "0c118cce-e7e3-4eba-8bf1-7d0078839363",
   "metadata": {},
   "outputs": [],
   "source": [
    "conformance.raw_data"
   ]
  },
  {
   "cell_type": "markdown",
   "id": "9b7381a8-dcf8-4cac-8e2c-4e8e989a61fa",
   "metadata": {},
   "source": [
    "- Status code: Check the status code of the response using *conformance.status_code*. A status code of 200 indicates successful retrieval of conformance information."
   ]
  },
  {
   "cell_type": "code",
   "execution_count": 96,
   "id": "ef0fd8b8-c5e4-4b57-94bb-25ebdff1dd7b",
   "metadata": {},
   "outputs": [
    {
     "data": {
      "text/plain": [
       "200"
      ]
     },
     "execution_count": 96,
     "metadata": {},
     "output_type": "execute_result"
    }
   ],
   "source": [
    "conformance.status_code"
   ]
  },
  {
   "cell_type": "markdown",
   "id": "c0094d75-b8ba-477e-9fff-69e4f91acf05",
   "metadata": {},
   "source": [
    "- Total number of conformances: Count the number of conformances using *len(conformance.conforms_to)*."
   ]
  },
  {
   "cell_type": "code",
   "execution_count": 97,
   "id": "979f2a04-cbae-4a86-bfa6-60082fd70c51",
   "metadata": {},
   "outputs": [
    {
     "data": {
      "text/plain": [
       "10"
      ]
     },
     "execution_count": 97,
     "metadata": {},
     "output_type": "execute_result"
    }
   ],
   "source": [
    "len(conformance.data.conforms_to)"
   ]
  },
  {
   "cell_type": "markdown",
   "id": "884f9cf6-3006-45e6-84f2-1fb20f28adf2",
   "metadata": {},
   "source": [
    "**Recap**: Conformance checking ensures the service aligns with established HPGC standards, promoting reliability and interoperability."
   ]
  },
  {
   "cell_type": "markdown",
   "id": "d0db999c-d64e-4cfd-bb62-8271cb1de169",
   "metadata": {},
   "source": [
    "### Get Processes"
   ]
  },
  {
   "cell_type": "markdown",
   "id": "2eebd79b-a83b-40e2-b062-581d5850992f",
   "metadata": {},
   "source": [
    "Retrieving the Process Collection: Let's uncover the diverse processes offered by the HPGC service, ready to be harnessed for your computational tasks. Here's how we'll do it:"
   ]
  },
  {
   "cell_type": "markdown",
   "id": "92aca963-d7f1-4ce3-8865-82f6b303fddf",
   "metadata": {},
   "source": [
    "1. Create a ProcessApi object:"
   ]
  },
  {
   "cell_type": "code",
   "execution_count": 98,
   "id": "e696b8d1-88c6-4b86-b421-97b267f328e7",
   "metadata": {},
   "outputs": [],
   "source": [
    "processes_api = openapi_client.api.processes_api.ProcessesApi()"
   ]
  },
  {
   "cell_type": "markdown",
   "id": "81373ca3-158b-49c0-b214-2c20e9da8fba",
   "metadata": {},
   "source": [
    "This object acts as your gateway to interacting with the available processes."
   ]
  },
  {
   "cell_type": "markdown",
   "id": "a1e35b50-4dd8-426c-9699-c03ca677bcd5",
   "metadata": {},
   "source": [
    "2. Set the URL of the ConformanceApi to the address of the HPGC API instance:"
   ]
  },
  {
   "cell_type": "code",
   "execution_count": 99,
   "id": "e063454d-34e0-42cd-adf0-788422f78e0e",
   "metadata": {},
   "outputs": [],
   "source": [
    "# set endpoint\n",
    "processes_api.api_client.configuration.host=\"http://testbed19.geolabs.fr:8701/ogc-api\""
   ]
  },
  {
   "cell_type": "markdown",
   "id": "cba484e8-731a-4fd5-b8f5-c5d2b0c46f0e",
   "metadata": {},
   "source": [
    "3. Retrieve the Process collection object:"
   ]
  },
  {
   "cell_type": "code",
   "execution_count": 100,
   "id": "7632d5db-ee11-4802-9ec0-87db4bcb53e6",
   "metadata": {},
   "outputs": [
    {
     "name": "stdout",
     "output_type": "stream",
     "text": [
      "HEADERS= {'accept': 'application/json', 'Accept': 'application/json', 'User-Agent': 'OpenAPI-Generator/1.0.0/python'}\n",
      "method= GET\n"
     ]
    }
   ],
   "source": [
    "processes = processes_api.get_processes_with_http_info(\n",
    "            _headers={\"accept\":\"application/json\"},\n",
    "            _preload_content=True,\n",
    "             _return_http_data_only=False)"
   ]
  },
  {
   "cell_type": "markdown",
   "id": "399eb6cc-d26c-4e94-942f-f36a6e7d6af2",
   "metadata": {},
   "source": [
    "This method fetches a comprehensive list of processes supported by the service, including their descriptions and links to more detailed information."
   ]
  },
  {
   "cell_type": "markdown",
   "id": "26d64c2f-31d1-428e-9da9-50897e74fbf1",
   "metadata": {},
   "source": [
    "4. Exploring the Process Collection Object:"
   ]
  },
  {
   "cell_type": "code",
   "execution_count": null,
   "id": "e9f68818-2f73-400a-937d-e04fdc2d98d2",
   "metadata": {},
   "outputs": [],
   "source": [
    "processes"
   ]
  },
  {
   "cell_type": "markdown",
   "id": "fde7e3e4-88e1-4989-bc62-f2a866d7f48f",
   "metadata": {},
   "source": [
    "- Attributes and functions: Examine the attributes and functions within *processes* to discover its capabilities and what information you can access."
   ]
  },
  {
   "cell_type": "code",
   "execution_count": null,
   "id": "ebbc71f8-a2a7-4e6b-9b6d-10075e1c75ab",
   "metadata": {},
   "outputs": [],
   "source": [
    "dir(processes)"
   ]
  },
  {
   "cell_type": "markdown",
   "id": "ae6098fd-c92f-4e15-86a6-83323602c3d0",
   "metadata": {},
   "source": [
    "- Data object: Access the structured process data using *processes.data*. This object holds a list of process summaries."
   ]
  },
  {
   "cell_type": "code",
   "execution_count": 101,
   "id": "717deb98-9e93-4c4e-9161-92fd50a6ee99",
   "metadata": {},
   "outputs": [
    {
     "data": {
      "text/plain": [
       "ProcessList(processes=[ProcessSummary(title='Print Cheetah templates as HTML', description='Print Cheetah templates as HTML.', keywords=None, metadata=None, additional_parameters=None, id='display', version='2.0.0', job_control_options=[<JobControlOptions.ASYNC_MINUS_EXECUTE: 'async-execute'>], output_transmission=[<TransmissionMode.VALUE: 'value'>, <TransmissionMode.REFERENCE: 'reference'>], links=[Link(href='http://testbed19.geolabs.fr:8701/ogc-api/processes/display', rel='self', type='application/json', hreflang=None, title='Process Description')]), ProcessSummary(title='Basic in filtering ', description='This service can be executed as a filter for OGC API - Processes requests before handling them', keywords=None, metadata=[Metadata(title='My Demo', role=None, href=None)], additional_parameters=None, id='securityIn', version='1.0.0', job_control_options=[<JobControlOptions.ASYNC_MINUS_EXECUTE: 'async-execute'>], output_transmission=[<TransmissionMode.VALUE: 'value'>, <TransmissionMode.REFERENCE: 'reference'>], links=[Link(href='http://testbed19.geolabs.fr:8701/ogc-api/processes/securityIn', rel='self', type='application/json', hreflang=None, title='Process Description')]), ProcessSummary(title='Basic out filtering ', description='This service can be executed as a filter for OGC API - Processes requests after handling them (non-blocking)', keywords=None, metadata=[Metadata(title='My Demo', role=None, href=None)], additional_parameters=None, id='securityOut', version='1.0.0', job_control_options=[<JobControlOptions.ASYNC_MINUS_EXECUTE: 'async-execute'>], output_transmission=[<TransmissionMode.VALUE: 'value'>, <TransmissionMode.REFERENCE: 'reference'>], links=[Link(href='http://testbed19.geolabs.fr:8701/ogc-api/processes/securityOut', rel='self', type='application/json', hreflang=None, title='Process Description')]), ProcessSummary(title='OpenEO UDP support', description='This service provides support for deploying OpenEO UDB graph as OGC API - Processes - Part 1: Core', keywords=None, metadata=None, additional_parameters=None, id='openeoFilterIn', version='1.0.0', job_control_options=[<JobControlOptions.ASYNC_MINUS_EXECUTE: 'async-execute'>], output_transmission=[<TransmissionMode.VALUE: 'value'>, <TransmissionMode.REFERENCE: 'reference'>], links=[Link(href='http://testbed19.geolabs.fr:8701/ogc-api/processes/openeoFilterIn', rel='self', type='application/json', hreflang=None, title='Process Description')]), ProcessSummary(title='Iterate through STAC items from a STAC API and add them to datacube.', description='Iterate through STAC items from a STAC API and add them to datacube.', keywords=None, metadata=None, additional_parameters=None, id='GDCIndex', version='1.0.0', job_control_options=[<JobControlOptions.SYNC_MINUS_EXECUTE: 'sync-execute'>, <JobControlOptions.ASYNC_MINUS_EXECUTE: 'async-execute'>, <JobControlOptions.DISMISS: 'dismiss'>], output_transmission=[<TransmissionMode.VALUE: 'value'>, <TransmissionMode.REFERENCE: 'reference'>], links=[Link(href='http://testbed19.geolabs.fr:8701/ogc-api/processes/GDCIndex', rel='self', type='application/json', hreflang=None, title='Process Description')]), ProcessSummary(title='Echo input', description='Simply echo the value provided as input', keywords=None, metadata=[Metadata(title='Demo', role=None, href=None)], additional_parameters=None, id='echo', version='2.0.0', job_control_options=[<JobControlOptions.ASYNC_MINUS_EXECUTE: 'async-execute'>], output_transmission=[<TransmissionMode.VALUE: 'value'>, <TransmissionMode.REFERENCE: 'reference'>], links=[Link(href='http://testbed19.geolabs.fr:8701/ogc-api/processes/echo', rel='self', type='application/json', hreflang=None, title='Process Description')]), ProcessSummary(title='Echo input', description='Simply echo the value provided as input', keywords=None, metadata=[Metadata(title='Demo', role=None, href=None)], additional_parameters=None, id='EchoProcess', version='2.0.0', job_control_options=[<JobControlOptions.ASYNC_MINUS_EXECUTE: 'async-execute'>], output_transmission=[<TransmissionMode.VALUE: 'value'>, <TransmissionMode.REFERENCE: 'reference'>], links=[Link(href='http://testbed19.geolabs.fr:8701/ogc-api/processes/EchoProcess', rel='self', type='application/json', hreflang=None, title='Process Description')])], links=[Link(href='http://testbed19.geolabs.fr:8701/ogc-api/processes', rel='self', type='application/json', hreflang=None, title=None)])"
      ]
     },
     "execution_count": 101,
     "metadata": {},
     "output_type": "execute_result"
    }
   ],
   "source": [
    "processes.data"
   ]
  },
  {
   "cell_type": "markdown",
   "id": "3fd2bbd3-f4f8-48ad-9b8c-acfbf9ea5eb6",
   "metadata": {},
   "source": [
    "- Headers: Inspect the response headers using *processes.headers* for additional context about the interaction."
   ]
  },
  {
   "cell_type": "code",
   "execution_count": 102,
   "id": "67b6d711-90d7-4c08-84ba-063744d52148",
   "metadata": {},
   "outputs": [
    {
     "data": {
      "text/plain": [
       "HTTPHeaderDict({'Date': 'Mon, 15 Jan 2024 09:30:49 GMT', 'Server': 'Apache/2.4.52 (Ubuntu)', 'Transfer-Encoding': 'chunked', 'Content-Type': 'application/json;charset=UTF-8'})"
      ]
     },
     "execution_count": 102,
     "metadata": {},
     "output_type": "execute_result"
    }
   ],
   "source": [
    "processes.headers"
   ]
  },
  {
   "cell_type": "markdown",
   "id": "9415f41a-e2d4-472f-9986-5c409ab65421",
   "metadata": {},
   "source": [
    "- Raw data: If needed, access the raw, binary response data using *processes.raw_data*."
   ]
  },
  {
   "cell_type": "code",
   "execution_count": null,
   "id": "61766de9-53e4-4c0b-ba33-3c1a3c070e02",
   "metadata": {},
   "outputs": [],
   "source": [
    "processes.raw_data"
   ]
  },
  {
   "cell_type": "markdown",
   "id": "a2fca23a-1f22-4cd0-974a-6e987e2332f3",
   "metadata": {},
   "source": [
    "- Status code: Check the status code using *processes.status_code*. A status code of 200 indicates successful retrieval."
   ]
  },
  {
   "cell_type": "code",
   "execution_count": 103,
   "id": "61a1dd87-21c5-4fcf-b7cb-5acbe69cf1df",
   "metadata": {},
   "outputs": [
    {
     "data": {
      "text/plain": [
       "200"
      ]
     },
     "execution_count": 103,
     "metadata": {},
     "output_type": "execute_result"
    }
   ],
   "source": [
    "processes.status_code"
   ]
  },
  {
   "cell_type": "markdown",
   "id": "5873d03b-87f9-4ed4-9fe7-d48cba9c8984",
   "metadata": {},
   "source": [
    "- Total number of processes: Count the processes using *len(processes.data.processes)*."
   ]
  },
  {
   "cell_type": "code",
   "execution_count": 105,
   "id": "18bb1a7d-ffd9-4eb6-aadc-5f8d50e909a4",
   "metadata": {},
   "outputs": [
    {
     "data": {
      "text/plain": [
       "7"
      ]
     },
     "execution_count": 105,
     "metadata": {},
     "output_type": "execute_result"
    }
   ],
   "source": [
    "processes_obj = processes.data\n",
    "len(processes_obj.processes)"
   ]
  },
  {
   "cell_type": "markdown",
   "id": "ac63bb33-a7c1-4a0b-979a-da7e5ed6f710",
   "metadata": {},
   "source": [
    "- Listing process IDs: List all process' ID using:"
   ]
  },
  {
   "cell_type": "code",
   "execution_count": 107,
   "id": "ffda1a6c-de45-477c-b4c9-d9274e737ea8",
   "metadata": {},
   "outputs": [
    {
     "name": "stdout",
     "output_type": "stream",
     "text": [
      "display\n",
      "securityIn\n",
      "securityOut\n",
      "openeoFilterIn\n",
      "GDCIndex\n",
      "echo\n",
      "EchoProcess\n"
     ]
    }
   ],
   "source": [
    "for proc in processes_obj.processes:\n",
    "    print(proc.id)"
   ]
  },
  {
   "cell_type": "markdown",
   "id": "2175997d-3fdc-4680-a69e-03ae991644f3",
   "metadata": {},
   "source": [
    "**Recap**: The Process collection is your roadmap to the computational possibilities offered by the HPGC service. This is the list of processes that can used to execute on the HPC backed by the HPGC API middleware."
   ]
  },
  {
   "cell_type": "markdown",
   "id": "6ee400a6-1401-47c0-a20a-a954fb2c1294",
   "metadata": {},
   "source": [
    "### Describe a process"
   ]
  },
  {
   "cell_type": "markdown",
   "id": "1db59df4-72b8-4833-a781-b9c42c68747b",
   "metadata": {},
   "source": [
    "Retrieving Process Descriptions: Let's dive deeper into the specific capabilities of each process by examining their detailed descriptions:"
   ]
  },
  {
   "cell_type": "markdown",
   "id": "351cd32f-4e8f-4bff-ac8f-a68ef04f0f6c",
   "metadata": {},
   "source": [
    "#### Describe specific process - echo"
   ]
  },
  {
   "cell_type": "markdown",
   "id": "50b76f82-1b9c-4e4a-bc2b-765c86727d07",
   "metadata": {},
   "source": [
    "1. Retrieve the process description:"
   ]
  },
  {
   "cell_type": "code",
   "execution_count": 109,
   "id": "b363a79e-d566-430b-ab97-f94176955030",
   "metadata": {},
   "outputs": [
    {
     "name": "stdout",
     "output_type": "stream",
     "text": [
      "HEADERS= {'accept': 'application/json', 'Accept': 'application/json', 'User-Agent': 'OpenAPI-Generator/1.0.0/python'}\n",
      "method= GET\n"
     ]
    }
   ],
   "source": [
    "the_echo_process = processes_api.get_process_description_with_http_info(\n",
    "            process_id=\"echo\",\n",
    "            _headers={\"accept\":\"application/json\"},\n",
    "            _preload_content=False,\n",
    "             _return_http_data_only=False)"
   ]
  },
  {
   "cell_type": "markdown",
   "id": "1f1ba639-b3e7-4df9-989c-1bcd7e1061e6",
   "metadata": {},
   "source": [
    "2. Show the process description object:"
   ]
  },
  {
   "cell_type": "code",
   "execution_count": 110,
   "id": "eee9dd82-fad7-45e6-9df3-be9d2f2f5a8a",
   "metadata": {},
   "outputs": [
    {
     "data": {
      "text/plain": [
       "<openapi_client.api_response.ApiResponse at 0x7fdf94406560>"
      ]
     },
     "execution_count": 110,
     "metadata": {},
     "output_type": "execute_result"
    }
   ],
   "source": [
    "the_echo_process"
   ]
  },
  {
   "cell_type": "markdown",
   "id": "137406c6-2c7c-4e0b-aa24-b7f9ba50e1db",
   "metadata": {},
   "source": [
    "3. Retrieve and show the raw data of the process description:"
   ]
  },
  {
   "cell_type": "code",
   "execution_count": 111,
   "id": "64dcd806-4051-4cac-a3df-528f32e1da79",
   "metadata": {},
   "outputs": [
    {
     "data": {
      "text/plain": [
       "'{\"id\":\"echo\",\"title\":\"Echo input\",\"description\":\"Simply echo the value provided as input\",\"mutable\":false,\"version\":\"2.0.0\",\"metadata\":[{\"title\":\"Demo\"}],\"outputTransmission\":[\"value\",\"reference\"],\"jobControlOptions\":[\"async-execute\"],\"links\":[{\"rel\":\"http://www.opengis.net/def/rel/ogc/1.0/execute\",\"type\":\"application/json\",\"title\":\"Execute End Point\",\"href\":\"http://testbed19.geolabs.fr:8701/ogc-api/processes/echo/execution\"}],\"inputs\":{\"a\":{\"title\":\"Literal Input (string)\",\"description\":\"An input string\",\"schema\":{\"type\":\"string\",\"nullable\":true}},\"b\":{\"title\":\"Complex Input\",\"description\":\"A complex input \",\"extended-schema\":{\"oneOf\":[{\"allOf\":[{\"$ref\":\"http://zoo-project.org/dl/link.json\"},{\"type\":\"object\",\"properties\":{\"type\":{\"enum\":[\"text/xml\",\"application/json\"]}}}]},{\"type\":\"object\",\"required\":[\"value\"],\"properties\":{\"value\":{\"oneOf\":[{\"type\":\"string\",\"contentEncoding\":\"utf-8\",\"contentMediaType\":\"text/xml\"},{\"type\":\"object\"}]}}}],\"nullable\":true},\"schema\":{\"oneOf\":[{\"type\":\"string\",\"contentEncoding\":\"utf-8\",\"contentMediaType\":\"text/xml\"},{\"type\":\"object\"}]}},\"c\":{\"title\":\"BoundingBox Input \",\"description\":\"A boundingbox input \",\"schema\":{\"type\":\"object\",\"required\":[\"bbox\",\"crs\"],\"properties\":{\"bbox\":{\"type\":\"array\",\"oneOf\":[{\"minItems\":4,\"maxItems\":4},{\"minItems\":6,\"maxItems\":6}],\"items\":{\"type\":\"number\",\"format\":\"double\"}},\"crs\":{\"type\":\"string\",\"format\":\"uri\",\"default\":\"urn:ogc:def:crs:EPSG:6.6:4326\",\"enum\":[\"urn:ogc:def:crs:EPSG:6.6:4326\",\"urn:ogc:def:crs:EPSG:6.6:3785\"]}},\"nullable\":true}},\"pause\":{\"title\":\"Literal Input (double)\",\"description\":\"An optional input which can be used to specify the number of seconds to pause the service before returning\",\"schema\":{\"type\":\"number\",\"default\":10.0,\"format\":\"double\",\"nullable\":true}}},\"outputs\":{\"a\":{\"title\":\"The output a\",\"description\":\"The output a returned\",\"schema\":{\"type\":\"string\"}},\"b\":{\"title\":\"The output b\",\"description\":\"The output b returned\",\"extended-schema\":{\"oneOf\":[{\"allOf\":[{\"$ref\":\"http://zoo-project.org/dl/link.json\"},{\"type\":\"object\",\"properties\":{\"type\":{\"enum\":[\"text/xml\",\"application/json\"]}}}]},{\"type\":\"object\",\"required\":[\"value\"],\"properties\":{\"value\":{\"oneOf\":[{\"type\":\"string\",\"contentEncoding\":\"utf-8\",\"contentMediaType\":\"text/xml\"},{\"type\":\"object\"}]}}}]},\"schema\":{\"oneOf\":[{\"type\":\"string\",\"contentEncoding\":\"utf-8\",\"contentMediaType\":\"text/xml\"},{\"type\":\"object\"}]}},\"c\":{\"title\":\"BoundingBox output \",\"description\":\"A boundingbox output \",\"schema\":{\"type\":\"object\",\"required\":[\"bbox\",\"crs\"],\"properties\":{\"bbox\":{\"type\":\"array\",\"oneOf\":[{\"minItems\":4,\"maxItems\":4},{\"minItems\":6,\"maxItems\":6}],\"items\":{\"type\":\"number\",\"format\":\"double\"}},\"crs\":{\"type\":\"string\",\"format\":\"uri\",\"default\":\"urn:ogc:def:crs:EPSG:6.6:4326\",\"enum\":[\"urn:ogc:def:crs:EPSG:6.6:4326\",\"urn:ogc:def:crs:EPSG:6.6:3785\"]}}}}}}\\n'"
      ]
     },
     "execution_count": 111,
     "metadata": {},
     "output_type": "execute_result"
    }
   ],
   "source": [
    "the_echo_process.raw_data.decode(\"utf-8\")"
   ]
  },
  {
   "cell_type": "markdown",
   "id": "e64b76f6-f018-4f65-bc20-cd450b91ee38",
   "metadata": {},
   "source": [
    "#### Describe specific process - GDCIndex"
   ]
  },
  {
   "cell_type": "markdown",
   "id": "fda2aa2d-96fc-4173-95a8-a5c8e1af6c08",
   "metadata": {},
   "source": [
    "1. Retrieve the process description:"
   ]
  },
  {
   "cell_type": "code",
   "execution_count": 112,
   "id": "b305e430-22ec-43f9-b821-2f1745819f18",
   "metadata": {},
   "outputs": [
    {
     "name": "stdout",
     "output_type": "stream",
     "text": [
      "HEADERS= {'accept': 'application/json', 'Accept': 'application/json', 'User-Agent': 'OpenAPI-Generator/1.0.0/python'}\n",
      "method= GET\n"
     ]
    }
   ],
   "source": [
    "the_gdcindex_process = processes_api.get_process_description_with_http_info(\n",
    "            process_id=\"GDCIndex\",\n",
    "            _headers={\"accept\":\"application/json\"},\n",
    "            _preload_content=False,\n",
    "             _return_http_data_only=False)"
   ]
  },
  {
   "cell_type": "markdown",
   "id": "349135b7-6958-4171-bce4-7cb7dfbe7589",
   "metadata": {},
   "source": [
    "2. Show the process description object:"
   ]
  },
  {
   "cell_type": "code",
   "execution_count": 113,
   "id": "0449ac89-eb56-4c81-b834-051d64bcc5c2",
   "metadata": {},
   "outputs": [
    {
     "data": {
      "text/plain": [
       "<openapi_client.api_response.ApiResponse at 0x7fdf9427ab60>"
      ]
     },
     "execution_count": 113,
     "metadata": {},
     "output_type": "execute_result"
    }
   ],
   "source": [
    "the_gdcindex_process"
   ]
  },
  {
   "cell_type": "markdown",
   "id": "d5203de3-e234-49b7-9cbb-251926b4faf2",
   "metadata": {},
   "source": [
    "3. Retrieve and show the raw data of the process description:"
   ]
  },
  {
   "cell_type": "code",
   "execution_count": 114,
   "id": "58ac2992-c24a-47ec-b7b5-7b8df33b1505",
   "metadata": {},
   "outputs": [
    {
     "data": {
      "text/plain": [
       "'{\"id\":\"GDCIndex\",\"title\":\"Iterate through STAC items from a STAC API and add them to datacube.\",\"description\":\"Iterate through STAC items from a STAC API and add them to datacube.\",\"mutable\":false,\"version\":\"1.0.0\",\"jobControlOptions\":[\"sync-execute\",\"async-execute\",\"dismiss\"],\"outputTransmission\":[\"value\",\"reference\"],\"links\":[{\"rel\":\"http://www.opengis.net/def/rel/ogc/1.0/execute\",\"type\":\"application/json\",\"title\":\"Execute End Point\",\"href\":\"http://testbed19.geolabs.fr:8701/ogc-api/processes/GDCIndex/execution\"}],\"inputs\":{\"collections\":{\"title\":\"Collections to search\",\"description\":\"List of collections to search\",\"maxOccurs\":4,\"schema\":{\"type\":\"string\"}},\"datetime\":{\"title\":\"Dates to search\",\"description\":\"Dates to search, either one day or an inclusive range, e.g. 2020-01-01 or 2020-01-01/2020-01-02\",\"schema\":{\"type\":\"string\"}},\"bbox\":{\"title\":\"Comma separated list of bounding box coords\",\"description\":\"Comma separated list of bounding box coords, lon-min, lat-min, lon-max, lat-max\",\"schema\":{\"type\":\"object\",\"required\":[\"bbox\",\"crs\"],\"properties\":{\"bbox\":{\"type\":\"array\",\"oneOf\":[{\"minItems\":4,\"maxItems\":4},{\"minItems\":6,\"maxItems\":6}],\"items\":{\"type\":\"number\",\"format\":\"double\"}},\"crs\":{\"type\":\"string\",\"format\":\"uri\",\"default\":\"urn:ogc:def:crs:EPSG:6.6:4326\",\"enum\":[\"urn:ogc:def:crs:EPSG:6.6:4326\",\"urn:ogc:def:crs:EPSG:6.6:3785\"]}}}}},\"outputs\":{\"Result\":{\"title\":\"Message to display\",\"description\":\"The message displayed when the service end.\",\"schema\":{\"type\":\"string\",\"nullable\":true}}}}\\n'"
      ]
     },
     "execution_count": 114,
     "metadata": {},
     "output_type": "execute_result"
    }
   ],
   "source": [
    "the_gdcindex_process.raw_data.decode(\"utf-8\")"
   ]
  },
  {
   "cell_type": "markdown",
   "id": "d37e9dc9-5562-4c15-82c6-5562a31884d3",
   "metadata": {},
   "source": [
    "#### Describe specific process - EchoProcess"
   ]
  },
  {
   "cell_type": "markdown",
   "id": "2d1142ad-f5a4-4f31-96d5-7b026bb2853a",
   "metadata": {},
   "source": [
    "1. Retrieve the process description:"
   ]
  },
  {
   "cell_type": "code",
   "execution_count": 115,
   "id": "9b18eec3-8ee2-4ec7-a6b9-601664b231c8",
   "metadata": {},
   "outputs": [
    {
     "name": "stdout",
     "output_type": "stream",
     "text": [
      "HEADERS= {'accept': 'application/json', 'Accept': 'application/json', 'User-Agent': 'OpenAPI-Generator/1.0.0/python'}\n",
      "method= GET\n"
     ]
    }
   ],
   "source": [
    "the_echoprocess_process = processes_api.get_process_description_with_http_info(\n",
    "            process_id=\"EchoProcess\",\n",
    "            _headers={\"accept\":\"application/json\"},\n",
    "            _preload_content=False,\n",
    "             _return_http_data_only=False)"
   ]
  },
  {
   "cell_type": "markdown",
   "id": "fb391f1c-823a-48e4-b0d1-1c1000bd92e3",
   "metadata": {},
   "source": [
    "2. Show the process description object:"
   ]
  },
  {
   "cell_type": "code",
   "execution_count": 116,
   "id": "e1d48821-6eb8-411a-a762-53edfa742706",
   "metadata": {},
   "outputs": [
    {
     "data": {
      "text/plain": [
       "<openapi_client.api_response.ApiResponse at 0x7fdf94238ac0>"
      ]
     },
     "execution_count": 116,
     "metadata": {},
     "output_type": "execute_result"
    }
   ],
   "source": [
    "the_echoprocess_process"
   ]
  },
  {
   "cell_type": "markdown",
   "id": "ef60b9d2-6742-4c5c-9ce8-baa86b4a5d0a",
   "metadata": {},
   "source": [
    "3. Retrieve and show the raw data of the process description:"
   ]
  },
  {
   "cell_type": "code",
   "execution_count": 117,
   "id": "1f5e5f21-b865-4798-9ad6-94f66d169da2",
   "metadata": {},
   "outputs": [
    {
     "data": {
      "text/plain": [
       "'{\"id\":\"EchoProcess\",\"title\":\"Echo input\",\"description\":\"Simply echo the value provided as input\",\"mutable\":false,\"version\":\"2.0.0\",\"metadata\":[{\"title\":\"Demo\"}],\"outputTransmission\":[\"value\",\"reference\"],\"jobControlOptions\":[\"async-execute\"],\"links\":[{\"rel\":\"http://www.opengis.net/def/rel/ogc/1.0/execute\",\"type\":\"application/json\",\"title\":\"Execute End Point\",\"href\":\"http://testbed19.geolabs.fr:8701/ogc-api/processes/EchoProcess/execution\"}],\"inputs\":{\"literalInput\":{\"title\":\"Literal Input (string)\",\"description\":\"An input string\",\"schema\":{\"type\":\"string\",\"nullable\":true}},\"complexInput\":{\"title\":\"Complex Input\",\"description\":\"A complex input \",\"extended-schema\":{\"oneOf\":[{\"allOf\":[{\"$ref\":\"http://zoo-project.org/dl/link.json\"},{\"type\":\"object\",\"properties\":{\"type\":{\"enum\":[\"text/xml\",\"application/json\"]}}}]},{\"type\":\"object\",\"required\":[\"value\"],\"properties\":{\"value\":{\"oneOf\":[{\"type\":\"string\",\"contentEncoding\":\"utf-8\",\"contentMediaType\":\"text/xml\"},{\"type\":\"object\"}]}}}],\"nullable\":true},\"schema\":{\"oneOf\":[{\"type\":\"string\",\"contentEncoding\":\"utf-8\",\"contentMediaType\":\"text/xml\"},{\"type\":\"object\"}]}},\"c\":{\"title\":\"BoundingBox Input \",\"description\":\"A boundingbox input \",\"schema\":{\"type\":\"object\",\"required\":[\"bbox\",\"crs\"],\"properties\":{\"bbox\":{\"type\":\"array\",\"oneOf\":[{\"minItems\":4,\"maxItems\":4},{\"minItems\":6,\"maxItems\":6}],\"items\":{\"type\":\"number\",\"format\":\"double\"}},\"crs\":{\"type\":\"string\",\"format\":\"uri\",\"default\":\"urn:ogc:def:crs:EPSG:6.6:4326\",\"enum\":[\"urn:ogc:def:crs:EPSG:6.6:4326\",\"urn:ogc:def:crs:EPSG:6.6:3785\"]}},\"nullable\":true}}},\"outputs\":{\"literalOutput\":{\"title\":\"The output a\",\"description\":\"The output a returned\",\"schema\":{\"type\":\"string\"}},\"complexOutput\":{\"title\":\"The output b\",\"description\":\"The output b returned\",\"extended-schema\":{\"oneOf\":[{\"allOf\":[{\"$ref\":\"http://zoo-project.org/dl/link.json\"},{\"type\":\"object\",\"properties\":{\"type\":{\"enum\":[\"text/xml\",\"application/json\"]}}}]},{\"type\":\"object\",\"required\":[\"value\"],\"properties\":{\"value\":{\"oneOf\":[{\"type\":\"string\",\"contentEncoding\":\"utf-8\",\"contentMediaType\":\"text/xml\"},{\"type\":\"object\"}]}}}]},\"schema\":{\"oneOf\":[{\"type\":\"string\",\"contentEncoding\":\"utf-8\",\"contentMediaType\":\"text/xml\"},{\"type\":\"object\"}]}},\"c\":{\"title\":\"BoundingBox output \",\"description\":\"A boundingbox output \",\"schema\":{\"type\":\"object\",\"required\":[\"bbox\",\"crs\"],\"properties\":{\"bbox\":{\"type\":\"array\",\"oneOf\":[{\"minItems\":4,\"maxItems\":4},{\"minItems\":6,\"maxItems\":6}],\"items\":{\"type\":\"number\",\"format\":\"double\"}},\"crs\":{\"type\":\"string\",\"format\":\"uri\",\"default\":\"urn:ogc:def:crs:EPSG:6.6:4326\",\"enum\":[\"urn:ogc:def:crs:EPSG:6.6:4326\",\"urn:ogc:def:crs:EPSG:6.6:3785\"]}}}}}}\\n'"
      ]
     },
     "execution_count": 117,
     "metadata": {},
     "output_type": "execute_result"
    }
   ],
   "source": [
    "the_echoprocess_process.raw_data.decode(\"utf-8\")"
   ]
  },
  {
   "cell_type": "markdown",
   "id": "afdf4b3a-3fc3-4796-af33-64e7ca1e307b",
   "metadata": {},
   "source": [
    "**Recap**: The raw process descriptions provide crucial insights into input and output schemas, guiding you in preparing data for execution and interpreting results."
   ]
  },
  {
   "cell_type": "markdown",
   "id": "1343314b-cfdc-42e8-86d4-b4345d1595c6",
   "metadata": {},
   "source": [
    "## Execute process Echo"
   ]
  },
  {
   "cell_type": "markdown",
   "id": "cd2ad880-113a-4836-9f23-38260f8cd49f",
   "metadata": {},
   "source": [
    "Unleashing HPGC Power: Now, let's set the wheels of HPC in motion by executing a process and observing its response:"
   ]
  },
  {
   "cell_type": "markdown",
   "id": "c8769d8f-a7d8-489a-be3c-03584c8c4065",
   "metadata": {},
   "source": [
    "1. Create a ProcessApi object and set the URL:"
   ]
  },
  {
   "cell_type": "code",
   "execution_count": 118,
   "id": "b52f6c6a-6392-4744-a4d9-d220fe69ee66",
   "metadata": {},
   "outputs": [],
   "source": [
    "the_proc_api = openapi_client.api.processes_api.ProcessesApi()\n",
    "# set the endpoint\n",
    "the_proc_api.api_client.configuration.host=\"http://testbed19.geolabs.fr:8701/ogc-api\""
   ]
  },
  {
   "cell_type": "markdown",
   "id": "76e277e8-d3d5-4e89-9918-cc3d16b8cfee",
   "metadata": {},
   "source": [
    "2. Prepare input data and execute the Echo process: In this case, the ProcessesApi object is used to retrieve the description of the deployed \"echo\" process (see last section) and use the description to form an execution request. A request is created with definitions of necessary inputs, execution method, outputs, and callback services (if applicable). The asynchronous execution approach is selected in the request. The request also gives the callback service for receiving progress status, success result, and failure exception. Then, the formed execution request is submitted to the service."
   ]
  },
  {
   "cell_type": "code",
   "execution_count": 119,
   "id": "4cdaf130-7594-4302-9276-f14466bb35e0",
   "metadata": {},
   "outputs": [
    {
     "name": "stdout",
     "output_type": "stream",
     "text": [
      "HEADERS= {'Accept': 'application/json', 'Prefer': 'respond-async', 'Content-Type': 'application/json', 'User-Agent': 'OpenAPI-Generator/1.0.0/python'}\n",
      "method= POST\n",
      "COMMING HERE= {'inputs': {'a': 'Literal Input string 1', 'b': {'title': 'another object input', 'value': 'some complex value'}, 'c': {'bbox': [-100, -60, 110, 50], 'crs': 'urn:ogc:def:crs:EPSG:6.6:4326'}, 'pause': 10}, 'subscriber': {'successUri': 'https://cat.csiss.gmu.edu/ows19/success/test134', 'inProgressUri': 'https://cat.csiss.gmu.edu/ows19/progress/test134', 'failedUri': 'https://cat.csiss.gmu.edu/ows19/failed/test134'}}\n",
      "url= http://testbed19.geolabs.fr:8701/ogc-api/processes/echo/execution\n",
      "url= http://testbed19.geolabs.fr:8701/ogc-api/processes/echo/execution\n",
      "request_body= {\"inputs\": {\"a\": \"Literal Input string 1\", \"b\": {\"title\": \"another object input\", \"value\": \"some complex value\"}, \"c\": {\"bbox\": [-100, -60, 110, 50], \"crs\": \"urn:ogc:def:crs:EPSG:6.6:4326\"}, \"pause\": 10}, \"subscriber\": {\"successUri\": \"https://cat.csiss.gmu.edu/ows19/success/test134\", \"inProgressUri\": \"https://cat.csiss.gmu.edu/ows19/progress/test134\", \"failedUri\": \"https://cat.csiss.gmu.edu/ows19/failed/test134\"}}\n",
      "_preload_content= False\n",
      "headers= {'Accept': 'application/json', 'Prefer': 'respond-async', 'Content-Type': 'application/json', 'User-Agent': 'OpenAPI-Generator/1.0.0/python'}\n",
      "timeout= None\n",
      "R== <urllib3.response.HTTPResponse object at 0x7fdf9427bd90>\n",
      "r.status= 201\n",
      "r.data= b'{\"jobID\":\"546b5004-b389-11ee-a1c3-0242ac130006\",\"type\":\"process\",\"processID\":\"echo\",\"created\":\"2024-01-15T09:34:50Z\",\"started\":\"2024-01-15T09:34:50Z\",\"updated\":\"2024-01-15T09:34:50Z\",\"status\":\"running\",\"message\":\"ZOO-Kernel accepted to run your service!\",\"links\":[{\"title\":\"Status location\",\"rel\":\"status\",\"type\":\"application/json\",\"href\":\"http://testbed19.geolabs.fr:8701/ogc-api/jobs/546b5004-b389-11ee-a1c3-0242ac130006\"}]}\\n'\n"
     ]
    }
   ],
   "source": [
    "the_data = {\"inputs\":{\"a\":\"Literal Input string 1\",\"b\":{\"title\":\"another object input\",\"value\":\"some complex value\"},\"c\":{\"bbox\":[-100,-60,110,50],\"crs\":\"urn:ogc:def:crs:EPSG:6.6:4326\"},\"pause\":10},\"subscriber\":{\"successUri\":\"https://cat.csiss.gmu.edu/ows19/success/test134\",\"inProgressUri\":\"https://cat.csiss.gmu.edu/ows19/progress/test134\",\"failedUri\":\"https://cat.csiss.gmu.edu/ows19/failed/test134\"}}\n",
    "\n",
    "the_result = the_proc_api.execute_with_http_info(\n",
    "            process_id=\"echo\",\n",
    "            unknown_base_type=the_data,\n",
    "            async_req=True,\n",
    "         #   response=None,\n",
    "            prefer='respond-async',\n",
    "            _headers={\"Accept\":\"/*\"},\n",
    "            _preload_content=False,\n",
    "             _return_http_data_only=False)\n"
   ]
  },
  {
   "cell_type": "markdown",
   "id": "44750527-947e-4f30-9bd6-faddf9048c0e",
   "metadata": {},
   "source": [
    "3. Show the immediate response object:"
   ]
  },
  {
   "cell_type": "code",
   "execution_count": null,
   "id": "5c0d1fb6-f51c-4e23-8e69-d3b967899abb",
   "metadata": {},
   "outputs": [],
   "source": [
    "the_result"
   ]
  },
  {
   "cell_type": "markdown",
   "id": "9a426950-4958-4475-81c0-84a6acce8a9d",
   "metadata": {},
   "source": [
    "4. Show attributes of the response object:"
   ]
  },
  {
   "cell_type": "code",
   "execution_count": null,
   "id": "6a62fb59-8073-4f35-959e-9ced8508b4b3",
   "metadata": {},
   "outputs": [],
   "source": [
    "dir(the_result)"
   ]
  },
  {
   "cell_type": "markdown",
   "id": "21d8dac0-e5cb-454d-a8b3-b4e97706d9a5",
   "metadata": {},
   "source": [
    "5. Show the raw data of the response:"
   ]
  },
  {
   "cell_type": "code",
   "execution_count": 120,
   "id": "0d661700-64c0-4de8-830c-f7c51c2252a3",
   "metadata": {},
   "outputs": [
    {
     "data": {
      "text/plain": [
       "'{\"jobID\":\"546b5004-b389-11ee-a1c3-0242ac130006\",\"type\":\"process\",\"processID\":\"echo\",\"created\":\"2024-01-15T09:34:50Z\",\"started\":\"2024-01-15T09:34:50Z\",\"updated\":\"2024-01-15T09:34:50Z\",\"status\":\"running\",\"message\":\"ZOO-Kernel accepted to run your service!\",\"links\":[{\"title\":\"Status location\",\"rel\":\"status\",\"type\":\"application/json\",\"href\":\"http://testbed19.geolabs.fr:8701/ogc-api/jobs/546b5004-b389-11ee-a1c3-0242ac130006\"}]}\\n'"
      ]
     },
     "execution_count": 120,
     "metadata": {},
     "output_type": "execute_result"
    }
   ],
   "source": [
    "the_result.get().raw_data.decode(\"utf-8\")"
   ]
  },
  {
   "cell_type": "markdown",
   "id": "04b76526-ef0c-425b-af41-34f6e0195e80",
   "metadata": {},
   "source": [
    "6. Show the status code (status code 202 indicates accepted):"
   ]
  },
  {
   "cell_type": "code",
   "execution_count": null,
   "id": "4fa4ec80-ec0c-4569-baf4-514de1c5c4ce",
   "metadata": {},
   "outputs": [],
   "source": [
    "the_result.status_code"
   ]
  },
  {
   "cell_type": "markdown",
   "id": "f0322764-6842-4e2c-9a05-91c40688f838",
   "metadata": {},
   "source": [
    "7. Parse the response as a StatusInfo object and retrive the job id of current process."
   ]
  },
  {
   "cell_type": "code",
   "execution_count": 121,
   "id": "40f83967-d00e-41ed-9706-e18b62eb26d4",
   "metadata": {},
   "outputs": [
    {
     "data": {
      "text/plain": [
       "'546b5004-b389-11ee-a1c3-0242ac130006'"
      ]
     },
     "execution_count": 121,
     "metadata": {},
     "output_type": "execute_result"
    }
   ],
   "source": [
    "from openapi_client.models.status_info import StatusInfo\n",
    "the_response_str=the_result.get().raw_data.decode(\"utf-8\")\n",
    "the_status_info = StatusInfo.from_json(the_response_str)\n",
    "the_job_id = the_status_info.job_id\n",
    "the_job_id"
   ]
  },
  {
   "cell_type": "markdown",
   "id": "5f0e208d-ae90-406c-b3b9-d468f9a9686e",
   "metadata": {},
   "source": [
    "**Recap**:\n",
    "\n",
    "- The raw data often contains the job ID, essential for tracking process status and retrieving results.\n",
    "- Explore the *status_code* to understand the initial response (e.g., 202 indicates accepted but not yet completed).\n",
    "- You might need to wait for completion or check job status to access the final results. We will explore two approaches to monitor the progress and retrieve the result in next section.\n"
   ]
  },
  {
   "cell_type": "markdown",
   "id": "b48d046e-9d4b-4c36-bbc1-02bf53616179",
   "metadata": {},
   "source": [
    "## Monitoring Process Execution"
   ]
  },
  {
   "cell_type": "markdown",
   "id": "98f8f2c1-60c6-4596-9f9e-927ca04f5473",
   "metadata": {},
   "source": [
    "Here are the instructions for monitoring the execution of a process in a Jupyter notebook, incorporating both active monitoring with job objects and passive monitoring with callback services:"
   ]
  },
  {
   "cell_type": "markdown",
   "id": "9d2fb18f-003b-4198-9a33-c02045ae6ff5",
   "metadata": {},
   "source": [
    "### Active Monitoring with Job Objects"
   ]
  },
  {
   "cell_type": "markdown",
   "id": "802c0e79-23be-411f-b510-4858182bb0ac",
   "metadata": {},
   "source": [
    "Active Monitoring relies on the job management capabilities of the HPGC API middleware."
   ]
  },
  {
   "cell_type": "markdown",
   "id": "70fe8217-81d2-42cc-9a1f-3c22fde3bb43",
   "metadata": {},
   "source": [
    "#### Create a JobsApi object"
   ]
  },
  {
   "cell_type": "code",
   "execution_count": 122,
   "id": "f8a2970f-c0f3-44d7-b799-b8e8bb6d78de",
   "metadata": {},
   "outputs": [],
   "source": [
    "the_jobs_api = openapi_client.api.jobs_api.JobsApi()\n",
    "# set the endpoint\n",
    "the_jobs_api.api_client.configuration.host=\"http://testbed19.geolabs.fr:8701/ogc-api\""
   ]
  },
  {
   "cell_type": "markdown",
   "id": "3b55fc78-1c3c-42a0-a74a-9bff57961acb",
   "metadata": {},
   "source": [
    "This creates the JobsApi object and set its URL to the HPGC API instance. Then, the object can be used to interact with the HPGC API middleware to perform operations related to jobs."
   ]
  },
  {
   "cell_type": "markdown",
   "id": "76ad5e23-4fb6-4a33-8457-570bb6c9cf62",
   "metadata": {},
   "source": [
    "#### Get jobs"
   ]
  },
  {
   "cell_type": "markdown",
   "id": "11d7119f-ce3d-4c2b-80d7-7de6657baed0",
   "metadata": {},
   "source": [
    "1. Get the job collection using *get_jobs_with_http_info* method."
   ]
  },
  {
   "cell_type": "code",
   "execution_count": 123,
   "id": "4800ec03-4785-4c95-bca7-a029ff5b40c9",
   "metadata": {},
   "outputs": [
    {
     "name": "stdout",
     "output_type": "stream",
     "text": [
      "HEADERS= {'accept': 'application/json', 'Accept': 'application/json', 'User-Agent': 'OpenAPI-Generator/1.0.0/python'}\n",
      "method= GET\n"
     ]
    }
   ],
   "source": [
    "the_jobs = the_jobs_api.get_jobs_with_http_info(\n",
    "    _headers={\"accept\":\"application/json\"},\n",
    "    _preload_content=True,\n",
    "    _return_http_data_only=False)"
   ]
  },
  {
   "cell_type": "markdown",
   "id": "577bd261-cd08-4a2b-b92b-d41f0b7bedcf",
   "metadata": {},
   "source": [
    "2. Inspect the response object: Examine the attributes and functions within *the_jobs* to discover its capabilities and what operations you can access with the collection of jobs."
   ]
  },
  {
   "cell_type": "code",
   "execution_count": null,
   "id": "820a3224-14ab-452d-916b-c94e030630a1",
   "metadata": {},
   "outputs": [],
   "source": [
    "dir(the_jobs)"
   ]
  },
  {
   "cell_type": "markdown",
   "id": "35ef9bbf-eee1-417b-a60c-351cae76e8e1",
   "metadata": {},
   "source": [
    "3. Show the *JobList* object preloaded and parsed from the response of *get_jobs_with_http_info*."
   ]
  },
  {
   "cell_type": "code",
   "execution_count": null,
   "id": "342e737e-856e-435f-95f6-68782310d314",
   "metadata": {},
   "outputs": [],
   "source": [
    "the_jobs.data"
   ]
  },
  {
   "cell_type": "markdown",
   "id": "5f3047e3-9b4a-4173-8393-30530533e198",
   "metadata": {},
   "source": [
    "4. Show the headers of the response from *get_jobs_with_http_info* request."
   ]
  },
  {
   "cell_type": "code",
   "execution_count": null,
   "id": "e8bfc634-7496-4283-bc20-ce52cd40a90c",
   "metadata": {},
   "outputs": [],
   "source": [
    "the_jobs.headers"
   ]
  },
  {
   "cell_type": "markdown",
   "id": "1a5a386b-eb78-48d0-aa77-7a6b8bf72ee3",
   "metadata": {},
   "source": [
    "5. Show the status code of the response from *get_jobs_with_http_info* request."
   ]
  },
  {
   "cell_type": "code",
   "execution_count": null,
   "id": "c118d8e8-481b-4534-9125-5494cfd755a4",
   "metadata": {},
   "outputs": [],
   "source": [
    "the_jobs.status_code"
   ]
  },
  {
   "cell_type": "markdown",
   "id": "656d272a-4281-43ad-82c3-ce3eb20d0930",
   "metadata": {},
   "source": [
    "6. Show the raw_data (binary) of the response from *get_jobs_with_http_info* request."
   ]
  },
  {
   "cell_type": "code",
   "execution_count": null,
   "id": "dbff59f0-300f-4d01-8046-1849a6f607c8",
   "metadata": {},
   "outputs": [],
   "source": [
    "the_jobs.raw_data"
   ]
  },
  {
   "cell_type": "markdown",
   "id": "7dadb134-08c7-43a2-bb0c-2b399a7dd378",
   "metadata": {},
   "source": [
    "7. Count the total number of jobs recorded at the HPGC API middle instance."
   ]
  },
  {
   "cell_type": "code",
   "execution_count": 124,
   "id": "70f8eff9-ff58-46d5-8799-c1c93aa78757",
   "metadata": {},
   "outputs": [
    {
     "data": {
      "text/plain": [
       "65"
      ]
     },
     "execution_count": 124,
     "metadata": {},
     "output_type": "execute_result"
    }
   ],
   "source": [
    "len(the_jobs.data.jobs)"
   ]
  },
  {
   "cell_type": "markdown",
   "id": "bb72b0f1-adc1-4e6f-8ed6-dee7e770fef1",
   "metadata": {},
   "source": [
    "#### Get the status of a specific job"
   ]
  },
  {
   "cell_type": "markdown",
   "id": "292b429f-935e-420e-acb5-af5ea6620870",
   "metadata": {},
   "source": [
    "1. Retrieve the *StatusInfo* object of a specific job by giving the job identifier."
   ]
  },
  {
   "cell_type": "code",
   "execution_count": 125,
   "id": "8f1f991a-6ecd-4889-a281-7ffe87e87a09",
   "metadata": {},
   "outputs": [
    {
     "name": "stdout",
     "output_type": "stream",
     "text": [
      "HEADERS= {'accept': 'application/json', 'Accept': 'application/json', 'User-Agent': 'OpenAPI-Generator/1.0.0/python'}\n",
      "method= GET\n"
     ]
    }
   ],
   "source": [
    "the_job_status = the_jobs_api.get_status_with_http_info(\n",
    "    job_id=the_job_id,\n",
    "    _headers={\"accept\":\"application/json\"},\n",
    "    _preload_content=True,\n",
    "    _return_http_data_only=False)"
   ]
  },
  {
   "cell_type": "markdown",
   "id": "ffe0972c-0459-403b-a611-2ec17de446a5",
   "metadata": {},
   "source": [
    "2. Show attributes and functions of the *StatusInfo* object."
   ]
  },
  {
   "cell_type": "code",
   "execution_count": null,
   "id": "8a289224-7462-43fe-867b-ce13e556dad7",
   "metadata": {},
   "outputs": [],
   "source": [
    "dir(the_job_status)"
   ]
  },
  {
   "cell_type": "markdown",
   "id": "58071890-6c46-4958-b79a-0e6d7aa26a91",
   "metadata": {},
   "source": [
    "3. Show the *StatusInfo* object."
   ]
  },
  {
   "cell_type": "code",
   "execution_count": 126,
   "id": "8b23d156-d2c1-48c6-8891-2be541bb8561",
   "metadata": {},
   "outputs": [
    {
     "data": {
      "text/plain": [
       "StatusInfo(process_id='echo', type='process', job_id='546b5004-b389-11ee-a1c3-0242ac130006', status=<StatusCode.SUCCESSFUL: 'successful'>, message='ZOO-Kernel successfully run your service!', created=datetime.datetime(2024, 1, 15, 9, 34, 50, tzinfo=datetime.timezone.utc), started=datetime.datetime(2024, 1, 15, 9, 34, 50, tzinfo=datetime.timezone.utc), finished=datetime.datetime(2024, 1, 15, 9, 35, tzinfo=datetime.timezone.utc), updated=datetime.datetime(2024, 1, 15, 9, 35, tzinfo=datetime.timezone.utc), progress=None, links=[Link(href='http://testbed19.geolabs.fr:8701/ogc-api/jobs/546b5004-b389-11ee-a1c3-0242ac130006', rel='status', type='application/json', hreflang=None, title='Status location'), Link(href='http://testbed19.geolabs.fr:8701/ogc-api/jobs/546b5004-b389-11ee-a1c3-0242ac130006/results', rel='http://www.opengis.net/def/rel/ogc/1.0/results', type='application/json', hreflang=None, title='Result location')])"
      ]
     },
     "execution_count": 126,
     "metadata": {},
     "output_type": "execute_result"
    }
   ],
   "source": [
    "the_job_status.data"
   ]
  },
  {
   "cell_type": "markdown",
   "id": "39d9d497-92df-4430-a125-54f5f125e2ac",
   "metadata": {},
   "source": [
    "4. Show the raw data (binary) of the response of the object."
   ]
  },
  {
   "cell_type": "code",
   "execution_count": null,
   "id": "847bbc64-9225-4a3f-90af-9dc7392b0d10",
   "metadata": {},
   "outputs": [],
   "source": [
    "the_job_status.raw_data"
   ]
  },
  {
   "cell_type": "markdown",
   "id": "e0405fa2-e93b-47d5-8b7d-a72120d9e55c",
   "metadata": {},
   "source": [
    "#### Get links for status and results for succeeded process"
   ]
  },
  {
   "cell_type": "markdown",
   "id": "aa751fe5-d693-4c18-8a46-e84ef3f03224",
   "metadata": {},
   "source": [
    "1. Show all the links of the *StatusInfo* object."
   ]
  },
  {
   "cell_type": "code",
   "execution_count": null,
   "id": "2723948d-11db-4411-a232-ddc78fd13bb1",
   "metadata": {},
   "outputs": [],
   "source": [
    "the_job_status.data.links"
   ]
  },
  {
   "cell_type": "markdown",
   "id": "b9e2fc29-54dc-4807-b820-7659c73a7406",
   "metadata": {},
   "source": [
    "2. Retrieve the link for status."
   ]
  },
  {
   "cell_type": "code",
   "execution_count": 127,
   "id": "17bcb7fd-5ff3-4087-838f-b500745f4be3",
   "metadata": {},
   "outputs": [],
   "source": [
    "the_status_link =  get_link_by_rel_and_mediatype(relation=\"status\",\n",
    "                                     mediatype=\"application/json\",\n",
    "                                     the_links=the_job_status.data.links)"
   ]
  },
  {
   "cell_type": "markdown",
   "id": "30f74bf8-f586-49ed-abcc-307750f483c4",
   "metadata": {},
   "source": [
    "3. Show the status link object."
   ]
  },
  {
   "cell_type": "code",
   "execution_count": 128,
   "id": "0a38736a-f079-400f-a00b-7fd33c25fa10",
   "metadata": {},
   "outputs": [
    {
     "data": {
      "text/plain": [
       "Link(href='http://testbed19.geolabs.fr:8701/ogc-api/jobs/546b5004-b389-11ee-a1c3-0242ac130006', rel='status', type='application/json', hreflang=None, title='Status location')"
      ]
     },
     "execution_count": 128,
     "metadata": {},
     "output_type": "execute_result"
    }
   ],
   "source": [
    "the_status_link"
   ]
  },
  {
   "cell_type": "markdown",
   "id": "0cdf2d3d-e3d2-4278-bee0-46875a883f40",
   "metadata": {},
   "source": [
    "4. Retrieve the link for results."
   ]
  },
  {
   "cell_type": "code",
   "execution_count": 129,
   "id": "48f1c145-ccaf-4ca1-a3e7-6a7ab7eb4551",
   "metadata": {},
   "outputs": [],
   "source": [
    "the_results_link =  get_link_by_rel_and_mediatype(relation=\"http://www.opengis.net/def/rel/ogc/1.0/results\",\n",
    "                                     mediatype=\"application/json\",\n",
    "                                     the_links=the_job_status.data.links)"
   ]
  },
  {
   "cell_type": "markdown",
   "id": "6c9257bd-23d3-4845-98b3-add8132fe5c4",
   "metadata": {},
   "source": [
    "5. Show the result link."
   ]
  },
  {
   "cell_type": "code",
   "execution_count": 130,
   "id": "6e8caf14-8dfb-4e2b-97f6-5534dfa92676",
   "metadata": {},
   "outputs": [
    {
     "data": {
      "text/plain": [
       "Link(href='http://testbed19.geolabs.fr:8701/ogc-api/jobs/546b5004-b389-11ee-a1c3-0242ac130006/results', rel='http://www.opengis.net/def/rel/ogc/1.0/results', type='application/json', hreflang=None, title='Result location')"
      ]
     },
     "execution_count": 130,
     "metadata": {},
     "output_type": "execute_result"
    }
   ],
   "source": [
    "the_results_link"
   ]
  },
  {
   "cell_type": "markdown",
   "id": "fb82abed-7219-4a00-ad72-989ef6f0e636",
   "metadata": {},
   "source": [
    "#### Get result of succeeded process"
   ]
  },
  {
   "cell_type": "markdown",
   "id": "b36dc931-d46d-4263-8eb0-5ccb6c10b645",
   "metadata": {},
   "source": [
    "1. If the status of the result shows the process is successfully completed, the result can be retrieved using *get_result_with_http_info*."
   ]
  },
  {
   "cell_type": "code",
   "execution_count": 131,
   "id": "e5c01caf-e380-4ed7-a1c1-3a16aa8435a4",
   "metadata": {},
   "outputs": [
    {
     "name": "stdout",
     "output_type": "stream",
     "text": [
      "HEADERS= {'Accept': 'application/json', 'User-Agent': 'OpenAPI-Generator/1.0.0/python'}\n",
      "method= GET\n"
     ]
    }
   ],
   "source": [
    "the_job_result = the_jobs_api.get_result_with_http_info(\n",
    "    job_id=the_job_id,\n",
    "    _preload_content=False,\n",
    "    _return_http_data_only=False)"
   ]
  },
  {
   "cell_type": "markdown",
   "id": "b4acd20e-400b-4511-8329-d50263048d81",
   "metadata": {},
   "source": [
    "2. Show the response object of *get_result_with_http_info*."
   ]
  },
  {
   "cell_type": "code",
   "execution_count": null,
   "id": "db57d1dc-4fe8-40fc-adcb-08d9f8ab9386",
   "metadata": {},
   "outputs": [],
   "source": [
    "the_job_result"
   ]
  },
  {
   "cell_type": "markdown",
   "id": "2ca6a8e2-e62e-4425-a6ec-b493a67cd6b9",
   "metadata": {},
   "source": [
    "3. Show attributes and methods of the Result object."
   ]
  },
  {
   "cell_type": "code",
   "execution_count": null,
   "id": "fb5c73f3-63d9-409f-9091-643576a34e5e",
   "metadata": {},
   "outputs": [],
   "source": [
    "dir(the_job_result)"
   ]
  },
  {
   "cell_type": "markdown",
   "id": "564ee4e9-bae8-4ff5-aafd-90c63e92992a",
   "metadata": {},
   "source": [
    "4. Show the final result."
   ]
  },
  {
   "cell_type": "code",
   "execution_count": 132,
   "id": "e0cd9a17-ad66-4193-bef1-65b007cd01f3",
   "metadata": {},
   "outputs": [
    {
     "data": {
      "text/plain": [
       "b'Content-Type: Multipart/Related; boundary=\"--546b5004-b389-11ee-a1c3-0242ac130006\"; type=text/plain; start=a\\r\\nStatus: 200 OK\\r\\n\\r\\n----546b5004-b389-11ee-a1c3-0242ac130006\\r\\nContent-ID: a\\r\\nContent-Type: text/plain; charset=utf-8\\r\\nStatus: 200 OK\\r\\n\\r\\nContent-Disposition: INLINE\\r\\nLiteral Input string 1----546b5004-b389-11ee-a1c3-0242ac130006\\r\\nContent-ID: b\\r\\nContent-Type: text/xml; charset=UTF-8\\r\\nContent-Disposition: INLINE\\r\\nsome complex value----546b5004-b389-11ee-a1c3-0242ac130006\\r\\nContent-ID: c\\r\\nContent-Type: text/plain; charset=utf-8\\r\\nStatus: 200 OK\\r\\n\\r\\nContent-Disposition: INLINE\\r\\n[ -100, -60, 110, 50 ]----546b5004-b389-11ee-a1c3-0242ac130006--\\r\\n'"
      ]
     },
     "execution_count": 132,
     "metadata": {},
     "output_type": "execute_result"
    }
   ],
   "source": [
    "the_job_result.raw_data"
   ]
  },
  {
   "cell_type": "markdown",
   "id": "b151ce3d-d268-4f7b-b9d2-ea348f464419",
   "metadata": {},
   "source": [
    "### Passive Monitoring with Callback Services"
   ]
  },
  {
   "cell_type": "markdown",
   "id": "234bf4db-8e0f-4419-93f8-bb464863ed5f",
   "metadata": {},
   "source": [
    "1. Set up callback services"
   ]
  },
  {
   "cell_type": "markdown",
   "id": "dfb7382b-0d7a-45f2-a19b-8af09f2bcb30",
   "metadata": {},
   "source": [
    "- Create services to receive notifications for progress, success, and failure.\n",
    "- Provide their URLs during process execution."
   ]
  },
  {
   "cell_type": "markdown",
   "id": "df37568c-f0ec-487c-90cd-4686510298f6",
   "metadata": {},
   "source": [
    "2. Execute process with callback URLs"
   ]
  },
  {
   "cell_type": "markdown",
   "id": "574fdaa2-96ca-4626-8d7a-735edba71458",
   "metadata": {},
   "source": [
    "The following example shows the definition of output with callbacks for messages or data when success, progress, and failed.\n",
    "```json\n",
    "{\n",
    "  \"subscriber\": {\n",
    "    \"successUri\": \"https://cat.csiss.gmu.edu/ows19/success/test134\",\n",
    "    \"inProgressUri\": \"https://cat.csiss.gmu.edu/ows19/progress/test134\",\n",
    "    \"failedUri\": \"https://cat.csiss.gmu.edu/ows19/failed/test134\"\n",
    "  }\n",
    "}\n",
    "```"
   ]
  },
  {
   "cell_type": "markdown",
   "id": "00789456-75c9-4167-9cd8-d272476e5476",
   "metadata": {},
   "source": [
    "3. Monitor callback services for updates"
   ]
  },
  {
   "cell_type": "markdown",
   "id": "6b124a7d-6fa7-45c0-aaa2-aa43aae8ea07",
   "metadata": {},
   "source": [
    "- The callback services will receive notifications as the job progresses.\n",
    "- The success callback may receive the final result or a link to retrieve it."
   ]
  },
  {
   "cell_type": "markdown",
   "id": "ffe9afc5-36b9-4927-bd09-4eb834add6a6",
   "metadata": {},
   "source": [
    "**Recap**:\r\n",
    "\r\n",
    "- Choose the monitoring approach that best suits your workflow and the HPGC API instance's capabilities.\r\n",
    "- Active monitoring provides more control and real-time status updates.\r\n",
    "- Passive monitoring is convenient for hands-off execution and integration with other systems.\r\n",
    "- Consult the HPGC API documentation for specific details and supported features.\r\n"
   ]
  },
  {
   "cell_type": "markdown",
   "id": "6e07d5a6-d5b6-437d-9e99-2f2dfda2dbc3",
   "metadata": {},
   "source": [
    "## Summary"
   ]
  },
  {
   "cell_type": "markdown",
   "id": "855f317f-8808-4837-bfcc-8afacdb8ca0e",
   "metadata": {},
   "source": [
    "This Jupyter notebook delves into the captivating world of High-Performance Computing (HPC) and empowers scientists to leverage its asynchronous power through Python and the HPGC API. We embark on a journey of exploration, guided by the simple yet powerful \"echo\" process, to unlock the potential of remote HPC resources for your scientific endeavors."
   ]
  },
  {
   "cell_type": "markdown",
   "id": "cdc83868-0d15-4e65-a538-e738517062a6",
   "metadata": {},
   "source": [
    "**Key Takeaways**:\n",
    "\n",
    "- Harnessing Asynchronous HPC: We break free from the shackles of synchronous execution and embrace the agility of asynchronous processing. By utilizing the HPGC API, you can submit your tasks to the HPC environment and continue your workflow, retrieving results when they become available.\n",
    "- Python as Your Gateway: We leverage the familiarity and power of Python to interact with the HPGC API. Through simple function calls, you can execute processes, monitor their progress, and retrieve results, seamlessly integrating HPC into your Python scripts.\n",
    "- Decoding the \"echo\" Process: Using the \"echo\" process as our guiding light, we unveil the essential steps involved in interacting with the HPGC API. We demonstrate how to prepare input data, execute the process, monitor its status, and access the final output.\n",
    "- Beyond \"echo\": While \"echo\" serves as a stepping stone, the knowledge gained can be applied to a vast array of scientific processes offered by the HPGC API. From complex simulations to data analysis, the possibilities are endless.\n"
   ]
  },
  {
   "cell_type": "markdown",
   "id": "a776dc7e-f273-46f7-b64a-f3680b22036b",
   "metadata": {},
   "source": [
    "This notebook equips you with the fundamental tools and understanding to unlock the asynchronous power of HPC within your scientific workflow. Remember, this is just the beginning of your journey into the realm of scalable and efficient computation. So, embrace the possibilities, unleash the \"echo\" within your Python scripts, and delve deeper into the boundless potential of HPC!"
   ]
  }
 ],
 "metadata": {
  "kernelspec": {
   "display_name": "Python 3 (ipykernel)",
   "language": "python",
   "name": "python3"
  },
  "language_info": {
   "codemirror_mode": {
    "name": "ipython",
    "version": 3
   },
   "file_extension": ".py",
   "mimetype": "text/x-python",
   "name": "python",
   "nbconvert_exporter": "python",
   "pygments_lexer": "ipython3",
   "version": "3.10.12"
  }
 },
 "nbformat": 4,
 "nbformat_minor": 5
}
