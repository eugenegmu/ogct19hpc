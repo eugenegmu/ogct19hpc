{
 "cells": [
  {
   "cell_type": "markdown",
   "id": "48abe365-5166-4dff-9e2c-be3c97b40db0",
   "metadata": {},
   "source": [
    "# Tests on the HPGC API"
   ]
  },
  {
   "cell_type": "markdown",
   "id": "6df36eec-e764-4f0b-873a-ccd31190f5dd",
   "metadata": {},
   "source": [
    "## Table of Contents"
   ]
  },
  {
   "cell_type": "markdown",
   "id": "12629815-8aac-4788-886e-24aacb102f73",
   "metadata": {},
   "source": [
    "Manual links can be entered here..."
   ]
  },
  {
   "cell_type": "markdown",
   "id": "f70fecf1-3687-4724-b2f8-b276510577d3",
   "metadata": {},
   "source": [
    "## Setup"
   ]
  },
  {
   "cell_type": "markdown",
   "id": "400dff52-2ce9-443a-9b4c-0e8e51c3c30e",
   "metadata": {},
   "source": [
    "### Initial setup (run once)"
   ]
  },
  {
   "cell_type": "code",
   "execution_count": null,
   "id": "96b524d7-57fa-4fab-a04a-ea669245ba41",
   "metadata": {},
   "outputs": [],
   "source": [
    "!python -m pip list"
   ]
  },
  {
   "cell_type": "markdown",
   "id": "baa59e9d-45db-4af8-a30d-680774f6c8bc",
   "metadata": {},
   "source": [
    "INstall the HPGC API."
   ]
  },
  {
   "cell_type": "code",
   "execution_count": null,
   "id": "4f222950-01dc-410b-b8ee-726d7851c96d",
   "metadata": {},
   "outputs": [],
   "source": [
    "!python -m pip install gmu-hpgc-api"
   ]
  },
  {
   "cell_type": "markdown",
   "id": "ee6372dd-e1bb-421f-9d6e-6dcb13045b72",
   "metadata": {},
   "source": [
    "### Basic imports"
   ]
  },
  {
   "cell_type": "code",
   "execution_count": null,
   "id": "a7c92228-2b3f-498d-a2ce-81794689d9eb",
   "metadata": {},
   "outputs": [],
   "source": [
    "import openapi_client"
   ]
  },
  {
   "cell_type": "markdown",
   "id": "ac3d3c75-c804-46dd-b705-9eb6cbb0a4d6",
   "metadata": {},
   "source": [
    "## Capabilities"
   ]
  },
  {
   "cell_type": "markdown",
   "id": "c00d2d01-95f5-419f-a974-ca0685d53829",
   "metadata": {},
   "source": [
    "### Imports"
   ]
  },
  {
   "cell_type": "code",
   "execution_count": null,
   "id": "3b568c17-b490-4e59-a646-c0fd6377bf8e",
   "metadata": {},
   "outputs": [],
   "source": [
    "from openapi_client.models import Link as HpgcLink"
   ]
  },
  {
   "cell_type": "markdown",
   "id": "195cfbfe-a384-409e-b315-54467e62b704",
   "metadata": {},
   "source": [
    "### Get landing page"
   ]
  },
  {
   "cell_type": "code",
   "execution_count": null,
   "id": "b1a240bf-3ee1-4c6e-817f-e867cfb9123c",
   "metadata": {},
   "outputs": [],
   "source": [
    "\"\"\"\n",
    "# alternative \n",
    "\n",
    "import openapi_client.api.home_api\n",
    "landingpage_api = openapi_client.api.home_api.HomeApi()\n",
    "# set the endpoint\n",
    "landingpage_api.api_client.configuration.host=\"http://testbed19.geolabs.fr:8701/ogc-api\"\n",
    "\n",
    "homepage = landingpage_api.home_with_http_info(\n",
    "            _headers={\"accept\":\"application/json\"},\n",
    "            _preload_content=True,\n",
    "            _return_http_data_only=False)\n",
    "\"\"\"\n",
    "landingpage_api = openapi_client.api.landing_page_api.LandingPageApi()\n",
    "\n",
    "# set the endpoint\n",
    "landingpage_api.api_client.configuration.host=\"http://testbed19.geolabs.fr:8701/ogc-api\"\n",
    "\n",
    "homepage = landingpage_api.get_landing_page_with_http_info(\n",
    "            _headers={\"accept\":\"application/json\"},\n",
    "            _preload_content=True,\n",
    "            _return_http_data_only=False)\n"
   ]
  },
  {
   "cell_type": "code",
   "execution_count": null,
   "id": "891d0dfd-1a09-4fee-b03d-3ba53cfec627",
   "metadata": {},
   "outputs": [],
   "source": [
    "homepage"
   ]
  },
  {
   "cell_type": "code",
   "execution_count": null,
   "id": "5537709c-1906-43e3-b755-b1c7a2513b99",
   "metadata": {},
   "outputs": [],
   "source": [
    "dir(homepage)"
   ]
  },
  {
   "cell_type": "code",
   "execution_count": null,
   "id": "dc212cf3-6dcd-4a27-8328-09164cea4b1e",
   "metadata": {},
   "outputs": [],
   "source": [
    "homepage.data"
   ]
  },
  {
   "cell_type": "code",
   "execution_count": null,
   "id": "676c310a-ae83-494e-8b4e-1c7f2cb1ebee",
   "metadata": {},
   "outputs": [],
   "source": [
    "homepage.headers"
   ]
  },
  {
   "cell_type": "code",
   "execution_count": null,
   "id": "fda90dc6-9726-4aac-afc5-0554a142ea8e",
   "metadata": {},
   "outputs": [],
   "source": [
    "homepage.status_code"
   ]
  },
  {
   "cell_type": "code",
   "execution_count": null,
   "id": "2ae5938d-c8c3-47a4-af10-ed0d64d0232c",
   "metadata": {},
   "outputs": [],
   "source": [
    "homepage.raw_data"
   ]
  },
  {
   "cell_type": "markdown",
   "id": "9fceb256-ecdf-49f9-a445-a4236410c798",
   "metadata": {},
   "source": [
    "#### Title of the service"
   ]
  },
  {
   "cell_type": "code",
   "execution_count": null,
   "id": "0c693703-8356-400c-aa8d-6d53ba483b7b",
   "metadata": {},
   "outputs": [],
   "source": [
    "homepage_obj = homepage.data\n",
    "homepage_obj.title"
   ]
  },
  {
   "cell_type": "markdown",
   "id": "97824842-7df5-4660-94cd-99580f866d54",
   "metadata": {},
   "source": [
    "#### Description"
   ]
  },
  {
   "cell_type": "code",
   "execution_count": null,
   "id": "2a6608c8-5fad-4989-9a0f-db97575b1370",
   "metadata": {},
   "outputs": [],
   "source": [
    "homepage_obj.description"
   ]
  },
  {
   "cell_type": "markdown",
   "id": "3beddce9-1687-451e-b5ac-53ac9bd94e43",
   "metadata": {},
   "source": [
    "#### Links"
   ]
  },
  {
   "cell_type": "markdown",
   "id": "0ec715b0-d3aa-4662-ad94-a46462b9e284",
   "metadata": {},
   "source": [
    "* Number of links"
   ]
  },
  {
   "cell_type": "code",
   "execution_count": null,
   "id": "161851ce-8f39-4110-b801-42dff5340260",
   "metadata": {},
   "outputs": [],
   "source": [
    "len(homepage_obj.links)"
   ]
  },
  {
   "cell_type": "code",
   "execution_count": null,
   "id": "3a67210a-dfa6-4673-85eb-ff6b5c6bd4c4",
   "metadata": {},
   "outputs": [],
   "source": [
    "def get_link_by_rel_and_mediatype(relation:str, mediatype:str, the_links:list())->HpgcLink:\n",
    "    for the_link in the_links:\n",
    "        if (the_link.rel == relation and\n",
    "            the_link.type == mediatype):\n",
    "            return the_link\n",
    "    return None"
   ]
  },
  {
   "cell_type": "markdown",
   "id": "5cb0fda5-2bf0-4649-97a9-a68a74831648",
   "metadata": {},
   "source": [
    "* Specification link"
   ]
  },
  {
   "cell_type": "code",
   "execution_count": null,
   "id": "c8e9595f-44c9-4349-bae6-ec09e6881c1b",
   "metadata": {},
   "outputs": [],
   "source": [
    "the_api_spec_link = get_link_by_rel_and_mediatype(relation=\"service-desc\",\n",
    "                                     mediatype=\"application/vnd.oai.openapi+json;version=3.0\",\n",
    "                                     the_links=homepage_obj.links)"
   ]
  },
  {
   "cell_type": "code",
   "execution_count": null,
   "id": "cc7f759c-a321-4e54-aa67-82cefebc551e",
   "metadata": {},
   "outputs": [],
   "source": [
    "the_api_spec_link"
   ]
  },
  {
   "cell_type": "markdown",
   "id": "0e7ca878-5578-4569-9692-b765d412a8e4",
   "metadata": {},
   "source": [
    "* Conformance"
   ]
  },
  {
   "cell_type": "code",
   "execution_count": null,
   "id": "3ea938e9-ee23-4848-8f3b-76e673dfd761",
   "metadata": {},
   "outputs": [],
   "source": [
    "the_api_conformance_link = get_link_by_rel_and_mediatype(relation=\"http://www.opengis.net/def/rel/ogc/1.0/conformance\",\n",
    "                                     mediatype=\"application/json\",\n",
    "                                     the_links=homepage_obj.links)"
   ]
  },
  {
   "cell_type": "code",
   "execution_count": null,
   "id": "207357ea-aeac-45d1-b5f6-0adf8ec6498f",
   "metadata": {},
   "outputs": [],
   "source": [
    "the_api_conformance_link"
   ]
  },
  {
   "cell_type": "markdown",
   "id": "3ad0e5ed-225f-4776-901e-3aaa66a8f3ee",
   "metadata": {},
   "source": [
    "* Processes"
   ]
  },
  {
   "cell_type": "code",
   "execution_count": null,
   "id": "9844d1a2-e361-4981-bea9-ff963cd78818",
   "metadata": {},
   "outputs": [],
   "source": [
    "the_api_processes_link = get_link_by_rel_and_mediatype(relation=\"http://www.opengis.net/def/rel/ogc/1.0/processes\",\n",
    "                                     mediatype=\"application/json\",\n",
    "                                     the_links=homepage_obj.links)"
   ]
  },
  {
   "cell_type": "code",
   "execution_count": null,
   "id": "413f7b33-2051-4015-8213-5538969c9d0f",
   "metadata": {},
   "outputs": [],
   "source": [
    "the_api_processes_link"
   ]
  },
  {
   "cell_type": "markdown",
   "id": "032543fd-4dcc-4292-ac3f-d7bdadc8dc8e",
   "metadata": {},
   "source": [
    "* Jobs"
   ]
  },
  {
   "cell_type": "code",
   "execution_count": null,
   "id": "c1613049-fc25-4ecc-8bdc-bb9d0c36bdd5",
   "metadata": {},
   "outputs": [],
   "source": [
    "the_api_jobs_link = get_link_by_rel_and_mediatype(relation=\"http://www.opengis.net/def/rel/ogc/1.0/job-list\",\n",
    "                                     mediatype=\"application/json\",\n",
    "                                     the_links=homepage_obj.links)"
   ]
  },
  {
   "cell_type": "code",
   "execution_count": null,
   "id": "5d7ea07e-d574-4da3-9c8e-628d1f14b266",
   "metadata": {},
   "outputs": [],
   "source": [
    "the_api_jobs_link"
   ]
  },
  {
   "cell_type": "markdown",
   "id": "bb7f73e6-0ef9-42c4-9fa6-ca215a36adc8",
   "metadata": {},
   "source": [
    "### Get Conformance"
   ]
  },
  {
   "cell_type": "code",
   "execution_count": null,
   "id": "f0261731-e845-459a-8e6d-bbc1da31293b",
   "metadata": {},
   "outputs": [],
   "source": [
    "conformance_api = openapi_client.api.conformance_api.ConformanceApi()"
   ]
  },
  {
   "cell_type": "code",
   "execution_count": null,
   "id": "588d638d-c143-4b99-96ef-4f7d9925a394",
   "metadata": {},
   "outputs": [],
   "source": [
    "conformance_api.api_client.configuration.host=\"http://testbed19.geolabs.fr:8701/ogc-api\""
   ]
  },
  {
   "cell_type": "code",
   "execution_count": null,
   "id": "cb4e02b8-2dfe-45e0-8990-fbd6ce4da35d",
   "metadata": {},
   "outputs": [],
   "source": [
    "conformance = conformance_api.get_conformance_with_http_info(\n",
    "            _headers={\"accept\":\"application/json\"},\n",
    "            _preload_content=True,\n",
    "            _return_http_data_only=False)"
   ]
  },
  {
   "cell_type": "code",
   "execution_count": null,
   "id": "f68b5e93-76e2-4738-a4c9-4e8a5f7424ae",
   "metadata": {},
   "outputs": [],
   "source": [
    "conformance"
   ]
  },
  {
   "cell_type": "code",
   "execution_count": null,
   "id": "5400b685-7d9d-49a5-ad2b-078c07814513",
   "metadata": {},
   "outputs": [],
   "source": [
    "dir(conformance)"
   ]
  },
  {
   "cell_type": "code",
   "execution_count": null,
   "id": "9671af3d-986a-4d45-bac1-b7ea3311dfd2",
   "metadata": {},
   "outputs": [],
   "source": [
    "conformance.data"
   ]
  },
  {
   "cell_type": "code",
   "execution_count": null,
   "id": "87e413cc-0f41-4990-9349-39be0521f182",
   "metadata": {},
   "outputs": [],
   "source": [
    "conformance.headers"
   ]
  },
  {
   "cell_type": "code",
   "execution_count": null,
   "id": "0c118cce-e7e3-4eba-8bf1-7d0078839363",
   "metadata": {},
   "outputs": [],
   "source": [
    "conformance.raw_data"
   ]
  },
  {
   "cell_type": "code",
   "execution_count": null,
   "id": "ef0fd8b8-c5e4-4b57-94bb-25ebdff1dd7b",
   "metadata": {},
   "outputs": [],
   "source": [
    "conformance.status_code"
   ]
  },
  {
   "cell_type": "markdown",
   "id": "c0094d75-b8ba-477e-9fff-69e4f91acf05",
   "metadata": {},
   "source": [
    "Number of conformances"
   ]
  },
  {
   "cell_type": "code",
   "execution_count": null,
   "id": "979f2a04-cbae-4a86-bfa6-60082fd70c51",
   "metadata": {},
   "outputs": [],
   "source": [
    "len(conformance.data.conforms_to)"
   ]
  },
  {
   "cell_type": "markdown",
   "id": "d0db999c-d64e-4cfd-bb62-8271cb1de169",
   "metadata": {},
   "source": [
    "### Get Processes"
   ]
  },
  {
   "cell_type": "code",
   "execution_count": null,
   "id": "e696b8d1-88c6-4b86-b421-97b267f328e7",
   "metadata": {},
   "outputs": [],
   "source": [
    "processes_api = openapi_client.api.processes_api.ProcessesApi()\n",
    "\n",
    "# set endpoint\n",
    "processes_api.api_client.configuration.host=\"http://testbed19.geolabs.fr:8701/ogc-api\"\n",
    "\n",
    "processes = processes_api.get_processes_with_http_info(\n",
    "            _headers={\"accept\":\"application/json\"},\n",
    "            _preload_content=True,\n",
    "             _return_http_data_only=False)"
   ]
  },
  {
   "cell_type": "code",
   "execution_count": null,
   "id": "e9f68818-2f73-400a-937d-e04fdc2d98d2",
   "metadata": {},
   "outputs": [],
   "source": [
    "processes"
   ]
  },
  {
   "cell_type": "code",
   "execution_count": null,
   "id": "ebbc71f8-a2a7-4e6b-9b6d-10075e1c75ab",
   "metadata": {},
   "outputs": [],
   "source": [
    "dir(processes)"
   ]
  },
  {
   "cell_type": "code",
   "execution_count": null,
   "id": "717deb98-9e93-4c4e-9161-92fd50a6ee99",
   "metadata": {},
   "outputs": [],
   "source": [
    "processes.data"
   ]
  },
  {
   "cell_type": "code",
   "execution_count": null,
   "id": "67b6d711-90d7-4c08-84ba-063744d52148",
   "metadata": {},
   "outputs": [],
   "source": [
    "processes.headers"
   ]
  },
  {
   "cell_type": "code",
   "execution_count": null,
   "id": "61766de9-53e4-4c0b-ba33-3c1a3c070e02",
   "metadata": {},
   "outputs": [],
   "source": [
    "processes.raw_data"
   ]
  },
  {
   "cell_type": "code",
   "execution_count": null,
   "id": "61a1dd87-21c5-4fcf-b7cb-5acbe69cf1df",
   "metadata": {},
   "outputs": [],
   "source": [
    "processes.status_code"
   ]
  },
  {
   "cell_type": "markdown",
   "id": "5873d03b-87f9-4ed4-9fe7-d48cba9c8984",
   "metadata": {},
   "source": [
    "#### Number of processes"
   ]
  },
  {
   "cell_type": "code",
   "execution_count": null,
   "id": "18bb1a7d-ffd9-4eb6-aadc-5f8d50e909a4",
   "metadata": {},
   "outputs": [],
   "source": [
    "processes_obj = processes.data\n",
    "len(processes_obj.processes)"
   ]
  },
  {
   "cell_type": "markdown",
   "id": "ac63bb33-a7c1-4a0b-979a-da7e5ed6f710",
   "metadata": {},
   "source": [
    "#### List of process IDs"
   ]
  },
  {
   "cell_type": "code",
   "execution_count": null,
   "id": "ffda1a6c-de45-477c-b4c9-d9274e737ea8",
   "metadata": {},
   "outputs": [],
   "source": [
    "for proc in processes_obj.processes:\n",
    "    print(proc.id)"
   ]
  },
  {
   "cell_type": "markdown",
   "id": "6ee400a6-1401-47c0-a20a-a954fb2c1294",
   "metadata": {},
   "source": [
    "### Describe a process"
   ]
  },
  {
   "cell_type": "code",
   "execution_count": null,
   "id": "a90190d3-cefc-4321-ace8-381b07a5430b",
   "metadata": {},
   "outputs": [],
   "source": [
    "# This section show the description of some specific processes"
   ]
  },
  {
   "cell_type": "markdown",
   "id": "351cd32f-4e8f-4bff-ac8f-a68ef04f0f6c",
   "metadata": {},
   "source": [
    "#### Describe specific process - echo"
   ]
  },
  {
   "cell_type": "code",
   "execution_count": null,
   "id": "b363a79e-d566-430b-ab97-f94176955030",
   "metadata": {},
   "outputs": [],
   "source": [
    "the_echo_process = processes_api.get_process_description_with_http_info(\n",
    "            process_id=\"echo\",\n",
    "            _headers={\"accept\":\"application/json\"},\n",
    "            _preload_content=False,\n",
    "             _return_http_data_only=False)"
   ]
  },
  {
   "cell_type": "code",
   "execution_count": null,
   "id": "eee9dd82-fad7-45e6-9df3-be9d2f2f5a8a",
   "metadata": {},
   "outputs": [],
   "source": [
    "the_echo_process"
   ]
  },
  {
   "cell_type": "code",
   "execution_count": null,
   "id": "64dcd806-4051-4cac-a3df-528f32e1da79",
   "metadata": {},
   "outputs": [],
   "source": [
    "the_echo_process.raw_data.decode(\"utf-8\")"
   ]
  },
  {
   "cell_type": "markdown",
   "id": "e64b76f6-f018-4f65-bc20-cd450b91ee38",
   "metadata": {},
   "source": [
    "#### Describe specific process - GDCIndex"
   ]
  },
  {
   "cell_type": "code",
   "execution_count": null,
   "id": "b305e430-22ec-43f9-b821-2f1745819f18",
   "metadata": {},
   "outputs": [],
   "source": [
    "the_gdcindex_process = processes_api.get_process_description_with_http_info(\n",
    "            process_id=\"GDCIndex\",\n",
    "            _headers={\"accept\":\"application/json\"},\n",
    "            _preload_content=False,\n",
    "             _return_http_data_only=False)"
   ]
  },
  {
   "cell_type": "code",
   "execution_count": null,
   "id": "0449ac89-eb56-4c81-b834-051d64bcc5c2",
   "metadata": {},
   "outputs": [],
   "source": [
    "the_gdcindex_process"
   ]
  },
  {
   "cell_type": "code",
   "execution_count": null,
   "id": "58ac2992-c24a-47ec-b7b5-7b8df33b1505",
   "metadata": {},
   "outputs": [],
   "source": [
    "the_gdcindex_process.raw_data.decode(\"utf-8\")"
   ]
  },
  {
   "cell_type": "markdown",
   "id": "d37e9dc9-5562-4c15-82c6-5562a31884d3",
   "metadata": {},
   "source": [
    "#### Describe specific process - EchoProcess"
   ]
  },
  {
   "cell_type": "code",
   "execution_count": null,
   "id": "9b18eec3-8ee2-4ec7-a6b9-601664b231c8",
   "metadata": {},
   "outputs": [],
   "source": [
    "the_echoprocess_process = processes_api.get_process_description_with_http_info(\n",
    "            process_id=\"EchoProcess\",\n",
    "            _headers={\"accept\":\"application/json\"},\n",
    "            _preload_content=False,\n",
    "             _return_http_data_only=False)"
   ]
  },
  {
   "cell_type": "code",
   "execution_count": null,
   "id": "e1d48821-6eb8-411a-a762-53edfa742706",
   "metadata": {},
   "outputs": [],
   "source": [
    "the_echoprocess_process"
   ]
  },
  {
   "cell_type": "code",
   "execution_count": null,
   "id": "1f5e5f21-b865-4798-9ad6-94f66d169da2",
   "metadata": {},
   "outputs": [],
   "source": [
    "the_echoprocess_process.raw_data.decode(\"utf-8\")"
   ]
  },
  {
   "cell_type": "markdown",
   "id": "1343314b-cfdc-42e8-86d4-b4345d1595c6",
   "metadata": {},
   "source": [
    "### Execute a process"
   ]
  },
  {
   "cell_type": "code",
   "execution_count": null,
   "id": "b52f6c6a-6392-4744-a4d9-d220fe69ee66",
   "metadata": {},
   "outputs": [],
   "source": [
    "the_proc_api = openapi_client.api.processes_api.ProcessesApi()\n",
    "# set the endpoint\n",
    "the_proc_api.api_client.configuration.host=\"http://testbed19.geolabs.fr:8701/ogc-api\""
   ]
  },
  {
   "cell_type": "markdown",
   "id": "76e277e8-d3d5-4e89-9918-cc3d16b8cfee",
   "metadata": {},
   "source": [
    "#### Execute 'echo' process"
   ]
  },
  {
   "cell_type": "code",
   "execution_count": null,
   "id": "4cdaf130-7594-4302-9276-f14466bb35e0",
   "metadata": {},
   "outputs": [],
   "source": [
    "the_data = {\"inputs\":{\"a\":\"Literal Input string 1\",\"b\":{\"title\":\"another object input\",\"value\":\"some complex value\"},\"c\":{\"bbox\":[-100,-60,110,50],\"crs\":\"urn:ogc:def:crs:EPSG:6.6:4326\"},\"pause\":10},\"subscriber\":{\"successUri\":\"https://cat.csiss.gmu.edu/ows19/success/test133\",\"inProgressUri\":\"https://cat.csiss.gmu.edu/ows19/progress/test133\",\"failedUri\":\"https://cat.csiss.gmu.edu/ows19/failed/test133\"}}\n",
    "\n",
    "the_result = the_proc_api.execute_with_http_info(\n",
    "            process_id=\"echo\",\n",
    "            unknown_base_type=the_data,\n",
    "            async_req=True,\n",
    "         #   response=None,\n",
    "            prefer='respond-async',\n",
    "            _headers={\"Accept\":\"/*\"},\n",
    "            _preload_content=False,\n",
    "             _return_http_data_only=False)\n"
   ]
  },
  {
   "cell_type": "code",
   "execution_count": null,
   "id": "5c0d1fb6-f51c-4e23-8e69-d3b967899abb",
   "metadata": {},
   "outputs": [],
   "source": [
    "the_result"
   ]
  },
  {
   "cell_type": "code",
   "execution_count": null,
   "id": "6a62fb59-8073-4f35-959e-9ced8508b4b3",
   "metadata": {},
   "outputs": [],
   "source": [
    "dir(the_result)"
   ]
  },
  {
   "cell_type": "code",
   "execution_count": null,
   "id": "0d661700-64c0-4de8-830c-f7c51c2252a3",
   "metadata": {},
   "outputs": [],
   "source": [
    "the_result.get().raw_data.decode(\"utf-8\")"
   ]
  },
  {
   "cell_type": "code",
   "execution_count": null,
   "id": "5d2d027d-ca59-435b-9af6-cc1232644842",
   "metadata": {},
   "outputs": [],
   "source": [
    "the_result.get().data"
   ]
  },
  {
   "cell_type": "markdown",
   "id": "3a55acd2-687d-42cf-9adf-ef59851685bc",
   "metadata": {},
   "source": [
    "* Describe the job"
   ]
  },
  {
   "cell_type": "markdown",
   "id": "70fe8217-81d2-42cc-9a1f-3c22fde3bb43",
   "metadata": {},
   "source": [
    "### Get Jobs"
   ]
  },
  {
   "cell_type": "code",
   "execution_count": null,
   "id": "f8a2970f-c0f3-44d7-b799-b8e8bb6d78de",
   "metadata": {},
   "outputs": [],
   "source": [
    "the_jobs_api = openapi_client.api.jobs_api.JobsApi()\n",
    "# set the endpoint\n",
    "the_jobs_api.api_client.configuration.host=\"http://testbed19.geolabs.fr:8701/ogc-api\""
   ]
  },
  {
   "cell_type": "code",
   "execution_count": null,
   "id": "4800ec03-4785-4c95-bca7-a029ff5b40c9",
   "metadata": {},
   "outputs": [],
   "source": [
    "the_jobs = the_jobs_api.get_jobs_with_http_info(\n",
    "    _headers={\"accept\":\"application/json\"},\n",
    "    _preload_content=True,\n",
    "    _return_http_data_only=False)"
   ]
  },
  {
   "cell_type": "code",
   "execution_count": null,
   "id": "820a3224-14ab-452d-916b-c94e030630a1",
   "metadata": {},
   "outputs": [],
   "source": [
    "dir(the_jobs)"
   ]
  },
  {
   "cell_type": "code",
   "execution_count": null,
   "id": "342e737e-856e-435f-95f6-68782310d314",
   "metadata": {},
   "outputs": [],
   "source": [
    "the_jobs.data"
   ]
  },
  {
   "cell_type": "code",
   "execution_count": null,
   "id": "e8bfc634-7496-4283-bc20-ce52cd40a90c",
   "metadata": {},
   "outputs": [],
   "source": [
    "the_jobs.headers"
   ]
  },
  {
   "cell_type": "code",
   "execution_count": null,
   "id": "c118d8e8-481b-4534-9125-5494cfd755a4",
   "metadata": {},
   "outputs": [],
   "source": [
    "the_jobs.status_code"
   ]
  },
  {
   "cell_type": "code",
   "execution_count": null,
   "id": "dbff59f0-300f-4d01-8046-1849a6f607c8",
   "metadata": {},
   "outputs": [],
   "source": [
    "the_jobs.raw_data"
   ]
  },
  {
   "cell_type": "markdown",
   "id": "7dadb134-08c7-43a2-bb0c-2b399a7dd378",
   "metadata": {},
   "source": [
    "#### Number of jobs"
   ]
  },
  {
   "cell_type": "code",
   "execution_count": null,
   "id": "70f8eff9-ff58-46d5-8799-c1c93aa78757",
   "metadata": {},
   "outputs": [],
   "source": [
    "len(the_jobs.data.jobs)"
   ]
  },
  {
   "cell_type": "markdown",
   "id": "bb72b0f1-adc1-4e6f-8ed6-dee7e770fef1",
   "metadata": {},
   "source": [
    "#### Get the status of a specific job"
   ]
  },
  {
   "cell_type": "code",
   "execution_count": null,
   "id": "8f1f991a-6ecd-4889-a281-7ffe87e87a09",
   "metadata": {},
   "outputs": [],
   "source": [
    "the_job_status = the_jobs_api.get_status_with_http_info(\n",
    "    job_id=\"1cfe1640-5634-11ee-9486-0242ac130006\",\n",
    "    _headers={\"accept\":\"application/json\"},\n",
    "    _preload_content=True,\n",
    "    _return_http_data_only=False)"
   ]
  },
  {
   "cell_type": "code",
   "execution_count": null,
   "id": "8a289224-7462-43fe-867b-ce13e556dad7",
   "metadata": {},
   "outputs": [],
   "source": [
    "dir(the_job_status)"
   ]
  },
  {
   "cell_type": "code",
   "execution_count": null,
   "id": "8b23d156-d2c1-48c6-8891-2be541bb8561",
   "metadata": {},
   "outputs": [],
   "source": [
    "the_job_status.data"
   ]
  },
  {
   "cell_type": "code",
   "execution_count": null,
   "id": "847bbc64-9225-4a3f-90af-9dc7392b0d10",
   "metadata": {},
   "outputs": [],
   "source": [
    "the_job_status.raw_data"
   ]
  },
  {
   "cell_type": "markdown",
   "id": "e0405fa2-e93b-47d5-8b7d-a72120d9e55c",
   "metadata": {},
   "source": [
    "#### Get links for status and results for succeeeded process"
   ]
  },
  {
   "cell_type": "code",
   "execution_count": null,
   "id": "2723948d-11db-4411-a232-ddc78fd13bb1",
   "metadata": {},
   "outputs": [],
   "source": [
    "the_job_status.data.links"
   ]
  },
  {
   "cell_type": "code",
   "execution_count": null,
   "id": "17bcb7fd-5ff3-4087-838f-b500745f4be3",
   "metadata": {},
   "outputs": [],
   "source": [
    "the_status_link =  get_link_by_rel_and_mediatype(relation=\"status\",\n",
    "                                     mediatype=\"application/json\",\n",
    "                                     the_links=the_job_status.data.links)"
   ]
  },
  {
   "cell_type": "code",
   "execution_count": null,
   "id": "0a38736a-f079-400f-a00b-7fd33c25fa10",
   "metadata": {},
   "outputs": [],
   "source": [
    "the_status_link"
   ]
  },
  {
   "cell_type": "code",
   "execution_count": null,
   "id": "48f1c145-ccaf-4ca1-a3e7-6a7ab7eb4551",
   "metadata": {},
   "outputs": [],
   "source": [
    "the_results_link =  get_link_by_rel_and_mediatype(relation=\"http://www.opengis.net/def/rel/ogc/1.0/results\",\n",
    "                                     mediatype=\"application/json\",\n",
    "                                     the_links=the_job_status.data.links)"
   ]
  },
  {
   "cell_type": "code",
   "execution_count": null,
   "id": "6e8caf14-8dfb-4e2b-97f6-5534dfa92676",
   "metadata": {},
   "outputs": [],
   "source": [
    "the_results_link"
   ]
  },
  {
   "cell_type": "markdown",
   "id": "fb82abed-7219-4a00-ad72-989ef6f0e636",
   "metadata": {},
   "source": [
    "### Get result of succeeded process"
   ]
  },
  {
   "cell_type": "code",
   "execution_count": null,
   "id": "e5c01caf-e380-4ed7-a1c1-3a16aa8435a4",
   "metadata": {},
   "outputs": [],
   "source": [
    "the_job_result = the_jobs_api.get_result_with_http_info(\n",
    "    job_id=\"1cfe1640-5634-11ee-9486-0242ac130006\",\n",
    "    _preload_content=False,\n",
    "    _return_http_data_only=False)"
   ]
  },
  {
   "cell_type": "code",
   "execution_count": null,
   "id": "db57d1dc-4fe8-40fc-adcb-08d9f8ab9386",
   "metadata": {},
   "outputs": [],
   "source": [
    "the_job_result"
   ]
  },
  {
   "cell_type": "code",
   "execution_count": null,
   "id": "fb5c73f3-63d9-409f-9091-643576a34e5e",
   "metadata": {},
   "outputs": [],
   "source": [
    "dir(the_job_result)"
   ]
  },
  {
   "cell_type": "code",
   "execution_count": null,
   "id": "e0cd9a17-ad66-4193-bef1-65b007cd01f3",
   "metadata": {},
   "outputs": [],
   "source": [
    "the_job_result.raw_data"
   ]
  },
  {
   "cell_type": "code",
   "execution_count": null,
   "id": "36db7cdd-4e59-412d-99cb-66dafee57202",
   "metadata": {},
   "outputs": [],
   "source": []
  }
 ],
 "metadata": {
  "kernelspec": {
   "display_name": "Python 3 (ipykernel)",
   "language": "python",
   "name": "python3"
  },
  "language_info": {
   "codemirror_mode": {
    "name": "ipython",
    "version": 3
   },
   "file_extension": ".py",
   "mimetype": "text/x-python",
   "name": "python",
   "nbconvert_exporter": "python",
   "pygments_lexer": "ipython3",
   "version": "3.10.12"
  }
 },
 "nbformat": 4,
 "nbformat_minor": 5
}
