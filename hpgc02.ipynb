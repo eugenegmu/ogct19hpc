{
 "cells": [
  {
   "cell_type": "markdown",
   "id": "48abe365-5166-4dff-9e2c-be3c97b40db0",
   "metadata": {},
   "source": [
    "# Image Algebra Using the HPGC API"
   ]
  },
  {
   "cell_type": "markdown",
   "id": "6df36eec-e764-4f0b-873a-ccd31190f5dd",
   "metadata": {},
   "source": [
    "## Table of Contents"
   ]
  },
  {
   "cell_type": "markdown",
   "id": "12629815-8aac-4788-886e-24aacb102f73",
   "metadata": {},
   "source": [
    "Manual links can be entered here..."
   ]
  },
  {
   "cell_type": "markdown",
   "id": "f70fecf1-3687-4724-b2f8-b276510577d3",
   "metadata": {},
   "source": [
    "## Setup"
   ]
  },
  {
   "cell_type": "markdown",
   "id": "400dff52-2ce9-443a-9b4c-0e8e51c3c30e",
   "metadata": {
    "jp-MarkdownHeadingCollapsed": true
   },
   "source": [
    "### Initial setup (run once)"
   ]
  },
  {
   "cell_type": "code",
   "execution_count": 1,
   "id": "96b524d7-57fa-4fab-a04a-ea669245ba41",
   "metadata": {},
   "outputs": [
    {
     "name": "stderr",
     "output_type": "stream",
     "text": [
      "859.23s - pydevd: Sending message related to process being replaced timed-out after 5 seconds\n"
     ]
    },
    {
     "name": "stdout",
     "output_type": "stream",
     "text": [
      "Package                   Version\n",
      "------------------------- ---------\n",
      "anyio                     4.0.0\n",
      "argon2-cffi               23.1.0\n",
      "argon2-cffi-bindings      21.2.0\n",
      "arrow                     1.2.3\n",
      "asttokens                 2.4.0\n",
      "async-lru                 2.0.4\n",
      "attrs                     23.1.0\n",
      "Babel                     2.12.1\n",
      "backcall                  0.2.0\n",
      "beautifulsoup4            4.12.2\n",
      "bleach                    6.0.0\n",
      "certifi                   2023.7.22\n",
      "cffi                      1.15.1\n",
      "charset-normalizer        3.2.0\n",
      "comm                      0.1.4\n",
      "debugpy                   1.7.0\n",
      "decorator                 5.1.1\n",
      "defusedxml                0.7.1\n",
      "exceptiongroup            1.1.3\n",
      "executing                 1.2.0\n",
      "fastjsonschema            2.18.0\n",
      "fqdn                      1.5.1\n",
      "idna                      3.4\n",
      "ipykernel                 6.25.2\n",
      "ipython                   8.15.0\n",
      "ipython-genutils          0.2.0\n",
      "ipywidgets                8.1.0\n",
      "isoduration               20.11.0\n",
      "jedi                      0.19.0\n",
      "Jinja2                    3.1.2\n",
      "json5                     0.9.14\n",
      "jsonpointer               2.4\n",
      "jsonschema                4.19.0\n",
      "jsonschema-specifications 2023.7.1\n",
      "jupyter                   1.0.0\n",
      "jupyter_client            8.3.1\n",
      "jupyter-console           6.6.3\n",
      "jupyter_core              5.3.1\n",
      "jupyter-events            0.7.0\n",
      "jupyter-lsp               2.2.0\n",
      "jupyter_server            2.7.3\n",
      "jupyter_server_terminals  0.4.4\n",
      "jupyterlab                4.0.5\n",
      "jupyterlab-pygments       0.2.2\n",
      "jupyterlab_server         2.24.0\n",
      "jupyterlab-widgets        3.0.8\n",
      "MarkupSafe                2.1.3\n",
      "matplotlib-inline         0.1.6\n",
      "mistune                   3.0.1\n",
      "nbclient                  0.8.0\n",
      "nbconvert                 7.8.0\n",
      "nbformat                  5.9.2\n",
      "nest-asyncio              1.5.7\n",
      "notebook                  7.0.3\n",
      "notebook_shim             0.2.3\n",
      "overrides                 7.4.0\n",
      "packaging                 23.1\n",
      "pandocfilters             1.5.0\n",
      "parso                     0.8.3\n",
      "pexpect                   4.8.0\n",
      "pickleshare               0.7.5\n",
      "pip                       22.0.2\n",
      "platformdirs              3.10.0\n",
      "prometheus-client         0.17.1\n",
      "prompt-toolkit            3.0.39\n",
      "psutil                    5.9.5\n",
      "ptyprocess                0.7.0\n",
      "pure-eval                 0.2.2\n",
      "pycparser                 2.21\n",
      "Pygments                  2.16.1\n",
      "python-dateutil           2.8.2\n",
      "python-json-logger        2.0.7\n",
      "PyYAML                    6.0.1\n",
      "pyzmq                     25.1.1\n",
      "qtconsole                 5.4.4\n",
      "QtPy                      2.4.0\n",
      "referencing               0.30.2\n",
      "requests                  2.31.0\n",
      "rfc3339-validator         0.1.4\n",
      "rfc3986-validator         0.1.1\n",
      "rpds-py                   0.10.2\n",
      "Send2Trash                1.8.2\n",
      "setuptools                59.6.0\n",
      "six                       1.16.0\n",
      "sniffio                   1.3.0\n",
      "soupsieve                 2.5\n",
      "stack-data                0.6.2\n",
      "terminado                 0.17.1\n",
      "tinycss2                  1.2.1\n",
      "tomli                     2.0.1\n",
      "tornado                   6.3.3\n",
      "traitlets                 5.9.0\n",
      "typing_extensions         4.7.1\n",
      "uri-template              1.3.0\n",
      "urllib3                   2.0.4\n",
      "wcwidth                   0.2.6\n",
      "webcolors                 1.13\n",
      "webencodings              0.5.1\n",
      "websocket-client          1.6.3\n",
      "widgetsnbextension        4.0.8\n"
     ]
    }
   ],
   "source": [
    "!python -m pip list"
   ]
  },
  {
   "cell_type": "code",
   "execution_count": 94,
   "id": "b18d2006-6dce-4692-9ed8-914eea056c7a",
   "metadata": {},
   "outputs": [
    {
     "name": "stdout",
     "output_type": "stream",
     "text": [
      "Requirement already satisfied: requests in /home/gyu/my/work/ows/t19/wksp/notebook4zoowps/lib/python3.10/site-packages (2.31.0)\n",
      "Collecting requests_oauthlib\n",
      "  Downloading requests_oauthlib-1.3.1-py2.py3-none-any.whl (23 kB)\n",
      "Requirement already satisfied: urllib3<3,>=1.21.1 in /home/gyu/my/work/ows/t19/wksp/notebook4zoowps/lib/python3.10/site-packages (from requests) (2.0.4)\n",
      "Requirement already satisfied: certifi>=2017.4.17 in /home/gyu/my/work/ows/t19/wksp/notebook4zoowps/lib/python3.10/site-packages (from requests) (2023.7.22)\n",
      "Requirement already satisfied: idna<4,>=2.5 in /home/gyu/my/work/ows/t19/wksp/notebook4zoowps/lib/python3.10/site-packages (from requests) (3.4)\n",
      "Requirement already satisfied: charset-normalizer<4,>=2 in /home/gyu/my/work/ows/t19/wksp/notebook4zoowps/lib/python3.10/site-packages (from requests) (3.2.0)\n",
      "Collecting oauthlib>=3.0.0\n",
      "  Downloading oauthlib-3.2.2-py3-none-any.whl (151 kB)\n",
      "\u001b[2K     \u001b[90m━━━━━━━━━━━━━━━━━━━━━━━━━━━━━━━━━━━━━━━\u001b[0m \u001b[32m151.7/151.7 KB\u001b[0m \u001b[31m5.5 MB/s\u001b[0m eta \u001b[36m0:00:00\u001b[0m\n",
      "\u001b[?25hInstalling collected packages: oauthlib, requests_oauthlib\n",
      "Successfully installed oauthlib-3.2.2 requests_oauthlib-1.3.1\n"
     ]
    }
   ],
   "source": [
    "!pip install requests requests_oauthlib"
   ]
  },
  {
   "cell_type": "code",
   "execution_count": 179,
   "id": "e0192e3d-d787-428d-8537-148ae55487cd",
   "metadata": {},
   "outputs": [
    {
     "name": "stdout",
     "output_type": "stream",
     "text": [
      "Collecting ipyplot\n",
      "  Downloading ipyplot-1.1.1-py3-none-any.whl (13 kB)\n",
      "Collecting shortuuid\n",
      "  Downloading shortuuid-1.0.11-py3-none-any.whl (10 kB)\n",
      "Requirement already satisfied: numpy in /home/gyu/my/work/ows/t19/wksp/notebook4zoowps/lib/python3.10/site-packages (from ipyplot) (1.26.0)\n",
      "Requirement already satisfied: IPython in /home/gyu/my/work/ows/t19/wksp/notebook4zoowps/lib/python3.10/site-packages (from ipyplot) (8.15.0)\n",
      "Collecting pillow\n",
      "  Downloading Pillow-10.1.0-cp310-cp310-manylinux_2_28_x86_64.whl (3.6 MB)\n",
      "\u001b[2K     \u001b[90m━━━━━━━━━━━━━━━━━━━━━━━━━━━━━━━━━━━━━━━━\u001b[0m \u001b[32m3.6/3.6 MB\u001b[0m \u001b[31m23.0 MB/s\u001b[0m eta \u001b[36m0:00:00\u001b[0m00:01\u001b[0m00:01\u001b[0m\n",
      "\u001b[?25hRequirement already satisfied: backcall in /home/gyu/my/work/ows/t19/wksp/notebook4zoowps/lib/python3.10/site-packages (from IPython->ipyplot) (0.2.0)\n",
      "Requirement already satisfied: stack-data in /home/gyu/my/work/ows/t19/wksp/notebook4zoowps/lib/python3.10/site-packages (from IPython->ipyplot) (0.6.2)\n",
      "Requirement already satisfied: exceptiongroup in /home/gyu/my/work/ows/t19/wksp/notebook4zoowps/lib/python3.10/site-packages (from IPython->ipyplot) (1.1.3)\n",
      "Requirement already satisfied: traitlets>=5 in /home/gyu/my/work/ows/t19/wksp/notebook4zoowps/lib/python3.10/site-packages (from IPython->ipyplot) (5.9.0)\n",
      "Requirement already satisfied: pickleshare in /home/gyu/my/work/ows/t19/wksp/notebook4zoowps/lib/python3.10/site-packages (from IPython->ipyplot) (0.7.5)\n",
      "Requirement already satisfied: pygments>=2.4.0 in /home/gyu/my/work/ows/t19/wksp/notebook4zoowps/lib/python3.10/site-packages (from IPython->ipyplot) (2.16.1)\n",
      "Requirement already satisfied: pexpect>4.3 in /home/gyu/my/work/ows/t19/wksp/notebook4zoowps/lib/python3.10/site-packages (from IPython->ipyplot) (4.8.0)\n",
      "Requirement already satisfied: decorator in /home/gyu/my/work/ows/t19/wksp/notebook4zoowps/lib/python3.10/site-packages (from IPython->ipyplot) (5.1.1)\n",
      "Requirement already satisfied: jedi>=0.16 in /home/gyu/my/work/ows/t19/wksp/notebook4zoowps/lib/python3.10/site-packages (from IPython->ipyplot) (0.19.0)\n",
      "Requirement already satisfied: matplotlib-inline in /home/gyu/my/work/ows/t19/wksp/notebook4zoowps/lib/python3.10/site-packages (from IPython->ipyplot) (0.1.6)\n",
      "Requirement already satisfied: prompt-toolkit!=3.0.37,<3.1.0,>=3.0.30 in /home/gyu/my/work/ows/t19/wksp/notebook4zoowps/lib/python3.10/site-packages (from IPython->ipyplot) (3.0.39)\n",
      "Requirement already satisfied: parso<0.9.0,>=0.8.3 in /home/gyu/my/work/ows/t19/wksp/notebook4zoowps/lib/python3.10/site-packages (from jedi>=0.16->IPython->ipyplot) (0.8.3)\n",
      "Requirement already satisfied: ptyprocess>=0.5 in /home/gyu/my/work/ows/t19/wksp/notebook4zoowps/lib/python3.10/site-packages (from pexpect>4.3->IPython->ipyplot) (0.7.0)\n",
      "Requirement already satisfied: wcwidth in /home/gyu/my/work/ows/t19/wksp/notebook4zoowps/lib/python3.10/site-packages (from prompt-toolkit!=3.0.37,<3.1.0,>=3.0.30->IPython->ipyplot) (0.2.6)\n",
      "Requirement already satisfied: asttokens>=2.1.0 in /home/gyu/my/work/ows/t19/wksp/notebook4zoowps/lib/python3.10/site-packages (from stack-data->IPython->ipyplot) (2.4.0)\n",
      "Requirement already satisfied: executing>=1.2.0 in /home/gyu/my/work/ows/t19/wksp/notebook4zoowps/lib/python3.10/site-packages (from stack-data->IPython->ipyplot) (1.2.0)\n",
      "Requirement already satisfied: pure-eval in /home/gyu/my/work/ows/t19/wksp/notebook4zoowps/lib/python3.10/site-packages (from stack-data->IPython->ipyplot) (0.2.2)\n",
      "Requirement already satisfied: six>=1.12.0 in /home/gyu/my/work/ows/t19/wksp/notebook4zoowps/lib/python3.10/site-packages (from asttokens>=2.1.0->stack-data->IPython->ipyplot) (1.16.0)\n",
      "Installing collected packages: shortuuid, pillow, ipyplot\n",
      "Successfully installed ipyplot-1.1.1 pillow-10.1.0 shortuuid-1.0.11\n"
     ]
    }
   ],
   "source": [
    "!pip install ipyplot"
   ]
  },
  {
   "cell_type": "markdown",
   "id": "baa59e9d-45db-4af8-a30d-680774f6c8bc",
   "metadata": {},
   "source": [
    "INstall the HPGC API."
   ]
  },
  {
   "cell_type": "code",
   "execution_count": 78,
   "id": "4f222950-01dc-410b-b8ee-726d7851c96d",
   "metadata": {},
   "outputs": [
    {
     "name": "stdout",
     "output_type": "stream",
     "text": [
      "Requirement already satisfied: gmu-hpgc-api in /home/gyu/my/work/ows/t19/wksp/notebook4zoowps/lib/python3.10/site-packages (0.0.1)\n",
      "Collecting gmu-hpgc-api\n",
      "  Downloading gmu_hpgc_api-0.1.0-py3-none-any.whl (164 kB)\n",
      "\u001b[2K     \u001b[90m━━━━━━━━━━━━━━━━━━━━━━━━━━━━━━━━━━━━━━━\u001b[0m \u001b[32m164.2/164.2 KB\u001b[0m \u001b[31m4.5 MB/s\u001b[0m eta \u001b[36m0:00:00\u001b[0m00:01\u001b[0m\n",
      "\u001b[?25hRequirement already satisfied: pydantic<2,>=1.10.5 in /home/gyu/my/work/ows/t19/wksp/notebook4zoowps/lib/python3.10/site-packages (from gmu-hpgc-api) (1.10.12)\n",
      "Requirement already satisfied: python-dateutil in /home/gyu/my/work/ows/t19/wksp/notebook4zoowps/lib/python3.10/site-packages (from gmu-hpgc-api) (2.8.2)\n",
      "Requirement already satisfied: aenum in /home/gyu/my/work/ows/t19/wksp/notebook4zoowps/lib/python3.10/site-packages (from gmu-hpgc-api) (3.1.15)\n",
      "Requirement already satisfied: urllib3>=1.25.3 in /home/gyu/my/work/ows/t19/wksp/notebook4zoowps/lib/python3.10/site-packages (from gmu-hpgc-api) (2.0.4)\n",
      "Requirement already satisfied: typing-extensions>=4.2.0 in /home/gyu/my/work/ows/t19/wksp/notebook4zoowps/lib/python3.10/site-packages (from pydantic<2,>=1.10.5->gmu-hpgc-api) (4.7.1)\n",
      "Requirement already satisfied: six>=1.5 in /home/gyu/my/work/ows/t19/wksp/notebook4zoowps/lib/python3.10/site-packages (from python-dateutil->gmu-hpgc-api) (1.16.0)\n",
      "Installing collected packages: gmu-hpgc-api\n",
      "  Attempting uninstall: gmu-hpgc-api\n",
      "    Found existing installation: gmu-hpgc-api 0.0.1\n",
      "    Uninstalling gmu-hpgc-api-0.0.1:\n",
      "      Successfully uninstalled gmu-hpgc-api-0.0.1\n",
      "Successfully installed gmu-hpgc-api-0.1.0\n"
     ]
    }
   ],
   "source": [
    "!python -m pip install gmu-hpgc-api --upgrade"
   ]
  },
  {
   "cell_type": "markdown",
   "id": "ee6372dd-e1bb-421f-9d6e-6dcb13045b72",
   "metadata": {},
   "source": [
    "### Basic imports"
   ]
  },
  {
   "cell_type": "code",
   "execution_count": 79,
   "id": "a7c92228-2b3f-498d-a2ce-81794689d9eb",
   "metadata": {},
   "outputs": [],
   "source": [
    "import openapi_client"
   ]
  },
  {
   "cell_type": "markdown",
   "id": "ac3d3c75-c804-46dd-b705-9eb6cbb0a4d6",
   "metadata": {},
   "source": [
    "## Capabilities"
   ]
  },
  {
   "cell_type": "markdown",
   "id": "c00d2d01-95f5-419f-a974-ca0685d53829",
   "metadata": {},
   "source": [
    "### Imports"
   ]
  },
  {
   "cell_type": "markdown",
   "id": "195cfbfe-a384-409e-b315-54467e62b704",
   "metadata": {},
   "source": [
    "### Get landing page"
   ]
  },
  {
   "cell_type": "code",
   "execution_count": 185,
   "id": "3b568c17-b490-4e59-a646-c0fd6377bf8e",
   "metadata": {},
   "outputs": [],
   "source": [
    "from openapi_client.models import Link as HpgcLink"
   ]
  },
  {
   "cell_type": "code",
   "execution_count": 186,
   "id": "b1a240bf-3ee1-4c6e-817f-e867cfb9123c",
   "metadata": {},
   "outputs": [],
   "source": [
    "\"\"\"\n",
    "# alternative \n",
    "\n",
    "import openapi_client.api.home_api\n",
    "landingpage_api = openapi_client.api.home_api.HomeApi()\n",
    "# set the endpoint\n",
    "landingpage_api.api_client.configuration.host=\"https://testbed19.geolabs.fr:8707/ogc-api\"\n",
    "\n",
    "homepage = landingpage_api.home_with_http_info(\n",
    "            _headers={\"accept\":\"application/json\"},\n",
    "            _preload_content=True,\n",
    "            _return_http_data_only=False)\n",
    "\"\"\"\n",
    "landingpage_api = openapi_client.api.landing_page_api.LandingPageApi()\n",
    "\n",
    "# set the endpoint\n",
    "landingpage_api.api_client.configuration.host=\"https://testbed19.geolabs.fr:8707/ogc-api/\"\n",
    "\n",
    "homepage = landingpage_api.get_landing_page_with_http_info(\n",
    "            _headers={\"accept\":\"application/json\"},\n",
    "            _preload_content=True,\n",
    "            _return_http_data_only=False)\n"
   ]
  },
  {
   "cell_type": "code",
   "execution_count": 187,
   "id": "891d0dfd-1a09-4fee-b03d-3ba53cfec627",
   "metadata": {},
   "outputs": [
    {
     "data": {
      "text/plain": [
       "<openapi_client.api_response.ApiResponse at 0x7f46dadc2e90>"
      ]
     },
     "execution_count": 187,
     "metadata": {},
     "output_type": "execute_result"
    }
   ],
   "source": [
    "homepage"
   ]
  },
  {
   "cell_type": "code",
   "execution_count": 188,
   "id": "5537709c-1906-43e3-b755-b1c7a2513b99",
   "metadata": {},
   "outputs": [
    {
     "data": {
      "text/plain": [
       "['__annotations__',\n",
       " '__class__',\n",
       " '__delattr__',\n",
       " '__dict__',\n",
       " '__dir__',\n",
       " '__doc__',\n",
       " '__eq__',\n",
       " '__format__',\n",
       " '__ge__',\n",
       " '__getattribute__',\n",
       " '__gt__',\n",
       " '__hash__',\n",
       " '__init__',\n",
       " '__init_subclass__',\n",
       " '__le__',\n",
       " '__lt__',\n",
       " '__module__',\n",
       " '__ne__',\n",
       " '__new__',\n",
       " '__reduce__',\n",
       " '__reduce_ex__',\n",
       " '__repr__',\n",
       " '__setattr__',\n",
       " '__sizeof__',\n",
       " '__str__',\n",
       " '__subclasshook__',\n",
       " '__weakref__',\n",
       " 'data',\n",
       " 'headers',\n",
       " 'raw_data',\n",
       " 'status_code']"
      ]
     },
     "execution_count": 188,
     "metadata": {},
     "output_type": "execute_result"
    }
   ],
   "source": [
    "dir(homepage)"
   ]
  },
  {
   "cell_type": "code",
   "execution_count": 189,
   "id": "dc212cf3-6dcd-4a27-8328-09164cea4b1e",
   "metadata": {},
   "outputs": [
    {
     "data": {
      "text/plain": [
       "LandingPage(title='The ZOO-Project OGC API - Processes Server Implementation with DRU support for HPC job execution', description='Developement version of ZOO-Project OGC WPS. See <a target=\"_blank\" href=\"http://www.zoo-project.org\">http://zoo-project.org</a> for more informations. <br/>You can access the current <a href=\"https://docs.ogc.org/DRAFTS/20-044.html\" target=\"_blank\">OGC API - Processes - Part 2: Deploy, Replace, Undeploy draft specification</a>.<br/><p>To authenticate using <a href=\"https://www.authenix.eu/\">AUTHENIX.eu</a>, please use the following client_id: <a href=\"https://www.authenix.eu/clients/347c0fd7-7c75-4d24-9520-4e3f6a424193\">347c0fd7-7c75-4d24-9520-4e3f6a424193</a></p>', attribution=None, links=[Link(href='/ogc-api/', rel='self', type='application/json', hreflang=None, title='this document'), Link(href='/ogc-api/index.html', rel='alternate', type='text/html', hreflang=None, title='this document'), Link(href='/ogc-api/api', rel='service-desc', type='application/vnd.oai.openapi+json;version=3.0', hreflang=None, title='the API definition'), Link(href='/ogc-api/api.html', rel='service-doc', type='text/html', hreflang=None, title='the API definition'), Link(href='/ogc-api/conformance', rel='http://www.opengis.net/def/rel/ogc/1.0/conformance', type='application/json', hreflang=None, title='OGC API - Processes conformance classes implemented by this server'), Link(href='/ogc-api/conformance.html', rel='alternate', type='text/html', hreflang=None, title='OGC API - Processes conformance classes implemented by this server'), Link(href='/ogc-api/processes', rel='http://www.opengis.net/def/rel/ogc/1.0/processes', type='application/json', hreflang=None, title='The processes offered by this server'), Link(href='/ogc-api/processes.html', rel='alternate', type='text/html', hreflang=None, title='The processes offered by this server'), Link(href='/ogc-api/jobs', rel='http://www.opengis.net/def/rel/ogc/1.0/job-list', type='application/json', hreflang=None, title='Job Management'), Link(href='/ogc-api/jobs.html', rel='alternate', type='text/html', hreflang=None, title='Job Management')])"
      ]
     },
     "execution_count": 189,
     "metadata": {},
     "output_type": "execute_result"
    }
   ],
   "source": [
    "homepage.data"
   ]
  },
  {
   "cell_type": "code",
   "execution_count": 190,
   "id": "676c310a-ae83-494e-8b4e-1c7f2cb1ebee",
   "metadata": {},
   "outputs": [
    {
     "data": {
      "text/plain": [
       "HTTPHeaderDict({'Date': 'Mon, 23 Oct 2023 12:55:06 GMT', 'Server': 'Apache/2.4.41 (Ubuntu)', 'X-Powered-By': 'ZOO-Project-HPGC', 'Access-Control-Allow-Origin': '*', 'Access-Control-Allow-Methods': 'GET,PUT,POST,DELETE', 'Access-Control-Allow-Headers': 'Content-Type,Authorization', 'X-Also-Powered-By': 'jwt.securityIn', 'X-Also-Also-Powered-By': 'dru.securityIn', 'Transfer-Encoding': 'chunked', 'Content-Type': 'application/json;charset=UTF-8'})"
      ]
     },
     "execution_count": 190,
     "metadata": {},
     "output_type": "execute_result"
    }
   ],
   "source": [
    "homepage.headers"
   ]
  },
  {
   "cell_type": "code",
   "execution_count": 191,
   "id": "fda90dc6-9726-4aac-afc5-0554a142ea8e",
   "metadata": {},
   "outputs": [
    {
     "data": {
      "text/plain": [
       "200"
      ]
     },
     "execution_count": 191,
     "metadata": {},
     "output_type": "execute_result"
    }
   ],
   "source": [
    "homepage.status_code"
   ]
  },
  {
   "cell_type": "code",
   "execution_count": 192,
   "id": "2ae5938d-c8c3-47a4-af10-ed0d64d0232c",
   "metadata": {},
   "outputs": [
    {
     "data": {
      "text/plain": [
       "'{\"title\":\"The ZOO-Project OGC API - Processes Server Implementation with DRU support for HPC job execution\",\"description\":\"Developement version of ZOO-Project OGC WPS. See <a target=\\\\\"_blank\\\\\" href=\\\\\"http://www.zoo-project.org\\\\\">http://zoo-project.org</a> for more informations. <br/>You can access the current <a href=\\\\\"https://docs.ogc.org/DRAFTS/20-044.html\\\\\" target=\\\\\"_blank\\\\\">OGC API - Processes - Part 2: Deploy, Replace, Undeploy draft specification</a>.<br/><p>To authenticate using <a href=\\\\\"https://www.authenix.eu/\\\\\">AUTHENIX.eu</a>, please use the following client_id: <a href=\\\\\"https://www.authenix.eu/clients/347c0fd7-7c75-4d24-9520-4e3f6a424193\\\\\">347c0fd7-7c75-4d24-9520-4e3f6a424193</a></p>\",\"links\":[{\"rel\":\"self\",\"type\":\"application/json\",\"title\":\"this document\",\"href\":\"/ogc-api/\"},{\"rel\":\"alternate\",\"type\":\"text/html\",\"title\":\"this document\",\"href\":\"/ogc-api/index.html\"},{\"rel\":\"service-desc\",\"type\":\"application/vnd.oai.openapi+json;version=3.0\",\"title\":\"the API definition\",\"href\":\"/ogc-api/api\"},{\"rel\":\"service-doc\",\"type\":\"text/html\",\"title\":\"the API definition\",\"href\":\"/ogc-api/api.html\"},{\"rel\":\"http://www.opengis.net/def/rel/ogc/1.0/conformance\",\"type\":\"application/json\",\"title\":\"OGC API - Processes conformance classes implemented by this server\",\"href\":\"/ogc-api/conformance\"},{\"rel\":\"alternate\",\"type\":\"text/html\",\"title\":\"OGC API - Processes conformance classes implemented by this server\",\"href\":\"/ogc-api/conformance.html\"},{\"rel\":\"http://www.opengis.net/def/rel/ogc/1.0/processes\",\"type\":\"application/json\",\"title\":\"The processes offered by this server\",\"href\":\"/ogc-api/processes\"},{\"rel\":\"alternate\",\"type\":\"text/html\",\"title\":\"The processes offered by this server\",\"href\":\"/ogc-api/processes.html\"},{\"rel\":\"http://www.opengis.net/def/rel/ogc/1.0/job-list\",\"type\":\"application/json\",\"title\":\"Job Management\",\"href\":\"/ogc-api/jobs\"},{\"rel\":\"alternate\",\"type\":\"text/html\",\"title\":\"Job Management\",\"href\":\"/ogc-api/jobs.html\"}]}\\n'"
      ]
     },
     "execution_count": 192,
     "metadata": {},
     "output_type": "execute_result"
    }
   ],
   "source": [
    "homepage.raw_data"
   ]
  },
  {
   "cell_type": "markdown",
   "id": "9fceb256-ecdf-49f9-a445-a4236410c798",
   "metadata": {},
   "source": [
    "#### Title of the service"
   ]
  },
  {
   "cell_type": "code",
   "execution_count": 51,
   "id": "0c693703-8356-400c-aa8d-6d53ba483b7b",
   "metadata": {},
   "outputs": [
    {
     "data": {
      "text/plain": [
       "'The ZOO-Project OGC API - Processes Server Implementation with DRU support for HPC job execution'"
      ]
     },
     "execution_count": 51,
     "metadata": {},
     "output_type": "execute_result"
    }
   ],
   "source": [
    "homepage_obj = homepage.data\n",
    "homepage_obj.title"
   ]
  },
  {
   "cell_type": "markdown",
   "id": "97824842-7df5-4660-94cd-99580f866d54",
   "metadata": {},
   "source": [
    "#### Description"
   ]
  },
  {
   "cell_type": "code",
   "execution_count": 52,
   "id": "2a6608c8-5fad-4989-9a0f-db97575b1370",
   "metadata": {},
   "outputs": [
    {
     "data": {
      "text/plain": [
       "'Developement version of ZOO-Project OGC WPS. See <a target=\"_blank\" href=\"http://www.zoo-project.org\">http://zoo-project.org</a> for more informations. <br/>You can access the current <a href=\"https://docs.ogc.org/DRAFTS/20-044.html\" target=\"_blank\">OGC API - Processes - Part 2: Deploy, Replace, Undeploy draft specification</a>.<br/><p>To authenticate using <a href=\"https://www.authenix.eu/\">AUTHENIX.eu</a>, please use the following client_id: <a href=\"https://www.authenix.eu/clients/347c0fd7-7c75-4d24-9520-4e3f6a424193\">347c0fd7-7c75-4d24-9520-4e3f6a424193</a></p>'"
      ]
     },
     "execution_count": 52,
     "metadata": {},
     "output_type": "execute_result"
    }
   ],
   "source": [
    "homepage_obj.description"
   ]
  },
  {
   "cell_type": "markdown",
   "id": "3beddce9-1687-451e-b5ac-53ac9bd94e43",
   "metadata": {},
   "source": [
    "#### Links"
   ]
  },
  {
   "cell_type": "markdown",
   "id": "0ec715b0-d3aa-4662-ad94-a46462b9e284",
   "metadata": {},
   "source": [
    "* Number of links"
   ]
  },
  {
   "cell_type": "code",
   "execution_count": 53,
   "id": "161851ce-8f39-4110-b801-42dff5340260",
   "metadata": {},
   "outputs": [
    {
     "data": {
      "text/plain": [
       "10"
      ]
     },
     "execution_count": 53,
     "metadata": {},
     "output_type": "execute_result"
    }
   ],
   "source": [
    "len(homepage_obj.links)"
   ]
  },
  {
   "cell_type": "code",
   "execution_count": 54,
   "id": "3a67210a-dfa6-4673-85eb-ff6b5c6bd4c4",
   "metadata": {},
   "outputs": [],
   "source": [
    "def get_link_by_rel_and_mediatype(relation:str, mediatype:str, the_links:list())->HpgcLink:\n",
    "    for the_link in the_links:\n",
    "        if (the_link.rel == relation and\n",
    "            the_link.type == mediatype):\n",
    "            return the_link\n",
    "    return None"
   ]
  },
  {
   "cell_type": "markdown",
   "id": "5cb0fda5-2bf0-4649-97a9-a68a74831648",
   "metadata": {},
   "source": [
    "* Specification link"
   ]
  },
  {
   "cell_type": "code",
   "execution_count": 55,
   "id": "c8e9595f-44c9-4349-bae6-ec09e6881c1b",
   "metadata": {},
   "outputs": [],
   "source": [
    "the_api_spec_link = get_link_by_rel_and_mediatype(relation=\"service-desc\",\n",
    "                                     mediatype=\"application/vnd.oai.openapi+json;version=3.0\",\n",
    "                                     the_links=homepage_obj.links)"
   ]
  },
  {
   "cell_type": "code",
   "execution_count": 56,
   "id": "cc7f759c-a321-4e54-aa67-82cefebc551e",
   "metadata": {},
   "outputs": [
    {
     "data": {
      "text/plain": [
       "Link(href='/ogc-api/api', rel='service-desc', type='application/vnd.oai.openapi+json;version=3.0', hreflang=None, title='the API definition')"
      ]
     },
     "execution_count": 56,
     "metadata": {},
     "output_type": "execute_result"
    }
   ],
   "source": [
    "the_api_spec_link"
   ]
  },
  {
   "cell_type": "markdown",
   "id": "0e7ca878-5578-4569-9692-b765d412a8e4",
   "metadata": {},
   "source": [
    "* Conformance"
   ]
  },
  {
   "cell_type": "code",
   "execution_count": 57,
   "id": "3ea938e9-ee23-4848-8f3b-76e673dfd761",
   "metadata": {},
   "outputs": [],
   "source": [
    "the_api_conformance_link = get_link_by_rel_and_mediatype(relation=\"http://www.opengis.net/def/rel/ogc/1.0/conformance\",\n",
    "                                     mediatype=\"application/json\",\n",
    "                                     the_links=homepage_obj.links)"
   ]
  },
  {
   "cell_type": "code",
   "execution_count": 58,
   "id": "207357ea-aeac-45d1-b5f6-0adf8ec6498f",
   "metadata": {},
   "outputs": [
    {
     "data": {
      "text/plain": [
       "Link(href='/ogc-api/conformance', rel='http://www.opengis.net/def/rel/ogc/1.0/conformance', type='application/json', hreflang=None, title='OGC API - Processes conformance classes implemented by this server')"
      ]
     },
     "execution_count": 58,
     "metadata": {},
     "output_type": "execute_result"
    }
   ],
   "source": [
    "the_api_conformance_link"
   ]
  },
  {
   "cell_type": "markdown",
   "id": "3ad0e5ed-225f-4776-901e-3aaa66a8f3ee",
   "metadata": {},
   "source": [
    "* Processes"
   ]
  },
  {
   "cell_type": "code",
   "execution_count": 59,
   "id": "9844d1a2-e361-4981-bea9-ff963cd78818",
   "metadata": {},
   "outputs": [],
   "source": [
    "the_api_processes_link = get_link_by_rel_and_mediatype(relation=\"http://www.opengis.net/def/rel/ogc/1.0/processes\",\n",
    "                                     mediatype=\"application/json\",\n",
    "                                     the_links=homepage_obj.links)"
   ]
  },
  {
   "cell_type": "code",
   "execution_count": 60,
   "id": "413f7b33-2051-4015-8213-5538969c9d0f",
   "metadata": {},
   "outputs": [
    {
     "data": {
      "text/plain": [
       "Link(href='/ogc-api/processes', rel='http://www.opengis.net/def/rel/ogc/1.0/processes', type='application/json', hreflang=None, title='The processes offered by this server')"
      ]
     },
     "execution_count": 60,
     "metadata": {},
     "output_type": "execute_result"
    }
   ],
   "source": [
    "the_api_processes_link"
   ]
  },
  {
   "cell_type": "markdown",
   "id": "032543fd-4dcc-4292-ac3f-d7bdadc8dc8e",
   "metadata": {},
   "source": [
    "* Jobs"
   ]
  },
  {
   "cell_type": "code",
   "execution_count": 61,
   "id": "c1613049-fc25-4ecc-8bdc-bb9d0c36bdd5",
   "metadata": {},
   "outputs": [],
   "source": [
    "the_api_jobs_link = get_link_by_rel_and_mediatype(relation=\"http://www.opengis.net/def/rel/ogc/1.0/job-list\",\n",
    "                                     mediatype=\"application/json\",\n",
    "                                     the_links=homepage_obj.links)"
   ]
  },
  {
   "cell_type": "code",
   "execution_count": 62,
   "id": "5d7ea07e-d574-4da3-9c8e-628d1f14b266",
   "metadata": {},
   "outputs": [
    {
     "data": {
      "text/plain": [
       "Link(href='/ogc-api/jobs', rel='http://www.opengis.net/def/rel/ogc/1.0/job-list', type='application/json', hreflang=None, title='Job Management')"
      ]
     },
     "execution_count": 62,
     "metadata": {},
     "output_type": "execute_result"
    }
   ],
   "source": [
    "the_api_jobs_link"
   ]
  },
  {
   "cell_type": "markdown",
   "id": "bb7f73e6-0ef9-42c4-9fa6-ca215a36adc8",
   "metadata": {},
   "source": [
    "### Get Conformance"
   ]
  },
  {
   "cell_type": "code",
   "execution_count": 63,
   "id": "f0261731-e845-459a-8e6d-bbc1da31293b",
   "metadata": {},
   "outputs": [],
   "source": [
    "conformance_api = openapi_client.api.conformance_api.ConformanceApi()"
   ]
  },
  {
   "cell_type": "code",
   "execution_count": 64,
   "id": "588d638d-c143-4b99-96ef-4f7d9925a394",
   "metadata": {},
   "outputs": [],
   "source": [
    "conformance_api.api_client.configuration.host=\"https://testbed19.geolabs.fr:8707/ogc-api\""
   ]
  },
  {
   "cell_type": "code",
   "execution_count": 65,
   "id": "cb4e02b8-2dfe-45e0-8990-fbd6ce4da35d",
   "metadata": {},
   "outputs": [],
   "source": [
    "conformance = conformance_api.get_conformance_with_http_info(\n",
    "            _headers={\"accept\":\"application/json\"},\n",
    "            _preload_content=True,\n",
    "            _return_http_data_only=False)"
   ]
  },
  {
   "cell_type": "code",
   "execution_count": 66,
   "id": "f68b5e93-76e2-4738-a4c9-4e8a5f7424ae",
   "metadata": {},
   "outputs": [
    {
     "data": {
      "text/plain": [
       "<openapi_client.api_response.ApiResponse at 0x7f46f921bfd0>"
      ]
     },
     "execution_count": 66,
     "metadata": {},
     "output_type": "execute_result"
    }
   ],
   "source": [
    "conformance"
   ]
  },
  {
   "cell_type": "code",
   "execution_count": 67,
   "id": "5400b685-7d9d-49a5-ad2b-078c07814513",
   "metadata": {},
   "outputs": [
    {
     "data": {
      "text/plain": [
       "['__annotations__',\n",
       " '__class__',\n",
       " '__delattr__',\n",
       " '__dict__',\n",
       " '__dir__',\n",
       " '__doc__',\n",
       " '__eq__',\n",
       " '__format__',\n",
       " '__ge__',\n",
       " '__getattribute__',\n",
       " '__gt__',\n",
       " '__hash__',\n",
       " '__init__',\n",
       " '__init_subclass__',\n",
       " '__le__',\n",
       " '__lt__',\n",
       " '__module__',\n",
       " '__ne__',\n",
       " '__new__',\n",
       " '__reduce__',\n",
       " '__reduce_ex__',\n",
       " '__repr__',\n",
       " '__setattr__',\n",
       " '__sizeof__',\n",
       " '__str__',\n",
       " '__subclasshook__',\n",
       " '__weakref__',\n",
       " 'data',\n",
       " 'headers',\n",
       " 'raw_data',\n",
       " 'status_code']"
      ]
     },
     "execution_count": 67,
     "metadata": {},
     "output_type": "execute_result"
    }
   ],
   "source": [
    "dir(conformance)"
   ]
  },
  {
   "cell_type": "code",
   "execution_count": 68,
   "id": "9671af3d-986a-4d45-bac1-b7ea3311dfd2",
   "metadata": {},
   "outputs": [
    {
     "data": {
      "text/plain": [
       "GetConformance200Response(conforms_to=['http://www.opengis.net/spec/ogcapi-processes/1.0/req/core', 'http://www.opengis.net/spec/ogcapi-processes/1.0/req/oas30', 'http://www.opengis.net/spec/ogcapi-processes/1.0/req/json', 'http://www.opengis.net/spec/ogcapi-processes/1.0/req/job-list', 'http://www.opengis.net/spec/ogcapi-processes/1.0/req/dismiss', 'http://www.opengis.net/spec/ogcapi-processes/1.0/req/callback', 'http://www.opengis.net/spec/ogcapi-processes/1.0/req/ogc-process-description', 'http://www.opengis.net/spec/ogcapi-processes-2/1.0/req/deploy-replace-undeploy', 'http://www.opengis.net/spec/ogcapi-processes-2/1.0/req/ogcapppkg', 'http://www.opengis.net/spec/ogcapi-processes-2/1.0/req/cwl'])"
      ]
     },
     "execution_count": 68,
     "metadata": {},
     "output_type": "execute_result"
    }
   ],
   "source": [
    "conformance.data"
   ]
  },
  {
   "cell_type": "code",
   "execution_count": 69,
   "id": "87e413cc-0f41-4990-9349-39be0521f182",
   "metadata": {},
   "outputs": [
    {
     "data": {
      "text/plain": [
       "HTTPHeaderDict({'Date': 'Sun, 22 Oct 2023 20:17:13 GMT', 'Server': 'Apache/2.4.41 (Ubuntu)', 'X-Powered-By': 'ZOO-Project-HPGC', 'Access-Control-Allow-Origin': '*', 'Access-Control-Allow-Methods': 'GET,PUT,POST,DELETE', 'Access-Control-Allow-Headers': 'Content-Type,Authorization', 'X-Also-Powered-By': 'jwt.securityIn', 'X-Also-Also-Powered-By': 'dru.securityIn', 'Transfer-Encoding': 'chunked', 'Content-Type': 'application/json;charset=UTF-8'})"
      ]
     },
     "execution_count": 69,
     "metadata": {},
     "output_type": "execute_result"
    }
   ],
   "source": [
    "conformance.headers"
   ]
  },
  {
   "cell_type": "code",
   "execution_count": 70,
   "id": "0c118cce-e7e3-4eba-8bf1-7d0078839363",
   "metadata": {},
   "outputs": [
    {
     "data": {
      "text/plain": [
       "'{\"conformsTo\":[\"http://www.opengis.net/spec/ogcapi-processes/1.0/req/core\",\"http://www.opengis.net/spec/ogcapi-processes/1.0/req/oas30\",\"http://www.opengis.net/spec/ogcapi-processes/1.0/req/json\",\"http://www.opengis.net/spec/ogcapi-processes/1.0/req/job-list\",\"http://www.opengis.net/spec/ogcapi-processes/1.0/req/dismiss\",\"http://www.opengis.net/spec/ogcapi-processes/1.0/req/callback\",\"http://www.opengis.net/spec/ogcapi-processes/1.0/req/ogc-process-description\",\"http://www.opengis.net/spec/ogcapi-processes-2/1.0/req/deploy-replace-undeploy\",\"http://www.opengis.net/spec/ogcapi-processes-2/1.0/req/ogcapppkg\",\"http://www.opengis.net/spec/ogcapi-processes-2/1.0/req/cwl\"]}\\n'"
      ]
     },
     "execution_count": 70,
     "metadata": {},
     "output_type": "execute_result"
    }
   ],
   "source": [
    "conformance.raw_data"
   ]
  },
  {
   "cell_type": "code",
   "execution_count": 71,
   "id": "ef0fd8b8-c5e4-4b57-94bb-25ebdff1dd7b",
   "metadata": {},
   "outputs": [
    {
     "data": {
      "text/plain": [
       "200"
      ]
     },
     "execution_count": 71,
     "metadata": {},
     "output_type": "execute_result"
    }
   ],
   "source": [
    "conformance.status_code"
   ]
  },
  {
   "cell_type": "markdown",
   "id": "c0094d75-b8ba-477e-9fff-69e4f91acf05",
   "metadata": {},
   "source": [
    "Number of conformances"
   ]
  },
  {
   "cell_type": "code",
   "execution_count": 72,
   "id": "979f2a04-cbae-4a86-bfa6-60082fd70c51",
   "metadata": {},
   "outputs": [
    {
     "data": {
      "text/plain": [
       "10"
      ]
     },
     "execution_count": 72,
     "metadata": {},
     "output_type": "execute_result"
    }
   ],
   "source": [
    "len(conformance.data.conforms_to)"
   ]
  },
  {
   "cell_type": "markdown",
   "id": "f72d435d-41f2-433a-9a83-cb65f82caf79",
   "metadata": {},
   "source": [
    "## Authorization (OAuth2)"
   ]
  },
  {
   "cell_type": "code",
   "execution_count": 168,
   "id": "639fa52f-374a-4518-a155-ba95ec60d632",
   "metadata": {},
   "outputs": [],
   "source": [
    "from oauthlib.oauth2 import MobileApplicationClient\n",
    "from requests_oauthlib import OAuth2Session"
   ]
  },
  {
   "cell_type": "code",
   "execution_count": 169,
   "id": "78a4138a-95dc-492b-b004-faf29054ca39",
   "metadata": {},
   "outputs": [
    {
     "name": "stdout",
     "output_type": "stream",
     "text": [
      "authorization_url= https://www.authenix.eu/oauth/authorize?response_type=token&client_id=347c0fd7-7c75-4d24-9520-4e3f6a424193&redirect_uri=https%3A%2F%2Ftestbed19.geolabs.fr%3A8707%2Fswagger-ui%2Foapip%2Foauth2-redirect.html&scope=all&state=yKiWxt5vYvQ8gkGSJiTMbuGjh763GR\n"
     ]
    }
   ],
   "source": [
    "client_id = '347c0fd7-7c75-4d24-9520-4e3f6a424193'\n",
    "#scopes = ['openid', 'profile', 'email', 'saml', 'offline_access']\n",
    "scopes = ['all']\n",
    "auth_url = 'https://www.authenix.eu/oauth/authorize'\n",
    "redirect_uri='https://testbed19.geolabs.fr:8707/swagger-ui/oapip/oauth2-redirect.html'\n",
    "\n",
    "oauth = OAuth2Session(client=MobileApplicationClient(client_id=client_id),\n",
    "                      redirect_uri=redirect_uri, scope=scopes)\n",
    "authorization_url, state = oauth.authorization_url(auth_url)\n",
    "print(\"authorization_url=\", authorization_url)"
   ]
  },
  {
   "cell_type": "code",
   "execution_count": 170,
   "id": "2e3ec6c2-598c-4b69-9500-8c85fa89779c",
   "metadata": {},
   "outputs": [
    {
     "name": "stdin",
     "output_type": "stream",
     "text": [
      "Enter the full callback URL https://testbed19.geolabs.fr:8707/swagger-ui/oapip/oauth2-redirect.html#access_token=at_Dz37T%7Ewqf-84r3avOyzbtVkcsjNEh&token_type=bearer&expires_in=1800&scope=all&state=yKiWxt5vYvQ8gkGSJiTMbuGjh763GR\n"
     ]
    }
   ],
   "source": [
    "authorization_response = input('Enter the full callback URL')"
   ]
  },
  {
   "cell_type": "code",
   "execution_count": 171,
   "id": "fd314d80-0818-473b-bd26-9a15fca8d9bd",
   "metadata": {},
   "outputs": [
    {
     "name": "stdout",
     "output_type": "stream",
     "text": [
      "token= {'access_token': 'at_Dz37T~wqf-84r3avOyzbtVkcsjNEh', 'token_type': 'bearer', 'expires_in': 1800, 'scope': ['all'], 'state': 'yKiWxt5vYvQ8gkGSJiTMbuGjh763GR', 'expires_at': 1699867435.233015}\n",
      "token_code= at_pljojba0GG-PnbfPm6vybW4nHT1yn\n",
      "auth_token= bearer at_Dz37T~wqf-84r3avOyzbtVkcsjNEh\n"
     ]
    }
   ],
   "source": [
    "#response = oauth.get(authorization_url)\n",
    "#print(\"response.url=\", response.url)\n",
    "token=oauth.token_from_fragment(authorization_response)\n",
    "print(\"token=\", token)\n",
    "access_token =token[\"access_token\"]\n",
    "token_type =token[\"token_type\"]\n",
    "print(\"token_code=\", token_code)\n",
    "auth_token = f\"{token_type} {access_token}\"\n",
    "print(\"auth_token=\", auth_token)"
   ]
  },
  {
   "cell_type": "code",
   "execution_count": 6,
   "id": "1e68e39f-94c2-4854-b667-04757937a9c7",
   "metadata": {},
   "outputs": [],
   "source": [
    "# auth_token = 'Bearer at_WMsyPAQtNtBdvXlqRkOmnyQwJH197'"
   ]
  },
  {
   "cell_type": "markdown",
   "id": "d0db999c-d64e-4cfd-bb62-8271cb1de169",
   "metadata": {},
   "source": [
    "### Get Processes"
   ]
  },
  {
   "cell_type": "code",
   "execution_count": 112,
   "id": "e696b8d1-88c6-4b86-b421-97b267f328e7",
   "metadata": {},
   "outputs": [],
   "source": [
    "processes_api = openapi_client.api.processes_api.ProcessesApi()\n",
    "\n",
    "# set endpoint\n",
    "processes_api.api_client.configuration.host=\"https://testbed19.geolabs.fr:8707/eugenegmu/ogc-api/\"\n",
    "\n",
    "processes = processes_api.get_processes_with_http_info(\n",
    "            _headers={\"accept\":\"application/json\", \"Authorization\": auth_token},\n",
    "            _preload_content=True,\n",
    "             _return_http_data_only=False)"
   ]
  },
  {
   "cell_type": "code",
   "execution_count": 86,
   "id": "e9f68818-2f73-400a-937d-e04fdc2d98d2",
   "metadata": {},
   "outputs": [
    {
     "data": {
      "text/plain": [
       "<openapi_client.api_response.ApiResponse at 0x7f750541afe0>"
      ]
     },
     "execution_count": 86,
     "metadata": {},
     "output_type": "execute_result"
    }
   ],
   "source": [
    "processes"
   ]
  },
  {
   "cell_type": "code",
   "execution_count": 87,
   "id": "ebbc71f8-a2a7-4e6b-9b6d-10075e1c75ab",
   "metadata": {},
   "outputs": [
    {
     "data": {
      "text/plain": [
       "['__annotations__',\n",
       " '__class__',\n",
       " '__delattr__',\n",
       " '__dict__',\n",
       " '__dir__',\n",
       " '__doc__',\n",
       " '__eq__',\n",
       " '__format__',\n",
       " '__ge__',\n",
       " '__getattribute__',\n",
       " '__gt__',\n",
       " '__hash__',\n",
       " '__init__',\n",
       " '__init_subclass__',\n",
       " '__le__',\n",
       " '__lt__',\n",
       " '__module__',\n",
       " '__ne__',\n",
       " '__new__',\n",
       " '__reduce__',\n",
       " '__reduce_ex__',\n",
       " '__repr__',\n",
       " '__setattr__',\n",
       " '__sizeof__',\n",
       " '__str__',\n",
       " '__subclasshook__',\n",
       " '__weakref__',\n",
       " 'data',\n",
       " 'headers',\n",
       " 'raw_data',\n",
       " 'status_code']"
      ]
     },
     "execution_count": 87,
     "metadata": {},
     "output_type": "execute_result"
    }
   ],
   "source": [
    "dir(processes)"
   ]
  },
  {
   "cell_type": "code",
   "execution_count": 113,
   "id": "717deb98-9e93-4c4e-9161-92fd50a6ee99",
   "metadata": {},
   "outputs": [
    {
     "data": {
      "text/plain": [
       "ProcessList(processes=[ProcessSummary(title='Basic out filtering ', description='This service can be executed as a filter for OGC API - Processes requests after handling them (non-blocking)', keywords=None, metadata=[Metadata(title='My Demo', role=None, href=None)], additional_parameters=None, id='securityOut', version='1.0.0', job_control_options=[<JobControlOptions.SYNC_MINUS_EXECUTE: 'sync-execute'>, <JobControlOptions.ASYNC_MINUS_EXECUTE: 'async-execute'>, <JobControlOptions.DISMISS: 'dismiss'>], output_transmission=[<TransmissionMode.VALUE: 'value'>, <TransmissionMode.REFERENCE: 'reference'>], links=[Link(href='eugenegmu/ogc-api/processes/securityOut', rel='self', type='application/json', hreflang=None, title='Process Description')]), ProcessSummary(title='OpenEO UDP support', description='This service provides support for deploying OpenEO UDB graph as OGC API - Processes - Part 1: Core', keywords=None, metadata=None, additional_parameters=None, id='openeoFilterIn', version='1.0.0', job_control_options=[<JobControlOptions.SYNC_MINUS_EXECUTE: 'sync-execute'>, <JobControlOptions.ASYNC_MINUS_EXECUTE: 'async-execute'>, <JobControlOptions.DISMISS: 'dismiss'>], output_transmission=[<TransmissionMode.VALUE: 'value'>, <TransmissionMode.REFERENCE: 'reference'>], links=[Link(href='eugenegmu/ogc-api/processes/openeoFilterIn', rel='self', type='application/json', hreflang=None, title='Process Description')]), ProcessSummary(title='Start phase 3 of HPC execution', description='Unblock the ZOO-Kernel awaiting for a remote job execution ', keywords=None, metadata=None, additional_parameters=None, id='FinalizeHPC1', version='1.0.0', job_control_options=[<JobControlOptions.SYNC_MINUS_EXECUTE: 'sync-execute'>, <JobControlOptions.ASYNC_MINUS_EXECUTE: 'async-execute'>, <JobControlOptions.DISMISS: 'dismiss'>], output_transmission=[<TransmissionMode.VALUE: 'value'>, <TransmissionMode.REFERENCE: 'reference'>], links=[Link(href='eugenegmu/ogc-api/processes/FinalizeHPC1', rel='self', type='application/json', hreflang=None, title='Process Description')])], links=[Link(href='eugenegmu/ogc-api/processes', rel='self', type='application/json', hreflang=None, title=None)])"
      ]
     },
     "execution_count": 113,
     "metadata": {},
     "output_type": "execute_result"
    }
   ],
   "source": [
    "processes.data"
   ]
  },
  {
   "cell_type": "code",
   "execution_count": 89,
   "id": "67b6d711-90d7-4c08-84ba-063744d52148",
   "metadata": {},
   "outputs": [
    {
     "data": {
      "text/plain": [
       "HTTPHeaderDict({'Date': 'Mon, 13 Nov 2023 05:25:46 GMT', 'Server': 'Apache/2.4.41 (Ubuntu)', 'X-Powered-By': 'ZOO-Project-HPGC', 'Access-Control-Allow-Origin': '*', 'Access-Control-Allow-Methods': 'GET,PUT,POST,DELETE', 'Access-Control-Allow-Headers': 'Content-Type,Authorization', 'X-Also-Powered-By': 'jwt.securityIn', 'X-Also-Also-Powered-By': 'dru.securityIn', 'Transfer-Encoding': 'chunked', 'Content-Type': 'application/json;charset=UTF-8'})"
      ]
     },
     "execution_count": 89,
     "metadata": {},
     "output_type": "execute_result"
    }
   ],
   "source": [
    "processes.headers"
   ]
  },
  {
   "cell_type": "code",
   "execution_count": 90,
   "id": "61766de9-53e4-4c0b-ba33-3c1a3c070e02",
   "metadata": {},
   "outputs": [
    {
     "data": {
      "text/plain": [
       "'{\"processes\":[{\"id\":\"securityOut\",\"title\":\"Basic out filtering \",\"description\":\"This service can be executed as a filter for OGC API - Processes requests after handling them (non-blocking)\",\"mutable\":false,\"version\":\"1.0.0\",\"metadata\":[{\"title\":\"My Demo\"}],\"jobControlOptions\":[\"sync-execute\",\"async-execute\",\"dismiss\"],\"outputTransmission\":[\"value\",\"reference\"],\"links\":[{\"rel\":\"self\",\"type\":\"application/json\",\"title\":\"Process Description\",\"href\":\"eugenegmu/ogc-api/processes/securityOut\"}]},{\"id\":\"openeoFilterIn\",\"title\":\"OpenEO UDP support\",\"description\":\"This service provides support for deploying OpenEO UDB graph as OGC API - Processes - Part 1: Core\",\"mutable\":false,\"version\":\"1.0.0\",\"jobControlOptions\":[\"sync-execute\",\"async-execute\",\"dismiss\"],\"outputTransmission\":[\"value\",\"reference\"],\"links\":[{\"rel\":\"self\",\"type\":\"application/json\",\"title\":\"Process Description\",\"href\":\"eugenegmu/ogc-api/processes/openeoFilterIn\"}]},{\"id\":\"FinalizeHPC1\",\"title\":\"Start phase 3 of HPC execution\",\"description\":\"Unblock the ZOO-Kernel awaiting for a remote job execution \",\"mutable\":false,\"version\":\"1.0.0\",\"jobControlOptions\":[\"sync-execute\",\"async-execute\",\"dismiss\"],\"outputTransmission\":[\"value\",\"reference\"],\"links\":[{\"rel\":\"self\",\"type\":\"application/json\",\"title\":\"Process Description\",\"href\":\"eugenegmu/ogc-api/processes/FinalizeHPC1\"}]}],\"links\":[{\"rel\":\"self\",\"type\":\"application/json\",\"href\":\"eugenegmu/ogc-api/processes\"}],\"numberTotal\":3}\\n'"
      ]
     },
     "execution_count": 90,
     "metadata": {},
     "output_type": "execute_result"
    }
   ],
   "source": [
    "processes.raw_data"
   ]
  },
  {
   "cell_type": "code",
   "execution_count": 114,
   "id": "61a1dd87-21c5-4fcf-b7cb-5acbe69cf1df",
   "metadata": {},
   "outputs": [
    {
     "data": {
      "text/plain": [
       "200"
      ]
     },
     "execution_count": 114,
     "metadata": {},
     "output_type": "execute_result"
    }
   ],
   "source": [
    "processes.status_code"
   ]
  },
  {
   "cell_type": "markdown",
   "id": "5873d03b-87f9-4ed4-9fe7-d48cba9c8984",
   "metadata": {},
   "source": [
    "#### Number of processes"
   ]
  },
  {
   "cell_type": "code",
   "execution_count": 115,
   "id": "18bb1a7d-ffd9-4eb6-aadc-5f8d50e909a4",
   "metadata": {},
   "outputs": [
    {
     "data": {
      "text/plain": [
       "3"
      ]
     },
     "execution_count": 115,
     "metadata": {},
     "output_type": "execute_result"
    }
   ],
   "source": [
    "processes_obj = processes.data\n",
    "len(processes_obj.processes)"
   ]
  },
  {
   "cell_type": "markdown",
   "id": "ac63bb33-a7c1-4a0b-979a-da7e5ed6f710",
   "metadata": {},
   "source": [
    "#### List of process IDs"
   ]
  },
  {
   "cell_type": "code",
   "execution_count": 116,
   "id": "ffda1a6c-de45-477c-b4c9-d9274e737ea8",
   "metadata": {},
   "outputs": [
    {
     "name": "stdout",
     "output_type": "stream",
     "text": [
      "securityOut\n",
      "openeoFilterIn\n",
      "FinalizeHPC1\n"
     ]
    }
   ],
   "source": [
    "for proc in processes_obj.processes:\n",
    "    print(proc.id)"
   ]
  },
  {
   "cell_type": "markdown",
   "id": "6ee400a6-1401-47c0-a20a-a954fb2c1294",
   "metadata": {},
   "source": [
    "### Describe a process"
   ]
  },
  {
   "cell_type": "code",
   "execution_count": 117,
   "id": "a90190d3-cefc-4321-ace8-381b07a5430b",
   "metadata": {},
   "outputs": [],
   "source": [
    "# This section show the description of some specific processes"
   ]
  },
  {
   "cell_type": "markdown",
   "id": "351cd32f-4e8f-4bff-ac8f-a68ef04f0f6c",
   "metadata": {},
   "source": [
    "#### Describe specific process - securityOut"
   ]
  },
  {
   "cell_type": "code",
   "execution_count": 92,
   "id": "b363a79e-d566-430b-ab97-f94176955030",
   "metadata": {},
   "outputs": [],
   "source": [
    "the_out_process = processes_api.get_process_description_with_http_info(\n",
    "            process_id=\"securityOut\",\n",
    "            _headers={\"accept\":\"application/json\", \"Authorization\": auth_token},\n",
    "            _preload_content=False,\n",
    "             _return_http_data_only=False)"
   ]
  },
  {
   "cell_type": "code",
   "execution_count": 93,
   "id": "eee9dd82-fad7-45e6-9df3-be9d2f2f5a8a",
   "metadata": {},
   "outputs": [
    {
     "data": {
      "text/plain": [
       "<openapi_client.api_response.ApiResponse at 0x7f7505295660>"
      ]
     },
     "execution_count": 93,
     "metadata": {},
     "output_type": "execute_result"
    }
   ],
   "source": [
    "the_out_process"
   ]
  },
  {
   "cell_type": "code",
   "execution_count": 94,
   "id": "64dcd806-4051-4cac-a3df-528f32e1da79",
   "metadata": {},
   "outputs": [
    {
     "data": {
      "text/plain": [
       "'{\"id\":\"securityOut\",\"title\":\"Basic out filtering \",\"description\":\"This service can be executed as a filter for OGC API - Processes requests after handling them (non-blocking)\",\"mutable\":false,\"version\":\"1.0.0\",\"metadata\":[{\"title\":\"My Demo\"}],\"jobControlOptions\":[\"sync-execute\",\"async-execute\",\"dismiss\"],\"outputTransmission\":[\"value\",\"reference\"],\"links\":[{\"rel\":\"http://www.opengis.net/def/rel/ogc/1.0/execute\",\"type\":\"application/json\",\"title\":\"Execute End Point\",\"href\":\"eugenegmu/ogc-api/processes/securityOut/execution\"}],\"inputs\":{},\"outputs\":{\"Result\":{\"title\":\"The resulting string\",\"description\":\"Unused string\",\"schema\":{\"type\":\"string\"}}}}\\n'"
      ]
     },
     "execution_count": 94,
     "metadata": {},
     "output_type": "execute_result"
    }
   ],
   "source": [
    "the_out_process.raw_data.decode(\"utf-8\")"
   ]
  },
  {
   "cell_type": "markdown",
   "id": "e64b76f6-f018-4f65-bc20-cd450b91ee38",
   "metadata": {},
   "source": [
    "#### Describe specific process - FinalizeHPC1"
   ]
  },
  {
   "cell_type": "code",
   "execution_count": 118,
   "id": "b305e430-22ec-43f9-b821-2f1745819f18",
   "metadata": {},
   "outputs": [],
   "source": [
    "the_hpc1_process = processes_api.get_process_description_with_http_info(\n",
    "            process_id=\"FinalizeHPC1\",\n",
    "            _headers={\"accept\":\"application/json\", \"Authorization\": auth_token},\n",
    "            _preload_content=False,\n",
    "             _return_http_data_only=False)"
   ]
  },
  {
   "cell_type": "code",
   "execution_count": 119,
   "id": "0449ac89-eb56-4c81-b834-051d64bcc5c2",
   "metadata": {},
   "outputs": [
    {
     "data": {
      "text/plain": [
       "<openapi_client.api_response.ApiResponse at 0x7f75058b6500>"
      ]
     },
     "execution_count": 119,
     "metadata": {},
     "output_type": "execute_result"
    }
   ],
   "source": [
    "the_hpc1_process"
   ]
  },
  {
   "cell_type": "code",
   "execution_count": 120,
   "id": "58ac2992-c24a-47ec-b7b5-7b8df33b1505",
   "metadata": {},
   "outputs": [
    {
     "data": {
      "text/plain": [
       "'{\"id\":\"FinalizeHPC1\",\"title\":\"Start phase 3 of HPC execution\",\"description\":\"Unblock the ZOO-Kernel awaiting for a remote job execution \",\"mutable\":false,\"version\":\"1.0.0\",\"jobControlOptions\":[\"sync-execute\",\"async-execute\",\"dismiss\"],\"outputTransmission\":[\"value\",\"reference\"],\"links\":[{\"rel\":\"http://www.opengis.net/def/rel/ogc/1.0/execute\",\"type\":\"application/json\",\"title\":\"Execute End Point\",\"href\":\"eugenegmu/ogc-api/processes/FinalizeHPC1/execution\"}],\"inputs\":{\"JobId\":{\"title\":\"the image\",\"description\":\"The image to process\",\"schema\":{\"type\":\"string\"}}},\"outputs\":{\"Result\":{\"title\":\"The resulting string\",\"description\":\"The message returned by the service execution as a string.\",\"schema\":{\"type\":\"string\"}}}}\\n'"
      ]
     },
     "execution_count": 120,
     "metadata": {},
     "output_type": "execute_result"
    }
   ],
   "source": [
    "the_hpc1_process.raw_data.decode(\"utf-8\")"
   ]
  },
  {
   "cell_type": "markdown",
   "id": "d37e9dc9-5562-4c15-82c6-5562a31884d3",
   "metadata": {},
   "source": [
    "#### Describe specific process - openeoFilterIn"
   ]
  },
  {
   "cell_type": "code",
   "execution_count": 115,
   "id": "9b18eec3-8ee2-4ec7-a6b9-601664b231c8",
   "metadata": {},
   "outputs": [],
   "source": [
    "the_in_process = processes_api.get_process_description_with_http_info(\n",
    "            process_id=\"openeoFilterIn\",\n",
    "            _headers={\"accept\":\"application/json\", \"Authorization\": auth_token},\n",
    "            _preload_content=False,\n",
    "             _return_http_data_only=False)"
   ]
  },
  {
   "cell_type": "code",
   "execution_count": 90,
   "id": "e1d48821-6eb8-411a-a762-53edfa742706",
   "metadata": {},
   "outputs": [
    {
     "data": {
      "text/plain": [
       "<openapi_client.api_response.ApiResponse at 0x7f46dadc3ac0>"
      ]
     },
     "execution_count": 90,
     "metadata": {},
     "output_type": "execute_result"
    }
   ],
   "source": [
    "the_in_process"
   ]
  },
  {
   "cell_type": "code",
   "execution_count": 116,
   "id": "1f5e5f21-b865-4798-9ad6-94f66d169da2",
   "metadata": {},
   "outputs": [
    {
     "data": {
      "text/plain": [
       "'{\"id\":\"openeoFilterIn\",\"title\":\"OpenEO UDP support\",\"description\":\"This service provides support for deploying OpenEO UDB graph as OGC API - Processes - Part 1: Core\",\"mutable\":false,\"version\":\"1.0.0\",\"jobControlOptions\":[\"sync-execute\",\"async-execute\",\"dismiss\"],\"outputTransmission\":[\"value\",\"reference\"],\"links\":[{\"rel\":\"http://www.opengis.net/def/rel/ogc/1.0/execute\",\"type\":\"application/json\",\"title\":\"Execute End Point\",\"href\":\"eugenegmu/ogc-api/processes/openeoFilterIn/execution\"}],\"inputs\":{},\"outputs\":{\"Result\":{\"title\":\"The resulting string\",\"description\":\"Unused string\",\"schema\":{\"type\":\"string\"}}}}\\n'"
      ]
     },
     "execution_count": 116,
     "metadata": {},
     "output_type": "execute_result"
    }
   ],
   "source": [
    "the_in_process.raw_data.decode(\"utf-8\")"
   ]
  },
  {
   "cell_type": "markdown",
   "id": "baa49761-6471-4279-bee7-955f152d448f",
   "metadata": {},
   "source": [
    "## Deploy Process"
   ]
  },
  {
   "cell_type": "code",
   "execution_count": 96,
   "id": "3adad791-5cee-4b58-bf93-8774808ad5b1",
   "metadata": {},
   "outputs": [],
   "source": [
    "from openapi_client.api.copy2_dru_api import DRUApi\n",
    "the_proc_dru = DRUApi()\n",
    "# set the endpoint\n",
    "the_proc_dru.api_client.configuration.host=\"https://testbed19.geolabs.fr:8707/ogc-api\""
   ]
  },
  {
   "cell_type": "markdown",
   "id": "4a54cdda-ead5-467c-a9e3-ce34353611c0",
   "metadata": {},
   "source": [
    "### Deploy snuggs"
   ]
  },
  {
   "cell_type": "code",
   "execution_count": 98,
   "id": "482d139e-9131-46b8-a542-7a53f7ce63c2",
   "metadata": {},
   "outputs": [],
   "source": [
    "# deploy snuggs\n",
    "json_str = '{\"executionUnit\": {\"href\": \"https://raw.githubusercontent.com/EOEPCA/proc-ades/master/test/sample_apps/v2/snuggs/workflow.cwl#snuggs\",\"type\": \"application/cwl\"}}'\n",
    "#the_proc_ex_unit = openapi_client.models.ogcapppkg_execution_unit.OgcapppkgExecutionUnit()\n",
    "#the_proc_ex_unit.actual_instance=openapi_client.models.link.Link(href=\"https://raw.githubusercontent.com/EOEPCA/proc-ades/master/test/sample_apps/v2/snuggs/workflow.cwl#snuggs\", type=\"application/cwl\")\n",
    "#the_pkg = openapi_client.models.ogcapppkg.Ogcapppkg(\n",
    "#    executionUnit=the_proc_ex_unit\n",
    "#)\n",
    "\n",
    "from openapi_client.models.copy2_ogcapppkg import Ogcapppkg\n",
    "\n",
    "the_pkg = Ogcapppkg.from_json(json_str)\n",
    "the_result = the_proc_dru.deploy_with_http_info(\n",
    "    ogcapppkg=the_pkg,\n",
    "    w=\"snuggs\",\n",
    "    _headers={\"Authorization\": auth_token,\n",
    "              \"accept\": \"application/json\",\n",
    "             \"Content-Type\": \"application/ogcapppkg+json\"\n",
    "             },\n",
    "    _preload_content=True,\n",
    "    _return_http_data_only=False)\n",
    "    "
   ]
  },
  {
   "cell_type": "code",
   "execution_count": 99,
   "id": "9a7d793b-0bf2-4d2e-96ac-67fab2d90bdf",
   "metadata": {},
   "outputs": [],
   "source": [
    "the_result.data"
   ]
  },
  {
   "cell_type": "code",
   "execution_count": 100,
   "id": "b4e1ada2-5c71-4894-98cf-c2136f9fe64c",
   "metadata": {},
   "outputs": [
    {
     "data": {
      "text/plain": [
       "'{\"id\":\"snuggs\",\"title\":\"s expressions\",\"description\":\"Applies s expressions to EO acquisitions\",\"mutable\":false,\"version\":\"0.3.0\",\"jobControlOptions\":[\"sync-execute\",\"async-execute\",\"dismiss\"],\"outputTransmission\":[\"value\",\"reference\"],\"links\":[{\"rel\":\"http://www.opengis.net/def/rel/ogc/1.0/execute\",\"type\":\"application/json\",\"title\":\"Execute End Point\",\"href\":\"b5275479-8b25-35e0-93d2-91ef3ae060dd/ogc-api/processes/snuggs/execution\"}]}\\n'"
      ]
     },
     "execution_count": 100,
     "metadata": {},
     "output_type": "execute_result"
    }
   ],
   "source": [
    "the_result.raw_data"
   ]
  },
  {
   "cell_type": "markdown",
   "id": "03e0e992-b455-4e6b-a150-2a127882e12a",
   "metadata": {},
   "source": [
    "### Deploy dnbr"
   ]
  },
  {
   "cell_type": "code",
   "execution_count": 102,
   "id": "8c8e0979-831b-4f4d-9d1b-f0f2701faa26",
   "metadata": {},
   "outputs": [],
   "source": [
    "# deploy dbnr\n",
    "json_str = '{\"executionUnit\": {\"href\": \"https://raw.githubusercontent.com/EOEPCA/proc-ades/master/test/sample_apps/v2/dNBR/workflow.cwl#dnbr\",\"type\": \"application/cwl\"}}'\n",
    "#the_proc_ex_unit = openapi_client.models.ogcapppkg_execution_unit.OgcapppkgExecutionUnit()\n",
    "#the_proc_ex_unit.actual_instance=openapi_client.models.link.Link(href=\"https://raw.githubusercontent.com/EOEPCA/proc-ades/master/test/sample_apps/v2/dNBR/workflow.cwl#dnbr\", type=\"application/cwl\")\n",
    "#the_pkg = openapi_client.models.ogcapppkg.Ogcapppkg(\n",
    "#    executionUnit=the_proc_ex_unit\n",
    "#)\n",
    "from openapi_client.models.copy2_ogcapppkg import Ogcapppkg\n",
    "\n",
    "the_pkg = Ogcapppkg.from_json(json_str)\n",
    "\n",
    "the_result = the_proc_dru.deploy_with_http_info(\n",
    "    ogcapppkg=the_pkg,\n",
    "    w=\"dnbr\",\n",
    "    _headers={\"Authorization\": auth_token,\n",
    "              \"accept\": \"application/json\",\n",
    "             \"Content-Type\": \"application/ogcapppkg+json\"\n",
    "             },\n",
    "    _preload_content=True,\n",
    "    _return_http_data_only=False)\n",
    "    "
   ]
  },
  {
   "cell_type": "code",
   "execution_count": 103,
   "id": "101f6a6e-ae0f-4b3b-be24-999128833397",
   "metadata": {},
   "outputs": [],
   "source": [
    "the_result.data"
   ]
  },
  {
   "cell_type": "code",
   "execution_count": 104,
   "id": "1ec59c7c-04d6-4dc6-bc5d-c6c4a152c387",
   "metadata": {},
   "outputs": [
    {
     "data": {
      "text/plain": [
       "'{\"id\":\"dnbr\",\"title\":\"dNBR - produce the delta normalized difference between NIR and SWIR 22 over a pair of stac items\",\"description\":\"dNBR - produce the delta normalized difference between NIR and SWIR 22 over a pair of stac items\",\"mutable\":false,\"version\":\"0.1.0\",\"jobControlOptions\":[\"sync-execute\",\"async-execute\",\"dismiss\"],\"outputTransmission\":[\"value\",\"reference\"],\"links\":[{\"rel\":\"http://www.opengis.net/def/rel/ogc/1.0/execute\",\"type\":\"application/json\",\"title\":\"Execute End Point\",\"href\":\"b5275479-8b25-35e0-93d2-91ef3ae060dd/ogc-api/processes/dnbr/execution\"}]}\\n'"
      ]
     },
     "execution_count": 104,
     "metadata": {},
     "output_type": "execute_result"
    }
   ],
   "source": [
    "the_result.raw_data"
   ]
  },
  {
   "cell_type": "markdown",
   "id": "bb61c196-403e-4274-b636-2c85f435f6ad",
   "metadata": {},
   "source": [
    "### Deploy BandMathm"
   ]
  },
  {
   "cell_type": "code",
   "execution_count": 172,
   "id": "c971e2a7-9caa-4a81-8006-1324346495f3",
   "metadata": {},
   "outputs": [
    {
     "ename": "ServiceException",
     "evalue": "(500)\nReason: Not Implemented\nHTTP response headers: HTTPHeaderDict({'Date': 'Mon, 13 Nov 2023 08:54:31 GMT', 'Server': 'Apache/2.4.41 (Ubuntu)', 'Connection': 'close', 'Transfer-Encoding': 'chunked', 'Content-Type': 'application/json;encoding=utf-8'})\nHTTP response body: {\"title\":\"NoApplicableCode\",\"type\":\"NoApplicableCode\",\"detail\":\"ZOO Kernel failed to process your request, receiving signal 11 = SIGSEGV \"}\n",
     "output_type": "error",
     "traceback": [
      "\u001b[0;31m---------------------------------------------------------------------------\u001b[0m",
      "\u001b[0;31mServiceException\u001b[0m                          Traceback (most recent call last)",
      "Cell \u001b[0;32mIn[172], line 13\u001b[0m\n\u001b[1;32m      9\u001b[0m \u001b[38;5;28;01mfrom\u001b[39;00m \u001b[38;5;21;01mopenapi_client\u001b[39;00m\u001b[38;5;21;01m.\u001b[39;00m\u001b[38;5;21;01mmodels\u001b[39;00m\u001b[38;5;21;01m.\u001b[39;00m\u001b[38;5;21;01mcopy2_ogcapppkg\u001b[39;00m \u001b[38;5;28;01mimport\u001b[39;00m Ogcapppkg\n\u001b[1;32m     11\u001b[0m the_pkg \u001b[38;5;241m=\u001b[39m Ogcapppkg\u001b[38;5;241m.\u001b[39mfrom_json(json_str)\n\u001b[0;32m---> 13\u001b[0m the_result \u001b[38;5;241m=\u001b[39m \u001b[43mthe_proc_dru\u001b[49m\u001b[38;5;241;43m.\u001b[39;49m\u001b[43mdeploy_with_http_info\u001b[49m\u001b[43m(\u001b[49m\n\u001b[1;32m     14\u001b[0m \u001b[43m    \u001b[49m\u001b[43mogcapppkg\u001b[49m\u001b[38;5;241;43m=\u001b[39;49m\u001b[43mthe_pkg\u001b[49m\u001b[43m,\u001b[49m\n\u001b[1;32m     15\u001b[0m \u001b[43m    \u001b[49m\u001b[43mw\u001b[49m\u001b[38;5;241;43m=\u001b[39;49m\u001b[38;5;124;43m\"\u001b[39;49m\u001b[38;5;124;43m\"\u001b[39;49m\u001b[43m,\u001b[49m\n\u001b[1;32m     16\u001b[0m \u001b[43m    \u001b[49m\u001b[43m_headers\u001b[49m\u001b[38;5;241;43m=\u001b[39;49m\u001b[43m{\u001b[49m\u001b[38;5;124;43m\"\u001b[39;49m\u001b[38;5;124;43mAuthorization\u001b[39;49m\u001b[38;5;124;43m\"\u001b[39;49m\u001b[43m:\u001b[49m\u001b[43m \u001b[49m\u001b[43mauth_token\u001b[49m\u001b[43m,\u001b[49m\n\u001b[1;32m     17\u001b[0m \u001b[43m              \u001b[49m\u001b[38;5;124;43m\"\u001b[39;49m\u001b[38;5;124;43maccept\u001b[39;49m\u001b[38;5;124;43m\"\u001b[39;49m\u001b[43m:\u001b[49m\u001b[43m \u001b[49m\u001b[38;5;124;43m\"\u001b[39;49m\u001b[38;5;124;43mapplication/json\u001b[39;49m\u001b[38;5;124;43m\"\u001b[39;49m\u001b[43m,\u001b[49m\n\u001b[1;32m     18\u001b[0m \u001b[43m             \u001b[49m\u001b[38;5;124;43m\"\u001b[39;49m\u001b[38;5;124;43mContent-Type\u001b[39;49m\u001b[38;5;124;43m\"\u001b[39;49m\u001b[43m:\u001b[49m\u001b[43m \u001b[49m\u001b[38;5;124;43m\"\u001b[39;49m\u001b[38;5;124;43mapplication/ogcapppkg+json\u001b[39;49m\u001b[38;5;124;43m\"\u001b[39;49m\n\u001b[1;32m     19\u001b[0m \u001b[43m             \u001b[49m\u001b[43m}\u001b[49m\u001b[43m,\u001b[49m\n\u001b[1;32m     20\u001b[0m \u001b[43m    \u001b[49m\u001b[43m_preload_content\u001b[49m\u001b[38;5;241;43m=\u001b[39;49m\u001b[38;5;28;43;01mTrue\u001b[39;49;00m\u001b[43m,\u001b[49m\n\u001b[1;32m     21\u001b[0m \u001b[43m    \u001b[49m\u001b[43m_return_http_data_only\u001b[49m\u001b[38;5;241;43m=\u001b[39;49m\u001b[38;5;28;43;01mFalse\u001b[39;49;00m\u001b[43m)\u001b[49m\n",
      "File \u001b[0;32m~/my/work/ows/t19/wksp/notebook4zoowps/lib/python3.10/site-packages/pydantic/decorator.py:40\u001b[0m, in \u001b[0;36mpydantic.decorator.validate_arguments.validate.wrapper_function\u001b[0;34m()\u001b[0m\n",
      "File \u001b[0;32m~/my/work/ows/t19/wksp/notebook4zoowps/lib/python3.10/site-packages/pydantic/decorator.py:134\u001b[0m, in \u001b[0;36mpydantic.decorator.ValidatedFunction.call\u001b[0;34m()\u001b[0m\n",
      "File \u001b[0;32m~/my/work/ows/t19/wksp/notebook4zoowps/lib/python3.10/site-packages/pydantic/decorator.py:206\u001b[0m, in \u001b[0;36mpydantic.decorator.ValidatedFunction.execute\u001b[0;34m()\u001b[0m\n",
      "File \u001b[0;32m~/my/work/ows/t19/wksp/notebook4zoowps/lib/python3.10/site-packages/openapi_client/api/copy2_dru_api.py:185\u001b[0m, in \u001b[0;36mDRUApi.deploy_with_http_info\u001b[0;34m(self, ogcapppkg, w, **kwargs)\u001b[0m\n\u001b[1;32m    181\u001b[0m _auth_settings \u001b[38;5;241m=\u001b[39m []  \u001b[38;5;66;03m# noqa: E501\u001b[39;00m\n\u001b[1;32m    183\u001b[0m _response_types_map \u001b[38;5;241m=\u001b[39m {}\n\u001b[0;32m--> 185\u001b[0m \u001b[38;5;28;01mreturn\u001b[39;00m \u001b[38;5;28;43mself\u001b[39;49m\u001b[38;5;241;43m.\u001b[39;49m\u001b[43mapi_client\u001b[49m\u001b[38;5;241;43m.\u001b[39;49m\u001b[43mcall_api\u001b[49m\u001b[43m(\u001b[49m\n\u001b[1;32m    186\u001b[0m \u001b[43m    \u001b[49m\u001b[38;5;124;43m'\u001b[39;49m\u001b[38;5;124;43m/processes\u001b[39;49m\u001b[38;5;124;43m'\u001b[39;49m\u001b[43m,\u001b[49m\u001b[43m \u001b[49m\u001b[38;5;124;43m'\u001b[39;49m\u001b[38;5;124;43mPOST\u001b[39;49m\u001b[38;5;124;43m'\u001b[39;49m\u001b[43m,\u001b[49m\n\u001b[1;32m    187\u001b[0m \u001b[43m    \u001b[49m\u001b[43m_path_params\u001b[49m\u001b[43m,\u001b[49m\n\u001b[1;32m    188\u001b[0m \u001b[43m    \u001b[49m\u001b[43m_query_params\u001b[49m\u001b[43m,\u001b[49m\n\u001b[1;32m    189\u001b[0m \u001b[43m    \u001b[49m\u001b[43m_header_params\u001b[49m\u001b[43m,\u001b[49m\n\u001b[1;32m    190\u001b[0m \u001b[43m    \u001b[49m\u001b[43mbody\u001b[49m\u001b[38;5;241;43m=\u001b[39;49m\u001b[43m_body_params\u001b[49m\u001b[43m,\u001b[49m\n\u001b[1;32m    191\u001b[0m \u001b[43m    \u001b[49m\u001b[43mpost_params\u001b[49m\u001b[38;5;241;43m=\u001b[39;49m\u001b[43m_form_params\u001b[49m\u001b[43m,\u001b[49m\n\u001b[1;32m    192\u001b[0m \u001b[43m    \u001b[49m\u001b[43mfiles\u001b[49m\u001b[38;5;241;43m=\u001b[39;49m\u001b[43m_files\u001b[49m\u001b[43m,\u001b[49m\n\u001b[1;32m    193\u001b[0m \u001b[43m    \u001b[49m\u001b[43mresponse_types_map\u001b[49m\u001b[38;5;241;43m=\u001b[39;49m\u001b[43m_response_types_map\u001b[49m\u001b[43m,\u001b[49m\n\u001b[1;32m    194\u001b[0m \u001b[43m    \u001b[49m\u001b[43mauth_settings\u001b[49m\u001b[38;5;241;43m=\u001b[39;49m\u001b[43m_auth_settings\u001b[49m\u001b[43m,\u001b[49m\n\u001b[1;32m    195\u001b[0m \u001b[43m    \u001b[49m\u001b[43masync_req\u001b[49m\u001b[38;5;241;43m=\u001b[39;49m\u001b[43m_params\u001b[49m\u001b[38;5;241;43m.\u001b[39;49m\u001b[43mget\u001b[49m\u001b[43m(\u001b[49m\u001b[38;5;124;43m'\u001b[39;49m\u001b[38;5;124;43masync_req\u001b[39;49m\u001b[38;5;124;43m'\u001b[39;49m\u001b[43m)\u001b[49m\u001b[43m,\u001b[49m\n\u001b[1;32m    196\u001b[0m \u001b[43m    \u001b[49m\u001b[43m_return_http_data_only\u001b[49m\u001b[38;5;241;43m=\u001b[39;49m\u001b[43m_params\u001b[49m\u001b[38;5;241;43m.\u001b[39;49m\u001b[43mget\u001b[49m\u001b[43m(\u001b[49m\u001b[38;5;124;43m'\u001b[39;49m\u001b[38;5;124;43m_return_http_data_only\u001b[39;49m\u001b[38;5;124;43m'\u001b[39;49m\u001b[43m)\u001b[49m\u001b[43m,\u001b[49m\u001b[43m  \u001b[49m\u001b[38;5;66;43;03m# noqa: E501\u001b[39;49;00m\n\u001b[1;32m    197\u001b[0m \u001b[43m    \u001b[49m\u001b[43m_preload_content\u001b[49m\u001b[38;5;241;43m=\u001b[39;49m\u001b[43m_params\u001b[49m\u001b[38;5;241;43m.\u001b[39;49m\u001b[43mget\u001b[49m\u001b[43m(\u001b[49m\u001b[38;5;124;43m'\u001b[39;49m\u001b[38;5;124;43m_preload_content\u001b[39;49m\u001b[38;5;124;43m'\u001b[39;49m\u001b[43m,\u001b[49m\u001b[43m \u001b[49m\u001b[38;5;28;43;01mTrue\u001b[39;49;00m\u001b[43m)\u001b[49m\u001b[43m,\u001b[49m\n\u001b[1;32m    198\u001b[0m \u001b[43m    \u001b[49m\u001b[43m_request_timeout\u001b[49m\u001b[38;5;241;43m=\u001b[39;49m\u001b[43m_params\u001b[49m\u001b[38;5;241;43m.\u001b[39;49m\u001b[43mget\u001b[49m\u001b[43m(\u001b[49m\u001b[38;5;124;43m'\u001b[39;49m\u001b[38;5;124;43m_request_timeout\u001b[39;49m\u001b[38;5;124;43m'\u001b[39;49m\u001b[43m)\u001b[49m\u001b[43m,\u001b[49m\n\u001b[1;32m    199\u001b[0m \u001b[43m    \u001b[49m\u001b[43mcollection_formats\u001b[49m\u001b[38;5;241;43m=\u001b[39;49m\u001b[43m_collection_formats\u001b[49m\u001b[43m,\u001b[49m\n\u001b[1;32m    200\u001b[0m \u001b[43m    \u001b[49m\u001b[43m_request_auth\u001b[49m\u001b[38;5;241;43m=\u001b[39;49m\u001b[43m_params\u001b[49m\u001b[38;5;241;43m.\u001b[39;49m\u001b[43mget\u001b[49m\u001b[43m(\u001b[49m\u001b[38;5;124;43m'\u001b[39;49m\u001b[38;5;124;43m_request_auth\u001b[39;49m\u001b[38;5;124;43m'\u001b[39;49m\u001b[43m)\u001b[49m\u001b[43m)\u001b[49m\n",
      "File \u001b[0;32m~/my/work/ows/t19/wksp/notebook4zoowps/lib/python3.10/site-packages/openapi_client/api_client.py:409\u001b[0m, in \u001b[0;36mcall_api\u001b[0;34m(self, resource_path, method, path_params, query_params, header_params, body, post_params, files, response_types_map, auth_settings, async_req, _return_http_data_only, collection_formats, _preload_content, _request_timeout, _host, _request_auth)\u001b[0m\n\u001b[1;32m    365\u001b[0m \u001b[38;5;250m\u001b[39m\u001b[38;5;124;03m\"\"\"Makes the HTTP request (synchronous) and returns deserialized data.\u001b[39;00m\n\u001b[1;32m    366\u001b[0m \n\u001b[1;32m    367\u001b[0m \u001b[38;5;124;03mTo make an async_req request, set the async_req parameter.\u001b[39;00m\n\u001b[0;32m   (...)\u001b[0m\n\u001b[1;32m    404\u001b[0m \u001b[38;5;124;03m    then the method will return the response directly.\u001b[39;00m\n\u001b[1;32m    405\u001b[0m \u001b[38;5;124;03m\"\"\"\u001b[39;00m\n\u001b[1;32m    406\u001b[0m \u001b[38;5;28;01mif\u001b[39;00m \u001b[38;5;129;01mnot\u001b[39;00m async_req:\n\u001b[1;32m    407\u001b[0m     \u001b[38;5;28;01mreturn\u001b[39;00m \u001b[38;5;28mself\u001b[39m\u001b[38;5;241m.\u001b[39m__call_api(resource_path, method,\n\u001b[1;32m    408\u001b[0m                            path_params, query_params, header_params,\n\u001b[0;32m--> 409\u001b[0m                            body, post_params, files,\n\u001b[1;32m    410\u001b[0m                            response_types_map, auth_settings,\n\u001b[1;32m    411\u001b[0m                            _return_http_data_only, collection_formats,\n\u001b[1;32m    412\u001b[0m                            _preload_content, _request_timeout, _host,\n\u001b[1;32m    413\u001b[0m                            _request_auth)\n\u001b[1;32m    415\u001b[0m \u001b[38;5;28;01mreturn\u001b[39;00m \u001b[38;5;28mself\u001b[39m\u001b[38;5;241m.\u001b[39mpool\u001b[38;5;241m.\u001b[39mapply_async(\u001b[38;5;28mself\u001b[39m\u001b[38;5;241m.\u001b[39m__call_api, (resource_path,\n\u001b[1;32m    416\u001b[0m                                                method, path_params,\n\u001b[1;32m    417\u001b[0m                                                query_params,\n\u001b[0;32m   (...)\u001b[0m\n\u001b[1;32m    425\u001b[0m                                                _request_timeout,\n\u001b[1;32m    426\u001b[0m                                                _host, _request_auth))\n",
      "File \u001b[0;32m~/my/work/ows/t19/wksp/notebook4zoowps/lib/python3.10/site-packages/openapi_client/api_client.py:224\u001b[0m, in \u001b[0;36mApiClient.__call_api\u001b[0;34m(self, resource_path, method, path_params, query_params, header_params, body, post_params, files, response_types_map, auth_settings, _return_http_data_only, collection_formats, _preload_content, _request_timeout, _host, _request_auth)\u001b[0m\n\u001b[1;32m    221\u001b[0m         e\u001b[38;5;241m.\u001b[39mbody \u001b[38;5;241m=\u001b[39m e\u001b[38;5;241m.\u001b[39mbody\u001b[38;5;241m.\u001b[39mdecode(\u001b[38;5;124m'\u001b[39m\u001b[38;5;124mutf-8\u001b[39m\u001b[38;5;124m'\u001b[39m)\n\u001b[1;32m    222\u001b[0m     \u001b[38;5;28;01mraise\u001b[39;00m e\n\u001b[0;32m--> 224\u001b[0m \u001b[38;5;28mself\u001b[39m\u001b[38;5;241m.\u001b[39mlast_response \u001b[38;5;241m=\u001b[39m response_data\n\u001b[1;32m    226\u001b[0m return_data \u001b[38;5;241m=\u001b[39m \u001b[38;5;28;01mNone\u001b[39;00m \u001b[38;5;66;03m# assuming derialization is not needed\u001b[39;00m\n\u001b[1;32m    227\u001b[0m \u001b[38;5;66;03m# data needs deserialization or returns HTTP data (deserialized) only\u001b[39;00m\n",
      "File \u001b[0;32m~/my/work/ows/t19/wksp/notebook4zoowps/lib/python3.10/site-packages/openapi_client/api_client.py:214\u001b[0m, in \u001b[0;36mApiClient.__call_api\u001b[0;34m(self, resource_path, method, path_params, query_params, header_params, body, post_params, files, response_types_map, auth_settings, _return_http_data_only, collection_formats, _preload_content, _request_timeout, _host, _request_auth)\u001b[0m\n\u001b[1;32m    208\u001b[0m     url \u001b[38;5;241m+\u001b[39m\u001b[38;5;241m=\u001b[39m \u001b[38;5;124m\"\u001b[39m\u001b[38;5;124m?\u001b[39m\u001b[38;5;124m\"\u001b[39m \u001b[38;5;241m+\u001b[39m url_query\n\u001b[1;32m    210\u001b[0m \u001b[38;5;28;01mtry\u001b[39;00m:\n\u001b[1;32m    211\u001b[0m     \u001b[38;5;66;03m# perform request and return response\u001b[39;00m\n\u001b[1;32m    212\u001b[0m     response_data \u001b[38;5;241m=\u001b[39m \u001b[38;5;28;43mself\u001b[39;49m\u001b[38;5;241;43m.\u001b[39;49m\u001b[43mrequest\u001b[49m\u001b[43m(\u001b[49m\n\u001b[1;32m    213\u001b[0m \u001b[43m        \u001b[49m\u001b[43mmethod\u001b[49m\u001b[43m,\u001b[49m\u001b[43m \u001b[49m\u001b[43murl\u001b[49m\u001b[43m,\u001b[49m\n\u001b[0;32m--> 214\u001b[0m \u001b[43m        \u001b[49m\u001b[43mquery_params\u001b[49m\u001b[38;5;241;43m=\u001b[39;49m\u001b[43mquery_params\u001b[49m\u001b[43m,\u001b[49m\n\u001b[1;32m    215\u001b[0m \u001b[43m        \u001b[49m\u001b[43mheaders\u001b[49m\u001b[38;5;241;43m=\u001b[39;49m\u001b[43mheader_params\u001b[49m\u001b[43m,\u001b[49m\n\u001b[1;32m    216\u001b[0m \u001b[43m        \u001b[49m\u001b[43mpost_params\u001b[49m\u001b[38;5;241;43m=\u001b[39;49m\u001b[43mpost_params\u001b[49m\u001b[43m,\u001b[49m\u001b[43m \u001b[49m\u001b[43mbody\u001b[49m\u001b[38;5;241;43m=\u001b[39;49m\u001b[43mbody\u001b[49m\u001b[43m,\u001b[49m\n\u001b[1;32m    217\u001b[0m \u001b[43m        \u001b[49m\u001b[43m_preload_content\u001b[49m\u001b[38;5;241;43m=\u001b[39;49m\u001b[43m_preload_content\u001b[49m\u001b[43m,\u001b[49m\n\u001b[1;32m    218\u001b[0m \u001b[43m        \u001b[49m\u001b[43m_request_timeout\u001b[49m\u001b[38;5;241;43m=\u001b[39;49m\u001b[43m_request_timeout\u001b[49m\u001b[43m)\u001b[49m\n\u001b[1;32m    219\u001b[0m \u001b[38;5;28;01mexcept\u001b[39;00m ApiException \u001b[38;5;28;01mas\u001b[39;00m e:\n\u001b[1;32m    220\u001b[0m     \u001b[38;5;28;01mif\u001b[39;00m e\u001b[38;5;241m.\u001b[39mbody:\n",
      "File \u001b[0;32m~/my/work/ows/t19/wksp/notebook4zoowps/lib/python3.10/site-packages/openapi_client/api_client.py:453\u001b[0m, in \u001b[0;36mrequest\u001b[0;34m(self, method, url, query_params, headers, post_params, body, _preload_content, _request_timeout)\u001b[0m\n\u001b[1;32m    445\u001b[0m     \u001b[38;5;28;01mreturn\u001b[39;00m \u001b[38;5;28mself\u001b[39m\u001b[38;5;241m.\u001b[39mrest_client\u001b[38;5;241m.\u001b[39moptions_request(url,\n\u001b[1;32m    446\u001b[0m                                     query_params\u001b[38;5;241m=\u001b[39mquery_params,\n\u001b[1;32m    447\u001b[0m                                     headers\u001b[38;5;241m=\u001b[39mheaders,\n\u001b[1;32m    448\u001b[0m                                     _preload_content\u001b[38;5;241m=\u001b[39m_preload_content,\n\u001b[1;32m    449\u001b[0m                                     _request_timeout\u001b[38;5;241m=\u001b[39m_request_timeout)\n\u001b[1;32m    450\u001b[0m \u001b[38;5;28;01melif\u001b[39;00m method \u001b[38;5;241m==\u001b[39m \u001b[38;5;124m\"\u001b[39m\u001b[38;5;124mPOST\u001b[39m\u001b[38;5;124m\"\u001b[39m:\n\u001b[1;32m    451\u001b[0m     \u001b[38;5;28;01mreturn\u001b[39;00m \u001b[38;5;28mself\u001b[39m\u001b[38;5;241m.\u001b[39mrest_client\u001b[38;5;241m.\u001b[39mpost_request(url,\n\u001b[1;32m    452\u001b[0m                                  query_params\u001b[38;5;241m=\u001b[39mquery_params,\n\u001b[0;32m--> 453\u001b[0m                                  headers\u001b[38;5;241m=\u001b[39mheaders,\n\u001b[1;32m    454\u001b[0m                                  post_params\u001b[38;5;241m=\u001b[39mpost_params,\n\u001b[1;32m    455\u001b[0m                                  _preload_content\u001b[38;5;241m=\u001b[39m_preload_content,\n\u001b[1;32m    456\u001b[0m                                  _request_timeout\u001b[38;5;241m=\u001b[39m_request_timeout,\n\u001b[1;32m    457\u001b[0m                                  body\u001b[38;5;241m=\u001b[39mbody)\n\u001b[1;32m    458\u001b[0m \u001b[38;5;28;01melif\u001b[39;00m method \u001b[38;5;241m==\u001b[39m \u001b[38;5;124m\"\u001b[39m\u001b[38;5;124mPUT\u001b[39m\u001b[38;5;124m\"\u001b[39m:\n\u001b[1;32m    459\u001b[0m     \u001b[38;5;28;01mreturn\u001b[39;00m \u001b[38;5;28mself\u001b[39m\u001b[38;5;241m.\u001b[39mrest_client\u001b[38;5;241m.\u001b[39mput_request(url,\n\u001b[1;32m    460\u001b[0m                                 query_params\u001b[38;5;241m=\u001b[39mquery_params,\n\u001b[1;32m    461\u001b[0m                                 headers\u001b[38;5;241m=\u001b[39mheaders,\n\u001b[0;32m   (...)\u001b[0m\n\u001b[1;32m    464\u001b[0m                                 _request_timeout\u001b[38;5;241m=\u001b[39m_request_timeout,\n\u001b[1;32m    465\u001b[0m                                 body\u001b[38;5;241m=\u001b[39mbody)\n",
      "File \u001b[0;32m~/my/work/ows/t19/wksp/notebook4zoowps/lib/python3.10/site-packages/openapi_client/rest.py:277\u001b[0m, in \u001b[0;36mpost_request\u001b[0;34m(self, url, headers, query_params, post_params, body, _preload_content, _request_timeout)\u001b[0m\n\u001b[1;32m    266\u001b[0m \u001b[38;5;28;01mdef\u001b[39;00m \u001b[38;5;21moptions_request\u001b[39m(\u001b[38;5;28mself\u001b[39m, url, headers\u001b[38;5;241m=\u001b[39m\u001b[38;5;28;01mNone\u001b[39;00m, query_params\u001b[38;5;241m=\u001b[39m\u001b[38;5;28;01mNone\u001b[39;00m, post_params\u001b[38;5;241m=\u001b[39m\u001b[38;5;28;01mNone\u001b[39;00m,\n\u001b[1;32m    267\u001b[0m             body\u001b[38;5;241m=\u001b[39m\u001b[38;5;28;01mNone\u001b[39;00m, _preload_content\u001b[38;5;241m=\u001b[39m\u001b[38;5;28;01mTrue\u001b[39;00m, _request_timeout\u001b[38;5;241m=\u001b[39m\u001b[38;5;28;01mNone\u001b[39;00m):\n\u001b[1;32m    268\u001b[0m     \u001b[38;5;28;01mreturn\u001b[39;00m \u001b[38;5;28mself\u001b[39m\u001b[38;5;241m.\u001b[39mrequest(\u001b[38;5;124m\"\u001b[39m\u001b[38;5;124mOPTIONS\u001b[39m\u001b[38;5;124m\"\u001b[39m, url,\n\u001b[1;32m    269\u001b[0m                         headers\u001b[38;5;241m=\u001b[39mheaders,\n\u001b[1;32m    270\u001b[0m                         query_params\u001b[38;5;241m=\u001b[39mquery_params,\n\u001b[0;32m   (...)\u001b[0m\n\u001b[1;32m    273\u001b[0m                         _request_timeout\u001b[38;5;241m=\u001b[39m_request_timeout,\n\u001b[1;32m    274\u001b[0m                         body\u001b[38;5;241m=\u001b[39mbody)\n\u001b[1;32m    276\u001b[0m \u001b[38;5;28;01mdef\u001b[39;00m \u001b[38;5;21mdelete_request\u001b[39m(\u001b[38;5;28mself\u001b[39m, url, headers\u001b[38;5;241m=\u001b[39m\u001b[38;5;28;01mNone\u001b[39;00m, query_params\u001b[38;5;241m=\u001b[39m\u001b[38;5;28;01mNone\u001b[39;00m, body\u001b[38;5;241m=\u001b[39m\u001b[38;5;28;01mNone\u001b[39;00m,\n\u001b[0;32m--> 277\u001b[0m            _preload_content\u001b[38;5;241m=\u001b[39m\u001b[38;5;28;01mTrue\u001b[39;00m, _request_timeout\u001b[38;5;241m=\u001b[39m\u001b[38;5;28;01mNone\u001b[39;00m):\n\u001b[1;32m    278\u001b[0m     \u001b[38;5;28;01mreturn\u001b[39;00m \u001b[38;5;28mself\u001b[39m\u001b[38;5;241m.\u001b[39mrequest(\u001b[38;5;124m\"\u001b[39m\u001b[38;5;124mDELETE\u001b[39m\u001b[38;5;124m\"\u001b[39m, url,\n\u001b[1;32m    279\u001b[0m                         headers\u001b[38;5;241m=\u001b[39mheaders,\n\u001b[1;32m    280\u001b[0m                         query_params\u001b[38;5;241m=\u001b[39mquery_params,\n\u001b[1;32m    281\u001b[0m                         _preload_content\u001b[38;5;241m=\u001b[39m_preload_content,\n\u001b[1;32m    282\u001b[0m                         _request_timeout\u001b[38;5;241m=\u001b[39m_request_timeout,\n\u001b[1;32m    283\u001b[0m                         body\u001b[38;5;241m=\u001b[39mbody)\n\u001b[1;32m    285\u001b[0m \u001b[38;5;28;01mdef\u001b[39;00m \u001b[38;5;21mpost_request\u001b[39m(\u001b[38;5;28mself\u001b[39m, url, headers\u001b[38;5;241m=\u001b[39m\u001b[38;5;28;01mNone\u001b[39;00m, query_params\u001b[38;5;241m=\u001b[39m\u001b[38;5;28;01mNone\u001b[39;00m, post_params\u001b[38;5;241m=\u001b[39m\u001b[38;5;28;01mNone\u001b[39;00m,\n\u001b[1;32m    286\u001b[0m          body\u001b[38;5;241m=\u001b[39m\u001b[38;5;28;01mNone\u001b[39;00m, _preload_content\u001b[38;5;241m=\u001b[39m\u001b[38;5;28;01mTrue\u001b[39;00m, _request_timeout\u001b[38;5;241m=\u001b[39m\u001b[38;5;28;01mNone\u001b[39;00m):\n",
      "File \u001b[0;32m~/my/work/ows/t19/wksp/notebook4zoowps/lib/python3.10/site-packages/openapi_client/rest.py:233\u001b[0m, in \u001b[0;36mRESTClientObject.request\u001b[0;34m(self, method, url, query_params, headers, body, post_params, _preload_content, _request_timeout)\u001b[0m\n\u001b[1;32m    230\u001b[0m     \u001b[38;5;66;03m# log response body\u001b[39;00m\n\u001b[1;32m    231\u001b[0m     logger\u001b[38;5;241m.\u001b[39mdebug(\u001b[38;5;124m\"\u001b[39m\u001b[38;5;124mresponse body: \u001b[39m\u001b[38;5;132;01m%s\u001b[39;00m\u001b[38;5;124m\"\u001b[39m, r\u001b[38;5;241m.\u001b[39mdata)\n\u001b[0;32m--> 233\u001b[0m \u001b[38;5;28;01mif\u001b[39;00m \u001b[38;5;129;01mnot\u001b[39;00m \u001b[38;5;241m200\u001b[39m \u001b[38;5;241m<\u001b[39m\u001b[38;5;241m=\u001b[39m r\u001b[38;5;241m.\u001b[39mstatus \u001b[38;5;241m<\u001b[39m\u001b[38;5;241m=\u001b[39m \u001b[38;5;241m299\u001b[39m:\n\u001b[1;32m    234\u001b[0m     \u001b[38;5;28;01mif\u001b[39;00m r\u001b[38;5;241m.\u001b[39mstatus \u001b[38;5;241m==\u001b[39m \u001b[38;5;241m401\u001b[39m:\n\u001b[1;32m    235\u001b[0m         \u001b[38;5;28;01mraise\u001b[39;00m UnauthorizedException(http_resp\u001b[38;5;241m=\u001b[39mr)\n",
      "\u001b[0;31mServiceException\u001b[0m: (500)\nReason: Not Implemented\nHTTP response headers: HTTPHeaderDict({'Date': 'Mon, 13 Nov 2023 08:54:31 GMT', 'Server': 'Apache/2.4.41 (Ubuntu)', 'Connection': 'close', 'Transfer-Encoding': 'chunked', 'Content-Type': 'application/json;encoding=utf-8'})\nHTTP response body: {\"title\":\"NoApplicableCode\",\"type\":\"NoApplicableCode\",\"detail\":\"ZOO Kernel failed to process your request, receiving signal 11 = SIGSEGV \"}\n"
     ]
    }
   ],
   "source": [
    "# deploy BandMath\n",
    "json_str = '{\"processDescription\":{\"id\":\"BandMath\",\"title\":\"Outputs a monoband image which is the result of a mathematical operation on several multi-band images.\",\"description\":\"This application performs a mathematical operation on several multi-band images and outputs the result into a monoband image. The given expression is computed at each pixel position. Evaluation of the mathematical formula is done by the muParser libraries.\",\"version\":\"1.0.0\",\"jobControlOptions\":[\"sync-execute\",\"async-execute\",\"dismiss\"],\"outputTransmission\":[\"value\",\"reference\"],\"links\":[],\"additionalParameters\":[{\"name\":\"entry-point\",\"value\":\"singularity exec otbtf_4.1.0-cpu.sif /opt/otbtf/bin/otbcli_BandMath\"}],\"inputs\":{\"il\":{\"title\":\"Image-list of operands to the mathematical expression.\",\"description\":\"Image-list of operands to the mathematical expression.\",\"maxOccurs\":1024,\"additionalParameters\":[{\"name\":\"pattern\",\"value\":\"-name value\"},{\"name\":\"array-pattern\",\"value\":\"-name value value\"}],\"schema\":{\"oneOf\":[{\"type\":\"string\",\"contentEncoding\":\"base64\",\"contentMediaType\":\"image/tiff\"},{\"type\":\"string\",\"contentEncoding\":\"base64\",\"contentMediaType\":\"image/jpeg\"},{\"type\":\"string\",\"contentEncoding\":\"base64\",\"contentMediaType\":\"image/png\"}]}},\"out\":{\"title\":\"Output image which is the result of the mathematical expressions on input image-list operands.\",\"description\":\"Output image which is the result of the mathematical expressions on input image-list operands.\",\"additionalParameters\":[{\"name\":\"pattern\",\"value\":\" \"}],\"schema\":{\"type\":\"string\",\"default\":\"float\",\"enum\":[\"uint8\",\"uint16\",\"int16\",\"int32\",\"int32\",\"float\",\"double\"]}},\"ram\":{\"title\":\"Available memory for processing (in MB)\",\"description\":\"Available memory for processing (in MB)\",\"additionalParameters\":[{\"name\":\"pattern\",\"value\":\"-name value\"}],\"schema\":{\"type\":\"integer\",\"default\":128,\"nullable\":true}},\"exp\":{\"title\":\"The muParser mathematical expression to apply on input images.\",\"description\":\"The muParser mathematical expression to apply on input images.\",\"additionalParameters\":[{\"name\":\"pattern\",\"value\":\"-name __value__\"}],\"schema\":{\"type\":\"string\"}}},\"outputs\":{\"out\":{\"title\":\"Output image which is the result of the mathematical expressions on input image-list operands.\",\"description\":\"Output image which is the result of the mathematical expressions on input image-list operands.\",\"additionalParameters\":[{\"name\":\"pattern\",\"value\":\"-name value inputs_out_value\"}],\"schema\":{\"oneOf\":[{\"type\":\"string\",\"contentEncoding\":\"base64\",\"contentMediaType\":\"image/tiff\"},{\"type\":\"string\",\"contentEncoding\":\"base64\",\"contentMediaType\":\"image/jpeg\"},{\"type\":\"string\",\"contentEncoding\":\"base64\",\"contentMediaType\":\"image/png\"}]}}}},\"executionUnit\":{\"type\":\"SLURM\",\"image\":\"docker://otbtf/4.1.0-cpu\"}}'\n",
    "#the_proc_ex_unit = openapi_client.models.ogcapppkg_execution_unit.OgcapppkgExecutionUnit()\n",
    "#the_proc_ex_unit.actual_instance={\"image\":\"docker://otbtf/4.1.0-cpu\", \"type\":\"SLURM\"}\n",
    "#the_pkg = openapi_client.models.ogcapppkg.Ogcapppkg(\n",
    "#    executionUnit=the_proc_ex_unit\n",
    "#)\n",
    "\n",
    "from openapi_client.models.copy2_ogcapppkg import Ogcapppkg\n",
    "\n",
    "the_pkg = Ogcapppkg.from_json(json_str)\n",
    "\n",
    "the_result = the_proc_dru.deploy_with_http_info(\n",
    "    ogcapppkg=the_pkg,\n",
    "    w=\"\",\n",
    "    _headers={\"Authorization\": auth_token,\n",
    "              \"accept\": \"application/json\",\n",
    "             \"Content-Type\": \"application/ogcapppkg+json\"\n",
    "             },\n",
    "    _preload_content=True,\n",
    "    _return_http_data_only=False)"
   ]
  },
  {
   "cell_type": "code",
   "execution_count": 122,
   "id": "531f8973-01ec-4534-a640-160bb6c5681a",
   "metadata": {},
   "outputs": [],
   "source": [
    "the_result.data"
   ]
  },
  {
   "cell_type": "code",
   "execution_count": 123,
   "id": "c7219cc1-29aa-41a2-a043-4d1da217a9cb",
   "metadata": {},
   "outputs": [
    {
     "data": {
      "text/plain": [
       "'{\"id\":\"BandMath\",\"title\":\"Outputs a monoband image which is the result of a mathematical operation on several multi-band images.\",\"description\":\"This application performs a mathematical operation on several multi-band images and outputs the result into a monoband image. The given expression is computed at each pixel position. Evaluation of the mathematical formula is done by the muParser libraries.\",\"mutable\":true,\"version\":\"1.0.0\",\"additionalParameters\":{\"additionalParameter\":[{\"name\":\"entry-point\",\"value\":\"singularity exec otbtf_4.1.0-cpu.sif /opt/otbtf/bin/otbcli_BandMath\"}]},\"outputTransmission\":[\"value\",\"reference\"],\"jobControlOptions\":[\"async-execute\"],\"links\":[{\"rel\":\"http://www.opengis.net/def/rel/ogc/1.0/execute\",\"type\":\"application/json\",\"title\":\"Execute End Point\",\"href\":\"eugenegmu/ogc-api/processes/BandMath/execution\"}]}\\n'"
      ]
     },
     "execution_count": 123,
     "metadata": {},
     "output_type": "execute_result"
    }
   ],
   "source": [
    "the_result.raw_data"
   ]
  },
  {
   "cell_type": "markdown",
   "id": "b075ae72-38ee-4ad5-903f-82470769db51",
   "metadata": {},
   "source": [
    "## Execute Process\n",
    "\n",
    "### Execute the process BandMath"
   ]
  },
  {
   "cell_type": "code",
   "execution_count": 173,
   "id": "b52f6c6a-6392-4744-a4d9-d220fe69ee66",
   "metadata": {},
   "outputs": [],
   "source": [
    "the_proc_api = openapi_client.api.processes_api.ProcessesApi()\n",
    "# set the endpoint\n",
    "the_proc_api.api_client.configuration.host=\"https://testbed19.geolabs.fr:8707/ogc-api\""
   ]
  },
  {
   "cell_type": "markdown",
   "id": "76e277e8-d3d5-4e89-9918-cc3d16b8cfee",
   "metadata": {},
   "source": [
    "#### Execute 'BandMath' process"
   ]
  },
  {
   "cell_type": "code",
   "execution_count": 174,
   "id": "4cdaf130-7594-4302-9276-f14466bb35e0",
   "metadata": {},
   "outputs": [],
   "source": [
    "the_data = {\"inputs\":{\"il\":[{\"href\":\"http://geolabs.fr/dl/Landsat8Extract1.tif\"}],\"out\":\"float\",\"exp\":\"im1b1+im1b2\",\"ram\":256},\"outputs\":{\"out\":{\"format\":{\"mediaType\":\"image/png\"},\"transmissionMode\":\"reference\"}},\"response\":\"document\"}\n",
    "\n",
    "the_result = the_proc_api.execute_with_http_info(\n",
    "            process_id=\"BandMath\",\n",
    "            unknown_base_type=the_data,\n",
    "            async_req=True,\n",
    "         #   response=None,\n",
    "            prefer='respond-async;return=representation',\n",
    "            _headers={\"Accept\":\"/*\", \"Authorization\": auth_token},\n",
    "            _preload_content=False,\n",
    "             _return_http_data_only=False)\n"
   ]
  },
  {
   "cell_type": "code",
   "execution_count": 175,
   "id": "5c0d1fb6-f51c-4e23-8e69-d3b967899abb",
   "metadata": {},
   "outputs": [
    {
     "data": {
      "text/plain": [
       "<multiprocessing.pool.ApplyResult at 0x7f74e81e5240>"
      ]
     },
     "execution_count": 175,
     "metadata": {},
     "output_type": "execute_result"
    }
   ],
   "source": [
    "the_result"
   ]
  },
  {
   "cell_type": "code",
   "execution_count": 176,
   "id": "0d661700-64c0-4de8-830c-f7c51c2252a3",
   "metadata": {},
   "outputs": [],
   "source": [
    "the_response_str=the_result.get().raw_data.decode(\"utf-8\")"
   ]
  },
  {
   "cell_type": "code",
   "execution_count": 177,
   "id": "5d2d027d-ca59-435b-9af6-cc1232644842",
   "metadata": {},
   "outputs": [],
   "source": [
    "the_result.get().data"
   ]
  },
  {
   "cell_type": "code",
   "execution_count": 188,
   "id": "f4937ff0-4b34-4cde-af95-93c009c1755a",
   "metadata": {},
   "outputs": [],
   "source": [
    "from openapi_client.models.status_info import StatusInfo\n",
    "the_status_info = StatusInfo.from_json(the_response_str)"
   ]
  },
  {
   "cell_type": "code",
   "execution_count": 189,
   "id": "cfb866cb-0c6e-4dab-84e6-6cefa0f6cf4f",
   "metadata": {},
   "outputs": [
    {
     "data": {
      "text/plain": [
       "StatusInfo(process_id='BandMath', type='process', job_id='543ce3f8-8202-11ee-8725-0242c0a8e008', status=<StatusCode.RUNNING: 'running'>, message='ZOO-Kernel accepted to run your service!', created=datetime.datetime(2023, 11, 13, 8, 55, 1, 393000, tzinfo=datetime.timezone.utc), started=datetime.datetime(2023, 11, 13, 8, 55, 1, 393000, tzinfo=datetime.timezone.utc), finished=None, updated=datetime.datetime(2023, 11, 13, 8, 55, 1, 393000, tzinfo=datetime.timezone.utc), progress=None, links=[Link(href='b5275479-8b25-35e0-93d2-91ef3ae060dd/ogc-api/jobs/543ce3f8-8202-11ee-8725-0242c0a8e008', rel='status', type='application/json', hreflang=None, title='Status location')])"
      ]
     },
     "execution_count": 189,
     "metadata": {},
     "output_type": "execute_result"
    }
   ],
   "source": [
    "the_status_info"
   ]
  },
  {
   "cell_type": "markdown",
   "id": "3a55acd2-687d-42cf-9adf-ef59851685bc",
   "metadata": {},
   "source": [
    "* Describe the job"
   ]
  },
  {
   "cell_type": "code",
   "execution_count": 190,
   "id": "ca3100c4-0936-47d1-b8ab-baeea7f79e37",
   "metadata": {},
   "outputs": [],
   "source": [
    "the_job_id = the_status_info.job_id"
   ]
  },
  {
   "cell_type": "markdown",
   "id": "70fe8217-81d2-42cc-9a1f-3c22fde3bb43",
   "metadata": {},
   "source": [
    "### Get Jobs"
   ]
  },
  {
   "cell_type": "code",
   "execution_count": 191,
   "id": "f8a2970f-c0f3-44d7-b799-b8e8bb6d78de",
   "metadata": {},
   "outputs": [],
   "source": [
    "the_jobs_api = openapi_client.api.jobs_api.JobsApi()\n",
    "# set the endpoint\n",
    "the_jobs_api.api_client.configuration.host=\"https://testbed19.geolabs.fr:8707/ogc-api\""
   ]
  },
  {
   "cell_type": "code",
   "execution_count": 192,
   "id": "4800ec03-4785-4c95-bca7-a029ff5b40c9",
   "metadata": {},
   "outputs": [],
   "source": [
    "the_jobs = the_jobs_api.get_jobs_with_http_info(\n",
    "    _headers={\"accept\":\"application/json\", \"Authorization\": auth_token},\n",
    "    _preload_content=True,\n",
    "    _return_http_data_only=False)"
   ]
  },
  {
   "cell_type": "code",
   "execution_count": 193,
   "id": "342e737e-856e-435f-95f6-68782310d314",
   "metadata": {},
   "outputs": [
    {
     "data": {
      "text/plain": [
       "JobList(jobs=[StatusInfo(process_id='BandMath', type='process', job_id='4de9c72c-7114-11ee-9416-0242c0a8e008', status=<StatusCode.SUCCESSFUL: 'successful'>, message='ZOO-Kernel successfully run your service!', created=datetime.datetime(2023, 10, 22, 19, 50, 52, 619000, tzinfo=datetime.timezone.utc), started=datetime.datetime(2023, 10, 22, 19, 50, 52, 619000, tzinfo=datetime.timezone.utc), finished=datetime.datetime(2023, 10, 22, 19, 51, 27, 102000, tzinfo=datetime.timezone.utc), updated=datetime.datetime(2023, 10, 22, 19, 50, 52, 619000, tzinfo=datetime.timezone.utc), progress=None, links=[Link(href='b5275479-8b25-35e0-93d2-91ef3ae060dd/ogc-api/jobs/4de9c72c-7114-11ee-9416-0242c0a8e008', rel='status', type='application/json', hreflang=None, title='Status location'), Link(href='b5275479-8b25-35e0-93d2-91ef3ae060dd/ogc-api/jobs/4de9c72c-7114-11ee-9416-0242c0a8e008/results', rel='http://www.opengis.net/def/rel/ogc/1.0/results', type='application/json', hreflang=None, title='Result location')]), StatusInfo(process_id='BandMath', type='process', job_id='b2005ff6-81fd-11ee-a293-0242c0a8e008', status=<StatusCode.SUCCESSFUL: 'successful'>, message='ZOO-Kernel successfully run your service!', created=datetime.datetime(2023, 11, 13, 8, 21, 51, 478000, tzinfo=datetime.timezone.utc), started=datetime.datetime(2023, 11, 13, 8, 21, 51, 478000, tzinfo=datetime.timezone.utc), finished=datetime.datetime(2023, 11, 13, 8, 22, 28, 503000, tzinfo=datetime.timezone.utc), updated=datetime.datetime(2023, 11, 13, 8, 21, 51, 478000, tzinfo=datetime.timezone.utc), progress=None, links=[Link(href='b5275479-8b25-35e0-93d2-91ef3ae060dd/ogc-api/jobs/b2005ff6-81fd-11ee-a293-0242c0a8e008', rel='status', type='application/json', hreflang=None, title='Status location'), Link(href='b5275479-8b25-35e0-93d2-91ef3ae060dd/ogc-api/jobs/b2005ff6-81fd-11ee-a293-0242c0a8e008/results', rel='http://www.opengis.net/def/rel/ogc/1.0/results', type='application/json', hreflang=None, title='Result location')]), StatusInfo(process_id='BandMath', type='process', job_id='543ce3f8-8202-11ee-8725-0242c0a8e008', status=<StatusCode.SUCCESSFUL: 'successful'>, message='ZOO-Kernel successfully run your service!', created=datetime.datetime(2023, 11, 13, 8, 55, 1, 393000, tzinfo=datetime.timezone.utc), started=datetime.datetime(2023, 11, 13, 8, 55, 1, 393000, tzinfo=datetime.timezone.utc), finished=datetime.datetime(2023, 11, 13, 8, 55, 33, 850000, tzinfo=datetime.timezone.utc), updated=datetime.datetime(2023, 11, 13, 8, 55, 1, 393000, tzinfo=datetime.timezone.utc), progress=None, links=[Link(href='b5275479-8b25-35e0-93d2-91ef3ae060dd/ogc-api/jobs/543ce3f8-8202-11ee-8725-0242c0a8e008', rel='status', type='application/json', hreflang=None, title='Status location'), Link(href='b5275479-8b25-35e0-93d2-91ef3ae060dd/ogc-api/jobs/543ce3f8-8202-11ee-8725-0242c0a8e008/results', rel='http://www.opengis.net/def/rel/ogc/1.0/results', type='application/json', hreflang=None, title='Result location')])], links=[Link(href='b5275479-8b25-35e0-93d2-91ef3ae060dd/ogc-api/jobs', rel='self', type='application/json', hreflang=None, title=None)])"
      ]
     },
     "execution_count": 193,
     "metadata": {},
     "output_type": "execute_result"
    }
   ],
   "source": [
    "the_jobs.data"
   ]
  },
  {
   "cell_type": "markdown",
   "id": "7dadb134-08c7-43a2-bb0c-2b399a7dd378",
   "metadata": {},
   "source": [
    "#### Number of jobs"
   ]
  },
  {
   "cell_type": "code",
   "execution_count": 194,
   "id": "70f8eff9-ff58-46d5-8799-c1c93aa78757",
   "metadata": {},
   "outputs": [
    {
     "data": {
      "text/plain": [
       "3"
      ]
     },
     "execution_count": 194,
     "metadata": {},
     "output_type": "execute_result"
    }
   ],
   "source": [
    "len(the_jobs.data.jobs)"
   ]
  },
  {
   "cell_type": "markdown",
   "id": "bb72b0f1-adc1-4e6f-8ed6-dee7e770fef1",
   "metadata": {},
   "source": [
    "#### Get the status of a specific job"
   ]
  },
  {
   "cell_type": "code",
   "execution_count": 195,
   "id": "9ca8efd9-f2cb-4d02-a0cd-2c27f1162678",
   "metadata": {},
   "outputs": [
    {
     "name": "stdout",
     "output_type": "stream",
     "text": [
      "job id= 543ce3f8-8202-11ee-8725-0242c0a8e008\n"
     ]
    }
   ],
   "source": [
    "# the_specific_job = the_jobs.data.jobs[0].job_id\n",
    "print(\"job id=\", the_job_id)"
   ]
  },
  {
   "cell_type": "code",
   "execution_count": 196,
   "id": "8f1f991a-6ecd-4889-a281-7ffe87e87a09",
   "metadata": {},
   "outputs": [],
   "source": [
    "the_job_status = the_jobs_api.get_status_with_http_info(\n",
    "    job_id=the_job_id,\n",
    "    _headers={\"accept\":\"application/json\", \"Authorization\": auth_token},\n",
    "    _preload_content=True,\n",
    "    _return_http_data_only=False)"
   ]
  },
  {
   "cell_type": "code",
   "execution_count": 197,
   "id": "8b23d156-d2c1-48c6-8891-2be541bb8561",
   "metadata": {},
   "outputs": [
    {
     "data": {
      "text/plain": [
       "<StatusCode.SUCCESSFUL: 'successful'>"
      ]
     },
     "execution_count": 197,
     "metadata": {},
     "output_type": "execute_result"
    }
   ],
   "source": [
    "the_job_status.data.status"
   ]
  },
  {
   "cell_type": "markdown",
   "id": "e0405fa2-e93b-47d5-8b7d-a72120d9e55c",
   "metadata": {},
   "source": [
    "#### Get links for status and results for succeeeded process"
   ]
  },
  {
   "cell_type": "code",
   "execution_count": 198,
   "id": "2723948d-11db-4411-a232-ddc78fd13bb1",
   "metadata": {},
   "outputs": [
    {
     "data": {
      "text/plain": [
       "[Link(href='b5275479-8b25-35e0-93d2-91ef3ae060dd/ogc-api/jobs/543ce3f8-8202-11ee-8725-0242c0a8e008', rel='status', type='application/json', hreflang=None, title='Status location'),\n",
       " Link(href='b5275479-8b25-35e0-93d2-91ef3ae060dd/ogc-api/jobs/543ce3f8-8202-11ee-8725-0242c0a8e008/results', rel='http://www.opengis.net/def/rel/ogc/1.0/results', type='application/json', hreflang=None, title='Result location')]"
      ]
     },
     "execution_count": 198,
     "metadata": {},
     "output_type": "execute_result"
    }
   ],
   "source": [
    "the_job_status.data.links"
   ]
  },
  {
   "cell_type": "code",
   "execution_count": 199,
   "id": "7f9bf335-7269-489a-b957-9de0606c7ac0",
   "metadata": {},
   "outputs": [],
   "source": [
    "the_job_result = the_jobs_api.get_result_with_http_info(\n",
    "    job_id=the_job_id,\n",
    "    _headers={\"accept\":\"application/json\", \"Authorization\": auth_token},\n",
    "    _preload_content=True,\n",
    "    _return_http_data_only=False)"
   ]
  },
  {
   "cell_type": "code",
   "execution_count": 200,
   "id": "980b674f-98b0-4b60-b548-8eaebfbf85fa",
   "metadata": {},
   "outputs": [
    {
     "data": {
      "text/plain": [
       "{'out': InlineOrRefData(oneof_schema_1_validator=None, oneof_schema_2_validator=None, oneof_schema_3_validator=None, actual_instance=Link(href='https://testbed19.geolabs.fr:8707/cgi-bin/mapserv?map=/usr/com/zoo-project/out_0_543ce3f8-8202-11ee-8725-0242c0a8e008.map&request=GetMap&service=WMS&version=1.3.0&layers=out&width=640.000&height=437.148&format=image/png&bbox=43.276499596965110,3.472089575486792,43.508144951067202,3.811226215201843&crs=EPSG:4326', rel=None, type='image/png', hreflang=None, title=None), one_of_schemas=['InputValueNoObject', 'Link', 'QualifiedInputValue'])}"
      ]
     },
     "execution_count": 200,
     "metadata": {},
     "output_type": "execute_result"
    }
   ],
   "source": [
    "the_job_result.data"
   ]
  },
  {
   "cell_type": "code",
   "execution_count": 201,
   "id": "7da4a51e-82f1-4f59-b6fe-e52d1851070d",
   "metadata": {},
   "outputs": [],
   "source": [
    "the_url = the_job_result.data[\"out\"].actual_instance.href"
   ]
  },
  {
   "cell_type": "code",
   "execution_count": 202,
   "id": "4d18784b-a9e6-47bc-9dfd-3a669c572793",
   "metadata": {},
   "outputs": [
    {
     "data": {
      "text/plain": [
       "'https://testbed19.geolabs.fr:8707/cgi-bin/mapserv?map=/usr/com/zoo-project/out_0_543ce3f8-8202-11ee-8725-0242c0a8e008.map&request=GetMap&service=WMS&version=1.3.0&layers=out&width=640.000&height=437.148&format=image/png&bbox=43.276499596965110,3.472089575486792,43.508144951067202,3.811226215201843&crs=EPSG:4326'"
      ]
     },
     "execution_count": 202,
     "metadata": {},
     "output_type": "execute_result"
    }
   ],
   "source": [
    "the_url"
   ]
  },
  {
   "cell_type": "code",
   "execution_count": 203,
   "id": "89b1fd26-e746-4dd6-a398-3135a279364c",
   "metadata": {},
   "outputs": [
    {
     "data": {
      "text/html": [
       "\n",
       "    <style>\n",
       "        #ipyplot-html-viewer-toggle-ca28f4M2bgPBAWgZD5bHN9 {\n",
       "            position: absolute;\n",
       "            top: -9999px;\n",
       "            left: -9999px;\n",
       "            visibility: hidden;\n",
       "        }\n",
       "\n",
       "        #ipyplot-html-viewer-label-ca28f4M2bgPBAWgZD5bHN9 { \n",
       "            position: relative;\n",
       "            display: inline-block;\n",
       "            cursor: pointer;\n",
       "            color: blue;\n",
       "            text-decoration: underline;\n",
       "        }\n",
       "\n",
       "        #ipyplot-html-viewer-textarea-ca28f4M2bgPBAWgZD5bHN9 {\n",
       "            background: lightgrey;\n",
       "            width: 100%;\n",
       "            height: 0px;\n",
       "            display: none;\n",
       "        }\n",
       "\n",
       "        #ipyplot-html-viewer-toggle-ca28f4M2bgPBAWgZD5bHN9:checked ~ #ipyplot-html-viewer-textarea-ca28f4M2bgPBAWgZD5bHN9 {\n",
       "            height: 200px;\n",
       "            display: block;\n",
       "        }\n",
       "\n",
       "        #ipyplot-html-viewer-toggle-ca28f4M2bgPBAWgZD5bHN9:checked + #ipyplot-html-viewer-label-ca28f4M2bgPBAWgZD5bHN9:after {\n",
       "            content: \"hide html\";\n",
       "            position: absolute;\n",
       "            top: 0;\n",
       "            left: 0;\n",
       "            right: 0;\n",
       "            bottom: 0;\n",
       "            background: white;\n",
       "            cursor: pointer;\n",
       "            color: blue;\n",
       "            text-decoration: underline;\n",
       "        }\n",
       "    </style>\n",
       "    <div>\n",
       "        <input type=\"checkbox\" id=\"ipyplot-html-viewer-toggle-ca28f4M2bgPBAWgZD5bHN9\">\n",
       "        <label id=\"ipyplot-html-viewer-label-ca28f4M2bgPBAWgZD5bHN9\" for=\"ipyplot-html-viewer-toggle-ca28f4M2bgPBAWgZD5bHN9\">show html</label>\n",
       "        <textarea id=\"ipyplot-html-viewer-textarea-ca28f4M2bgPBAWgZD5bHN9\" readonly>\n",
       "            \n",
       "        <style>\n",
       "        #ipyplot-imgs-container-div-Gwqr2SMgEtSubsgjaQaKNV {\n",
       "            width: 100%;\n",
       "            height: 100%;\n",
       "            margin: 0%;\n",
       "            overflow: auto;\n",
       "            position: relative;\n",
       "            overflow-y: scroll;\n",
       "        }\n",
       "\n",
       "        div.ipyplot-placeholder-div-Gwqr2SMgEtSubsgjaQaKNV {\n",
       "            width: 400px;\n",
       "            display: inline-block;\n",
       "            margin: 3px;\n",
       "            position: relative;\n",
       "        }\n",
       "\n",
       "        div.ipyplot-content-div-Gwqr2SMgEtSubsgjaQaKNV {\n",
       "            width: 400px;\n",
       "            background: white;\n",
       "            display: inline-block;\n",
       "            vertical-align: top;\n",
       "            text-align: center;\n",
       "            position: relative;\n",
       "            border: 2px solid #ddd;\n",
       "            top: 0;\n",
       "            left: 0;\n",
       "        }\n",
       "\n",
       "        div.ipyplot-content-div-Gwqr2SMgEtSubsgjaQaKNV span.ipyplot-img-close {\n",
       "            display: none;\n",
       "        }\n",
       "\n",
       "        div.ipyplot-content-div-Gwqr2SMgEtSubsgjaQaKNV span {\n",
       "            width: 100%;\n",
       "            height: 100%;\n",
       "            position: absolute;\n",
       "            top: 0;\n",
       "            left: 0;\n",
       "        }\n",
       "\n",
       "        div.ipyplot-content-div-Gwqr2SMgEtSubsgjaQaKNV img {\n",
       "            width: 400px;\n",
       "        }\n",
       "\n",
       "        div.ipyplot-content-div-Gwqr2SMgEtSubsgjaQaKNV span.ipyplot-img-close:hover {\n",
       "            cursor: zoom-out;\n",
       "        }\n",
       "        div.ipyplot-content-div-Gwqr2SMgEtSubsgjaQaKNV span.ipyplot-img-expand:hover {\n",
       "            cursor: zoom-in;\n",
       "        }\n",
       "\n",
       "        div[id^=ipyplot-content-div-Gwqr2SMgEtSubsgjaQaKNV]:target {\n",
       "            transform: scale(2.5);\n",
       "            transform-origin: left top;\n",
       "            z-index: 5000;\n",
       "            top: 0;\n",
       "            left: 0;\n",
       "            position: absolute;\n",
       "        }\n",
       "\n",
       "        div[id^=ipyplot-content-div-Gwqr2SMgEtSubsgjaQaKNV]:target span.ipyplot-img-close {\n",
       "            display: block;\n",
       "        }\n",
       "\n",
       "        div[id^=ipyplot-content-div-Gwqr2SMgEtSubsgjaQaKNV]:target span.ipyplot-img-expand {\n",
       "            display: none;\n",
       "        }\n",
       "        </style>\n",
       "    <div id=\"ipyplot-imgs-container-div-Gwqr2SMgEtSubsgjaQaKNV\">\n",
       "    <div class=\"ipyplot-placeholder-div-Gwqr2SMgEtSubsgjaQaKNV\">\n",
       "        <div id=\"ipyplot-content-div-Gwqr2SMgEtSubsgjaQaKNV-TUQNHyk6jnMY5kguRy85T2\" class=\"ipyplot-content-div-Gwqr2SMgEtSubsgjaQaKNV\">\n",
       "            <h4 style=\"font-size: 12px; word-wrap: break-word;\">0</h4>\n",
       "            <h4 style=\"font-size: 9px; padding-left: 10px; padding-right: 10px; width: 95%; word-wrap: break-word; white-space: normal;\">https://testbed19.geolabs.fr:8707/cgi-bin/mapserv?map=/usr/com/zoo-project/out_0_543ce3f8-8202-11ee-8725-0242c0a8e008.map&request=GetMap&service=WMS&version=1.3.0&layers=out&width=640.000&height=437.148&format=image/png&bbox=43.276499596965110,3.472089575486792,43.508144951067202,3.811226215201843&crs=EPSG:4326</h4><img src=\"https://testbed19.geolabs.fr:8707/cgi-bin/mapserv?map=/usr/com/zoo-project/out_0_543ce3f8-8202-11ee-8725-0242c0a8e008.map&request=GetMap&service=WMS&version=1.3.0&layers=out&width=640.000&height=437.148&format=image/png&bbox=43.276499596965110,3.472089575486792,43.508144951067202,3.811226215201843&crs=EPSG:4326\"/>\n",
       "            <a href=\"#!\">\n",
       "                <span class=\"ipyplot-img-close\"/>\n",
       "            </a>\n",
       "            <a href=\"#ipyplot-content-div-Gwqr2SMgEtSubsgjaQaKNV-TUQNHyk6jnMY5kguRy85T2\">\n",
       "                <span class=\"ipyplot-img-expand\"/>\n",
       "            </a>\n",
       "        </div>\n",
       "    </div>\n",
       "    </div>\n",
       "        </textarea>\n",
       "    </div>\n",
       "    "
      ],
      "text/plain": [
       "<IPython.core.display.HTML object>"
      ]
     },
     "metadata": {},
     "output_type": "display_data"
    },
    {
     "data": {
      "text/html": [
       "\n",
       "        <style>\n",
       "        #ipyplot-imgs-container-div-Gwqr2SMgEtSubsgjaQaKNV {\n",
       "            width: 100%;\n",
       "            height: 100%;\n",
       "            margin: 0%;\n",
       "            overflow: auto;\n",
       "            position: relative;\n",
       "            overflow-y: scroll;\n",
       "        }\n",
       "\n",
       "        div.ipyplot-placeholder-div-Gwqr2SMgEtSubsgjaQaKNV {\n",
       "            width: 400px;\n",
       "            display: inline-block;\n",
       "            margin: 3px;\n",
       "            position: relative;\n",
       "        }\n",
       "\n",
       "        div.ipyplot-content-div-Gwqr2SMgEtSubsgjaQaKNV {\n",
       "            width: 400px;\n",
       "            background: white;\n",
       "            display: inline-block;\n",
       "            vertical-align: top;\n",
       "            text-align: center;\n",
       "            position: relative;\n",
       "            border: 2px solid #ddd;\n",
       "            top: 0;\n",
       "            left: 0;\n",
       "        }\n",
       "\n",
       "        div.ipyplot-content-div-Gwqr2SMgEtSubsgjaQaKNV span.ipyplot-img-close {\n",
       "            display: none;\n",
       "        }\n",
       "\n",
       "        div.ipyplot-content-div-Gwqr2SMgEtSubsgjaQaKNV span {\n",
       "            width: 100%;\n",
       "            height: 100%;\n",
       "            position: absolute;\n",
       "            top: 0;\n",
       "            left: 0;\n",
       "        }\n",
       "\n",
       "        div.ipyplot-content-div-Gwqr2SMgEtSubsgjaQaKNV img {\n",
       "            width: 400px;\n",
       "        }\n",
       "\n",
       "        div.ipyplot-content-div-Gwqr2SMgEtSubsgjaQaKNV span.ipyplot-img-close:hover {\n",
       "            cursor: zoom-out;\n",
       "        }\n",
       "        div.ipyplot-content-div-Gwqr2SMgEtSubsgjaQaKNV span.ipyplot-img-expand:hover {\n",
       "            cursor: zoom-in;\n",
       "        }\n",
       "\n",
       "        div[id^=ipyplot-content-div-Gwqr2SMgEtSubsgjaQaKNV]:target {\n",
       "            transform: scale(2.5);\n",
       "            transform-origin: left top;\n",
       "            z-index: 5000;\n",
       "            top: 0;\n",
       "            left: 0;\n",
       "            position: absolute;\n",
       "        }\n",
       "\n",
       "        div[id^=ipyplot-content-div-Gwqr2SMgEtSubsgjaQaKNV]:target span.ipyplot-img-close {\n",
       "            display: block;\n",
       "        }\n",
       "\n",
       "        div[id^=ipyplot-content-div-Gwqr2SMgEtSubsgjaQaKNV]:target span.ipyplot-img-expand {\n",
       "            display: none;\n",
       "        }\n",
       "        </style>\n",
       "    <div id=\"ipyplot-imgs-container-div-Gwqr2SMgEtSubsgjaQaKNV\">\n",
       "    <div class=\"ipyplot-placeholder-div-Gwqr2SMgEtSubsgjaQaKNV\">\n",
       "        <div id=\"ipyplot-content-div-Gwqr2SMgEtSubsgjaQaKNV-TUQNHyk6jnMY5kguRy85T2\" class=\"ipyplot-content-div-Gwqr2SMgEtSubsgjaQaKNV\">\n",
       "            <h4 style=\"font-size: 12px; word-wrap: break-word;\">0</h4>\n",
       "            <h4 style=\"font-size: 9px; padding-left: 10px; padding-right: 10px; width: 95%; word-wrap: break-word; white-space: normal;\">https://testbed19.geolabs.fr:8707/cgi-bin/mapserv?map=/usr/com/zoo-project/out_0_543ce3f8-8202-11ee-8725-0242c0a8e008.map&request=GetMap&service=WMS&version=1.3.0&layers=out&width=640.000&height=437.148&format=image/png&bbox=43.276499596965110,3.472089575486792,43.508144951067202,3.811226215201843&crs=EPSG:4326</h4><img src=\"https://testbed19.geolabs.fr:8707/cgi-bin/mapserv?map=/usr/com/zoo-project/out_0_543ce3f8-8202-11ee-8725-0242c0a8e008.map&request=GetMap&service=WMS&version=1.3.0&layers=out&width=640.000&height=437.148&format=image/png&bbox=43.276499596965110,3.472089575486792,43.508144951067202,3.811226215201843&crs=EPSG:4326\"/>\n",
       "            <a href=\"#!\">\n",
       "                <span class=\"ipyplot-img-close\"/>\n",
       "            </a>\n",
       "            <a href=\"#ipyplot-content-div-Gwqr2SMgEtSubsgjaQaKNV-TUQNHyk6jnMY5kguRy85T2\">\n",
       "                <span class=\"ipyplot-img-expand\"/>\n",
       "            </a>\n",
       "        </div>\n",
       "    </div>\n",
       "    </div>"
      ],
      "text/plain": [
       "<IPython.core.display.HTML object>"
      ]
     },
     "metadata": {},
     "output_type": "display_data"
    }
   ],
   "source": [
    "import ipyplot\n",
    "\n",
    "ipyplot.plot_images([the_url], img_width=400)"
   ]
  },
  {
   "cell_type": "markdown",
   "id": "fb82abed-7219-4a00-ad72-989ef6f0e636",
   "metadata": {},
   "source": [
    "### Get result of succeeded process"
   ]
  },
  {
   "cell_type": "code",
   "execution_count": 204,
   "id": "e5c01caf-e380-4ed7-a1c1-3a16aa8435a4",
   "metadata": {},
   "outputs": [],
   "source": [
    "the_job_result = the_jobs_api.get_result_with_http_info(\n",
    "    job_id=the_job_id,\n",
    "    _headers={\"accept\":\"application/json\", \"Authorization\": auth_token},\n",
    "    _preload_content=True,\n",
    "    _return_http_data_only=False)"
   ]
  },
  {
   "cell_type": "code",
   "execution_count": 205,
   "id": "db57d1dc-4fe8-40fc-adcb-08d9f8ab9386",
   "metadata": {},
   "outputs": [
    {
     "data": {
      "text/plain": [
       "<openapi_client.api_response.ApiResponse at 0x7f74e0658880>"
      ]
     },
     "execution_count": 205,
     "metadata": {},
     "output_type": "execute_result"
    }
   ],
   "source": [
    "the_job_result"
   ]
  },
  {
   "cell_type": "code",
   "execution_count": 206,
   "id": "09dec1c7-6317-4e63-a8f3-19bed66375ca",
   "metadata": {},
   "outputs": [
    {
     "data": {
      "text/plain": [
       "{'out': InlineOrRefData(oneof_schema_1_validator=None, oneof_schema_2_validator=None, oneof_schema_3_validator=None, actual_instance=Link(href='https://testbed19.geolabs.fr:8707/cgi-bin/mapserv?map=/usr/com/zoo-project/out_0_543ce3f8-8202-11ee-8725-0242c0a8e008.map&request=GetMap&service=WMS&version=1.3.0&layers=out&width=640.000&height=437.148&format=image/png&bbox=43.276499596965110,3.472089575486792,43.508144951067202,3.811226215201843&crs=EPSG:4326', rel=None, type='image/png', hreflang=None, title=None), one_of_schemas=['InputValueNoObject', 'Link', 'QualifiedInputValue'])}"
      ]
     },
     "execution_count": 206,
     "metadata": {},
     "output_type": "execute_result"
    }
   ],
   "source": [
    "the_job_result.data"
   ]
  },
  {
   "cell_type": "code",
   "execution_count": 207,
   "id": "e0cd9a17-ad66-4193-bef1-65b007cd01f3",
   "metadata": {},
   "outputs": [
    {
     "data": {
      "text/plain": [
       "'{\"out\":{\"href\":\"https://testbed19.geolabs.fr:8707/cgi-bin/mapserv?map=/usr/com/zoo-project/out_0_543ce3f8-8202-11ee-8725-0242c0a8e008.map&request=GetMap&service=WMS&version=1.3.0&layers=out&width=640.000&height=437.148&format=image/png&bbox=43.276499596965110,3.472089575486792,43.508144951067202,3.811226215201843&crs=EPSG:4326\",\"type\":\"image/png\",\"format\":{\"mediaType\":\"image/tiff\"}}}\\n'"
      ]
     },
     "execution_count": 207,
     "metadata": {},
     "output_type": "execute_result"
    }
   ],
   "source": [
    "the_job_result.raw_data"
   ]
  },
  {
   "cell_type": "code",
   "execution_count": 208,
   "id": "b1e5bedf-eacb-4ccf-9e42-ddf717b63178",
   "metadata": {},
   "outputs": [
    {
     "data": {
      "text/plain": [
       "'https://testbed19.geolabs.fr:8707/cgi-bin/mapserv?map=/usr/com/zoo-project/out_0_543ce3f8-8202-11ee-8725-0242c0a8e008.map&request=GetMap&service=WMS&version=1.3.0&layers=out&width=640.000&height=437.148&format=image/png&bbox=43.276499596965110,3.472089575486792,43.508144951067202,3.811226215201843&crs=EPSG:4326'"
      ]
     },
     "execution_count": 208,
     "metadata": {},
     "output_type": "execute_result"
    }
   ],
   "source": [
    "the_url = the_job_result.data[\"out\"].actual_instance.href\n",
    "the_url"
   ]
  },
  {
   "cell_type": "markdown",
   "id": "403b26bb-e975-4253-8b0f-9196ea22f42a",
   "metadata": {},
   "source": [
    "## Display Results"
   ]
  },
  {
   "cell_type": "code",
   "execution_count": 160,
   "id": "abdc9534-65ab-4bd3-8772-a1d6f47887ba",
   "metadata": {},
   "outputs": [],
   "source": [
    "# test"
   ]
  },
  {
   "cell_type": "code",
   "execution_count": 209,
   "id": "3ae09452-8870-4147-9b88-db6c23c4d530",
   "metadata": {},
   "outputs": [],
   "source": [
    "the_image = the_job_result.data[\"out\"].actual_instance.href"
   ]
  },
  {
   "cell_type": "code",
   "execution_count": 210,
   "id": "661269ad-5ce9-400f-83c0-b8875087b420",
   "metadata": {},
   "outputs": [
    {
     "data": {
      "text/html": [
       "\n",
       "    <style>\n",
       "        #ipyplot-html-viewer-toggle-62RxdfpboLnRGmq6C3rqEA {\n",
       "            position: absolute;\n",
       "            top: -9999px;\n",
       "            left: -9999px;\n",
       "            visibility: hidden;\n",
       "        }\n",
       "\n",
       "        #ipyplot-html-viewer-label-62RxdfpboLnRGmq6C3rqEA { \n",
       "            position: relative;\n",
       "            display: inline-block;\n",
       "            cursor: pointer;\n",
       "            color: blue;\n",
       "            text-decoration: underline;\n",
       "        }\n",
       "\n",
       "        #ipyplot-html-viewer-textarea-62RxdfpboLnRGmq6C3rqEA {\n",
       "            background: lightgrey;\n",
       "            width: 100%;\n",
       "            height: 0px;\n",
       "            display: none;\n",
       "        }\n",
       "\n",
       "        #ipyplot-html-viewer-toggle-62RxdfpboLnRGmq6C3rqEA:checked ~ #ipyplot-html-viewer-textarea-62RxdfpboLnRGmq6C3rqEA {\n",
       "            height: 200px;\n",
       "            display: block;\n",
       "        }\n",
       "\n",
       "        #ipyplot-html-viewer-toggle-62RxdfpboLnRGmq6C3rqEA:checked + #ipyplot-html-viewer-label-62RxdfpboLnRGmq6C3rqEA:after {\n",
       "            content: \"hide html\";\n",
       "            position: absolute;\n",
       "            top: 0;\n",
       "            left: 0;\n",
       "            right: 0;\n",
       "            bottom: 0;\n",
       "            background: white;\n",
       "            cursor: pointer;\n",
       "            color: blue;\n",
       "            text-decoration: underline;\n",
       "        }\n",
       "    </style>\n",
       "    <div>\n",
       "        <input type=\"checkbox\" id=\"ipyplot-html-viewer-toggle-62RxdfpboLnRGmq6C3rqEA\">\n",
       "        <label id=\"ipyplot-html-viewer-label-62RxdfpboLnRGmq6C3rqEA\" for=\"ipyplot-html-viewer-toggle-62RxdfpboLnRGmq6C3rqEA\">show html</label>\n",
       "        <textarea id=\"ipyplot-html-viewer-textarea-62RxdfpboLnRGmq6C3rqEA\" readonly>\n",
       "            \n",
       "        <style>\n",
       "        #ipyplot-imgs-container-div-DQ6Uw8JY9sUirCDxZb8fCQ {\n",
       "            width: 100%;\n",
       "            height: 100%;\n",
       "            margin: 0%;\n",
       "            overflow: auto;\n",
       "            position: relative;\n",
       "            overflow-y: scroll;\n",
       "        }\n",
       "\n",
       "        div.ipyplot-placeholder-div-DQ6Uw8JY9sUirCDxZb8fCQ {\n",
       "            width: 250px;\n",
       "            display: inline-block;\n",
       "            margin: 3px;\n",
       "            position: relative;\n",
       "        }\n",
       "\n",
       "        div.ipyplot-content-div-DQ6Uw8JY9sUirCDxZb8fCQ {\n",
       "            width: 250px;\n",
       "            background: white;\n",
       "            display: inline-block;\n",
       "            vertical-align: top;\n",
       "            text-align: center;\n",
       "            position: relative;\n",
       "            border: 2px solid #ddd;\n",
       "            top: 0;\n",
       "            left: 0;\n",
       "        }\n",
       "\n",
       "        div.ipyplot-content-div-DQ6Uw8JY9sUirCDxZb8fCQ span.ipyplot-img-close {\n",
       "            display: none;\n",
       "        }\n",
       "\n",
       "        div.ipyplot-content-div-DQ6Uw8JY9sUirCDxZb8fCQ span {\n",
       "            width: 100%;\n",
       "            height: 100%;\n",
       "            position: absolute;\n",
       "            top: 0;\n",
       "            left: 0;\n",
       "        }\n",
       "\n",
       "        div.ipyplot-content-div-DQ6Uw8JY9sUirCDxZb8fCQ img {\n",
       "            width: 250px;\n",
       "        }\n",
       "\n",
       "        div.ipyplot-content-div-DQ6Uw8JY9sUirCDxZb8fCQ span.ipyplot-img-close:hover {\n",
       "            cursor: zoom-out;\n",
       "        }\n",
       "        div.ipyplot-content-div-DQ6Uw8JY9sUirCDxZb8fCQ span.ipyplot-img-expand:hover {\n",
       "            cursor: zoom-in;\n",
       "        }\n",
       "\n",
       "        div[id^=ipyplot-content-div-DQ6Uw8JY9sUirCDxZb8fCQ]:target {\n",
       "            transform: scale(2.5);\n",
       "            transform-origin: left top;\n",
       "            z-index: 5000;\n",
       "            top: 0;\n",
       "            left: 0;\n",
       "            position: absolute;\n",
       "        }\n",
       "\n",
       "        div[id^=ipyplot-content-div-DQ6Uw8JY9sUirCDxZb8fCQ]:target span.ipyplot-img-close {\n",
       "            display: block;\n",
       "        }\n",
       "\n",
       "        div[id^=ipyplot-content-div-DQ6Uw8JY9sUirCDxZb8fCQ]:target span.ipyplot-img-expand {\n",
       "            display: none;\n",
       "        }\n",
       "        </style>\n",
       "    <div id=\"ipyplot-imgs-container-div-DQ6Uw8JY9sUirCDxZb8fCQ\">\n",
       "    <div class=\"ipyplot-placeholder-div-DQ6Uw8JY9sUirCDxZb8fCQ\">\n",
       "        <div id=\"ipyplot-content-div-DQ6Uw8JY9sUirCDxZb8fCQ-RMuEZcWqof2zYEVVtXGfvx\" class=\"ipyplot-content-div-DQ6Uw8JY9sUirCDxZb8fCQ\">\n",
       "            <h4 style=\"font-size: 12px; word-wrap: break-word;\">0</h4>\n",
       "            <h4 style=\"font-size: 9px; padding-left: 10px; padding-right: 10px; width: 95%; word-wrap: break-word; white-space: normal;\">https://testbed19.geolabs.fr:8707/cgi-bin/mapserv?map=/usr/com/zoo-project/out_0_543ce3f8-8202-11ee-8725-0242c0a8e008.map&request=GetMap&service=WMS&version=1.3.0&layers=out&width=640.000&height=437.148&format=image/png&bbox=43.276499596965110,3.472089575486792,43.508144951067202,3.811226215201843&crs=EPSG:4326</h4><img src=\"https://testbed19.geolabs.fr:8707/cgi-bin/mapserv?map=/usr/com/zoo-project/out_0_543ce3f8-8202-11ee-8725-0242c0a8e008.map&request=GetMap&service=WMS&version=1.3.0&layers=out&width=640.000&height=437.148&format=image/png&bbox=43.276499596965110,3.472089575486792,43.508144951067202,3.811226215201843&crs=EPSG:4326\"/>\n",
       "            <a href=\"#!\">\n",
       "                <span class=\"ipyplot-img-close\"/>\n",
       "            </a>\n",
       "            <a href=\"#ipyplot-content-div-DQ6Uw8JY9sUirCDxZb8fCQ-RMuEZcWqof2zYEVVtXGfvx\">\n",
       "                <span class=\"ipyplot-img-expand\"/>\n",
       "            </a>\n",
       "        </div>\n",
       "    </div>\n",
       "    </div>\n",
       "        </textarea>\n",
       "    </div>\n",
       "    "
      ],
      "text/plain": [
       "<IPython.core.display.HTML object>"
      ]
     },
     "metadata": {},
     "output_type": "display_data"
    },
    {
     "data": {
      "text/html": [
       "\n",
       "        <style>\n",
       "        #ipyplot-imgs-container-div-DQ6Uw8JY9sUirCDxZb8fCQ {\n",
       "            width: 100%;\n",
       "            height: 100%;\n",
       "            margin: 0%;\n",
       "            overflow: auto;\n",
       "            position: relative;\n",
       "            overflow-y: scroll;\n",
       "        }\n",
       "\n",
       "        div.ipyplot-placeholder-div-DQ6Uw8JY9sUirCDxZb8fCQ {\n",
       "            width: 250px;\n",
       "            display: inline-block;\n",
       "            margin: 3px;\n",
       "            position: relative;\n",
       "        }\n",
       "\n",
       "        div.ipyplot-content-div-DQ6Uw8JY9sUirCDxZb8fCQ {\n",
       "            width: 250px;\n",
       "            background: white;\n",
       "            display: inline-block;\n",
       "            vertical-align: top;\n",
       "            text-align: center;\n",
       "            position: relative;\n",
       "            border: 2px solid #ddd;\n",
       "            top: 0;\n",
       "            left: 0;\n",
       "        }\n",
       "\n",
       "        div.ipyplot-content-div-DQ6Uw8JY9sUirCDxZb8fCQ span.ipyplot-img-close {\n",
       "            display: none;\n",
       "        }\n",
       "\n",
       "        div.ipyplot-content-div-DQ6Uw8JY9sUirCDxZb8fCQ span {\n",
       "            width: 100%;\n",
       "            height: 100%;\n",
       "            position: absolute;\n",
       "            top: 0;\n",
       "            left: 0;\n",
       "        }\n",
       "\n",
       "        div.ipyplot-content-div-DQ6Uw8JY9sUirCDxZb8fCQ img {\n",
       "            width: 250px;\n",
       "        }\n",
       "\n",
       "        div.ipyplot-content-div-DQ6Uw8JY9sUirCDxZb8fCQ span.ipyplot-img-close:hover {\n",
       "            cursor: zoom-out;\n",
       "        }\n",
       "        div.ipyplot-content-div-DQ6Uw8JY9sUirCDxZb8fCQ span.ipyplot-img-expand:hover {\n",
       "            cursor: zoom-in;\n",
       "        }\n",
       "\n",
       "        div[id^=ipyplot-content-div-DQ6Uw8JY9sUirCDxZb8fCQ]:target {\n",
       "            transform: scale(2.5);\n",
       "            transform-origin: left top;\n",
       "            z-index: 5000;\n",
       "            top: 0;\n",
       "            left: 0;\n",
       "            position: absolute;\n",
       "        }\n",
       "\n",
       "        div[id^=ipyplot-content-div-DQ6Uw8JY9sUirCDxZb8fCQ]:target span.ipyplot-img-close {\n",
       "            display: block;\n",
       "        }\n",
       "\n",
       "        div[id^=ipyplot-content-div-DQ6Uw8JY9sUirCDxZb8fCQ]:target span.ipyplot-img-expand {\n",
       "            display: none;\n",
       "        }\n",
       "        </style>\n",
       "    <div id=\"ipyplot-imgs-container-div-DQ6Uw8JY9sUirCDxZb8fCQ\">\n",
       "    <div class=\"ipyplot-placeholder-div-DQ6Uw8JY9sUirCDxZb8fCQ\">\n",
       "        <div id=\"ipyplot-content-div-DQ6Uw8JY9sUirCDxZb8fCQ-RMuEZcWqof2zYEVVtXGfvx\" class=\"ipyplot-content-div-DQ6Uw8JY9sUirCDxZb8fCQ\">\n",
       "            <h4 style=\"font-size: 12px; word-wrap: break-word;\">0</h4>\n",
       "            <h4 style=\"font-size: 9px; padding-left: 10px; padding-right: 10px; width: 95%; word-wrap: break-word; white-space: normal;\">https://testbed19.geolabs.fr:8707/cgi-bin/mapserv?map=/usr/com/zoo-project/out_0_543ce3f8-8202-11ee-8725-0242c0a8e008.map&request=GetMap&service=WMS&version=1.3.0&layers=out&width=640.000&height=437.148&format=image/png&bbox=43.276499596965110,3.472089575486792,43.508144951067202,3.811226215201843&crs=EPSG:4326</h4><img src=\"https://testbed19.geolabs.fr:8707/cgi-bin/mapserv?map=/usr/com/zoo-project/out_0_543ce3f8-8202-11ee-8725-0242c0a8e008.map&request=GetMap&service=WMS&version=1.3.0&layers=out&width=640.000&height=437.148&format=image/png&bbox=43.276499596965110,3.472089575486792,43.508144951067202,3.811226215201843&crs=EPSG:4326\"/>\n",
       "            <a href=\"#!\">\n",
       "                <span class=\"ipyplot-img-close\"/>\n",
       "            </a>\n",
       "            <a href=\"#ipyplot-content-div-DQ6Uw8JY9sUirCDxZb8fCQ-RMuEZcWqof2zYEVVtXGfvx\">\n",
       "                <span class=\"ipyplot-img-expand\"/>\n",
       "            </a>\n",
       "        </div>\n",
       "    </div>\n",
       "    </div>"
      ],
      "text/plain": [
       "<IPython.core.display.HTML object>"
      ]
     },
     "metadata": {},
     "output_type": "display_data"
    }
   ],
   "source": [
    "import ipyplot\n",
    "ipyplot.plot_images([the_image], img_width=250)"
   ]
  },
  {
   "cell_type": "markdown",
   "id": "379f3344-27c5-4905-b926-b122fbd09ccd",
   "metadata": {},
   "source": [
    "### Display map"
   ]
  },
  {
   "cell_type": "code",
   "execution_count": 229,
   "id": "9a26c3d5-a1cd-44ca-87c6-1fcc299a18e7",
   "metadata": {},
   "outputs": [
    {
     "name": "stdout",
     "output_type": "stream",
     "text": [
      "ParseResult(scheme='https', netloc='testbed19.geolabs.fr:8707', path='/cgi-bin/mapserv', params='', query='map=/usr/com/zoo-project/out_0_543ce3f8-8202-11ee-8725-0242c0a8e008.map&request=GetMap&service=WMS&version=1.3.0&layers=out&width=640.000&height=437.148&format=image/png&bbox=43.276499596965110,3.472089575486792,43.508144951067202,3.811226215201843&crs=EPSG:4326', fragment='')\n",
      "{'map': ['/usr/com/zoo-project/out_0_543ce3f8-8202-11ee-8725-0242c0a8e008.map'], 'request': ['GetMap'], 'service': ['WMS'], 'version': ['1.3.0'], 'layers': ['out'], 'width': ['640.000'], 'height': ['437.148'], 'format': ['image/png'], 'bbox': ['43.276499596965110,3.472089575486792,43.508144951067202,3.811226215201843'], 'crs': ['EPSG:4326']}\n",
      "https://testbed19.geolabs.fr:8707/cgi-bin/mapserv?map=/usr/com/zoo-project/out_0_543ce3f8-8202-11ee-8725-0242c0a8e008.map&\n",
      "image/png\n",
      "out\n",
      "['43.276499596965110', '3.472089575486792', '43.508144951067202', '3.811226215201843']\n",
      "43.39232227401615 3.6416578953443173\n"
     ]
    }
   ],
   "source": [
    "from urllib.parse import (\n",
    "    urlparse, parse_qs\n",
    ")\n",
    "the_url_o = urlparse(the_url)\n",
    "print(the_url_o)\n",
    "the_queries = parse_qs(the_url_o.query)\n",
    "print(the_queries)\n",
    "the_map = the_queries[\"map\"][0]\n",
    "the_wms_url = f\"{the_url_o.scheme}://{the_url_o.netloc}{the_url_o.path}?map={the_map}&\"\n",
    "print(the_wms_url)\n",
    "the_format = the_queries[\"format\"][0]\n",
    "print(the_format)\n",
    "the_layers = the_queries[\"layers\"][0]\n",
    "print(the_layers)\n",
    "the_bbox_strs=the_queries[\"bbox\"][0].split(\",\")\n",
    "print(the_bbox_strs)\n",
    "the_x = (float(the_bbox_strs[0])+float(the_bbox_strs[2]))/2\n",
    "the_y = (float(the_bbox_strs[1])+float(the_bbox_strs[3]))/2\n",
    "print(the_x, the_y)\n",
    "\n"
   ]
  },
  {
   "cell_type": "code",
   "execution_count": 231,
   "id": "7fe79af0-7bde-4e94-8583-f6c8c1c9f0f1",
   "metadata": {},
   "outputs": [
    {
     "data": {
      "text/html": [
       "<div style=\"width:100%;\"><div style=\"position:relative;width:100%;height:0;padding-bottom:60%;\"><span style=\"color:#565656\">Make this Notebook Trusted to load map: File -> Trust Notebook</span><iframe srcdoc=\"&lt;!DOCTYPE html&gt;\n",
       "&lt;html&gt;\n",
       "&lt;head&gt;\n",
       "    \n",
       "    &lt;meta http-equiv=&quot;content-type&quot; content=&quot;text/html; charset=UTF-8&quot; /&gt;\n",
       "    \n",
       "        &lt;script&gt;\n",
       "            L_NO_TOUCH = false;\n",
       "            L_DISABLE_3D = false;\n",
       "        &lt;/script&gt;\n",
       "    \n",
       "    &lt;style&gt;html, body {width: 100%;height: 100%;margin: 0;padding: 0;}&lt;/style&gt;\n",
       "    &lt;style&gt;#map {position:absolute;top:0;bottom:0;right:0;left:0;}&lt;/style&gt;\n",
       "    &lt;script src=&quot;https://cdn.jsdelivr.net/npm/leaflet@1.9.3/dist/leaflet.js&quot;&gt;&lt;/script&gt;\n",
       "    &lt;script src=&quot;https://code.jquery.com/jquery-1.12.4.min.js&quot;&gt;&lt;/script&gt;\n",
       "    &lt;script src=&quot;https://cdn.jsdelivr.net/npm/bootstrap@5.2.2/dist/js/bootstrap.bundle.min.js&quot;&gt;&lt;/script&gt;\n",
       "    &lt;script src=&quot;https://cdnjs.cloudflare.com/ajax/libs/Leaflet.awesome-markers/2.0.2/leaflet.awesome-markers.js&quot;&gt;&lt;/script&gt;\n",
       "    &lt;link rel=&quot;stylesheet&quot; href=&quot;https://cdn.jsdelivr.net/npm/leaflet@1.9.3/dist/leaflet.css&quot;/&gt;\n",
       "    &lt;link rel=&quot;stylesheet&quot; href=&quot;https://cdn.jsdelivr.net/npm/bootstrap@5.2.2/dist/css/bootstrap.min.css&quot;/&gt;\n",
       "    &lt;link rel=&quot;stylesheet&quot; href=&quot;https://netdna.bootstrapcdn.com/bootstrap/3.0.0/css/bootstrap.min.css&quot;/&gt;\n",
       "    &lt;link rel=&quot;stylesheet&quot; href=&quot;https://cdn.jsdelivr.net/npm/@fortawesome/fontawesome-free@6.2.0/css/all.min.css&quot;/&gt;\n",
       "    &lt;link rel=&quot;stylesheet&quot; href=&quot;https://cdnjs.cloudflare.com/ajax/libs/Leaflet.awesome-markers/2.0.2/leaflet.awesome-markers.css&quot;/&gt;\n",
       "    &lt;link rel=&quot;stylesheet&quot; href=&quot;https://cdn.jsdelivr.net/gh/python-visualization/folium/folium/templates/leaflet.awesome.rotate.min.css&quot;/&gt;\n",
       "    \n",
       "            &lt;meta name=&quot;viewport&quot; content=&quot;width=device-width,\n",
       "                initial-scale=1.0, maximum-scale=1.0, user-scalable=no&quot; /&gt;\n",
       "            &lt;style&gt;\n",
       "                #map_efb8e73745be5ffa0b5fbdc280200b78 {\n",
       "                    position: relative;\n",
       "                    width: 100.0%;\n",
       "                    height: 100.0%;\n",
       "                    left: 0.0%;\n",
       "                    top: 0.0%;\n",
       "                }\n",
       "                .leaflet-container { font-size: 1rem; }\n",
       "            &lt;/style&gt;\n",
       "        \n",
       "&lt;/head&gt;\n",
       "&lt;body&gt;\n",
       "    \n",
       "    \n",
       "            &lt;div class=&quot;folium-map&quot; id=&quot;map_efb8e73745be5ffa0b5fbdc280200b78&quot; &gt;&lt;/div&gt;\n",
       "        \n",
       "&lt;/body&gt;\n",
       "&lt;script&gt;\n",
       "    \n",
       "    \n",
       "            var map_efb8e73745be5ffa0b5fbdc280200b78 = L.map(\n",
       "                &quot;map_efb8e73745be5ffa0b5fbdc280200b78&quot;,\n",
       "                {\n",
       "                    center: [43.39232227401615, 3.6416578953443173],\n",
       "                    crs: L.CRS.EPSG3857,\n",
       "                    zoom: 11,\n",
       "                    zoomControl: true,\n",
       "                    preferCanvas: false,\n",
       "                }\n",
       "            );\n",
       "\n",
       "            \n",
       "\n",
       "        \n",
       "    \n",
       "            var tile_layer_5b506e0d551d39a8acff19f96250311b = L.tileLayer(\n",
       "                &quot;https://{s}.tile.openstreetmap.org/{z}/{x}/{y}.png&quot;,\n",
       "                {&quot;attribution&quot;: &quot;Data by \\u0026copy; \\u003ca target=\\&quot;_blank\\&quot; href=\\&quot;http://openstreetmap.org\\&quot;\\u003eOpenStreetMap\\u003c/a\\u003e, under \\u003ca target=\\&quot;_blank\\&quot; href=\\&quot;http://www.openstreetmap.org/copyright\\&quot;\\u003eODbL\\u003c/a\\u003e.&quot;, &quot;detectRetina&quot;: false, &quot;maxNativeZoom&quot;: 18, &quot;maxZoom&quot;: 18, &quot;minZoom&quot;: 0, &quot;noWrap&quot;: false, &quot;opacity&quot;: 1, &quot;subdomains&quot;: &quot;abc&quot;, &quot;tms&quot;: false}\n",
       "            ).addTo(map_efb8e73745be5ffa0b5fbdc280200b78);\n",
       "        \n",
       "    \n",
       "            var macro_element_ba7c9c221765a1fca0563d827305410a = L.tileLayer.wms(\n",
       "                &quot;https://testbed19.geolabs.fr:8707/cgi-bin/mapserv?map=/usr/com/zoo-project/out_0_543ce3f8-8202-11ee-8725-0242c0a8e008.map\\u0026&quot;,\n",
       "                {&quot;attribution&quot;: &quot;&quot;, &quot;format&quot;: &quot;image/png&quot;, &quot;layers&quot;: &quot;out&quot;, &quot;styles&quot;: &quot;&quot;, &quot;transparent&quot;: true, &quot;version&quot;: &quot;1.1.1&quot;}\n",
       "            ).addTo(map_efb8e73745be5ffa0b5fbdc280200b78);\n",
       "        \n",
       "    \n",
       "            var layer_control_69bbb9e0634df8d1250892d9a57e7273 = {\n",
       "                base_layers : {\n",
       "                    &quot;openstreetmap&quot; : tile_layer_5b506e0d551d39a8acff19f96250311b,\n",
       "                },\n",
       "                overlays :  {\n",
       "                    &quot;out&quot; : macro_element_ba7c9c221765a1fca0563d827305410a,\n",
       "                },\n",
       "            };\n",
       "            L.control.layers(\n",
       "                layer_control_69bbb9e0634df8d1250892d9a57e7273.base_layers,\n",
       "                layer_control_69bbb9e0634df8d1250892d9a57e7273.overlays,\n",
       "                {&quot;autoZIndex&quot;: true, &quot;collapsed&quot;: true, &quot;position&quot;: &quot;topright&quot;}\n",
       "            ).addTo(map_efb8e73745be5ffa0b5fbdc280200b78);\n",
       "        \n",
       "&lt;/script&gt;\n",
       "&lt;/html&gt;\" style=\"position:absolute;width:100%;height:100%;left:0;top:0;border:none !important;\" allowfullscreen webkitallowfullscreen mozallowfullscreen></iframe></div></div>"
      ],
      "text/plain": [
       "<folium.folium.Map at 0x7f74b8f417e0>"
      ]
     },
     "execution_count": 231,
     "metadata": {},
     "output_type": "execute_result"
    }
   ],
   "source": [
    "import folium\n",
    "\n",
    "map_geo = folium.Map(location=[the_x, the_y], zoom_start=11)\n",
    "\n",
    "the_map = folium.raster_layers.WmsTileLayer(\n",
    "    url = the_wms_url,\n",
    "    layers=the_layers,\n",
    "    transparent = True,\n",
    "    fmt = the_format,\n",
    "    name = \"out\",\n",
    "    overlay = True,\n",
    "    show = True,\n",
    "    ).add_to(map_geo)\n",
    "\n",
    "folium.LayerControl().add_to(map_geo)\n",
    "\n",
    "map_geo"
   ]
  },
  {
   "cell_type": "code",
   "execution_count": null,
   "id": "a281c4b2-2d30-4b56-a33e-31185fb7c510",
   "metadata": {},
   "outputs": [],
   "source": []
  },
  {
   "cell_type": "code",
   "execution_count": null,
   "id": "869da83e-1ba8-4b97-9009-13d959d35f00",
   "metadata": {},
   "outputs": [],
   "source": []
  }
 ],
 "metadata": {
  "kernelspec": {
   "display_name": "Python 3 (ipykernel)",
   "language": "python",
   "name": "python3"
  },
  "language_info": {
   "codemirror_mode": {
    "name": "ipython",
    "version": 3
   },
   "file_extension": ".py",
   "mimetype": "text/x-python",
   "name": "python",
   "nbconvert_exporter": "python",
   "pygments_lexer": "ipython3",
   "version": "3.10.12"
  }
 },
 "nbformat": 4,
 "nbformat_minor": 5
}
