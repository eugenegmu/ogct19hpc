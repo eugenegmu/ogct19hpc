{
 "cells": [
  {
   "cell_type": "markdown",
   "id": "48abe365-5166-4dff-9e2c-be3c97b40db0",
   "metadata": {},
   "source": [
    "# HPGC API Notebook 2: Unleashing HPC for Geospatial Scientists - Harnessing the Power of HPC with Python and HPGC"
   ]
  },
  {
   "cell_type": "markdown",
   "id": "6df36eec-e764-4f0b-873a-ccd31190f5dd",
   "metadata": {},
   "source": [
    "## Table of Contents"
   ]
  },
  {
   "cell_type": "markdown",
   "id": "12629815-8aac-4788-886e-24aacb102f73",
   "metadata": {},
   "source": [
    "- [Setup](#Setup)\n",
    "- [ Capabilities (non-secured façade)](#Capabilities-(non-secured-façade))\n",
    "    - [Get landing page](#Get-landing-page)\n",
    "    - [Get Conformance](#Get-Conformance)\n",
    "- [Authorization (OAuth2)](#Authorization-(OAuth2))\n",
    "- [Capabilities (secured)](#Capabilities-(secured))\n",
    "    - [Get Processes](#Get-Processes)\n",
    "    - [Describe a process](#Describe-a-process)\n",
    "- [Process Management (deploy, replace, or undeploy)](#Process-Management-(deploy,-replace,-or-undeploy))\n",
    "    - [DRU Setup](#DRU-Setup)\n",
    "    - [Deploy Process](#Deploy-Process)\n",
    "    - [Undeploy a Process](#Undeploy-a-Process)\n",
    "    - [Replace a Process](#Replace-a-Process)\n",
    "- [Execute the process BandMath](#Execute-the-process-BandMath)\n",
    "- [Monitoring Process Execution](#Monitoring-Process-Execution)\n",
    "    - [Active Monitoring with Job Objects](#Active-Monitoring-with-Job-Objects)\n",
    "    - [Passive Monitoring with Callback Services](#Passive-Monitoring-with-Callback-Services)\n",
    "- [Summary](#Summary)"
   ]
  },
  {
   "cell_type": "markdown",
   "id": "116ccbd3-f62c-43a6-96ed-6fa767797913",
   "metadata": {},
   "source": [
    "Welcome to this Jupyter notebook, designed to help scientists and users navigate complex geospatial image processing tasks. We’ll show you how to harness the power of High-Performance Computing (HPC) with ease, using the BandMath process and the HPGC API Python client library. Our real-world scenario? Calculating the band ratio of Landsat images."
   ]
  },
  {
   "cell_type": "markdown",
   "id": "a8ed66f4-c7f4-4407-acf5-de35cafab629",
   "metadata": {},
   "source": [
    "**Navigating the HPC Terrain**:\n",
    "\n",
    "- **Mastering Authorization**: Learn how to securely connect to HPGC using Open Identity, no HPC expertise required.\n",
    "- **Managing Processes**: Get hands-on with process package management, and learn how to deploy and manage *BandMath*.\n",
    "- **Executing with Ease**: Build and execute requests confidently, with the help of asynchronous execution and progress updates.\n",
    "- **Monitoring Jobs**: Keep track of progress and ensure successful completion with the HPGC Jobs object.\n",
    "- **Visualizing Results**: Access both static image data and dynamic WMS services for comprehensive analysis.\n",
    "- **Interactive Mapping with Folium**: Make your data come alive with interactive maps, simplifying complex data interpretation.\n"
   ]
  },
  {
   "cell_type": "markdown",
   "id": "cea2aa61-54eb-44e6-a345-9e679f229d5d",
   "metadata": {},
   "source": [
    "**Pre-requisites**:\n",
    "\n",
    "- **Python Basics**: Familiarity with Python syntax and basic data structures is crucial.\n",
    "- **HPC Concepts**: We recommend prior knowledge of the concepts covered in the pre-sequel notebook “Demystifying HPC for Scientists: Harnessing Asynchronous Power with Python and “echo” using HPGC API”.\n"
   ]
  },
  {
   "cell_type": "markdown",
   "id": "e29149da-c9e6-44ea-82f7-c92fba0d3bfc",
   "metadata": {},
   "source": [
    "**What You’ll Gain**:\n",
    "\n",
    "- Confidence in utilizing HPGC for your geospatial needs.\n",
    "- The ability to deploy, execute, and monitor BandMath processes effectively.\n",
    "- The skills to visualize and analyze complex image data with ease.\n"
   ]
  },
  {
   "cell_type": "markdown",
   "id": "9bd0317d-a86f-4eb5-8d40-6843bd5b434e",
   "metadata": {},
   "source": [
    "Ready to unleash the power of HPC for your scientific pursuits? Dive into this notebook and start your HPC journey!"
   ]
  },
  {
   "cell_type": "markdown",
   "id": "f70fecf1-3687-4724-b2f8-b276510577d3",
   "metadata": {},
   "source": [
    "## Setup"
   ]
  },
  {
   "cell_type": "markdown",
   "id": "26997a5f-b32e-418d-b910-d589f36b5aa5",
   "metadata": {},
   "source": [
    "This section cvoers the basic setup to use Python to interact with the HPGC API instance via the HPGC API Python Client library."
   ]
  },
  {
   "cell_type": "markdown",
   "id": "400dff52-2ce9-443a-9b4c-0e8e51c3c30e",
   "metadata": {},
   "source": [
    "### Initial setup (run once)"
   ]
  },
  {
   "cell_type": "markdown",
   "id": "0f263b2b-abac-4243-ae78-b2f1386594a1",
   "metadata": {},
   "source": [
    "1. Checking for Required Libraries: Run the following code to check if the necessary libraries are installed, including *requests*, *requests_oauthlib*, *ipyplot*, and *gmu-hpgc-api*."
   ]
  },
  {
   "cell_type": "code",
   "execution_count": null,
   "id": "96b524d7-57fa-4fab-a04a-ea669245ba41",
   "metadata": {},
   "outputs": [],
   "source": [
    "!python -m pip list"
   ]
  },
  {
   "cell_type": "markdown",
   "id": "b037e622-c96c-4a79-950e-1a0d18144c8b",
   "metadata": {},
   "source": [
    "2. Installing Missing Libraries:"
   ]
  },
  {
   "cell_type": "markdown",
   "id": "949967d4-813e-4366-9d3c-b1e58d65bceb",
   "metadata": {},
   "source": [
    "If *requests* and *requests_oathlib* are not installed, run the following installation commands."
   ]
  },
  {
   "cell_type": "code",
   "execution_count": null,
   "id": "b18d2006-6dce-4692-9ed8-914eea056c7a",
   "metadata": {},
   "outputs": [],
   "source": [
    "!pip install requests requests_oauthlib"
   ]
  },
  {
   "cell_type": "markdown",
   "id": "be67aef7-47c5-41c3-9d87-531a24beccb3",
   "metadata": {},
   "source": [
    "If *ipyplot* is missing, run the following cell to install it."
   ]
  },
  {
   "cell_type": "code",
   "execution_count": null,
   "id": "e0192e3d-d787-428d-8537-148ae55487cd",
   "metadata": {},
   "outputs": [],
   "source": [
    "!pip install ipyplot"
   ]
  },
  {
   "cell_type": "markdown",
   "id": "baa59e9d-45db-4af8-a30d-680774f6c8bc",
   "metadata": {},
   "source": [
    "If *gmu-hpgc-api* is not installed, run the following cell to install it."
   ]
  },
  {
   "cell_type": "code",
   "execution_count": null,
   "id": "1b31c429-cb6e-46b8-8b77-1042a36abb65",
   "metadata": {},
   "outputs": [],
   "source": [
    "!python -m pip install gmu-hpgc-api"
   ]
  },
  {
   "cell_type": "markdown",
   "id": "26a80875-2d78-42cb-8cc9-5425cc86cbb7",
   "metadata": {},
   "source": [
    "3. Upgrading HPGC Python Client Library (Optional)"
   ]
  },
  {
   "cell_type": "markdown",
   "id": "88ca7af0-530d-4f35-9e34-e6bb88973f65",
   "metadata": {},
   "source": [
    "To ensure you have the latest version of the *gmu-hpgc-api* library, you may run:"
   ]
  },
  {
   "cell_type": "code",
   "execution_count": null,
   "id": "4f222950-01dc-410b-b8ee-726d7851c96d",
   "metadata": {},
   "outputs": [],
   "source": [
    "!python -m pip install gmu-hpgc-api --upgrade"
   ]
  },
  {
   "cell_type": "markdown",
   "id": "ee6372dd-e1bb-421f-9d6e-6dcb13045b72",
   "metadata": {},
   "source": [
    "### Basic imports"
   ]
  },
  {
   "cell_type": "markdown",
   "id": "604bac26-2748-482e-8f5b-1df819398e19",
   "metadata": {},
   "source": [
    "After the initial setup, import the *gmu-hpgc-api* library at the beginning of each session:"
   ]
  },
  {
   "cell_type": "code",
   "execution_count": null,
   "id": "a7c92228-2b3f-498d-a2ce-81794689d9eb",
   "metadata": {},
   "outputs": [],
   "source": [
    "import openapi_client"
   ]
  },
  {
   "cell_type": "markdown",
   "id": "4a2a2cbf-4f28-4843-a87f-e63d49b81eca",
   "metadata": {},
   "source": [
    "**Recap**:\n",
    "\n",
    "- The setup steps (checking, installing, and upgrading) are usually performed only once for this notebook.\n",
    "- The import statement (import openapi_client) is necessary for each session to access the library's functionality."
   ]
  },
  {
   "cell_type": "markdown",
   "id": "ac3d3c75-c804-46dd-b705-9eb6cbb0a4d6",
   "metadata": {},
   "source": [
    "## Capabilities (non-secured façade)"
   ]
  },
  {
   "cell_type": "markdown",
   "id": "99d4f8d6-3ebc-4e2d-99fb-0bfb103152d0",
   "metadata": {},
   "source": [
    "Before we dive into the intricacies of secured operations, let's take a moment to explore the HPGC API instance's capabilities with open arms! Publicly available information like the landing page and conformance details offer a valuable glimpse into the platform's potential."
   ]
  },
  {
   "cell_type": "markdown",
   "id": "9428fdc7-8999-4fa6-b433-e94fc74ed187",
   "metadata": {},
   "source": [
    "Think of it as a treasure map:\n",
    "\n",
    "- **Landing Page**: This serves as your starting point, showcasing basic information about the service, including its name, description, and links for further explorations (links to service document, conformance information, and processes). It's like the map legend, guiding you towards the available resources.\n",
    "- **Conformance Information**: This outlines the API's supported features and protocols, akin to the map's key, revealing the language and format used to communicate with the service.\n"
   ]
  },
  {
   "cell_type": "markdown",
   "id": "8f82bcab-3876-4d08-8146-8033b28256b1",
   "metadata": {},
   "source": [
    "By understanding these open aspects, you gain a crucial foundation for navigating the HPGC API effectively. You'll be able to:\n",
    "\n",
    "- **Identify the service document and security requirements**: The landing page provides the link to a user interface to explore and test the service document. This user interface may also provide the basic information for authentication.\n",
    "- **Identify links for further exploration on relevant processes**: The landing page lists links for exploring available processes, sparking your curiosity about potential applications.\n",
    "- **Assess compatibility**: Conformance information confirms whether your preferred tools and protocols align with the API's capabilities.\n",
    "- **Plan your workflow**: With a clear understanding of the API's features, you can start crafting an efficient and successful workflow for your specific needs.\n"
   ]
  },
  {
   "cell_type": "markdown",
   "id": "84796d9e-b4d4-4e12-951c-6ac7d5a01894",
   "metadata": {},
   "source": [
    "So, before diving into secured operations, let's appreciate the open treasures offered by the HPGC API. They pave the way for a smooth and rewarding journey into the world of high-performance computing!"
   ]
  },
  {
   "cell_type": "markdown",
   "id": "195cfbfe-a384-409e-b315-54467e62b704",
   "metadata": {},
   "source": [
    "### Get landing page"
   ]
  },
  {
   "cell_type": "markdown",
   "id": "4caec5c7-06b6-4d0b-a0f3-0eb52c5be921",
   "metadata": {},
   "source": [
    "The landing page is your gateway to HPGC insights. Here's your guide to unlocking the basic information about the HPGC API service using the Landing Page object:"
   ]
  },
  {
   "cell_type": "markdown",
   "id": "5605abc6-52c3-43a0-8786-9703d2c2022f",
   "metadata": {},
   "source": [
    "1. Create a HPGC landing page API and retrieve the landing page object"
   ]
  },
  {
   "cell_type": "code",
   "execution_count": null,
   "id": "b1a240bf-3ee1-4c6e-817f-e867cfb9123c",
   "metadata": {},
   "outputs": [],
   "source": [
    "\"\"\"\n",
    "# alternative \n",
    "\n",
    "import openapi_client.api.home_api\n",
    "landingpage_api = openapi_client.api.home_api.HomeApi()\n",
    "# set the endpoint\n",
    "landingpage_api.api_client.configuration.host=\"https://testbed19.geolabs.fr:8707/ogc-api\"\n",
    "\n",
    "homepage = landingpage_api.home_with_http_info(\n",
    "            _headers={\"accept\":\"application/json\"},\n",
    "            _preload_content=True,\n",
    "            _return_http_data_only=False)\n",
    "\"\"\"\n",
    "landingpage_api = openapi_client.api.landing_page_api.LandingPageApi()\n",
    "\n",
    "# set the endpoint\n",
    "landingpage_api.api_client.configuration.host=\"https://testbed19.geolabs.fr:8707/ogc-api/\"\n",
    "\n",
    "homepage = landingpage_api.get_landing_page_with_http_info(\n",
    "            _headers={\"accept\":\"application/json\"},\n",
    "            _preload_content=True,\n",
    "            _return_http_data_only=False)\n"
   ]
  },
  {
   "cell_type": "markdown",
   "id": "129fe601-7240-4323-bc00-29b262815eb5",
   "metadata": {},
   "source": [
    "2. Inspect the landing page object"
   ]
  },
  {
   "cell_type": "markdown",
   "id": "43cdca81-ce49-434e-974e-76bd3cf09f22",
   "metadata": {},
   "source": [
    "- Show the landing page object"
   ]
  },
  {
   "cell_type": "code",
   "execution_count": null,
   "id": "891d0dfd-1a09-4fee-b03d-3ba53cfec627",
   "metadata": {},
   "outputs": [],
   "source": [
    "homepage"
   ]
  },
  {
   "cell_type": "markdown",
   "id": "5e7fa3c3-e9c1-4ab5-b8d3-b80558301297",
   "metadata": {},
   "source": [
    "- Show what attributes and functions the landing page object offers."
   ]
  },
  {
   "cell_type": "code",
   "execution_count": null,
   "id": "5537709c-1906-43e3-b755-b1c7a2513b99",
   "metadata": {},
   "outputs": [],
   "source": [
    "dir(homepage)"
   ]
  },
  {
   "cell_type": "markdown",
   "id": "9c14012d-b986-442d-9b63-8e09739e3a4f",
   "metadata": {},
   "source": [
    "- Show the data object preloaded with the landing page object."
   ]
  },
  {
   "cell_type": "code",
   "execution_count": null,
   "id": "dc212cf3-6dcd-4a27-8328-09164cea4b1e",
   "metadata": {},
   "outputs": [],
   "source": [
    "homepage.data"
   ]
  },
  {
   "cell_type": "markdown",
   "id": "39f5f83e-3a0d-464b-ad90-0593d0520b66",
   "metadata": {},
   "source": [
    "- Show the headers information of the landing page object interaction with the HPGC API middleware."
   ]
  },
  {
   "cell_type": "code",
   "execution_count": null,
   "id": "676c310a-ae83-494e-8b4e-1c7f2cb1ebee",
   "metadata": {},
   "outputs": [],
   "source": [
    "homepage.headers"
   ]
  },
  {
   "cell_type": "markdown",
   "id": "a29507ac-226f-4dd5-8d74-a9b12017f74c",
   "metadata": {},
   "source": [
    "- Show the status code of the response of getting landing page."
   ]
  },
  {
   "cell_type": "code",
   "execution_count": null,
   "id": "fda90dc6-9726-4aac-afc5-0554a142ea8e",
   "metadata": {},
   "outputs": [],
   "source": [
    "homepage.status_code"
   ]
  },
  {
   "cell_type": "markdown",
   "id": "9ba20bae-d5d4-442a-8c34-bedc3ee3929d",
   "metadata": {},
   "source": [
    "- Show the raw data (binary) of the response of getting landing page. "
   ]
  },
  {
   "cell_type": "code",
   "execution_count": null,
   "id": "2ae5938d-c8c3-47a4-af10-ed0d64d0232c",
   "metadata": {},
   "outputs": [],
   "source": [
    "homepage.raw_data"
   ]
  },
  {
   "cell_type": "markdown",
   "id": "9fceb256-ecdf-49f9-a445-a4236410c798",
   "metadata": {},
   "source": [
    "- Metadata information: Details about the service itself, such as title of the service:"
   ]
  },
  {
   "cell_type": "code",
   "execution_count": null,
   "id": "0c693703-8356-400c-aa8d-6d53ba483b7b",
   "metadata": {},
   "outputs": [],
   "source": [
    "homepage_obj = homepage.data\n",
    "homepage_obj.title"
   ]
  },
  {
   "cell_type": "markdown",
   "id": "97824842-7df5-4660-94cd-99580f866d54",
   "metadata": {},
   "source": [
    "- Description of the service:"
   ]
  },
  {
   "cell_type": "code",
   "execution_count": null,
   "id": "2a6608c8-5fad-4989-9a0f-db97575b1370",
   "metadata": {},
   "outputs": [],
   "source": [
    "homepage_obj.description"
   ]
  },
  {
   "cell_type": "markdown",
   "id": "3beddce9-1687-451e-b5ac-53ac9bd94e43",
   "metadata": {},
   "source": [
    "- Links: The most important piece of information provided by the landing page is the list of links that give directions to further explore and access relevant resources of the HPGC API service."
   ]
  },
  {
   "cell_type": "code",
   "execution_count": null,
   "id": "3dcda207-6cae-4a75-9a09-17e1d74a7731",
   "metadata": {},
   "outputs": [],
   "source": [
    "homepage.links"
   ]
  },
  {
   "cell_type": "markdown",
   "id": "0ec715b0-d3aa-4662-ad94-a46462b9e284",
   "metadata": {},
   "source": [
    "- Total number of Links: Run the following cell to show the total number of links."
   ]
  },
  {
   "cell_type": "code",
   "execution_count": null,
   "id": "161851ce-8f39-4110-b801-42dff5340260",
   "metadata": {},
   "outputs": [],
   "source": [
    "len(homepage_obj.links)"
   ]
  },
  {
   "cell_type": "markdown",
   "id": "f07992b8-4fe0-4d1a-8a6a-59e11f72bfc1",
   "metadata": {},
   "source": [
    "- Again, let’s create a function to retrieve specific link based on its “rel” and “type” attributes."
   ]
  },
  {
   "cell_type": "code",
   "execution_count": null,
   "id": "3a67210a-dfa6-4673-85eb-ff6b5c6bd4c4",
   "metadata": {},
   "outputs": [],
   "source": [
    "def get_link_by_rel_and_mediatype(relation:str, mediatype:str, the_links:list()):\n",
    "    for the_link in the_links:\n",
    "        if (the_link.rel == relation and\n",
    "            the_link.type == mediatype):\n",
    "            return the_link\n",
    "    return None"
   ]
  },
  {
   "cell_type": "markdown",
   "id": "5cb0fda5-2bf0-4649-97a9-a68a74831648",
   "metadata": {},
   "source": [
    "- Specification link (openapi 3.0): link to API  definitions and specification in OpenAPI 3.0, shedding light on how to interact with the service by programs."
   ]
  },
  {
   "cell_type": "code",
   "execution_count": null,
   "id": "c8e9595f-44c9-4349-bae6-ec09e6881c1b",
   "metadata": {},
   "outputs": [],
   "source": [
    "the_api_spec_link = get_link_by_rel_and_mediatype(relation=\"service-desc\",\n",
    "                                     mediatype=\"application/vnd.oai.openapi+json;version=3.0\",\n",
    "                                     the_links=homepage_obj.links)"
   ]
  },
  {
   "cell_type": "code",
   "execution_count": null,
   "id": "cc7f759c-a321-4e54-aa67-82cefebc551e",
   "metadata": {},
   "outputs": [],
   "source": [
    "the_api_spec_link"
   ]
  },
  {
   "cell_type": "markdown",
   "id": "0e7ca878-5578-4569-9692-b765d412a8e4",
   "metadata": {},
   "source": [
    "- Link to API testing page: A playground for experimenting with API calls without writing code, perfect for exploration and learning. It also provides information about authentication process."
   ]
  },
  {
   "cell_type": "code",
   "execution_count": null,
   "id": "1c69dfa2-a33e-4767-b607-30edaa3c93a3",
   "metadata": {},
   "outputs": [],
   "source": [
    "the_api_spec_doc_link = get_link_by_rel_and_mediatype(relation=\"service-doc\",\n",
    "                                     mediatype=\"text/html\",\n",
    "                                     the_links=homepage_obj.links)"
   ]
  },
  {
   "cell_type": "code",
   "execution_count": null,
   "id": "b55f5f57-36e4-4262-9369-ec08b435a4a2",
   "metadata": {},
   "outputs": [],
   "source": [
    "the_api_spec_doc_link"
   ]
  },
  {
   "cell_type": "markdown",
   "id": "4ec99a33-6a69-434a-b66a-fdd26a6b083b",
   "metadata": {},
   "source": [
    "- Conformance link: It provides technical details about how the service adheres to established standards, ensuring compatibility and predictability."
   ]
  },
  {
   "cell_type": "code",
   "execution_count": null,
   "id": "3ea938e9-ee23-4848-8f3b-76e673dfd761",
   "metadata": {},
   "outputs": [],
   "source": [
    "the_api_conformance_link = get_link_by_rel_and_mediatype(relation=\"http://www.opengis.net/def/rel/ogc/1.0/conformance\",\n",
    "                                     mediatype=\"application/json\",\n",
    "                                     the_links=homepage_obj.links)"
   ]
  },
  {
   "cell_type": "code",
   "execution_count": null,
   "id": "207357ea-aeac-45d1-b5f6-0adf8ec6498f",
   "metadata": {},
   "outputs": [],
   "source": [
    "the_api_conformance_link"
   ]
  },
  {
   "cell_type": "markdown",
   "id": "3ad0e5ed-225f-4776-901e-3aaa66a8f3ee",
   "metadata": {},
   "source": [
    "- Link to explore processes: This shows the direct address to explore the available processes, including showcasing their descriptions and potential inputs/outputs, preparing you for future interactions. Accessing the link may often require authentication to protect the precious resources of HPC."
   ]
  },
  {
   "cell_type": "code",
   "execution_count": null,
   "id": "9844d1a2-e361-4981-bea9-ff963cd78818",
   "metadata": {},
   "outputs": [],
   "source": [
    "the_api_processes_link = get_link_by_rel_and_mediatype(relation=\"http://www.opengis.net/def/rel/ogc/1.0/processes\",\n",
    "                                     mediatype=\"application/json\",\n",
    "                                     the_links=homepage_obj.links)"
   ]
  },
  {
   "cell_type": "code",
   "execution_count": null,
   "id": "413f7b33-2051-4015-8213-5538969c9d0f",
   "metadata": {},
   "outputs": [],
   "source": [
    "the_api_processes_link"
   ]
  },
  {
   "cell_type": "markdown",
   "id": "032543fd-4dcc-4292-ac3f-d7bdadc8dc8e",
   "metadata": {},
   "source": [
    "- Link to Jobs: Retrieve and show the link to get all jobs running or being completed by the HPGC API middleware instance. Accessing the link may also be protected for HPC computing environments."
   ]
  },
  {
   "cell_type": "code",
   "execution_count": null,
   "id": "c1613049-fc25-4ecc-8bdc-bb9d0c36bdd5",
   "metadata": {},
   "outputs": [],
   "source": [
    "the_api_jobs_link = get_link_by_rel_and_mediatype(relation=\"http://www.opengis.net/def/rel/ogc/1.0/job-list\",\n",
    "                                     mediatype=\"application/json\",\n",
    "                                     the_links=homepage_obj.links)"
   ]
  },
  {
   "cell_type": "code",
   "execution_count": null,
   "id": "5d7ea07e-d574-4da3-9c8e-628d1f14b266",
   "metadata": {},
   "outputs": [],
   "source": [
    "the_api_jobs_link"
   ]
  },
  {
   "cell_type": "markdown",
   "id": "2085ce50-5c91-4d6d-8bbc-a6fa9cb599ed",
   "metadata": {},
   "source": [
    "**Recap**: \n",
    "\n",
    "- The landing page is your starting point for understanding the HPC service's offerings and shaping your interactions with it.\n",
    "- The *get_landing_page_with_http_info()* method provides additional HTTP status code and headers for enhanced control and debugging.\n",
    "- Access specific information within *homepage.data* using its attributes (e.g., *homepage.data.title*, *homepage.data.links*). Specific link can be retrieved by filtering against its type (media type) and relation.\n",
    "- The API testing page is useful for sandbox testing, finding out which operation is protected, and basic authentication information (procedure, protocols etc.)\n"
   ]
  },
  {
   "cell_type": "markdown",
   "id": "bb7f73e6-0ef9-42c4-9fa6-ca215a36adc8",
   "metadata": {},
   "source": [
    "### Get Conformance"
   ]
  },
  {
   "cell_type": "markdown",
   "id": "84d942af-f127-46ef-8be9-4389386d04ba",
   "metadata": {},
   "source": [
    "Checking for Conformance: The conformance information ensures HPGC API standards and their compatibility. Here's your guide to understanding the HPGC API's adherence to established standards using the Conformance object:"
   ]
  },
  {
   "cell_type": "markdown",
   "id": "9a4b70c2-4d41-434a-b725-bf8512ec3b50",
   "metadata": {},
   "source": [
    "1. Create a ConformanceApi object:"
   ]
  },
  {
   "cell_type": "code",
   "execution_count": null,
   "id": "f0261731-e845-459a-8e6d-bbc1da31293b",
   "metadata": {},
   "outputs": [],
   "source": [
    "conformance_api = openapi_client.api.conformance_api.ConformanceApi()"
   ]
  },
  {
   "cell_type": "markdown",
   "id": "dc9ce240-282a-42fd-96ef-5f2610a7aaee",
   "metadata": {},
   "source": [
    "This object provides an API access to communicate with the service to its conformance information."
   ]
  },
  {
   "cell_type": "markdown",
   "id": "955a71e6-07de-4d2f-9b17-a9a48a22db6f",
   "metadata": {},
   "source": [
    "2. Set the URL of the *ConformanceApi* to the address of the HPGC API instance:"
   ]
  },
  {
   "cell_type": "code",
   "execution_count": null,
   "id": "588d638d-c143-4b99-96ef-4f7d9925a394",
   "metadata": {},
   "outputs": [],
   "source": [
    "conformance_api.api_client.configuration.host=\"https://testbed19.geolabs.fr:8707/ogc-api\""
   ]
  },
  {
   "cell_type": "markdown",
   "id": "281472b5-3443-4891-84c6-a2256ef58554",
   "metadata": {},
   "source": [
    "3. Retrieve the *Conformance* object:"
   ]
  },
  {
   "cell_type": "code",
   "execution_count": null,
   "id": "cb4e02b8-2dfe-45e0-8990-fbd6ce4da35d",
   "metadata": {},
   "outputs": [],
   "source": [
    "conformance = conformance_api.get_conformance_with_http_info(\n",
    "            _headers={\"accept\":\"application/json\"},\n",
    "            _preload_content=True,\n",
    "            _return_http_data_only=False)"
   ]
  },
  {
   "cell_type": "markdown",
   "id": "8b1b1b42-170c-4dab-9bc9-c57e01f63a51",
   "metadata": {},
   "source": [
    "This method fetches the conformance details, including the specific API standards the service complies with."
   ]
  },
  {
   "cell_type": "markdown",
   "id": "06aeb924-1e9b-4eac-905e-3ce159b3edcb",
   "metadata": {},
   "source": [
    "4. Exploring the Conformance Object:"
   ]
  },
  {
   "cell_type": "code",
   "execution_count": null,
   "id": "f68b5e93-76e2-4738-a4c9-4e8a5f7424ae",
   "metadata": {},
   "outputs": [],
   "source": [
    "conformance"
   ]
  },
  {
   "cell_type": "markdown",
   "id": "447b8d3f-199d-4aa3-b502-2bf8d06635bb",
   "metadata": {},
   "source": [
    "- Examining the attributes and functions: Examine the available attributes and functions within the conformance object to discover what information you can access and manipulate."
   ]
  },
  {
   "cell_type": "code",
   "execution_count": null,
   "id": "5400b685-7d9d-49a5-ad2b-078c07814513",
   "metadata": {},
   "outputs": [],
   "source": [
    "dir(conformance)"
   ]
  },
  {
   "cell_type": "markdown",
   "id": "8bfe50fb-cebe-415d-b88c-e5298f0772df",
   "metadata": {},
   "source": [
    "- Inspecting the data object: Access the preloaded data using *conformance.data*. This object holds the conformance information in a structured format."
   ]
  },
  {
   "cell_type": "code",
   "execution_count": null,
   "id": "9671af3d-986a-4d45-bac1-b7ea3311dfd2",
   "metadata": {},
   "outputs": [],
   "source": [
    "conformance.data"
   ]
  },
  {
   "cell_type": "markdown",
   "id": "37d0e987-082d-4cdd-9af8-760ded77c84b",
   "metadata": {},
   "source": [
    "- Inspecting the headers: Inspect the headers returned from the service using *conformance.headers*. These headers provide additional context about the interaction."
   ]
  },
  {
   "cell_type": "code",
   "execution_count": null,
   "id": "87e413cc-0f41-4990-9349-39be0521f182",
   "metadata": {},
   "outputs": [],
   "source": [
    "conformance.headers"
   ]
  },
  {
   "cell_type": "markdown",
   "id": "bd19f6b3-55d0-4f9e-bb86-641ba57791e9",
   "metadata": {},
   "source": [
    "- Examining the raw data: if you require the raw, binary response data, access it using *conformance.raw_data*."
   ]
  },
  {
   "cell_type": "code",
   "execution_count": null,
   "id": "0c118cce-e7e3-4eba-8bf1-7d0078839363",
   "metadata": {},
   "outputs": [],
   "source": [
    "conformance.raw_data"
   ]
  },
  {
   "cell_type": "markdown",
   "id": "fda347b7-ada4-41c0-97f9-65b8d7e3d94f",
   "metadata": {},
   "source": [
    "- Checking the status code: Check the status code of the response using *conformance.status_code*. A status code of 200 indicates successful retrieval of conformance information."
   ]
  },
  {
   "cell_type": "code",
   "execution_count": null,
   "id": "ef0fd8b8-c5e4-4b57-94bb-25ebdff1dd7b",
   "metadata": {},
   "outputs": [],
   "source": [
    "conformance.status_code"
   ]
  },
  {
   "cell_type": "markdown",
   "id": "c0094d75-b8ba-477e-9fff-69e4f91acf05",
   "metadata": {},
   "source": [
    "- Counting the total number of conformances: Count the number of conformances using *len(conformance.conforms_to)*."
   ]
  },
  {
   "cell_type": "code",
   "execution_count": null,
   "id": "979f2a04-cbae-4a86-bfa6-60082fd70c51",
   "metadata": {},
   "outputs": [],
   "source": [
    "len(conformance.data.conforms_to)"
   ]
  },
  {
   "cell_type": "markdown",
   "id": "ca616023-7679-4805-bf35-f3aa8657ffeb",
   "metadata": {},
   "source": [
    "**Recap**: \n",
    "\n",
    "- Conformance information ensures predictability and compatibility with other tools and services.\n",
    "- Use this knowledge to confidently interact with the HPGC API, knowing it supports established standards\n"
   ]
  },
  {
   "cell_type": "markdown",
   "id": "f72d435d-41f2-433a-9a83-cb65f82caf79",
   "metadata": {},
   "source": [
    "## Authorization (OAuth2)"
   ]
  },
  {
   "cell_type": "markdown",
   "id": "68cd7d89-7831-47d4-a204-e981502cf117",
   "metadata": {},
   "source": [
    "Accessing the immense power of HPC resources demands a careful balance between accessibility and security. OpenID Authentication stands as a trusted gatekeeper, ensuring authorized access while safeguarding valuable assets."
   ]
  },
  {
   "cell_type": "markdown",
   "id": "0e061aea-1aa6-41bc-9416-d0a9adab5e47",
   "metadata": {},
   "source": [
    "Key Reasons for HPC Security:\n",
    "\n",
    "- **Protecting Sensitive Data**: HPC systems often house confidential research data, intellectual property, and personal information, necessitating robust protection against unauthorized access or breaches.\n",
    "- **Maintaining System Integrity**: Securing resources prevents malicious activities that could disrupt operations, compromise data integrity, or damage sensitive equipment.\n",
    "- **Enforcing Resource Allocation**: Authentication ensures fair and efficient resource distribution among authorized users, preventing unauthorized consumption or denial of service.\n"
   ]
  },
  {
   "cell_type": "markdown",
   "id": "99022f8c-8a1f-42c6-9c5b-a2e6018d36a0",
   "metadata": {},
   "source": [
    "OpenID: The Popular Keymaster:\n",
    "\n",
    "- **Widely Adopted Standard**: OpenID has become a prevalent authentication protocol across the web, establishing trust and streamlining access to various services.\n",
    "- **Single-Sign-On (SSO) Convenience**: Users can authenticate with a single ID across multiple HPC systems and services, simplifying their experience and reducing password fatigue.\n",
    "- **Diverse Identity Providers**: OpenID supports authentication through trusted providers like GitHub, Google, or organizational accounts, offering flexibility and convenience.\n",
    "- **Enhanced Security**: OpenID minimizes risks associated with password-based authentication by relying on secure token-based mechanisms.\n"
   ]
  },
  {
   "cell_type": "markdown",
   "id": "7c5eda81-ac3c-4ad3-8372-d2611013c0da",
   "metadata": {},
   "source": [
    "Unlocking the HPC Treasure Chest:\n",
    "\n",
    "- HPC systems often implement OpenID Authentication to protect their resources, requiring users to authenticate before accessing sensitive data, processes, or services.\n",
    "- This notebook will guide you through the specific steps involved in using OpenID Authentication to interact with an HPC API instance.\n"
   ]
  },
  {
   "cell_type": "markdown",
   "id": "a19e236e-e3e8-4063-86fb-641999f8d851",
   "metadata": {},
   "source": [
    "Here's your step-by-step guide to gaining authorized access to HPGC resources using OpenID authentication:"
   ]
  },
  {
   "cell_type": "markdown",
   "id": "74d47311-9473-4c7b-9acd-0edbab585fae",
   "metadata": {},
   "source": [
    "1. Import necessary components."
   ]
  },
  {
   "cell_type": "code",
   "execution_count": null,
   "id": "639fa52f-374a-4518-a155-ba95ec60d632",
   "metadata": {},
   "outputs": [],
   "source": [
    "from oauthlib.oauth2 import MobileApplicationClient\n",
    "from requests_oauthlib import OAuth2Session"
   ]
  },
  {
   "cell_type": "markdown",
   "id": "a6514c76-6c1c-43ef-b066-9ca48f61e54c",
   "metadata": {},
   "source": [
    "2. Gather information and create an authorization session\n",
    "\n",
    "- Obtain the client ID (cid) from the HPGC API Testing page.\n",
    "- Set the authentication URL to Authenix (e.g., https://authenix.eu/oauth2/authorize).\n",
    "- Set the redirect URL to the Swagger UI page.\n",
    "- Create an OAuth2Session object:\n"
   ]
  },
  {
   "cell_type": "code",
   "execution_count": null,
   "id": "78a4138a-95dc-492b-b004-faf29054ca39",
   "metadata": {},
   "outputs": [],
   "source": [
    "client_id = '347c0fd7-7c75-4d24-9520-4e3f6a424193'\n",
    "#scopes = ['openid', 'profile', 'email', 'saml', 'offline_access']\n",
    "scopes = ['all']\n",
    "auth_url = 'https://www.authenix.eu/oauth/authorize'\n",
    "redirect_uri='https://testbed19.geolabs.fr:8707/swagger-ui/oapip/oauth2-redirect.html'\n",
    "\n",
    "oauth = OAuth2Session(client=MobileApplicationClient(client_id=client_id),\n",
    "                      redirect_uri=redirect_uri, scope=scopes)\n",
    "authorization_url, state = oauth.authorization_url(auth_url)\n",
    "print(\"authorization_url=\", authorization_url)"
   ]
  },
  {
   "cell_type": "markdown",
   "id": "f57b5b60-1d03-42e0-bf11-7d110868a2ca",
   "metadata": {},
   "source": [
    "3. Authenticate with your ID provider.\n",
    "\n",
    "- Open the printed authorization URL (from last step) in your browser.\n",
    "- Log in with your registered ID (e.g., GitHub, Google, or organizational account).\n",
    "- Upon successful login, you'll be redirected to a new page with an authorization code in the URL. Copy this entire URL.\n"
   ]
  },
  {
   "cell_type": "markdown",
   "id": "2c29df3f-012f-4a7b-baa2-a8d4d6029fd9",
   "metadata": {},
   "source": [
    "4. Capture authorization code.\n",
    "\n",
    "- Paste the copied URL at the prompt in your notebook when prompted by the *input* command.\n"
   ]
  },
  {
   "cell_type": "code",
   "execution_count": null,
   "id": "2e3ec6c2-598c-4b69-9500-8c85fa89779c",
   "metadata": {},
   "outputs": [],
   "source": [
    "authorization_response = input('Enter the full callback URL')"
   ]
  },
  {
   "cell_type": "markdown",
   "id": "9d231a8c-2709-4fd5-8d4e-38ca01547b89",
   "metadata": {},
   "source": [
    "5. Retrieve and save the token into a variable to be used later with operations in this notebook."
   ]
  },
  {
   "cell_type": "code",
   "execution_count": null,
   "id": "fd314d80-0818-473b-bd26-9a15fca8d9bd",
   "metadata": {},
   "outputs": [],
   "source": [
    "#response = oauth.get(authorization_url)\n",
    "#print(\"response.url=\", response.url)\n",
    "token=oauth.token_from_fragment(authorization_response)\n",
    "print(\"token=\", token)\n",
    "access_token =token[\"access_token\"]\n",
    "token_type =token[\"token_type\"]\n",
    "print(\"token_code=\", token_type)\n",
    "auth_token = f\"{token_type} {access_token}\"\n",
    "print(\"auth_token=\", auth_token)"
   ]
  },
  {
   "cell_type": "markdown",
   "id": "3df44306-e0f4-4c55-ad3f-e3a552e8b953",
   "metadata": {},
   "source": [
    "The last line of the printout should look like “*auth_token = 'Bearer at_WMsyPAQtNtBdvXlqRkOmnyQwJH197'*” when the authorization is succeeded."
   ]
  },
  {
   "cell_type": "markdown",
   "id": "2bfae7ab-4b12-4971-a5ac-34793ba7b1ea",
   "metadata": {},
   "source": [
    "Now you're equipped to confidently unlock the full potential of the HPGC API's secure operations!"
   ]
  },
  {
   "cell_type": "markdown",
   "id": "1114d50c-8a51-41e5-9b59-98603dab1906",
   "metadata": {},
   "source": [
    "**Recap**:\n",
    "\n",
    "- Authentication is essential for accessing protected HPC resources.\n",
    "- OpenIDAuth is a widely used authorization mechanism.\n",
    "- This example demonstrates the implicit OpenID workflow.\n",
    "- Authorization may expire, so repeat these steps if you encounter access issues.\n"
   ]
  },
  {
   "cell_type": "markdown",
   "id": "214d48b9-e931-4ba8-944c-8dade16d79aa",
   "metadata": {},
   "source": [
    "## Capabilities (secured)"
   ]
  },
  {
   "cell_type": "markdown",
   "id": "93216765-f812-467d-b92b-31511d7b6537",
   "metadata": {},
   "source": [
    "Part of the metadata and resource discovery is restricted for HPC."
   ]
  },
  {
   "cell_type": "markdown",
   "id": "d0db999c-d64e-4cfd-bb62-8271cb1de169",
   "metadata": {},
   "source": [
    "### Get Processes"
   ]
  },
  {
   "cell_type": "markdown",
   "id": "d5d73f2d-b909-4acf-becb-34238bb7d239",
   "metadata": {},
   "source": [
    "Retrieving the Process Collection: Here's your guide to retrieving a list of available processes, ensuring secure access using OpenID Authentication:\n"
   ]
  },
  {
   "cell_type": "markdown",
   "id": "d57085d2-09a0-4fc1-8b57-abe8c11c6f76",
   "metadata": {},
   "source": [
    "1. Authentication Checkpoint\n",
    "\n",
    "- Have you authenticated? If not, revisit the OpenID Authentication section to obtain an authorization token.\r",
    "- \n",
    "Remember: This is a secured operation, requiring authorized access. The token is saved as the variable auth_token after the successful authentication.\r\n"
   ]
  },
  {
   "cell_type": "markdown",
   "id": "0aa4dbcf-d57b-42f8-8bd9-1592404550be",
   "metadata": {},
   "source": [
    "2. Create a ProcessApi object:"
   ]
  },
  {
   "cell_type": "code",
   "execution_count": null,
   "id": "e696b8d1-88c6-4b86-b421-97b267f328e7",
   "metadata": {},
   "outputs": [],
   "source": [
    "processes_api = openapi_client.api.processes_api.ProcessesApi()"
   ]
  },
  {
   "cell_type": "markdown",
   "id": "4f7dfa7e-2f17-402b-8df7-04c9d99219e0",
   "metadata": {},
   "source": [
    "This object acts as your gateway to interacting with the available processes."
   ]
  },
  {
   "cell_type": "markdown",
   "id": "306a40c8-f58a-4352-bb54-2346def2c9a3",
   "metadata": {},
   "source": [
    "3. Set the URL of the *ConformanceApi* to the address of the HPGC API instance:"
   ]
  },
  {
   "cell_type": "code",
   "execution_count": null,
   "id": "b7fcc78c-a161-41d0-9595-8994382b837f",
   "metadata": {},
   "outputs": [],
   "source": [
    "# set endpoint\n",
    "processes_api.api_client.configuration.host=\"https://testbed19.geolabs.fr:8707/eugenegmu/ogc-api/\""
   ]
  },
  {
   "cell_type": "markdown",
   "id": "a75d8914-ec2f-4147-a0cf-66aeb3e7c3c7",
   "metadata": {},
   "source": [
    "4. Retrieve the Process collection object:"
   ]
  },
  {
   "cell_type": "code",
   "execution_count": null,
   "id": "0a68aa33-c926-4ac9-a3a6-5937e463ef95",
   "metadata": {},
   "outputs": [],
   "source": [
    "processes = processes_api.get_processes_with_http_info(\n",
    "            _headers={\"accept\":\"application/json\", \"Authorization\": auth_token},\n",
    "            _preload_content=True,\n",
    "             _return_http_data_only=False)"
   ]
  },
  {
   "cell_type": "markdown",
   "id": "68b99d4f-40b3-4076-9906-30e47f5c518e",
   "metadata": {},
   "source": [
    "This method fetches a comprehensive list of processes supported by the service, including their descriptions and links to more detailed information."
   ]
  },
  {
   "cell_type": "markdown",
   "id": "9f85e818-ff9e-4999-ab2a-dc0651be72b7",
   "metadata": {},
   "source": [
    "5. Exploring the Process Collection Object:"
   ]
  },
  {
   "cell_type": "code",
   "execution_count": null,
   "id": "e9f68818-2f73-400a-937d-e04fdc2d98d2",
   "metadata": {},
   "outputs": [],
   "source": [
    "processes"
   ]
  },
  {
   "cell_type": "markdown",
   "id": "87ad2c3a-35b9-4076-84aa-2d59dbe8893f",
   "metadata": {},
   "source": [
    "- Attributes and functions: Examine the attributes and functions within processes to discover its capabilities and what information you can access."
   ]
  },
  {
   "cell_type": "code",
   "execution_count": null,
   "id": "ebbc71f8-a2a7-4e6b-9b6d-10075e1c75ab",
   "metadata": {},
   "outputs": [],
   "source": [
    "dir(processes)"
   ]
  },
  {
   "cell_type": "markdown",
   "id": "ddd9806d-fb61-4475-9f76-c11dac0da00f",
   "metadata": {},
   "source": [
    "- Data object: Access the structured process data using processes.data. This object holds a list of process summaries."
   ]
  },
  {
   "cell_type": "code",
   "execution_count": null,
   "id": "717deb98-9e93-4c4e-9161-92fd50a6ee99",
   "metadata": {},
   "outputs": [],
   "source": [
    "processes.data"
   ]
  },
  {
   "cell_type": "markdown",
   "id": "a39d8299-042b-446c-b065-2bc9c8428428",
   "metadata": {},
   "source": [
    "- Headers: Inspect the response headers using processes.headers for additional context about the interaction."
   ]
  },
  {
   "cell_type": "code",
   "execution_count": null,
   "id": "67b6d711-90d7-4c08-84ba-063744d52148",
   "metadata": {},
   "outputs": [],
   "source": [
    "processes.headers"
   ]
  },
  {
   "cell_type": "markdown",
   "id": "07b1b4f2-933d-4d51-95d4-a3135fefd1c8",
   "metadata": {},
   "source": [
    "- Raw data: If needed, access the raw, binary response data using *processes.raw_data*."
   ]
  },
  {
   "cell_type": "code",
   "execution_count": null,
   "id": "61766de9-53e4-4c0b-ba33-3c1a3c070e02",
   "metadata": {},
   "outputs": [],
   "source": [
    "processes.raw_data"
   ]
  },
  {
   "cell_type": "markdown",
   "id": "f5356d6b-5747-4a68-9217-14dfe389e1f0",
   "metadata": {},
   "source": [
    "- Status code: Check the status code using processes.status_code. A status code of 200 indicates successful retrieval."
   ]
  },
  {
   "cell_type": "code",
   "execution_count": null,
   "id": "61a1dd87-21c5-4fcf-b7cb-5acbe69cf1df",
   "metadata": {},
   "outputs": [],
   "source": [
    "processes.status_code"
   ]
  },
  {
   "cell_type": "markdown",
   "id": "5873d03b-87f9-4ed4-9fe7-d48cba9c8984",
   "metadata": {},
   "source": [
    "- Total number of processes: Count the processes using *len(processes.data.processes)*."
   ]
  },
  {
   "cell_type": "code",
   "execution_count": null,
   "id": "18bb1a7d-ffd9-4eb6-aadc-5f8d50e909a4",
   "metadata": {},
   "outputs": [],
   "source": [
    "processes_obj = processes.data\n",
    "len(processes_obj.processes)"
   ]
  },
  {
   "cell_type": "markdown",
   "id": "ac63bb33-a7c1-4a0b-979a-da7e5ed6f710",
   "metadata": {},
   "source": [
    "- Listing process IDs: List all process’ ID using:"
   ]
  },
  {
   "cell_type": "code",
   "execution_count": null,
   "id": "ffda1a6c-de45-477c-b4c9-d9274e737ea8",
   "metadata": {},
   "outputs": [],
   "source": [
    "for proc in processes_obj.processes:\n",
    "    print(proc.id)"
   ]
  },
  {
   "cell_type": "markdown",
   "id": "c8b22474-4f46-4e5b-b93d-dbcfd47668fc",
   "metadata": {},
   "source": [
    "**Recap**: \n",
    "\n",
    "- Be sure that the authentication is completed successfully before retrieving the list of processes. The *headers* argument in *get_processes_with_http_info* is crucial for passing your authorization token which uses the saved token in variable *auth_token*.\n",
    "- Use this knowledge to confidently explore the HPGC API's processes and embark on further interactions!\n"
   ]
  },
  {
   "cell_type": "markdown",
   "id": "6ee400a6-1401-47c0-a20a-a954fb2c1294",
   "metadata": {},
   "source": [
    "### Describe a process"
   ]
  },
  {
   "cell_type": "markdown",
   "id": "0a7892db-178d-458a-97ea-10871f2424f1",
   "metadata": {},
   "source": [
    "Retrieving Process Descriptions: Here's your guide to retrieving and exploring process descriptions, ensuring secure access using OpenID Authentication. Remember to authenticate before proceeding!"
   ]
  },
  {
   "cell_type": "markdown",
   "id": "351cd32f-4e8f-4bff-ac8f-a68ef04f0f6c",
   "metadata": {},
   "source": [
    "#### Describe specific process - securityOut"
   ]
  },
  {
   "cell_type": "markdown",
   "id": "a2f0d3b2-72f5-4e53-b845-03471d433e5e",
   "metadata": {},
   "source": [
    "1. Retrieve the process description:"
   ]
  },
  {
   "cell_type": "code",
   "execution_count": null,
   "id": "b363a79e-d566-430b-ab97-f94176955030",
   "metadata": {},
   "outputs": [],
   "source": [
    "the_out_process = processes_api.get_process_description_with_http_info(\n",
    "            process_id=\"securityOut\",\n",
    "            _headers={\"accept\":\"application/json\", \"Authorization\": auth_token},\n",
    "            _preload_content=False,\n",
    "             _return_http_data_only=False)"
   ]
  },
  {
   "cell_type": "markdown",
   "id": "5fe8a7c5-5495-47fb-8d9f-aaa6085e9f6e",
   "metadata": {},
   "source": [
    "2. Show the process description object:"
   ]
  },
  {
   "cell_type": "code",
   "execution_count": null,
   "id": "eee9dd82-fad7-45e6-9df3-be9d2f2f5a8a",
   "metadata": {},
   "outputs": [],
   "source": [
    "the_out_process"
   ]
  },
  {
   "cell_type": "markdown",
   "id": "8aa79472-770e-4914-ac92-502c06cb92a5",
   "metadata": {},
   "source": [
    "3. Retrieve and show the raw data of the process description:"
   ]
  },
  {
   "cell_type": "code",
   "execution_count": null,
   "id": "64dcd806-4051-4cac-a3df-528f32e1da79",
   "metadata": {},
   "outputs": [],
   "source": [
    "the_out_process.raw_data.decode(\"utf-8\")"
   ]
  },
  {
   "cell_type": "markdown",
   "id": "e64b76f6-f018-4f65-bc20-cd450b91ee38",
   "metadata": {},
   "source": [
    "#### Describe specific process - FinalizeHPC1"
   ]
  },
  {
   "cell_type": "markdown",
   "id": "24c70a9e-4b93-4d91-8898-23890cb8296a",
   "metadata": {},
   "source": [
    "1. Retrieve the process description:"
   ]
  },
  {
   "cell_type": "code",
   "execution_count": null,
   "id": "b305e430-22ec-43f9-b821-2f1745819f18",
   "metadata": {},
   "outputs": [],
   "source": [
    "the_hpc1_process = processes_api.get_process_description_with_http_info(\n",
    "            process_id=\"FinalizeHPC1\",\n",
    "            _headers={\"accept\":\"application/json\", \"Authorization\": auth_token},\n",
    "            _preload_content=False,\n",
    "             _return_http_data_only=False)"
   ]
  },
  {
   "cell_type": "markdown",
   "id": "802e56d9-3775-4d6a-a5e6-444a8cdafb23",
   "metadata": {},
   "source": [
    "2. Show the process description object:"
   ]
  },
  {
   "cell_type": "code",
   "execution_count": null,
   "id": "0449ac89-eb56-4c81-b834-051d64bcc5c2",
   "metadata": {},
   "outputs": [],
   "source": [
    "the_hpc1_process"
   ]
  },
  {
   "cell_type": "markdown",
   "id": "eadf7f0f-2954-49f5-9150-d57608be3d36",
   "metadata": {},
   "source": [
    "3. Retrieve and show the raw data of the process description:"
   ]
  },
  {
   "cell_type": "code",
   "execution_count": null,
   "id": "58ac2992-c24a-47ec-b7b5-7b8df33b1505",
   "metadata": {},
   "outputs": [],
   "source": [
    "the_hpc1_process.raw_data.decode(\"utf-8\")"
   ]
  },
  {
   "cell_type": "markdown",
   "id": "d37e9dc9-5562-4c15-82c6-5562a31884d3",
   "metadata": {},
   "source": [
    "#### Describe specific process - openeoFilterIn"
   ]
  },
  {
   "cell_type": "markdown",
   "id": "6a81340d-84a3-41cb-bd0e-6207f90c4b71",
   "metadata": {},
   "source": [
    "1. Retrieve the process description:"
   ]
  },
  {
   "cell_type": "code",
   "execution_count": null,
   "id": "9b18eec3-8ee2-4ec7-a6b9-601664b231c8",
   "metadata": {},
   "outputs": [],
   "source": [
    "the_in_process = processes_api.get_process_description_with_http_info(\n",
    "            process_id=\"openeoFilterIn\",\n",
    "            _headers={\"accept\":\"application/json\", \"Authorization\": auth_token},\n",
    "            _preload_content=False,\n",
    "             _return_http_data_only=False)"
   ]
  },
  {
   "cell_type": "markdown",
   "id": "ba89e7bf-1f81-455c-be24-bc5ffb06d175",
   "metadata": {},
   "source": [
    "2. Show the process description object:"
   ]
  },
  {
   "cell_type": "code",
   "execution_count": null,
   "id": "e1d48821-6eb8-411a-a762-53edfa742706",
   "metadata": {},
   "outputs": [],
   "source": [
    "the_in_process"
   ]
  },
  {
   "cell_type": "markdown",
   "id": "90e85606-6d29-458b-b01a-8ddc6dfc661c",
   "metadata": {},
   "source": [
    "3. Retrieve and show the raw data of the process description:"
   ]
  },
  {
   "cell_type": "code",
   "execution_count": null,
   "id": "1f5e5f21-b865-4798-9ad6-94f66d169da2",
   "metadata": {},
   "outputs": [],
   "source": [
    "the_in_process.raw_data.decode(\"utf-8\")"
   ]
  },
  {
   "cell_type": "markdown",
   "id": "20fd399d-e597-4ac0-9bd8-da285b669631",
   "metadata": {},
   "source": [
    "**Key Insights to look for in the description of each process**:\n",
    "\n",
    "- **Process Description**: Contains vital information about inputs, outputs, and the execution endpoint.\n",
    "- **Schema of Inputs and Outputs**: Guide preparation of inputs for execution and parsing of responses.\n",
    "- **Raw Data Retrieval**: Bypass potential parsing issues by directly accessing raw response data.\n"
   ]
  },
  {
   "cell_type": "markdown",
   "id": "bb4f329b-43d5-4920-aa7c-db45a7ed18c8",
   "metadata": {},
   "source": [
    "**Recap**:\n",
    " \n",
    "- Repeat these steps for each process you want to explore its description.\n",
    "- Most processes for HPC are protected. Re-do the authorization procedure if you encountered error messages such as “not allowed” or erroneous status code 401.\n",
    "- The raw data often holds valuable information, even if automatic model generation encounters challenges.\n",
    "- Use this knowledge to confidently understand process details and prepare for execution!\n"
   ]
  },
  {
   "cell_type": "markdown",
   "id": "baa49761-6471-4279-bee7-955f152d448f",
   "metadata": {},
   "source": [
    "## Process Management (deploy, replace, or undeploy)"
   ]
  },
  {
   "cell_type": "markdown",
   "id": "798ca4f5-440c-4f20-a714-66143313365d",
   "metadata": {},
   "source": [
    "In this section, we'll explore the powerful DRU operations—Deploy, Replace, and Undeploy—that enable you to dynamically manage processes within the HPGC API. By understanding these operations, you'll gain the ability to tailor the available processes to align with your specific needs and enhance the overall HPC experience.\n",
    "\n",
    "**Key Concepts**:\n",
    "\n",
    "- DRU Operations:\n",
    "\n",
    "    * Deploy: Introduces new processes to the HPGC API, expanding its capabilities.\n",
    "    * Replace: Updates existing processes with modified versions, ensuring continuous improvement and optimization.\n",
    "    * Undeploy: Removes processes that are no longer needed, maintaining a streamlined and efficient environment.\n",
    "\n",
    "**Security and Authentication**:\n",
    "\n",
    "- Authentication and Authorization: Due to the sensitive nature of modifying available processes, DRU operations typically require users to authenticate and possess the necessary permissions to execute them.\n",
    "- Conformance Check: It's crucial to verify that the specific HPGC API instance supports DRU operations, as well as OGC Application Packages (ogcapppkg) and relevant container descriptions (Docker or CWL).\n",
    "\n",
    "Let’s start to experiment with these operations in turn.\n"
   ]
  },
  {
   "cell_type": "markdown",
   "id": "0e0cd57e-635d-470b-afe9-287acb73d795",
   "metadata": {},
   "source": [
    "#### DRU Setup"
   ]
  },
  {
   "cell_type": "markdown",
   "id": "d766ea0d-c94b-4669-93c1-b3f61aaceb6e",
   "metadata": {},
   "source": [
    "Before we proceed to execute any of the DRU operations, we need to important necessary components, create DRUApi object, and set its URL to the HPGC API instance."
   ]
  },
  {
   "cell_type": "code",
   "execution_count": null,
   "id": "3adad791-5cee-4b58-bf93-8774808ad5b1",
   "metadata": {},
   "outputs": [],
   "source": [
    "from openapi_client.api.copy2_dru_api import DRUApi\n",
    "the_proc_dru = DRUApi()\n",
    "# set the endpoint\n",
    "the_proc_dru.api_client.configuration.host=\"https://testbed19.geolabs.fr:8707/ogc-api\""
   ]
  },
  {
   "cell_type": "markdown",
   "id": "7c9bc563-ba23-4d75-9a96-8e03ef3c83ea",
   "metadata": {},
   "source": [
    "### Deploy Process"
   ]
  },
  {
   "cell_type": "markdown",
   "id": "c4b363ef-83d4-4eec-be9d-80075149a51f",
   "metadata": {},
   "source": [
    "Let's start to deploy some processes into the HPGC API instance."
   ]
  },
  {
   "cell_type": "markdown",
   "id": "4a54cdda-ead5-467c-a9e3-ce34353611c0",
   "metadata": {},
   "source": [
    "#### Deploy snuggs"
   ]
  },
  {
   "cell_type": "markdown",
   "id": "45352c17-135f-418c-ba16-3d87f0a0a9ce",
   "metadata": {},
   "source": [
    "This demonstrates the deployment of a process described in Common Workflow Language (CWL). The procedure includes:\r\n",
    "\r\n",
    "- Construct ogcapppkg string\r\n",
    "    - Ensure it includes the executionUnit pointing to the CWL scripts.\r\n",
    "    - Incorporate a process description (optional)\r\n",
    "- Deploy the process *snuggs*: Set the workflow parameter \"w\" with value 'snuggs'.\r\n"
   ]
  },
  {
   "cell_type": "code",
   "execution_count": null,
   "id": "482d139e-9131-46b8-a542-7a53f7ce63c2",
   "metadata": {},
   "outputs": [],
   "source": [
    "# deploy snuggs\n",
    "json_str = '{\"executionUnit\": {\"href\": \"https://raw.githubusercontent.com/EOEPCA/proc-ades/master/test/sample_apps/v2/snuggs/workflow.cwl#snuggs\",\"type\": \"application/cwl\"}}'\n",
    "#the_proc_ex_unit = openapi_client.models.ogcapppkg_execution_unit.OgcapppkgExecutionUnit()\n",
    "#the_proc_ex_unit.actual_instance=openapi_client.models.link.Link(href=\"https://raw.githubusercontent.com/EOEPCA/proc-ades/master/test/sample_apps/v2/snuggs/workflow.cwl#snuggs\", type=\"application/cwl\")\n",
    "#the_pkg = openapi_client.models.ogcapppkg.Ogcapppkg(\n",
    "#    executionUnit=the_proc_ex_unit\n",
    "#)\n",
    "\n",
    "from openapi_client.models.copy2_ogcapppkg import Ogcapppkg\n",
    "\n",
    "the_pkg = Ogcapppkg.from_json(json_str)\n",
    "the_result = the_proc_dru.deploy_with_http_info(\n",
    "    ogcapppkg=the_pkg,\n",
    "    w=\"snuggs\",\n",
    "    _headers={\"Authorization\": auth_token,\n",
    "              \"accept\": \"application/json\",\n",
    "             \"Content-Type\": \"application/ogcapppkg+json\"\n",
    "             },\n",
    "    _preload_content=True,\n",
    "    _return_http_data_only=False)\n",
    "    "
   ]
  },
  {
   "cell_type": "markdown",
   "id": "4a9cc72f-a82a-4b6e-b0ce-c8d30b804dd9",
   "metadata": {},
   "source": [
    "Verify the deployment by examining the response data."
   ]
  },
  {
   "cell_type": "code",
   "execution_count": null,
   "id": "9a7d793b-0bf2-4d2e-96ac-67fab2d90bdf",
   "metadata": {},
   "outputs": [],
   "source": [
    "the_result.data"
   ]
  },
  {
   "cell_type": "markdown",
   "id": "e3d6ddcc-03ab-497f-a733-4b8fa25fd113",
   "metadata": {},
   "source": [
    "Verify the deployment by examining the raw data response of the operation."
   ]
  },
  {
   "cell_type": "code",
   "execution_count": null,
   "id": "b4e1ada2-5c71-4894-98cf-c2136f9fe64c",
   "metadata": {},
   "outputs": [],
   "source": [
    "the_result.raw_data"
   ]
  },
  {
   "cell_type": "markdown",
   "id": "d7f210fd-df8e-43c9-91aa-ba0236d44d91",
   "metadata": {},
   "source": [
    "Verify the status code: A successful status code should be 201."
   ]
  },
  {
   "cell_type": "code",
   "execution_count": null,
   "id": "62279785-b272-4c45-8451-4b794bfdc397",
   "metadata": {},
   "outputs": [],
   "source": [
    "the_result.status_code"
   ]
  },
  {
   "cell_type": "markdown",
   "id": "03e0e992-b455-4e6b-a150-2a127882e12a",
   "metadata": {},
   "source": [
    "#### Deploy dnbr"
   ]
  },
  {
   "cell_type": "markdown",
   "id": "826ba024-34a2-4053-83a6-1d5c50ffa02c",
   "metadata": {},
   "source": [
    "The process, *dnbr*, is also a process defined in CWL. The *deploy* procedure includes construct an ogcapppkg string with *executionUnit* to import the cworkflow, name the process as *dnbr* using parameter *w*, and run the method *deploy_with_http_info* to get a complete response with HTTP headers and status code."
   ]
  },
  {
   "cell_type": "code",
   "execution_count": null,
   "id": "8c8e0979-831b-4f4d-9d1b-f0f2701faa26",
   "metadata": {},
   "outputs": [],
   "source": [
    "# deploy dbnr\n",
    "json_str = '{\"executionUnit\": {\"href\": \"https://raw.githubusercontent.com/EOEPCA/proc-ades/master/test/sample_apps/v2/dNBR/workflow.cwl#dnbr\",\"type\": \"application/cwl\"}}'\n",
    "#the_proc_ex_unit = openapi_client.models.ogcapppkg_execution_unit.OgcapppkgExecutionUnit()\n",
    "#the_proc_ex_unit.actual_instance=openapi_client.models.link.Link(href=\"https://raw.githubusercontent.com/EOEPCA/proc-ades/master/test/sample_apps/v2/dNBR/workflow.cwl#dnbr\", type=\"application/cwl\")\n",
    "#the_pkg = openapi_client.models.ogcapppkg.Ogcapppkg(\n",
    "#    executionUnit=the_proc_ex_unit\n",
    "#)\n",
    "from openapi_client.models.copy2_ogcapppkg import Ogcapppkg\n",
    "\n",
    "the_pkg = Ogcapppkg.from_json(json_str)\n",
    "\n",
    "the_result = the_proc_dru.deploy_with_http_info(\n",
    "    ogcapppkg=the_pkg,\n",
    "    w=\"dnbr\",\n",
    "    _headers={\"Authorization\": auth_token,\n",
    "              \"accept\": \"application/json\",\n",
    "             \"Content-Type\": \"application/ogcapppkg+json\"\n",
    "             },\n",
    "    _preload_content=True,\n",
    "    _return_http_data_only=False)\n",
    "    "
   ]
  },
  {
   "cell_type": "markdown",
   "id": "709eea7a-19e0-4cee-8bb9-979a8fa5f5c4",
   "metadata": {},
   "source": [
    "Inspect the deployment response by examining the response data."
   ]
  },
  {
   "cell_type": "code",
   "execution_count": null,
   "id": "101f6a6e-ae0f-4b3b-be24-999128833397",
   "metadata": {},
   "outputs": [],
   "source": [
    "the_result.data"
   ]
  },
  {
   "cell_type": "markdown",
   "id": "668e3254-b4cf-4275-ab4f-5685c69af99c",
   "metadata": {},
   "source": [
    "Inspect the deployment response by examining the raw data response of the operation."
   ]
  },
  {
   "cell_type": "code",
   "execution_count": null,
   "id": "1ec59c7c-04d6-4dc6-bc5d-c6c4a152c387",
   "metadata": {},
   "outputs": [],
   "source": [
    "the_result.raw_data"
   ]
  },
  {
   "cell_type": "markdown",
   "id": "3e9bbfc2-4b09-4046-b72c-793dd62222db",
   "metadata": {},
   "source": [
    "Verify the status code: A successful status code should be 201."
   ]
  },
  {
   "cell_type": "code",
   "execution_count": null,
   "id": "f0f0c927-c470-4f99-a333-b3a8a786da1d",
   "metadata": {},
   "outputs": [],
   "source": [
    "the_result.status_code"
   ]
  },
  {
   "cell_type": "markdown",
   "id": "bb61c196-403e-4274-b636-2c85f435f6ad",
   "metadata": {},
   "source": [
    "#### Deploy BandMath"
   ]
  },
  {
   "cell_type": "markdown",
   "id": "1538ef6c-f037-4480-8d8a-948a59f61202",
   "metadata": {},
   "source": [
    "This demonstrates the deployment of a process packaged as a Singularity using SLURM (Simple Linux Utility for Resource Management). The procedure includes:\n",
    "\n",
    "- Create an *ogcapppkg* file or string defining the executionUnit (Singularity container image of SLURM).\n",
    "- Optionally, include a process description in the *ogcapppkg*.\n",
    "- Use *Ogcapppkg* class to create *Ogcapppkg* object from string, if needed.\n",
    "- Deploy the process *BandMath*: Set the workflow parameter \"w\" with value '*BandMath*' by calling *deploy_with_http_info*."
   ]
  },
  {
   "cell_type": "code",
   "execution_count": null,
   "id": "c971e2a7-9caa-4a81-8006-1324346495f3",
   "metadata": {},
   "outputs": [],
   "source": [
    "# deploy BandMath\n",
    "json_str = '{\"processDescription\":{\"id\":\"BandMath\",\"title\":\"Outputs a monoband image which is the result of a mathematical operation on several multi-band images.\",\"description\":\"This application performs a mathematical operation on several multi-band images and outputs the result into a monoband image. The given expression is computed at each pixel position. Evaluation of the mathematical formula is done by the muParser libraries.\",\"version\":\"1.0.0\",\"jobControlOptions\":[\"sync-execute\",\"async-execute\",\"dismiss\"],\"outputTransmission\":[\"value\",\"reference\"],\"links\":[],\"additionalParameters\":[{\"name\":\"entry-point\",\"value\":\"singularity exec otbtf_4.1.0-cpu.sif /opt/otbtf/bin/otbcli_BandMath\"}],\"inputs\":{\"il\":{\"title\":\"Image-list of operands to the mathematical expression.\",\"description\":\"Image-list of operands to the mathematical expression.\",\"maxOccurs\":1024,\"additionalParameters\":[{\"name\":\"pattern\",\"value\":\"-name value\"},{\"name\":\"array-pattern\",\"value\":\"-name value value\"}],\"schema\":{\"oneOf\":[{\"type\":\"string\",\"contentEncoding\":\"base64\",\"contentMediaType\":\"image/tiff\"},{\"type\":\"string\",\"contentEncoding\":\"base64\",\"contentMediaType\":\"image/jpeg\"},{\"type\":\"string\",\"contentEncoding\":\"base64\",\"contentMediaType\":\"image/png\"}]}},\"out\":{\"title\":\"Output image which is the result of the mathematical expressions on input image-list operands.\",\"description\":\"Output image which is the result of the mathematical expressions on input image-list operands.\",\"additionalParameters\":[{\"name\":\"pattern\",\"value\":\" \"}],\"schema\":{\"type\":\"string\",\"default\":\"float\",\"enum\":[\"uint8\",\"uint16\",\"int16\",\"int32\",\"int32\",\"float\",\"double\"]}},\"ram\":{\"title\":\"Available memory for processing (in MB)\",\"description\":\"Available memory for processing (in MB)\",\"additionalParameters\":[{\"name\":\"pattern\",\"value\":\"-name value\"}],\"schema\":{\"type\":\"integer\",\"default\":128,\"nullable\":true}},\"exp\":{\"title\":\"The muParser mathematical expression to apply on input images.\",\"description\":\"The muParser mathematical expression to apply on input images.\",\"additionalParameters\":[{\"name\":\"pattern\",\"value\":\"-name __value__\"}],\"schema\":{\"type\":\"string\"}}},\"outputs\":{\"out\":{\"title\":\"Output image which is the result of the mathematical expressions on input image-list operands.\",\"description\":\"Output image which is the result of the mathematical expressions on input image-list operands.\",\"additionalParameters\":[{\"name\":\"pattern\",\"value\":\"-name value inputs_out_value\"}],\"schema\":{\"oneOf\":[{\"type\":\"string\",\"contentEncoding\":\"base64\",\"contentMediaType\":\"image/tiff\"},{\"type\":\"string\",\"contentEncoding\":\"base64\",\"contentMediaType\":\"image/jpeg\"},{\"type\":\"string\",\"contentEncoding\":\"base64\",\"contentMediaType\":\"image/png\"}]}}}},\"executionUnit\":{\"type\":\"SLURM\",\"image\":\"docker://otbtf/4.1.0-cpu\"}}'\n",
    "#the_proc_ex_unit = openapi_client.models.ogcapppkg_execution_unit.OgcapppkgExecutionUnit()\n",
    "#the_proc_ex_unit.actual_instance={\"image\":\"docker://otbtf/4.1.0-cpu\", \"type\":\"SLURM\"}\n",
    "#the_pkg = openapi_client.models.ogcapppkg.Ogcapppkg(\n",
    "#    executionUnit=the_proc_ex_unit\n",
    "#)\n",
    "\n",
    "from openapi_client.models.copy2_ogcapppkg import Ogcapppkg\n",
    "\n",
    "the_pkg = Ogcapppkg.from_json(json_str)\n",
    "\n",
    "the_result = the_proc_dru.deploy_with_http_info(\n",
    "    ogcapppkg=the_pkg,\n",
    "    w=\"\",\n",
    "    _headers={\"Authorization\": auth_token,\n",
    "              \"accept\": \"application/json\",\n",
    "             \"Content-Type\": \"application/ogcapppkg+json\"\n",
    "             },\n",
    "    _preload_content=True,\n",
    "    _return_http_data_only=False)"
   ]
  },
  {
   "cell_type": "markdown",
   "id": "807533c4-261b-40bc-b691-1b4ea939f16a",
   "metadata": {},
   "source": [
    "Verify the deployment by examining the response data."
   ]
  },
  {
   "cell_type": "code",
   "execution_count": null,
   "id": "531f8973-01ec-4534-a640-160bb6c5681a",
   "metadata": {},
   "outputs": [],
   "source": [
    "the_result.data"
   ]
  },
  {
   "cell_type": "markdown",
   "id": "613ddf50-6751-40a7-835d-ffeebb115458",
   "metadata": {},
   "source": [
    "Verify the deployment by examining the raw data response of the operation."
   ]
  },
  {
   "cell_type": "code",
   "execution_count": null,
   "id": "c7219cc1-29aa-41a2-a043-4d1da217a9cb",
   "metadata": {},
   "outputs": [],
   "source": [
    "the_result.raw_data"
   ]
  },
  {
   "cell_type": "markdown",
   "id": "aadfde9a-1895-45fe-92e7-9ebd76ae67d9",
   "metadata": {},
   "source": [
    "Verify the status code: A successful status code should be 201."
   ]
  },
  {
   "cell_type": "code",
   "execution_count": null,
   "id": "7ba89528-474e-4890-86ee-9e63d4a8fecc",
   "metadata": {},
   "outputs": [],
   "source": [
    "the_result.status_code"
   ]
  },
  {
   "cell_type": "markdown",
   "id": "1a84eb03-20c9-4d10-9abc-75d0d45b66c5",
   "metadata": {},
   "source": [
    "### Undeploy a Process\n"
   ]
  },
  {
   "cell_type": "markdown",
   "id": "5785213d-9ee3-4e72-a2a4-338a10e38732",
   "metadata": {},
   "source": [
    "This demonstrates the operation of undeploying a process. The following routine takes input of Process Identifier from user. Default to '*BandMath*'. The procedure includes:\n",
    "\n",
    "- Prompt input from user for Process Identifier. Default to '*BandMath*'. Please verify its existence with the Get Processes procedure.\n",
    "- Undeploy the process given by calling *undeploy_with_http_info* method."
   ]
  },
  {
   "cell_type": "code",
   "execution_count": null,
   "id": "23bc9489-9467-4397-aa02-48ffea502db8",
   "metadata": {},
   "outputs": [],
   "source": [
    "process_id = input('Enter the process id to be undeployed (e.g. BandMath, dnbr, snugggs):').strip or \"BandMath\"\n",
    "from openapi_client.models.copy2_ogcapppkg import Ogcapppkg\n",
    "\n",
    "the_pkg = Ogcapppkg.from_json(json_str)\n",
    "\n",
    "the_result = the_proc_dru.undeploy_with_http_info(\n",
    "    process_id=process_id,\n",
    "    _headers={\"Authorization\": auth_token,\n",
    "              \"accept\": \"application/json\"\n",
    "             },\n",
    "    _preload_content=True,\n",
    "    _return_http_data_only=False)"
   ]
  },
  {
   "cell_type": "markdown",
   "id": "0424926d-e6fb-4ea8-a9a5-90644ce03f3d",
   "metadata": {},
   "source": [
    "Status Codes: Verify successful operations by checking status code. (204 - Success)"
   ]
  },
  {
   "cell_type": "code",
   "execution_count": null,
   "id": "fdd300f5-3860-4491-9c1d-aaf8ff29a443",
   "metadata": {},
   "outputs": [],
   "source": [
    "the_result.status_code"
   ]
  },
  {
   "cell_type": "markdown",
   "id": "0a43cde8-69fb-4387-8ec3-b1e6fbdd7119",
   "metadata": {},
   "source": [
    "### Replace a Process"
   ]
  },
  {
   "cell_type": "markdown",
   "id": "bdb1ec00-56c3-42c9-876b-2cac316e3a04",
   "metadata": {},
   "source": [
    "This demonstrates the operation of replacing an existing process. The following routine takes input of Process Identifier and OGC Application Package definition string from user. The procedure includes:\n",
    "\n",
    "- Prompt an input of Process Identifier from user. Default to '*BandMath*'. Please verify its existence with the Get Processes procedure.\n",
    "- Prompt an input of an OGC Application Package definition string. Default to the pre-defined *ogcapppkg* string for *BandMath*.\n",
    "- Replace the given process with the input *ogcapppkg* definition string  by calling *replace_with_http_info* method."
   ]
  },
  {
   "cell_type": "code",
   "execution_count": null,
   "id": "2961c36b-b93f-49cb-8707-b2a6fbb25d81",
   "metadata": {},
   "outputs": [],
   "source": [
    "process_id = input('Enter the process id to be undeployed (e.g. BandMath, dnbr, snugggs):').strip() or \"BandMath\"\n",
    "# deploy BandMath\n",
    "json_str = input('Enter the process definition (in ogcapppk):').strip()  or '{\"processDescription\":{\"id\":\"BandMath\",\"title\":\"Outputs a monoband image which is the result of a mathematical operation on several multi-band images.\",\"description\":\"This application performs a mathematical operation on several multi-band images and outputs the result into a monoband image. The given expression is computed at each pixel position. Evaluation of the mathematical formula is done by the muParser libraries.\",\"version\":\"1.0.0\",\"jobControlOptions\":[\"sync-execute\",\"async-execute\",\"dismiss\"],\"outputTransmission\":[\"value\",\"reference\"],\"links\":[],\"additionalParameters\":[{\"name\":\"entry-point\",\"value\":\"singularity exec otbtf_4.1.0-cpu.sif /opt/otbtf/bin/otbcli_BandMath\"}],\"inputs\":{\"il\":{\"title\":\"Image-list of operands to the mathematical expression.\",\"description\":\"Image-list of operands to the mathematical expression.\",\"maxOccurs\":1024,\"additionalParameters\":[{\"name\":\"pattern\",\"value\":\"-name value\"},{\"name\":\"array-pattern\",\"value\":\"-name value value\"}],\"schema\":{\"oneOf\":[{\"type\":\"string\",\"contentEncoding\":\"base64\",\"contentMediaType\":\"image/tiff\"},{\"type\":\"string\",\"contentEncoding\":\"base64\",\"contentMediaType\":\"image/jpeg\"},{\"type\":\"string\",\"contentEncoding\":\"base64\",\"contentMediaType\":\"image/png\"}]}},\"out\":{\"title\":\"Output image which is the result of the mathematical expressions on input image-list operands.\",\"description\":\"Output image which is the result of the mathematical expressions on input image-list operands.\",\"additionalParameters\":[{\"name\":\"pattern\",\"value\":\" \"}],\"schema\":{\"type\":\"string\",\"default\":\"float\",\"enum\":[\"uint8\",\"uint16\",\"int16\",\"int32\",\"int32\",\"float\",\"double\"]}},\"ram\":{\"title\":\"Available memory for processing (in MB)\",\"description\":\"Available memory for processing (in MB)\",\"additionalParameters\":[{\"name\":\"pattern\",\"value\":\"-name value\"}],\"schema\":{\"type\":\"integer\",\"default\":128,\"nullable\":true}},\"exp\":{\"title\":\"The muParser mathematical expression to apply on input images.\",\"description\":\"The muParser mathematical expression to apply on input images.\",\"additionalParameters\":[{\"name\":\"pattern\",\"value\":\"-name __value__\"}],\"schema\":{\"type\":\"string\"}}},\"outputs\":{\"out\":{\"title\":\"Output image which is the result of the mathematical expressions on input image-list operands.\",\"description\":\"Output image which is the result of the mathematical expressions on input image-list operands.\",\"additionalParameters\":[{\"name\":\"pattern\",\"value\":\"-name value inputs_out_value\"}],\"schema\":{\"oneOf\":[{\"type\":\"string\",\"contentEncoding\":\"base64\",\"contentMediaType\":\"image/tiff\"},{\"type\":\"string\",\"contentEncoding\":\"base64\",\"contentMediaType\":\"image/jpeg\"},{\"type\":\"string\",\"contentEncoding\":\"base64\",\"contentMediaType\":\"image/png\"}]}}}},\"executionUnit\":{\"type\":\"SLURM\",\"image\":\"docker://otbtf/4.1.0-cpu\"}}'\n",
    "#the_proc_ex_unit = openapi_client.models.ogcapppkg_execution_unit.OgcapppkgExecutionUnit()\n",
    "#the_proc_ex_unit.actual_instance={\"image\":\"docker://otbtf/4.1.0-cpu\", \"type\":\"SLURM\"}\n",
    "#the_pkg = openapi_client.models.ogcapppkg.Ogcapppkg(\n",
    "#    executionUnit=the_proc_ex_unit\n",
    "#)\n",
    "\n",
    "from openapi_client.models.copy2_ogcapppkg import Ogcapppkg\n",
    "\n",
    "the_pkg = Ogcapppkg.from_json(json_str)\n",
    "\n",
    "the_result = the_proc_dru.replace_with_http_info(\n",
    "    process_id=process_id,\n",
    "    ogcapppkg=the_pkg,\n",
    "    _headers={\"Authorization\": auth_token,\n",
    "              \"accept\": \"application/json\",\n",
    "             \"Content-Type\": \"application/ogcapppkg+json\"\n",
    "             },\n",
    "    _preload_content=True,\n",
    "    _return_http_data_only=False)"
   ]
  },
  {
   "cell_type": "markdown",
   "id": "12a62828-b341-42b6-a8f0-8c1ad7785fff",
   "metadata": {},
   "source": [
    "Status Codes: Verify successful operations by checking status codes (e.g., 204 for success)"
   ]
  },
  {
   "cell_type": "code",
   "execution_count": null,
   "id": "9c750184-ca31-442a-bd48-f4515e7d6d1c",
   "metadata": {},
   "outputs": [],
   "source": [
    "the_result.status_code"
   ]
  },
  {
   "cell_type": "markdown",
   "id": "3c79639a-987d-4786-a39e-b3ff0fab2d30",
   "metadata": {},
   "source": [
    "**Recap: Process Management with the HPGC API**\n",
    "\n",
    "This section explored the dynamic control over processes offered by the HPGC API through DRU operations: Deploy, Replace, and Undeploy. We delved into:\n",
    "\n",
    "- **DRU Operations**: Deploying new processes, updating existing ones, and removing unused ones to shape the service landscape.\n",
    "- **Security and Authentication**: The crucial need for authentication and appropriate permissions to execute DRU operations, ensuring secure management.\n",
    "- **Conformance Check**: Verifying that the specific HPGC API instance supports DRU, OGC Application Packages, and relevant container descriptions (Docker or CWL).\n",
    "- **Deploying \"BandMath\"**: Using the HPGC Python Client library to deploy the pre-packaged Singularity-based BandMath process as an example.\n",
    "- **Undeploying or replacing a procdess**: Using inputs from users to undeploy or replace a process.\n",
    "\n",
    "With this knowledge, you're empowered to actively manage the HPGC API's processes, tailoring them to your specific needs and optimizing its effectiveness. Remember to adhere to security protocols and verify conformance for seamless DRU operation."
   ]
  },
  {
   "cell_type": "markdown",
   "id": "b075ae72-38ee-4ad5-903f-82470769db51",
   "metadata": {},
   "source": [
    "## Execute the process BandMath"
   ]
  },
  {
   "cell_type": "markdown",
   "id": "6cc0569d-21c7-415f-900c-fddb7450c82a",
   "metadata": {},
   "source": [
    "Unleashing HPGC Power: Now, let's set the wheels of HPC in motion by executing a process and observing its response:"
   ]
  },
  {
   "cell_type": "markdown",
   "id": "7580dc7e-14b1-4b53-bbe8-1c3468e6149c",
   "metadata": {},
   "source": [
    "1. Create a *ProcessApi* object and set the URL: "
   ]
  },
  {
   "cell_type": "code",
   "execution_count": null,
   "id": "b52f6c6a-6392-4744-a4d9-d220fe69ee66",
   "metadata": {},
   "outputs": [],
   "source": [
    "the_proc_api = openapi_client.api.processes_api.ProcessesApi()\n",
    "# set the endpoint\n",
    "the_proc_api.api_client.configuration.host=\"https://testbed19.geolabs.fr:8707/ogc-api\""
   ]
  },
  {
   "cell_type": "markdown",
   "id": "76e277e8-d3d5-4e89-9918-cc3d16b8cfee",
   "metadata": {},
   "source": [
    "2. Prepare input data and execute the Echo process: In this case, the Processes object is used to retrieve the description of the deployed \"*BandMath*\" process and use the description to form an execution request. A request will be created following the definitions of necessary inputs, execution method, outputs, and callback services. The process supports only asynchronous execution approach. The request will also give the callback service for receiving progress status, success result, and failure exception. Then, the complete execution request will be submitted to the service."
   ]
  },
  {
   "cell_type": "code",
   "execution_count": null,
   "id": "4cdaf130-7594-4302-9276-f14466bb35e0",
   "metadata": {},
   "outputs": [],
   "source": [
    "the_data = {\"inputs\":{\"il\":[{\"href\":\"http://geolabs.fr/dl/Landsat8Extract1.tif\"}],\"out\":\"float\",\"exp\":\"im1b1+im1b2\",\"ram\":256},\"outputs\":{\"out\":{\"format\":{\"mediaType\":\"image/png\"},\"transmissionMode\":\"reference\"}},\"response\":\"document\"}\n",
    "\n",
    "the_result = the_proc_api.execute_with_http_info(\n",
    "            process_id=\"BandMath\",\n",
    "            unknown_base_type=the_data,\n",
    "            async_req=True,\n",
    "         #   response=None,\n",
    "            prefer='respond-async;return=representation',\n",
    "            _headers={\"Accept\":\"/*\", \"Authorization\": auth_token},\n",
    "            _preload_content=False,\n",
    "             _return_http_data_only=False)\n"
   ]
  },
  {
   "cell_type": "markdown",
   "id": "fad5ee6f-5341-41f7-bdb0-aa5c0721b405",
   "metadata": {},
   "source": [
    "3. Show the immediate response object:"
   ]
  },
  {
   "cell_type": "code",
   "execution_count": null,
   "id": "5c0d1fb6-f51c-4e23-8e69-d3b967899abb",
   "metadata": {},
   "outputs": [],
   "source": [
    "the_result"
   ]
  },
  {
   "cell_type": "markdown",
   "id": "a7535725-0af5-4798-83e0-7733dbd621f8",
   "metadata": {},
   "source": [
    "4. Show the raw data of the response:"
   ]
  },
  {
   "cell_type": "code",
   "execution_count": null,
   "id": "0d661700-64c0-4de8-830c-f7c51c2252a3",
   "metadata": {},
   "outputs": [],
   "source": [
    "the_response_str=the_result.get().raw_data.decode(\"utf-8\")"
   ]
  },
  {
   "cell_type": "markdown",
   "id": "83831378-fc7d-48b8-ab7a-130f280c2c4f",
   "metadata": {},
   "source": [
    "5. Show the data object of the response:"
   ]
  },
  {
   "cell_type": "code",
   "execution_count": null,
   "id": "5d2d027d-ca59-435b-9af6-cc1232644842",
   "metadata": {},
   "outputs": [],
   "source": [
    "the_result.get().data"
   ]
  },
  {
   "cell_type": "markdown",
   "id": "846243fc-6a64-452d-904a-a5c9a8b892e7",
   "metadata": {},
   "source": [
    "6. Parse the response as a *StatusInfo* object."
   ]
  },
  {
   "cell_type": "code",
   "execution_count": null,
   "id": "f4937ff0-4b34-4cde-af95-93c009c1755a",
   "metadata": {},
   "outputs": [],
   "source": [
    "from openapi_client.models.status_info import StatusInfo\n",
    "the_status_info = StatusInfo.from_json(the_response_str)"
   ]
  },
  {
   "cell_type": "code",
   "execution_count": null,
   "id": "cfb866cb-0c6e-4dab-84e6-6cefa0f6cf4f",
   "metadata": {},
   "outputs": [],
   "source": [
    "the_status_info"
   ]
  },
  {
   "cell_type": "markdown",
   "id": "3a55acd2-687d-42cf-9adf-ef59851685bc",
   "metadata": {},
   "source": [
    "7. Get the job identifier."
   ]
  },
  {
   "cell_type": "code",
   "execution_count": null,
   "id": "ca3100c4-0936-47d1-b8ab-baeea7f79e37",
   "metadata": {},
   "outputs": [],
   "source": [
    "the_job_id = the_status_info.job_id"
   ]
  },
  {
   "cell_type": "markdown",
   "id": "100458e8-d632-4b11-8aa4-f076193f90e1",
   "metadata": {},
   "source": [
    "**Recap**:\n",
    "\n",
    "- The raw data often contains the job ID, essential for tracking process status and retrieving results.\n",
    "- Explore the status_code to understand the initial response (e.g., 202 indicates accepted but not yet completed).\n",
    "- You might need to wait for completion or check job status to access the final results. We will explore two approaches to monitor the progress and retrieve the result in next section.\n",
    "- The response string can be parsed and loaded into a *StatusInfo* object. The job identifier can be retrieved from the object.\n"
   ]
  },
  {
   "cell_type": "markdown",
   "id": "2047e22a-36ab-4036-839b-cd4cdab07124",
   "metadata": {},
   "source": [
    "## Monitoring Process Execution"
   ]
  },
  {
   "cell_type": "markdown",
   "id": "baeb15d5-9f86-4394-9313-221b6cb8444c",
   "metadata": {},
   "source": [
    "As we learned from the previous notebook, we have two approaches to monitor the progress of executing a process: active monitoring with pulling the job status and passive monitoring with callback service."
   ]
  },
  {
   "cell_type": "markdown",
   "id": "f58b1bb4-2b6b-47cc-bca8-9739e7d80af2",
   "metadata": {},
   "source": [
    "### Active Monitoring with Job Objects"
   ]
  },
  {
   "cell_type": "markdown",
   "id": "231a698f-51ab-4170-bdb9-2468895ac39b",
   "metadata": {},
   "source": [
    "The Active Monitoring relies on the job management capabilities of the HPGC API middleware."
   ]
  },
  {
   "cell_type": "markdown",
   "id": "02c877e9-3129-49c8-9899-81d0726799ff",
   "metadata": {},
   "source": [
    "#### Create a JobsApi object"
   ]
  },
  {
   "cell_type": "code",
   "execution_count": null,
   "id": "f8a2970f-c0f3-44d7-b799-b8e8bb6d78de",
   "metadata": {},
   "outputs": [],
   "source": [
    "the_jobs_api = openapi_client.api.jobs_api.JobsApi()\n",
    "# set the endpoint\n",
    "the_jobs_api.api_client.configuration.host=\"https://testbed19.geolabs.fr:8707/ogc-api\""
   ]
  },
  {
   "cell_type": "markdown",
   "id": "3e81a074-6d70-4fc6-9048-38d7581f7c95",
   "metadata": {},
   "source": [
    "This creates the JobsApi object and set its URL to the HPGC API instance. Then, the object can be used to interact with the HPGC API middleware to perform operations related to jobs."
   ]
  },
  {
   "cell_type": "markdown",
   "id": "70fe8217-81d2-42cc-9a1f-3c22fde3bb43",
   "metadata": {},
   "source": [
    "#### Get Jobs"
   ]
  },
  {
   "cell_type": "markdown",
   "id": "e9bf830e-28e0-4a3b-bf8f-d173d1a02e0a",
   "metadata": {},
   "source": [
    "1. Get the job collection using *get_jobs_with_http_info* method."
   ]
  },
  {
   "cell_type": "code",
   "execution_count": null,
   "id": "4800ec03-4785-4c95-bca7-a029ff5b40c9",
   "metadata": {},
   "outputs": [],
   "source": [
    "the_jobs = the_jobs_api.get_jobs_with_http_info(\n",
    "    _headers={\"accept\":\"application/json\", \"Authorization\": auth_token},\n",
    "    _preload_content=True,\n",
    "    _return_http_data_only=False)"
   ]
  },
  {
   "cell_type": "markdown",
   "id": "92984be0-2e14-4528-8ff6-f9ff2ba96587",
   "metadata": {},
   "source": [
    "2. Inspect the response object: Examine the attributes and functions within *the_jobs* to discover its capabilities and what operations you can access with the collection of jobs."
   ]
  },
  {
   "cell_type": "markdown",
   "id": "f107a9b4-53f7-4166-9953-62e50b736c34",
   "metadata": {},
   "source": [
    "- Show the headers of the response from get_jobs request."
   ]
  },
  {
   "cell_type": "code",
   "execution_count": null,
   "id": "bed0b04e-64aa-430a-b53f-16942ff184f2",
   "metadata": {},
   "outputs": [],
   "source": [
    "the_jobs.headers"
   ]
  },
  {
   "cell_type": "markdown",
   "id": "c2be4199-53d3-4a7d-9bf8-cee1d6f6ebe6",
   "metadata": {},
   "source": [
    "- Show the *JobList* object preloaded and parsed from the response of *get_jobs_with_http_info*."
   ]
  },
  {
   "cell_type": "code",
   "execution_count": null,
   "id": "342e737e-856e-435f-95f6-68782310d314",
   "metadata": {},
   "outputs": [],
   "source": [
    "the_jobs.data"
   ]
  },
  {
   "cell_type": "markdown",
   "id": "5e906fef-35c8-4658-9460-ad6f48313dce",
   "metadata": {},
   "source": [
    "- Show the status code of the response from *get_jobs_with_http_info* request."
   ]
  },
  {
   "cell_type": "code",
   "execution_count": null,
   "id": "047a62c6-7170-4b50-b170-d523f155436d",
   "metadata": {},
   "outputs": [],
   "source": [
    "the_jobs.status_code"
   ]
  },
  {
   "cell_type": "markdown",
   "id": "7dadb134-08c7-43a2-bb0c-2b399a7dd378",
   "metadata": {},
   "source": [
    "- Count the total number of jobs recorded at the HPGC API middle instance."
   ]
  },
  {
   "cell_type": "code",
   "execution_count": null,
   "id": "70f8eff9-ff58-46d5-8799-c1c93aa78757",
   "metadata": {},
   "outputs": [],
   "source": [
    "len(the_jobs.data.jobs)"
   ]
  },
  {
   "cell_type": "markdown",
   "id": "bb72b0f1-adc1-4e6f-8ed6-dee7e770fef1",
   "metadata": {},
   "source": [
    "#### Get the status of a specific job"
   ]
  },
  {
   "cell_type": "markdown",
   "id": "7cd169d7-7289-4e06-9a94-9addc75c99f2",
   "metadata": {},
   "source": [
    "1. Retrieve the *StatusInfo* object of a specific job by giving the job identifier."
   ]
  },
  {
   "cell_type": "code",
   "execution_count": null,
   "id": "9ca8efd9-f2cb-4d02-a0cd-2c27f1162678",
   "metadata": {},
   "outputs": [],
   "source": [
    "# the_specific_job = the_jobs.data.jobs[0].job_id\n",
    "print(\"job id=\", the_job_id)"
   ]
  },
  {
   "cell_type": "code",
   "execution_count": null,
   "id": "8f1f991a-6ecd-4889-a281-7ffe87e87a09",
   "metadata": {},
   "outputs": [],
   "source": [
    "the_job_status = the_jobs_api.get_status_with_http_info(\n",
    "    job_id=the_job_id,\n",
    "    _headers={\"accept\":\"application/json\", \"Authorization\": auth_token},\n",
    "    _preload_content=True,\n",
    "    _return_http_data_only=False)"
   ]
  },
  {
   "cell_type": "markdown",
   "id": "b4641dac-3dd1-4330-a1af-315db08528d8",
   "metadata": {},
   "source": [
    "2. Show attributes and functions of the StatusInfo object."
   ]
  },
  {
   "cell_type": "code",
   "execution_count": null,
   "id": "8b23d156-d2c1-48c6-8891-2be541bb8561",
   "metadata": {},
   "outputs": [],
   "source": [
    "the_job_status.data.status"
   ]
  },
  {
   "cell_type": "markdown",
   "id": "e0405fa2-e93b-47d5-8b7d-a72120d9e55c",
   "metadata": {},
   "source": [
    "#### Get links for status and results for succeeeded process"
   ]
  },
  {
   "cell_type": "markdown",
   "id": "2ab5ed08-fadd-432b-aac6-2c019c0c009a",
   "metadata": {},
   "source": [
    "1. Show all the links of the StatusInfo object."
   ]
  },
  {
   "cell_type": "code",
   "execution_count": null,
   "id": "2723948d-11db-4411-a232-ddc78fd13bb1",
   "metadata": {},
   "outputs": [],
   "source": [
    "the_job_status.data.links"
   ]
  },
  {
   "cell_type": "markdown",
   "id": "f08cf416-3cb5-48cd-8560-ed746623b065",
   "metadata": {},
   "source": [
    "1. If the status of the result shows the process is successfully completed, the result can be retrieved using jobs_api.get_result."
   ]
  },
  {
   "cell_type": "code",
   "execution_count": null,
   "id": "7f9bf335-7269-489a-b957-9de0606c7ac0",
   "metadata": {},
   "outputs": [],
   "source": [
    "the_job_result = the_jobs_api.get_result_with_http_info(\n",
    "    job_id=the_job_id,\n",
    "    _headers={\"accept\":\"application/json\", \"Authorization\": auth_token},\n",
    "    _preload_content=True,\n",
    "    _return_http_data_only=False)"
   ]
  },
  {
   "cell_type": "markdown",
   "id": "15f1f916-d6d1-4c1c-a6ac-69459121d17e",
   "metadata": {},
   "source": [
    "2. Show the response object of *get_result_with_http_info*."
   ]
  },
  {
   "cell_type": "code",
   "execution_count": null,
   "id": "980b674f-98b0-4b60-b548-8eaebfbf85fa",
   "metadata": {},
   "outputs": [],
   "source": [
    "the_job_result.data"
   ]
  },
  {
   "cell_type": "markdown",
   "id": "98a47f59-372c-4467-b818-249e27123f42",
   "metadata": {},
   "source": [
    "3. Retrieve the output URL from the result object."
   ]
  },
  {
   "cell_type": "code",
   "execution_count": null,
   "id": "7da4a51e-82f1-4f59-b6fe-e52d1851070d",
   "metadata": {},
   "outputs": [],
   "source": [
    "the_url = the_job_result.data[\"out\"].actual_instance.href"
   ]
  },
  {
   "cell_type": "code",
   "execution_count": null,
   "id": "4d18784b-a9e6-47bc-9dfd-3a669c572793",
   "metadata": {},
   "outputs": [],
   "source": [
    "the_url"
   ]
  },
  {
   "cell_type": "markdown",
   "id": "403b26bb-e975-4253-8b0f-9196ea22f42a",
   "metadata": {},
   "source": [
    "#### Display Results"
   ]
  },
  {
   "cell_type": "markdown",
   "id": "9e918252-fa82-40b0-be15-df39b21befef",
   "metadata": {},
   "source": [
    "1. Display the result image."
   ]
  },
  {
   "cell_type": "code",
   "execution_count": null,
   "id": "89b1fd26-e746-4dd6-a398-3135a279364c",
   "metadata": {},
   "outputs": [],
   "source": [
    "import ipyplot\n",
    "\n",
    "ipyplot.plot_images([the_url], img_width=400)"
   ]
  },
  {
   "cell_type": "markdown",
   "id": "379f3344-27c5-4905-b926-b122fbd09ccd",
   "metadata": {},
   "source": [
    "2. Retrieve WMS info and prepare data for map display."
   ]
  },
  {
   "cell_type": "code",
   "execution_count": null,
   "id": "9a26c3d5-a1cd-44ca-87c6-1fcc299a18e7",
   "metadata": {},
   "outputs": [],
   "source": [
    "from urllib.parse import (\n",
    "    urlparse, parse_qs\n",
    ")\n",
    "the_url_o = urlparse(the_url)\n",
    "print(the_url_o)\n",
    "the_queries = parse_qs(the_url_o.query)\n",
    "print(the_queries)\n",
    "the_map = the_queries[\"map\"][0]\n",
    "the_wms_url = f\"{the_url_o.scheme}://{the_url_o.netloc}{the_url_o.path}?map={the_map}&\"\n",
    "print(the_wms_url)\n",
    "the_format = the_queries[\"format\"][0]\n",
    "print(the_format)\n",
    "the_layers = the_queries[\"layers\"][0]\n",
    "print(the_layers)\n",
    "the_bbox_strs=the_queries[\"bbox\"][0].split(\",\")\n",
    "print(the_bbox_strs)\n",
    "the_x = (float(the_bbox_strs[0])+float(the_bbox_strs[2]))/2\n",
    "the_y = (float(the_bbox_strs[1])+float(the_bbox_strs[3]))/2\n",
    "print(the_x, the_y)\n",
    "\n"
   ]
  },
  {
   "cell_type": "markdown",
   "id": "b2615b50-ee5b-4fe8-9db1-04c638156bdf",
   "metadata": {},
   "source": [
    "3. Display a interactive map of the result using Folium"
   ]
  },
  {
   "cell_type": "code",
   "execution_count": null,
   "id": "7fe79af0-7bde-4e94-8583-f6c8c1c9f0f1",
   "metadata": {},
   "outputs": [],
   "source": [
    "import folium\n",
    "\n",
    "map_geo = folium.Map(location=[the_x, the_y], zoom_start=11)\n",
    "\n",
    "the_map = folium.raster_layers.WmsTileLayer(\n",
    "    url = the_wms_url,\n",
    "    layers=the_layers,\n",
    "    transparent = True,\n",
    "    fmt = the_format,\n",
    "    name = \"out\",\n",
    "    overlay = True,\n",
    "    show = True,\n",
    "    ).add_to(map_geo)\n",
    "\n",
    "folium.LayerControl().add_to(map_geo)\n",
    "\n",
    "map_geo"
   ]
  },
  {
   "cell_type": "markdown",
   "id": "e4951e14-8b60-452d-8508-0598463b4dca",
   "metadata": {},
   "source": [
    "**Recap**:\n",
    "\n",
    "Staying on top of HPC jobs is crucial! This section of the HPGC Jupyter Notebook 2 equips you with the power of Job Objects to actively monitor and visualize your geospatial processing tasks.\n",
    "\n",
    "  "
   ]
  },
  {
   "cell_type": "markdown",
   "id": "94456fd1-0966-46fd-96a2-de481da3f652",
   "metadata": {},
   "source": [
    "**Key takeaways**:\n",
    "\n",
    "- **Job Object Mastery**: Learn how to create, query, and interact with Job Objects to track your HPC jobs in real-time.\n",
    "- **Beyond Static Images**: Visualize your results dynamically on interactive maps for deeper insights and faster analysis.\n",
    "- **Real-time Progress Monitoring**: Keep an eye on your jobs' progress, resource utilization, and potential errors through Job Object updates.\n"
   ]
  },
  {
   "cell_type": "markdown",
   "id": "01e38bca-6870-453f-8d40-610465fefc69",
   "metadata": {},
   "source": [
    "This section empowers you to:\n",
    "\n",
    "- Gain a clear picture of your HPC job landscape at any given time.\n",
    "- Monitoring the status using Jobs object.\n",
    "- Enhance your geospatial analysis experience with interactive visualizations that bring your results to life."
   ]
  },
  {
   "cell_type": "markdown",
   "id": "850e2c44-45ba-4c7b-a7b4-a5bff965e5b8",
   "metadata": {},
   "source": [
    "### Passive Monitoring with Callback Services"
   ]
  },
  {
   "cell_type": "markdown",
   "id": "bbbf49e2-e837-4d2d-aff7-513875e59b25",
   "metadata": {},
   "source": [
    "1. Set up callback services:\n",
    "\n",
    "- Create services to receive notifications for progress, success, and failure.\n",
    "- Provide their URLs during process execution.\n"
   ]
  },
  {
   "cell_type": "markdown",
   "id": "166ec53e-4a83-47be-837e-f3b6b765f5e2",
   "metadata": {},
   "source": [
    "2. Execute process with callback URLs:\n",
    "\n",
    "The following example shows the definition of output with callbacks for messages or data when success, progress, and failed.\n",
    "```json\n",
    "{\n",
    "  \"subscriber\": {\n",
    "    \"successUri\": \"https://cat.csiss.gmu.edu/ows19/success/test135\",\n",
    "    \"inProgressUri\": \"https://cat.csiss.gmu.edu/ows19/progress/test135\",\n",
    "    \"failedUri\": \"https://cat.csiss.gmu.edu/ows19/failed/test135\"\n",
    "  }\n",
    "}\n",
    "```json\n"
   ]
  },
  {
   "cell_type": "markdown",
   "id": "0cc33cb1-8035-4c5b-aa96-85f93d0ec985",
   "metadata": {},
   "source": [
    "3. Monitor callback services for updates:\n",
    "\n",
    "- The callback services will receive notifications as the job progresses.\n",
    "- The success callback may receive the final result or a link to retrieve it.\n"
   ]
  },
  {
   "cell_type": "markdown",
   "id": "90ff77ee-4f40-45a2-b435-2c80c01c98d4",
   "metadata": {},
   "source": [
    "**Recap**:\n",
    "\n",
    "- Choose the monitoring approach that best suits your workflow and the HPGC API instance's capabilities.\n",
    "- Active monitoring provides more control and real-time status updates.\n",
    "- Passive monitoring is convenient for hands-off execution and integration with other systems.\n",
    "- Consult the HPGC API documentation for specific details and supported features.\n"
   ]
  },
  {
   "cell_type": "markdown",
   "id": "0a7452c1-b04d-4a62-8c0d-18ce25070ab0",
   "metadata": {},
   "source": [
    "## Summary"
   ]
  },
  {
   "cell_type": "markdown",
   "id": "836a0a94-ab93-4c7f-bbce-55942671046e",
   "metadata": {},
   "source": [
    "Transform your geospatial workflows with the power of HPC! This Jupyter Notebook equips you with the tools and techniques to:\n",
    "\n",
    "- **Master Python for HPC**: Learn essential Python skills to interact with the HPGC API and manipulate geospatial data with ease.\n",
    "- **Geospatial Computing Made Easy**: Execute complex BandMath operations on your raster bands using dedicated HPGC API methods.\n",
    "- **HPC Unleashed**: Leverage the scalability and performance of HPC to perform complex calculations with lightning speed.\n",
    "- **Advanced Visualization**: Bring your results to life with advanced geospatial visualizations powered by open standards like OGC WMS.\n",
    "- **Deployment & Execution**: Follow the entire process of deploying and executing BandMath tasks within the HPGC environment.\n"
   ]
  },
  {
   "cell_type": "markdown",
   "id": "3fa165c2-f5d1-4926-98df-56d54589810f",
   "metadata": {},
   "source": [
    "This notebook empowers you to:\n",
    "\n",
    "- Automate repetitive BandMath tasks and free yourself for deeper analysis.\n",
    "- Tackle complex calculations with ease, thanks to the power of HPC.\n",
    "- Seamlessly integrate BandMath into your workflows for a streamlined analysis experience.\n",
    "- Unlock the accessibility of HPC for domain scientists: Demystify high-performance geospatial computing and make it your own.\n"
   ]
  },
  {
   "cell_type": "markdown",
   "id": "1a5e9a74-6fe1-4ac5-8a51-e93788e3edd6",
   "metadata": {},
   "source": [
    "Get ready to:\n",
    "\n",
    "- Boost your productivity and efficiency with automated BandMath workflows.\n",
    "- Gain deeper insights from your data with powerful HPC capabilities.\n",
    "- Join the forefront of geospatial analysis with cutting-edge tools and techniques.\n"
   ]
  },
  {
   "cell_type": "markdown",
   "id": "2f1fc477-11dd-4574-b307-d7cf62ff0c40",
   "metadata": {},
   "source": [
    "This notebook is your gateway to unlocking the full potential of geospatial analysis with HPC. Dive in and experience the magic of Python, HPGC, and BandMath!"
   ]
  }
 ],
 "metadata": {
  "kernelspec": {
   "display_name": "Python 3 (ipykernel)",
   "language": "python",
   "name": "python3"
  },
  "language_info": {
   "codemirror_mode": {
    "name": "ipython",
    "version": 3
   },
   "file_extension": ".py",
   "mimetype": "text/x-python",
   "name": "python",
   "nbconvert_exporter": "python",
   "pygments_lexer": "ipython3",
   "version": "3.10.12"
  }
 },
 "nbformat": 4,
 "nbformat_minor": 5
}
